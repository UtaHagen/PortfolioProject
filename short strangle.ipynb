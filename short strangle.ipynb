{
 "cells": [
  {
   "cell_type": "code",
   "execution_count": 20,
   "metadata": {},
   "outputs": [],
   "source": [
    "#importing the libraries\n",
    "#couple of things to note - a short strangle is not optimal for a portfolio given the following requirements:\n",
    "#1) need to be okay with a naked/covered option\n",
    "#2) expect the price to swing wildly\n",
    "#3) need to know the stock loan fee - differs according to the platform used\n",
    "\n",
    "import pandas as pd\n",
    "import yfinance as yf\n",
    "import numpy as np"
   ]
  },
  {
   "cell_type": "code",
   "execution_count": 21,
   "metadata": {},
   "outputs": [],
   "source": [
    "port_pick = pd.read_csv(r'portfolio_pick.csv')['Stock'].tolist()"
   ]
  },
  {
   "cell_type": "code",
   "execution_count": 22,
   "metadata": {},
   "outputs": [],
   "source": [
    "def calculate_avg_sd(ticker, start_date, end_date):\n",
    "    try:\n",
    "        data = yf.download(ticker, start=start_date, end=end_date)\n",
    "        if data.empty:\n",
    "            raise ValueError(f\"No data returned for ticker {ticker}\")\n",
    "        avg_price = data['Close'].mean()\n",
    "        sd_price = data['Close'].std()\n",
    "        return avg_price, sd_price\n",
    "    except Exception as e:\n",
    "        print(f\"Error fetching data for {ticker}: {e}\")\n",
    "        return None, None"
   ]
  },
  {
   "cell_type": "code",
   "execution_count": 23,
   "metadata": {},
   "outputs": [],
   "source": [
    "def fetch_options_data(tickers):\n",
    "    options_dict = {}\n",
    "    for ticker in tickers:\n",
    "        try:\n",
    "            stock = yf.Ticker(ticker)\n",
    "            options = []\n",
    "            if not stock.options:\n",
    "                raise ValueError(f\"No options data available for ticker {ticker}\")\n",
    "            for expiry in stock.options:\n",
    "                opt_chain = stock.option_chain(expiry)\n",
    "                calls = opt_chain.calls\n",
    "                puts = opt_chain.puts\n",
    "\n",
    "                calls['Type'] = 'Call'\n",
    "                puts['Type'] = 'Put'\n",
    "                calls['Expiration'] = expiry\n",
    "                puts['Expiration'] = expiry\n",
    "\n",
    "                options.append(pd.concat([calls, puts]))\n",
    "\n",
    "            options_dict[ticker] = pd.concat(options, ignore_index=True)\n",
    "        except Exception as e:\n",
    "            print(f\"Error fetching options for {ticker}: {e}\")\n",
    "            options_dict[ticker] = pd.DataFrame()\n",
    "    return options_dict"
   ]
  },
  {
   "cell_type": "code",
   "execution_count": 24,
   "metadata": {},
   "outputs": [],
   "source": [
    "def filter_by_sd(options_dict, avg_sd_dict):\n",
    "    sd1 = []\n",
    "    sd2 = []\n",
    "\n",
    "    for ticker, options_df in options_dict.items():\n",
    "        if options_df.empty:\n",
    "            continue\n",
    "\n",
    "        avg_price, sd_price = avg_sd_dict.get(ticker, (None, None))\n",
    "        if avg_price is None or sd_price is None:\n",
    "            continue\n",
    "\n",
    "        within_sd1 = options_df[(options_df['strike'] >= avg_price - sd_price) &\n",
    "                                (options_df['strike'] <= avg_price + sd_price)]\n",
    "        within_sd2 = options_df[(options_df['strike'] >= avg_price - 2 * sd_price) &\n",
    "                                (options_df['strike'] <= avg_price + 2 * sd_price)]\n",
    "\n",
    "        within_sd2 = within_sd2[~within_sd2.index.isin(within_sd1.index)]\n",
    "\n",
    "        sd1.append(within_sd1)\n",
    "        sd2.append(within_sd2)\n",
    "\n",
    "    return pd.concat(sd1, ignore_index=True), pd.concat(sd2, ignore_index=True)"
   ]
  },
  {
   "cell_type": "code",
   "execution_count": 25,
   "metadata": {},
   "outputs": [
    {
     "name": "stderr",
     "output_type": "stream",
     "text": [
      "[*********************100%%**********************]  1 of 1 completed\n",
      "[*********************100%%**********************]  1 of 1 completed\n",
      "[*********************100%%**********************]  1 of 1 completed\n",
      "[*********************100%%**********************]  1 of 1 completed\n",
      "[*********************100%%**********************]  1 of 1 completed\n",
      "[*********************100%%**********************]  1 of 1 completed\n",
      "[*********************100%%**********************]  1 of 1 completed\n",
      "[*********************100%%**********************]  1 of 1 completed\n",
      "[*********************100%%**********************]  1 of 1 completed\n",
      "[*********************100%%**********************]  1 of 1 completed\n",
      "[*********************100%%**********************]  1 of 1 completed\n",
      "[*********************100%%**********************]  1 of 1 completed\n",
      "[*********************100%%**********************]  1 of 1 completed\n",
      "[*********************100%%**********************]  1 of 1 completed\n",
      "[*********************100%%**********************]  1 of 1 completed\n",
      "[*********************100%%**********************]  1 of 1 completed\n",
      "[*********************100%%**********************]  1 of 1 completed\n",
      "[*********************100%%**********************]  1 of 1 completed\n",
      "[*********************100%%**********************]  1 of 1 completed\n",
      "[*********************100%%**********************]  1 of 1 completed\n",
      "[*********************100%%**********************]  1 of 1 completed\n",
      "[*********************100%%**********************]  1 of 1 completed\n",
      "[*********************100%%**********************]  1 of 1 completed\n",
      "[*********************100%%**********************]  1 of 1 completed\n",
      "[*********************100%%**********************]  1 of 1 completed\n",
      "[*********************100%%**********************]  1 of 1 completed\n",
      "[*********************100%%**********************]  1 of 1 completed\n",
      "[*********************100%%**********************]  1 of 1 completed\n",
      "[*********************100%%**********************]  1 of 1 completed\n",
      "[*********************100%%**********************]  1 of 1 completed\n",
      "[*********************100%%**********************]  1 of 1 completed\n"
     ]
    }
   ],
   "source": [
    "if __name__ == \"__main__\":\n",
    "    from datetime import datetime, timedelta\n",
    "\n",
    "    end_date = datetime.today()\n",
    "    start_date = end_date - timedelta(days=30)\n",
    "\n",
    "    if not isinstance(port_pick, list):\n",
    "        raise TypeError(\"'port_pick' must be a list of tickers.\")\n",
    "    if not all(isinstance(ticker, str) for ticker in port_pick):\n",
    "        raise ValueError(\"All elements in 'port_pick' must be strings representing tickers.\")\n",
    "\n",
    "    avg_sd_dict = {\n",
    "        ticker: calculate_avg_sd(ticker, start_date.strftime('%Y-%m-%d'), end_date.strftime('%Y-%m-%d'))\n",
    "        for ticker in port_pick\n",
    "    }\n",
    "\n",
    "    options_dict = fetch_options_data(port_pick)\n",
    "\n",
    "    sd1_df, sd2_df = filter_by_sd(options_dict, avg_sd_dict)\n",
    "\n",
    "#run tiem 48.9 seconds"
   ]
  }
 ],
 "metadata": {
  "kernelspec": {
   "display_name": "Python 3",
   "language": "python",
   "name": "python3"
  },
  "language_info": {
   "codemirror_mode": {
    "name": "ipython",
    "version": 3
   },
   "file_extension": ".py",
   "mimetype": "text/x-python",
   "name": "python",
   "nbconvert_exporter": "python",
   "pygments_lexer": "ipython3",
   "version": "3.12.3"
  }
 },
 "nbformat": 4,
 "nbformat_minor": 2
}
