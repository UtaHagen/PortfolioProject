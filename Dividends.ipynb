{
 "cells": [
  {
   "cell_type": "code",
   "execution_count": 12,
   "id": "ce772c38",
   "metadata": {},
   "outputs": [
    {
     "name": "stdout",
     "output_type": "stream",
     "text": [
      "  Ticker  Dividend_Yield  Dividend_Rate  Intrinsic_Value   Beta       Score\n",
      "0    LMT          0.0269          12.60       465.184966  0.455  143.346250\n",
      "1    SJM          0.0380           4.24       267.744380  0.230   81.610514\n",
      "2    HSY          0.0274           5.48       264.913468  0.327   81.129000\n",
      "3    GIS          0.0346           2.36       208.186309  0.140   63.177733\n",
      "4    KMB          0.0355           4.88       205.162701  0.389   63.027010\n",
      "5     HD          0.0274           9.00       163.976242  1.011   51.903832\n",
      "6     EG          0.0208           8.00        80.838528  0.569   26.659879\n",
      "7   KLAC          0.0077           5.80        81.879270  1.330   26.306861\n",
      "8     CL          0.0213           2.00        83.208521  0.394   25.571076\n",
      "9    MSI          0.0106           3.92        78.343593  0.914   24.683318\n"
     ]
    }
   ],
   "source": [
    "import yfinance as yf\n",
    "import pandas as pd\n",
    "\n",
    "#S&P 500 tickers\n",
    "url = 'https://en.wikipedia.org/wiki/List_of_S%26P_500_companies'\n",
    "tables = pd.read_html(url)\n",
    "sp500_table = tables[0]\n",
    "sp500_tickers = sp500_table['Symbol'].tolist()\n",
    "\n",
    "# Risk-Free Rate: 10yr treasury note\n",
    "tnx = yf.Ticker('^TNX')\n",
    "tnx_info = tnx.info\n",
    "rfr = tnx_info.get('previousClose') / 100\n",
    "\n",
    "# Equity risk premium source: Kroll\n",
    "erp = 0.055\n",
    "\n",
    "def fetch_stock_data(ticker):\n",
    "    try:\n",
    "        stock = yf.Ticker(ticker)\n",
    "        beta = stock.info.get('beta')\n",
    "        dividend_yield = stock.info.get('dividendYield')\n",
    "        dividend_rate = stock.info.get('dividendRate')\n",
    "        roe = stock.info.get('returnOnEquity')\n",
    "        payout_ratio = stock.info.get('payoutRatio')\n",
    "\n",
    "        if beta is None or dividend_yield is None or dividend_rate is None or roe is None or payout_ratio is None:\n",
    "            return None\n",
    "#gordon growth model DDM\n",
    "#NOTE intrinsic values are very high...calcualtions seem correct...maybe take this out\n",
    "        coe = rfr + beta * erp\n",
    "        retention_ratio = 1 - payout_ratio\n",
    "        dividend_growth_rate = roe * retention_ratio\n",
    "        dividend_growth_rate = min(dividend_growth_rate, coe * 0.9)  # .9 to prevent growth rate being higher than what investors expect.. sustainability. other values could be 1 or .8. depends on what we want\n",
    "\n",
    "        if dividend_rate and coe > dividend_growth_rate:\n",
    "            intrinsic_value = dividend_rate / (coe - dividend_growth_rate)\n",
    "            return {\n",
    "                'Ticker': ticker,\n",
    "                'Dividend_Yield': dividend_yield,\n",
    "                'Dividend_Rate': dividend_rate,\n",
    "                'Intrinsic_Value': intrinsic_value,\n",
    "                'Beta': beta\n",
    "            }\n",
    "    except Exception as e:\n",
    "        print(f\"Error processing {ticker}: {e}\")\n",
    "    return None\n",
    "\n",
    "# Get data for all S&P 500 stocks\n",
    "stock_data = []\n",
    "for ticker in sp500_tickers:\n",
    "    data = fetch_stock_data(ticker)\n",
    "    if data:\n",
    "        stock_data.append(data)\n",
    "\n",
    "# Dataframe of results\n",
    "df = pd.DataFrame(stock_data)\n",
    "\n",
    "#Weights\n",
    "df['Score'] = (df['Dividend_Yield'] * 0.4 + df['Dividend_Rate'] * 0.3 + df['Intrinsic_Value'] * 0.3)\n",
    "\n",
    "# Sort by score\n",
    "df = df.sort_values(by='Score', ascending=False).reset_index(drop=True)\n",
    "\n",
    "# Top ten\n",
    "print(df.head(10))"
   ]
  },
  {
   "cell_type": "code",
   "execution_count": null,
   "id": "7be25030",
   "metadata": {},
   "outputs": [],
   "source": []
  }
 ],
 "metadata": {
  "kernelspec": {
   "display_name": "Python 3 (ipykernel)",
   "language": "python",
   "name": "python3"
  },
  "language_info": {
   "codemirror_mode": {
    "name": "ipython",
    "version": 3
   },
   "file_extension": ".py",
   "mimetype": "text/x-python",
   "name": "python",
   "nbconvert_exporter": "python",
   "pygments_lexer": "ipython3",
   "version": "3.9.19"
  }
 },
 "nbformat": 4,
 "nbformat_minor": 5
}
