{
 "cells": [
  {
   "cell_type": "code",
   "execution_count": 1,
   "id": "2aa2995c",
   "metadata": {
    "execution": {
     "iopub.execute_input": "2024-09-15T18:37:20.657803Z",
     "iopub.status.busy": "2024-09-15T18:37:20.657621Z",
     "iopub.status.idle": "2024-09-15T18:37:21.126978Z",
     "shell.execute_reply": "2024-09-15T18:37:21.126523Z"
    },
    "papermill": {
     "duration": 0.472942,
     "end_time": "2024-09-15T18:37:21.128586",
     "exception": false,
     "start_time": "2024-09-15T18:37:20.655644",
     "status": "completed"
    },
    "tags": []
   },
   "outputs": [],
   "source": [
    "import yfinance as yf\n",
    "import pandas as pd\n",
    "from datetime import datetime\n",
    "import os"
   ]
  },
  {
   "cell_type": "code",
   "execution_count": 2,
   "id": "7b3bec9a",
   "metadata": {
    "execution": {
     "iopub.execute_input": "2024-09-15T18:37:21.132108Z",
     "iopub.status.busy": "2024-09-15T18:37:21.131742Z",
     "iopub.status.idle": "2024-09-15T18:37:21.136264Z",
     "shell.execute_reply": "2024-09-15T18:37:21.135733Z"
    },
    "papermill": {
     "duration": 0.007987,
     "end_time": "2024-09-15T18:37:21.138015",
     "exception": false,
     "start_time": "2024-09-15T18:37:21.130028",
     "status": "completed"
    },
    "tags": []
   },
   "outputs": [],
   "source": [
    "# Load the portfolio data\n",
    "# data_dir = os.path.join('..', 'Data')\n",
    "input_path = os.path.join('Data', 'portfolio_pick.csv')\n",
    "\n",
    "monthly_returns = pd.read_csv(input_path)"
   ]
  },
  {
   "cell_type": "code",
   "execution_count": 3,
   "id": "051f19b3",
   "metadata": {
    "execution": {
     "iopub.execute_input": "2024-09-15T18:37:21.141157Z",
     "iopub.status.busy": "2024-09-15T18:37:21.141004Z",
     "iopub.status.idle": "2024-09-15T18:37:24.715503Z",
     "shell.execute_reply": "2024-09-15T18:37:24.714973Z"
    },
    "papermill": {
     "duration": 3.577746,
     "end_time": "2024-09-15T18:37:24.717204",
     "exception": false,
     "start_time": "2024-09-15T18:37:21.139458",
     "status": "completed"
    },
    "tags": []
   },
   "outputs": [],
   "source": [
    "\n",
    "def calculate_most_recent_monthly_return(ticker):\n",
    "    stock = yf.Ticker(ticker)\n",
    "    hist = stock.history(period=\"3mo\")\n",
    "    hist['Monthly Return'] = hist['Close'].pct_change(periods=21)\n",
    "    hist = hist[['Monthly Return']].dropna()\n",
    "\n",
    "    today = datetime.today()\n",
    "    most_recent_return = hist.iloc[-1] if today.day == 1 else hist.iloc[-2]\n",
    "\n",
    "    return most_recent_return['Monthly Return']\n",
    "\n",
    "# Calculate monthly returns for each stock\n",
    "stock_dataframes = {ticker: calculate_most_recent_monthly_return(ticker) for ticker in monthly_returns['Stock']}\n",
    "\n",
    "# Create a DataFrame with the results\n",
    "result_df = pd.DataFrame(list(stock_dataframes.items()), columns=['Stock', 'Monthly Return'])\n",
    "\n",
    "# Get the top 10 tickers with the highest returns\n",
    "top_10_df = result_df.nlargest(10, 'Monthly Return')\n",
    "\n"
   ]
  },
  {
   "cell_type": "code",
   "execution_count": 4,
   "id": "5bc8d0cb",
   "metadata": {
    "execution": {
     "iopub.execute_input": "2024-09-15T18:37:24.722345Z",
     "iopub.status.busy": "2024-09-15T18:37:24.721871Z",
     "iopub.status.idle": "2024-09-15T18:37:24.729210Z",
     "shell.execute_reply": "2024-09-15T18:37:24.728870Z"
    },
    "papermill": {
     "duration": 0.010848,
     "end_time": "2024-09-15T18:37:24.730262",
     "exception": false,
     "start_time": "2024-09-15T18:37:24.719414",
     "status": "completed"
    },
    "tags": []
   },
   "outputs": [
    {
     "name": "stdout",
     "output_type": "stream",
     "text": [
      "saved to ../results/top10portfoliopick.csv\n"
     ]
    }
   ],
   "source": [
    "# Output the result to a CSV file\n",
    "results_dir = os.path.join('..', 'results')\n",
    "\n",
    "os.makedirs(results_dir, exist_ok=True)\n",
    "\n",
    "file_path = os.path.join(results_dir, 'top10portfoliopick.csv')\n",
    "\n",
    "top_10_df.to_csv(file_path, index=False)\n",
    "\n",
    "print(f\"saved to {file_path}\")"
   ]
  }
 ],
 "metadata": {
  "kernelspec": {
   "display_name": "envstock",
   "language": "python",
   "name": "python3"
  },
  "language_info": {
   "codemirror_mode": {
    "name": "ipython",
    "version": 3
   },
   "file_extension": ".py",
   "mimetype": "text/x-python",
   "name": "python",
   "nbconvert_exporter": "python",
   "pygments_lexer": "ipython3",
   "version": "3.11.8"
  },
  "papermill": {
   "default_parameters": {},
   "duration": 5.434765,
   "end_time": "2024-09-15T18:37:24.949235",
   "environment_variables": {},
   "exception": null,
   "input_path": "notebooks/top 10 pick code.ipynb",
   "output_path": "executed_notebooks/top 10 pick code.ipynb",
   "parameters": {},
   "start_time": "2024-09-15T18:37:19.514470",
   "version": "2.6.0"
  }
 },
 "nbformat": 4,
 "nbformat_minor": 5
}