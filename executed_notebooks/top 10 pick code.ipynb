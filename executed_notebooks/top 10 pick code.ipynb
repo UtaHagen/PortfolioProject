{
 "cells": [
  {
   "cell_type": "code",
   "execution_count": 1,
   "id": "b4d0d704",
   "metadata": {
    "execution": {
     "iopub.execute_input": "2024-10-06T15:54:18.701023Z",
     "iopub.status.busy": "2024-10-06T15:54:18.700776Z",
     "iopub.status.idle": "2024-10-06T15:54:19.125990Z",
     "shell.execute_reply": "2024-10-06T15:54:19.125527Z"
    },
    "papermill": {
     "duration": 0.429082,
     "end_time": "2024-10-06T15:54:19.127315",
     "exception": false,
     "start_time": "2024-10-06T15:54:18.698233",
     "status": "completed"
    },
    "tags": []
   },
   "outputs": [],
   "source": [
    "import yfinance as yf\n",
    "import pandas as pd\n",
    "from datetime import datetime\n",
    "import os"
   ]
  },
  {
   "cell_type": "code",
   "execution_count": 2,
   "id": "53a7adc1",
   "metadata": {
    "execution": {
     "iopub.execute_input": "2024-10-06T15:54:19.130650Z",
     "iopub.status.busy": "2024-10-06T15:54:19.130372Z",
     "iopub.status.idle": "2024-10-06T15:54:19.134535Z",
     "shell.execute_reply": "2024-10-06T15:54:19.134229Z"
    },
    "papermill": {
     "duration": 0.006769,
     "end_time": "2024-10-06T15:54:19.135551",
     "exception": false,
     "start_time": "2024-10-06T15:54:19.128782",
     "status": "completed"
    },
    "tags": []
   },
   "outputs": [],
   "source": [
    "# Load the portfolio data\n",
    "# data_dir = os.path.join('..', 'Data')\n",
    "input_path = os.path.join('Data', 'portfolio_pick.csv')\n",
    "\n",
    "monthly_returns = pd.read_csv(input_path)"
   ]
  },
  {
   "cell_type": "code",
   "execution_count": 3,
   "id": "3293c146",
   "metadata": {
    "execution": {
     "iopub.execute_input": "2024-10-06T15:54:19.138184Z",
     "iopub.status.busy": "2024-10-06T15:54:19.138027Z",
     "iopub.status.idle": "2024-10-06T15:54:23.299422Z",
     "shell.execute_reply": "2024-10-06T15:54:23.299029Z"
    },
    "papermill": {
     "duration": 4.164071,
     "end_time": "2024-10-06T15:54:23.300690",
     "exception": false,
     "start_time": "2024-10-06T15:54:19.136619",
     "status": "completed"
    },
    "tags": []
   },
   "outputs": [],
   "source": [
    "\n",
    "def calculate_most_recent_monthly_return(ticker):\n",
    "    stock = yf.Ticker(ticker)\n",
    "    hist = stock.history(period=\"3mo\")\n",
    "    hist['Monthly Return'] = hist['Close'].pct_change(periods=21)\n",
    "    hist = hist[['Monthly Return']].dropna()\n",
    "\n",
    "    today = datetime.today()\n",
    "    most_recent_return = hist.iloc[-1] if today.day == 1 else hist.iloc[-2]\n",
    "\n",
    "    return most_recent_return['Monthly Return']\n",
    "\n",
    "# Calculate monthly returns for each stock\n",
    "stock_dataframes = {ticker: calculate_most_recent_monthly_return(ticker) for ticker in monthly_returns['Stock']}\n",
    "\n",
    "# Create a DataFrame with the results\n",
    "result_df = pd.DataFrame(list(stock_dataframes.items()), columns=['Stock', 'Monthly Return'])\n",
    "\n",
    "# Get the top 10 tickers with the highest returns\n",
    "top_10_df = result_df.nlargest(10, 'Monthly Return')\n",
    "\n"
   ]
  },
  {
   "cell_type": "code",
   "execution_count": 4,
   "id": "df83538d",
   "metadata": {
    "execution": {
     "iopub.execute_input": "2024-10-06T15:54:23.305798Z",
     "iopub.status.busy": "2024-10-06T15:54:23.305582Z",
     "iopub.status.idle": "2024-10-06T15:54:23.310489Z",
     "shell.execute_reply": "2024-10-06T15:54:23.310095Z"
    },
    "papermill": {
     "duration": 0.008335,
     "end_time": "2024-10-06T15:54:23.311550",
     "exception": false,
     "start_time": "2024-10-06T15:54:23.303215",
     "status": "completed"
    },
    "tags": []
   },
   "outputs": [
    {
     "name": "stdout",
     "output_type": "stream",
     "text": [
      "saved to ../results/top10portfoliopick.csv\n"
     ]
    }
   ],
   "source": [
    "# Output the result to a CSV file\n",
    "results_dir = os.path.join('..', 'results')\n",
    "\n",
    "os.makedirs(results_dir, exist_ok=True)\n",
    "\n",
    "file_path = os.path.join(results_dir, 'top10portfoliopick.csv')\n",
    "\n",
    "top_10_df.to_csv(file_path, index=False)\n",
    "\n",
    "print(f\"saved to {file_path}\")"
   ]
  }
 ],
 "metadata": {
  "kernelspec": {
   "display_name": "envstock",
   "language": "python",
   "name": "python3"
  },
  "language_info": {
   "codemirror_mode": {
    "name": "ipython",
    "version": 3
   },
   "file_extension": ".py",
   "mimetype": "text/x-python",
   "name": "python",
   "nbconvert_exporter": "python",
   "pygments_lexer": "ipython3",
   "version": "3.11.8"
  },
  "papermill": {
   "default_parameters": {},
   "duration": 5.83813,
   "end_time": "2024-10-06T15:54:23.530784",
   "environment_variables": {},
   "exception": null,
   "input_path": "notebooks/top 10 pick code.ipynb",
   "output_path": "executed_notebooks/top 10 pick code.ipynb",
   "parameters": {},
   "start_time": "2024-10-06T15:54:17.692654",
   "version": "2.6.0"
  }
 },
 "nbformat": 4,
 "nbformat_minor": 5
}