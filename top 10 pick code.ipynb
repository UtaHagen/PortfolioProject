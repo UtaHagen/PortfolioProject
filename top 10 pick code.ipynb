{
 "cells": [
  {
   "cell_type": "code",
   "execution_count": null,
   "metadata": {},
   "outputs": [],
   "source": [
    "import yfinance as yf\n",
    "import pandas as pd\n",
    "from datetime import datetime\n",
    "\n",
    "# Load the portfolio data\n",
    "monthly_returns_path = r'Data\\portfolio_pick.csv'\n",
    "monthly_returns = pd.read_csv(monthly_returns_path)\n",
    "\n",
    "def calculate_most_recent_monthly_return(ticker):\n",
    "    stock = yf.Ticker(ticker)\n",
    "    hist = stock.history(period=\"2mo\")\n",
    "    hist['Monthly Return'] = hist['Close'].pct_change(periods=21)\n",
    "    hist = hist[['Monthly Return']].dropna()\n",
    "\n",
    "    today = datetime.today()\n",
    "    most_recent_return = hist.iloc[-1] if today.day == 1 else hist.iloc[-2]\n",
    "\n",
    "    return most_recent_return['Monthly Return']\n",
    "\n",
    "# Calculate monthly returns for each stock\n",
    "stock_dataframes = {ticker: calculate_most_recent_monthly_return(ticker) for ticker in monthly_returns['Stock']}\n",
    "\n",
    "# Create a DataFrame with the results\n",
    "result_df = pd.DataFrame(list(stock_dataframes.items()), columns=['Stock', 'Monthly Return'])\n",
    "\n",
    "# Get the top 10 tickers with the highest returns\n",
    "top_10_df = result_df.nlargest(10, 'Monthly Return')\n",
    "\n",
    "# Output the result to a CSV file\n",
    "top_10_df.to_csv('top10portfoliopick.csv', index=False)"
   ]
  }
 ],
 "metadata": {
  "language_info": {
   "name": "python"
  }
 },
 "nbformat": 4,
 "nbformat_minor": 2
}
