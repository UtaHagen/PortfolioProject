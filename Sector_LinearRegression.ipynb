{
 "cells": [
  {
   "cell_type": "code",
   "execution_count": 1,
   "id": "5ebec82a",
   "metadata": {},
   "outputs": [
    {
     "name": "stdout",
     "output_type": "stream",
     "text": [
      "Intel MKL WARNING: Support of Intel(R) Streaming SIMD Extensions 4.2 (Intel(R) SSE4.2) enabled only processors has been deprecated. Intel oneAPI Math Kernel Library 2025.0 will require Intel(R) Advanced Vector Extensions (Intel(R) AVX) instructions.\n",
      "Intel MKL WARNING: Support of Intel(R) Streaming SIMD Extensions 4.2 (Intel(R) SSE4.2) enabled only processors has been deprecated. Intel oneAPI Math Kernel Library 2025.0 will require Intel(R) Advanced Vector Extensions (Intel(R) AVX) instructions.\n"
     ]
    },
    {
     "name": "stderr",
     "output_type": "stream",
     "text": [
      "[*********************100%%**********************]  1 of 1 completed\n",
      "[*********************100%%**********************]  1 of 1 completed\n"
     ]
    },
    {
     "name": "stdout",
     "output_type": "stream",
     "text": [
      "Processing sector: ^SP500-50\n",
      "Intel MKL WARNING: Support of Intel(R) Streaming SIMD Extensions 4.2 (Intel(R) SSE4.2) enabled only processors has been deprecated. Intel oneAPI Math Kernel Library 2025.0 will require Intel(R) Advanced Vector Extensions (Intel(R) AVX) instructions.\n",
      "Sector: ^SP500-50\n",
      "Intercept: -0.0675077122744839\n",
      "Coefficients: [0.93816799]\n",
      "R^2 Score: 0.40869887814050876\n",
      "P-Values: \n",
      "[1.09908738e-02 1.34143515e-15]\n",
      "Processing sector: ^SP500-2550\n"
     ]
    },
    {
     "name": "stderr",
     "output_type": "stream",
     "text": [
      "[*********************100%%**********************]  1 of 1 completed\n",
      "[*********************100%%**********************]  1 of 1 completed\n"
     ]
    },
    {
     "name": "stdout",
     "output_type": "stream",
     "text": [
      "Intel MKL WARNING: Support of Intel(R) Streaming SIMD Extensions 4.2 (Intel(R) SSE4.2) enabled only processors has been deprecated. Intel oneAPI Math Kernel Library 2025.0 will require Intel(R) Advanced Vector Extensions (Intel(R) AVX) instructions.\n",
      "Sector: ^SP500-2550\n",
      "Intercept: 0.10785275228443295\n",
      "Coefficients: [1.14219748]\n",
      "R^2 Score: 0.5214308038920453\n",
      "P-Values: \n",
      "[4.12785633e-05 2.96990790e-21]\n",
      "Processing sector: ^SP500-3010\n",
      "Sector: ^SP500-3010\n",
      "Intercept: 0.06894906328056548\n",
      "Coefficients: [0.63845711]\n",
      "R^2 Score: 0.43477739915341573\n",
      "P-Values: \n",
      "[7.81053633e-05 8.31162257e-17]\n",
      "Processing sector: ^GSPE\n",
      "Intel MKL WARNING: Support of Intel(R) Streaming SIMD Extensions 4.2 (Intel(R) SSE4.2) enabled only processors has been deprecated. Intel oneAPI Math Kernel Library 2025.0 will require Intel(R) Advanced Vector Extensions (Intel(R) AVX) instructions.\n"
     ]
    },
    {
     "name": "stderr",
     "output_type": "stream",
     "text": [
      "[*********************100%%**********************]  1 of 1 completed\n",
      "[*********************100%%**********************]  1 of 1 completed\n"
     ]
    },
    {
     "name": "stdout",
     "output_type": "stream",
     "text": [
      "Intel MKL WARNING: Support of Intel(R) Streaming SIMD Extensions 4.2 (Intel(R) SSE4.2) enabled only processors has been deprecated. Intel oneAPI Math Kernel Library 2025.0 will require Intel(R) Advanced Vector Extensions (Intel(R) AVX) instructions.\n",
      "Sector: ^GSPE\n",
      "Intercept: 0.05389824508443403\n",
      "Coefficients: [0.19863582]\n",
      "R^2 Score: 0.00545722956816963\n",
      "P-Values: \n",
      "[0.38727697 0.41484376]\n",
      "Processing sector: ^SP500-40\n",
      "Intel MKL WARNING: Support of Intel(R) Streaming SIMD Extensions 4.2 (Intel(R) SSE4.2) enabled only processors has been deprecated. Intel oneAPI Math Kernel Library 2025.0 will require Intel(R) Advanced Vector Extensions (Intel(R) AVX) instructions.\n",
      "Sector: ^SP500-40\n",
      "Intercept: -0.07959239544940346\n",
      "Coefficients: [1.22275638]\n",
      "R^2 Score: 0.6634250949431797\n",
      "P-Values: \n",
      "[1.33733756e-04 1.25083649e-30]\n",
      "Processing sector: ^SP500-35\n"
     ]
    },
    {
     "name": "stderr",
     "output_type": "stream",
     "text": [
      "[*********************100%%**********************]  1 of 1 completed\n",
      "[*********************100%%**********************]  1 of 1 completed\n"
     ]
    },
    {
     "name": "stdout",
     "output_type": "stream",
     "text": [
      "Sector: ^SP500-35Intel MKL WARNING: Support of Intel(R) Streaming SIMD Extensions 4.2 (Intel(R) SSE4.2) enabled only processors has been deprecated. Intel oneAPI Math Kernel Library 2025.0 will require Intel(R) Advanced Vector Extensions (Intel(R) AVX) instructions.\n",
      "\n",
      "Intercept: 0.06479436100839739\n",
      "Coefficients: [0.7779524]\n",
      "R^2 Score: 0.5060247085116598\n",
      "P-Values: \n",
      "[4.02453775e-04 2.08184228e-20]\n",
      "Processing sector: ^SP500-20\n"
     ]
    },
    {
     "name": "stderr",
     "output_type": "stream",
     "text": [
      "[*********************100%%**********************]  1 of 1 completed\n"
     ]
    },
    {
     "name": "stdout",
     "output_type": "stream",
     "text": [
      "Intel MKL WARNING: Support of Intel(R) Streaming SIMD Extensions 4.2 (Intel(R) SSE4.2) enabled only processors has been deprecated. Intel oneAPI Math Kernel Library 2025.0 will require Intel(R) Advanced Vector Extensions (Intel(R) AVX) instructions.\n",
      "Sector: ^SP500-20\n",
      "Intercept: -0.022650545788811788\n",
      "Coefficients: [0.99375637]\n",
      "R^2 Score: 0.8200353301585377\n",
      "P-Values: \n",
      "[3.77600044e-02 2.92826987e-47]\n",
      "Processing sector: ^SP500-15\n",
      "Intel MKL WARNING: Support of Intel(R) Streaming SIMD Extensions 4.2 (Intel(R) SSE4.2) enabled only processors has been deprecated. Intel oneAPI Math Kernel Library 2025.0 will require Intel(R) Advanced Vector Extensions (Intel(R) AVX) instructions.\n",
      "Sector: ^SP500-15\n",
      "Intercept: -0.09778200466255563\n",
      "Coefficients: [1.16720173]\n",
      "R^2 Score: 0.8339318855110787\n",
      "P-Values: \n",
      "[4.67479321e-13 2.15810081e-49]\n",
      "Processing sector: ^SP500-60\n"
     ]
    },
    {
     "name": "stderr",
     "output_type": "stream",
     "text": [
      "[*********************100%%**********************]  1 of 1 completed\n"
     ]
    },
    {
     "name": "stdout",
     "output_type": "stream",
     "text": [
      "Sector: ^SP500-60Intel MKL WARNING: Support of Intel(R) Streaming SIMD Extensions 4.2 (Intel(R) SSE4.2) enabled only processors has been deprecated. Intel oneAPI Math Kernel Library 2025.0 will require Intel(R) Advanced Vector Extensions (Intel(R) AVX) instructions.\n",
      "\n",
      "Intercept: 0.024100204259458677\n",
      "Coefficients: [0.48034063]\n",
      "R^2 Score: 0.24306706734522532\n",
      "P-Values: \n",
      "[2.41399445e-01 1.06163053e-08]\n",
      "Processing sector: ^SP500-45\n"
     ]
    },
    {
     "name": "stderr",
     "output_type": "stream",
     "text": [
      "[*********************100%%**********************]  1 of 1 completed\n"
     ]
    },
    {
     "name": "stdout",
     "output_type": "stream",
     "text": [
      "Intel MKL WARNING: Support of Intel(R) Streaming SIMD Extensions 4.2 (Intel(R) SSE4.2) enabled only processors has been deprecated. Intel oneAPI Math Kernel Library 2025.0 will require Intel(R) Advanced Vector Extensions (Intel(R) AVX) instructions.\n",
      "Sector: ^SP500-45\n",
      "Intercept: 0.08175775358978023\n",
      "Coefficients: [1.31227732]\n",
      "R^2 Score: 0.6617427445972022\n",
      "P-Values: \n",
      "[2.60611756e-04 1.69756906e-30]\n",
      "Processing sector: ^SP500-55\n"
     ]
    },
    {
     "name": "stderr",
     "output_type": "stream",
     "text": [
      "[*********************100%%**********************]  1 of 1 completed"
     ]
    },
    {
     "name": "stdout",
     "output_type": "stream",
     "text": [
      "Sector: ^SP500-55Intel MKL WARNING: Support of Intel(R) Streaming SIMD Extensions 4.2 (Intel(R) SSE4.2) enabled only processors has been deprecated. Intel oneAPI Math Kernel Library 2025.0 will require Intel(R) Advanced Vector Extensions (Intel(R) AVX) instructions.\n",
      "\n",
      "Intercept: 0.08721361222198437\n",
      "Coefficients: [0.12094086]\n",
      "R^2 Score: 0.03751855437622742\n",
      "P-Values: \n",
      "[1.03337055e-08 3.11201977e-02]\n"
     ]
    },
    {
     "name": "stderr",
     "output_type": "stream",
     "text": [
      "\n"
     ]
    }
   ],
   "source": [
    "import yfinance as yf\n",
    "import numpy as np\n",
    "import pandas as pd\n",
    "from sklearn.model_selection import train_test_split\n",
    "from sklearn.metrics import classification_report\n",
    "import statsmodels.api as sm\n",
    "\n",
    "sp500_df = yf.download('^GSPC', start='2010-01-01')\n",
    "monthly_sp500 = sp500_df.resample('M').mean()\n",
    "monthly_sp500['Return'] = (monthly_sp500['Close'].shift(-21) - monthly_sp500['Close']) / monthly_sp500['Close']\n",
    "\n",
    "sectors_path = '/Users/allison/Desktop/sectorsymbollist.csv'\n",
    "sectors_df = pd.read_csv(sectors_path)\n",
    "\n",
    "for sector_symbol in sectors_df['Sector']:\n",
    "    print(f'Processing sector: {sector_symbol}')\n",
    "    \n",
    "    sector_df = yf.download(sector_symbol, start='2010-01-01')\n",
    "    monthly_sector = sector_df.resample('M').mean()\n",
    "    monthly_sector['Return'] = (monthly_sector['Close'].shift(-21) - monthly_sector['Close']) / monthly_sector['Close']\n",
    "\n",
    "    monthly_sp500.dropna(inplace=True)\n",
    "    monthly_sector.dropna(inplace=True)\n",
    "\n",
    "    returns_df = pd.DataFrame({\n",
    "        'SP500_Return': monthly_sp500['Return'],\n",
    "        'Sector_Return': monthly_sector['Return']\n",
    "    }).dropna()\n",
    "\n",
    "    X = returns_df['SP500_Return'].values\n",
    "    y = returns_df['Sector_Return'].values\n",
    "\n",
    "    X_train, X_test, y_train, y_test = train_test_split(X, y, test_size=0.2, random_state=42)\n",
    "\n",
    "    X_train_sm = sm.add_constant(X_train)  \n",
    "    model = sm.OLS(y_train, X_train_sm).fit()\n",
    "\n",
    "    y_pred = model.predict(sm.add_constant(X_test))\n",
    "\n",
    "    r2 = model.rsquared\n",
    "\n",
    "    print(f'Sector: {sector_symbol}')\n",
    "    print(f'Intercept: {model.params[0]}')\n",
    "    print(f'Coefficients: {model.params[1:]}')\n",
    "    print(f'R^2 Score: {r2}')\n",
    "    print(f'P-Values: \\n{model.pvalues}')"
   ]
  },
  {
   "cell_type": "code",
   "execution_count": null,
   "id": "577501a0",
   "metadata": {},
   "outputs": [],
   "source": []
  }
 ],
 "metadata": {
  "kernelspec": {
   "display_name": "Python 3 (ipykernel)",
   "language": "python",
   "name": "python3"
  },
  "language_info": {
   "codemirror_mode": {
    "name": "ipython",
    "version": 3
   },
   "file_extension": ".py",
   "mimetype": "text/x-python",
   "name": "python",
   "nbconvert_exporter": "python",
   "pygments_lexer": "ipython3",
   "version": "3.9.19"
  }
 },
 "nbformat": 4,
 "nbformat_minor": 5
}
