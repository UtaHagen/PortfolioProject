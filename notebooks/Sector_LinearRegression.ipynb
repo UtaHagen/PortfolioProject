{
 "cells": [
  {
   "cell_type": "code",
   "execution_count": 2,
   "id": "044aa0c5",
   "metadata": {},
   "outputs": [],
   "source": [
    "import yfinance as yf\n",
    "import numpy as np\n",
    "import pandas as pd\n",
    "from sklearn.model_selection import train_test_split\n",
    "from sklearn.metrics import classification_report\n",
    "import statsmodels.api as sm\n",
    "import os\n"
   ]
  },
  {
   "cell_type": "code",
   "execution_count": 3,
   "id": "8165c8cc",
   "metadata": {},
   "outputs": [],
   "source": [
    "# Load the portfolio data\n",
    "# if just running this notebook, use the following line to load the data\n",
    "# sectors_path = os.path.join('..','Data', 'stockssp500sectors.csv')\n",
    "sectors_path = os.path.join('Data', 'stockssp500sectors.csv')\n",
    "sectors_df = pd.read_csv(sectors_path)"
   ]
  },
  {
   "cell_type": "code",
   "execution_count": 5,
   "id": "5ebec82a",
   "metadata": {},
   "outputs": [
    {
     "name": "stderr",
     "output_type": "stream",
     "text": [
      "[*********************100%***********************]  1 of 1 completed\n",
      "/var/folders/n3/cwx8131570q5ljqcv1f22n6c0000gn/T/ipykernel_47973/2952105492.py:2: FutureWarning: 'M' is deprecated and will be removed in a future version, please use 'ME' instead.\n",
      "  monthly_sp500 = sp500_df.resample('M').mean()\n"
     ]
    },
    {
     "name": "stdout",
     "output_type": "stream",
     "text": [
      "Processing sector: ^SP500-50\n"
     ]
    },
    {
     "name": "stderr",
     "output_type": "stream",
     "text": [
      "[*********************100%***********************]  1 of 1 completed\n",
      "/var/folders/n3/cwx8131570q5ljqcv1f22n6c0000gn/T/ipykernel_47973/2952105492.py:10: FutureWarning: 'M' is deprecated and will be removed in a future version, please use 'ME' instead.\n",
      "  monthly_sector = sector_df.resample('M').mean()\n",
      "[*********************100%***********************]  1 of 1 completed\n",
      "/var/folders/n3/cwx8131570q5ljqcv1f22n6c0000gn/T/ipykernel_47973/2952105492.py:10: FutureWarning: 'M' is deprecated and will be removed in a future version, please use 'ME' instead.\n",
      "  monthly_sector = sector_df.resample('M').mean()\n",
      "[*********************100%***********************]  1 of 1 completed\n",
      "/var/folders/n3/cwx8131570q5ljqcv1f22n6c0000gn/T/ipykernel_47973/2952105492.py:10: FutureWarning: 'M' is deprecated and will be removed in a future version, please use 'ME' instead.\n",
      "  monthly_sector = sector_df.resample('M').mean()\n"
     ]
    },
    {
     "name": "stdout",
     "output_type": "stream",
     "text": [
      "Sector: ^SP500-50\n",
      "Intercept: -0.0995768270006164\n",
      "Coefficients: [1.04964475]\n",
      "R^2 Score: 0.450446000301451\n",
      "P-Values: \n",
      "[4.36290573e-04 1.47064276e-17]\n",
      "Processing sector: ^SP500-50\n",
      "Sector: ^SP500-50\n",
      "Intercept: -0.0995768270006164\n",
      "Coefficients: [1.04964475]\n",
      "R^2 Score: 0.450446000301451\n",
      "P-Values: \n",
      "[4.36290573e-04 1.47064276e-17]\n",
      "Processing sector: ^SP500-50\n",
      "Sector: ^SP500-50\n",
      "Intercept: -0.0995768270006164\n",
      "Coefficients: [1.04964475]\n",
      "R^2 Score: 0.450446000301451\n",
      "P-Values: \n",
      "[4.36290573e-04 1.47064276e-17]\n",
      "Processing sector: ^SP500-50\n"
     ]
    },
    {
     "name": "stderr",
     "output_type": "stream",
     "text": [
      "[*********************100%***********************]  1 of 1 completed\n",
      "/var/folders/n3/cwx8131570q5ljqcv1f22n6c0000gn/T/ipykernel_47973/2952105492.py:10: FutureWarning: 'M' is deprecated and will be removed in a future version, please use 'ME' instead.\n",
      "  monthly_sector = sector_df.resample('M').mean()\n",
      "[*********************100%***********************]  1 of 1 completed\n",
      "/var/folders/n3/cwx8131570q5ljqcv1f22n6c0000gn/T/ipykernel_47973/2952105492.py:10: FutureWarning: 'M' is deprecated and will be removed in a future version, please use 'ME' instead.\n",
      "  monthly_sector = sector_df.resample('M').mean()\n",
      "[*********************100%***********************]  1 of 1 completed\n",
      "/var/folders/n3/cwx8131570q5ljqcv1f22n6c0000gn/T/ipykernel_47973/2952105492.py:10: FutureWarning: 'M' is deprecated and will be removed in a future version, please use 'ME' instead.\n",
      "  monthly_sector = sector_df.resample('M').mean()\n"
     ]
    },
    {
     "name": "stdout",
     "output_type": "stream",
     "text": [
      "Sector: ^SP500-50\n",
      "Intercept: -0.0995768270006164\n",
      "Coefficients: [1.04964475]\n",
      "R^2 Score: 0.450446000301451\n",
      "P-Values: \n",
      "[4.36290573e-04 1.47064276e-17]\n",
      "Processing sector: ^SP500-50\n",
      "Sector: ^SP500-50\n",
      "Intercept: -0.0995768270006164\n",
      "Coefficients: [1.04964475]\n",
      "R^2 Score: 0.450446000301451\n",
      "P-Values: \n",
      "[4.36290573e-04 1.47064276e-17]\n",
      "Processing sector: ^SP500-50\n",
      "Sector: ^SP500-50\n",
      "Intercept: -0.0995768270006164\n",
      "Coefficients: [1.04964475]\n",
      "R^2 Score: 0.450446000301451\n",
      "P-Values: \n",
      "[4.36290573e-04 1.47064276e-17]\n",
      "Processing sector: ^SP500-50\n"
     ]
    },
    {
     "name": "stderr",
     "output_type": "stream",
     "text": [
      "[*********************100%***********************]  1 of 1 completed\n",
      "/var/folders/n3/cwx8131570q5ljqcv1f22n6c0000gn/T/ipykernel_47973/2952105492.py:10: FutureWarning: 'M' is deprecated and will be removed in a future version, please use 'ME' instead.\n",
      "  monthly_sector = sector_df.resample('M').mean()\n",
      "[*********************100%***********************]  1 of 1 completed\n",
      "/var/folders/n3/cwx8131570q5ljqcv1f22n6c0000gn/T/ipykernel_47973/2952105492.py:10: FutureWarning: 'M' is deprecated and will be removed in a future version, please use 'ME' instead.\n",
      "  monthly_sector = sector_df.resample('M').mean()\n",
      "[*********************100%***********************]  1 of 1 completed\n",
      "/var/folders/n3/cwx8131570q5ljqcv1f22n6c0000gn/T/ipykernel_47973/2952105492.py:10: FutureWarning: 'M' is deprecated and will be removed in a future version, please use 'ME' instead.\n",
      "  monthly_sector = sector_df.resample('M').mean()\n"
     ]
    },
    {
     "name": "stdout",
     "output_type": "stream",
     "text": [
      "Sector: ^SP500-50\n",
      "Intercept: -0.0995768270006164\n",
      "Coefficients: [1.04964475]\n",
      "R^2 Score: 0.450446000301451\n",
      "P-Values: \n",
      "[4.36290573e-04 1.47064276e-17]\n",
      "Processing sector: ^SP500-50\n",
      "Sector: ^SP500-50\n",
      "Intercept: -0.0995768270006164\n",
      "Coefficients: [1.04964475]\n",
      "R^2 Score: 0.450446000301451\n",
      "P-Values: \n",
      "[4.36290573e-04 1.47064276e-17]\n",
      "Processing sector: ^SP500-50\n",
      "Sector: ^SP500-50\n",
      "Intercept: -0.0995768270006164\n",
      "Coefficients: [1.04964475]\n",
      "R^2 Score: 0.450446000301451\n",
      "P-Values: \n",
      "[4.36290573e-04 1.47064276e-17]\n",
      "Processing sector: ^SP500-50\n"
     ]
    },
    {
     "name": "stderr",
     "output_type": "stream",
     "text": [
      "[*********************100%***********************]  1 of 1 completed\n",
      "/var/folders/n3/cwx8131570q5ljqcv1f22n6c0000gn/T/ipykernel_47973/2952105492.py:10: FutureWarning: 'M' is deprecated and will be removed in a future version, please use 'ME' instead.\n",
      "  monthly_sector = sector_df.resample('M').mean()\n",
      "[*********************100%***********************]  1 of 1 completed\n",
      "/var/folders/n3/cwx8131570q5ljqcv1f22n6c0000gn/T/ipykernel_47973/2952105492.py:10: FutureWarning: 'M' is deprecated and will be removed in a future version, please use 'ME' instead.\n",
      "  monthly_sector = sector_df.resample('M').mean()\n",
      "[*********************100%***********************]  1 of 1 completed\n",
      "/var/folders/n3/cwx8131570q5ljqcv1f22n6c0000gn/T/ipykernel_47973/2952105492.py:10: FutureWarning: 'M' is deprecated and will be removed in a future version, please use 'ME' instead.\n",
      "  monthly_sector = sector_df.resample('M').mean()\n"
     ]
    },
    {
     "name": "stdout",
     "output_type": "stream",
     "text": [
      "Sector: ^SP500-50\n",
      "Intercept: -0.0995768270006164\n",
      "Coefficients: [1.04964475]\n",
      "R^2 Score: 0.450446000301451\n",
      "P-Values: \n",
      "[4.36290573e-04 1.47064276e-17]\n",
      "Processing sector: ^SP500-50\n",
      "Sector: ^SP500-50\n",
      "Intercept: -0.0995768270006164\n",
      "Coefficients: [1.04964475]\n",
      "R^2 Score: 0.450446000301451\n",
      "P-Values: \n",
      "[4.36290573e-04 1.47064276e-17]\n",
      "Processing sector: ^SP500-50\n",
      "Sector: ^SP500-50\n",
      "Intercept: -0.0995768270006164\n",
      "Coefficients: [1.04964475]\n",
      "R^2 Score: 0.450446000301451\n",
      "P-Values: \n",
      "[4.36290573e-04 1.47064276e-17]\n",
      "Processing sector: ^SP500-50\n"
     ]
    },
    {
     "name": "stderr",
     "output_type": "stream",
     "text": [
      "[*********************100%***********************]  1 of 1 completed\n",
      "/var/folders/n3/cwx8131570q5ljqcv1f22n6c0000gn/T/ipykernel_47973/2952105492.py:10: FutureWarning: 'M' is deprecated and will be removed in a future version, please use 'ME' instead.\n",
      "  monthly_sector = sector_df.resample('M').mean()\n",
      "[*********************100%***********************]  1 of 1 completed\n",
      "/var/folders/n3/cwx8131570q5ljqcv1f22n6c0000gn/T/ipykernel_47973/2952105492.py:10: FutureWarning: 'M' is deprecated and will be removed in a future version, please use 'ME' instead.\n",
      "  monthly_sector = sector_df.resample('M').mean()\n"
     ]
    },
    {
     "name": "stdout",
     "output_type": "stream",
     "text": [
      "Sector: ^SP500-50\n",
      "Intercept: -0.0995768270006164\n",
      "Coefficients: [1.04964475]\n",
      "R^2 Score: 0.450446000301451\n",
      "P-Values: \n",
      "[4.36290573e-04 1.47064276e-17]\n",
      "Processing sector: ^SP500-50\n",
      "Sector: ^SP500-50\n",
      "Intercept: -0.0995768270006164\n",
      "Coefficients: [1.04964475]\n",
      "R^2 Score: 0.450446000301451\n",
      "P-Values: \n",
      "[4.36290573e-04 1.47064276e-17]\n",
      "Processing sector: ^SP500-50\n"
     ]
    },
    {
     "name": "stderr",
     "output_type": "stream",
     "text": [
      "[*********************100%***********************]  1 of 1 completed\n",
      "/var/folders/n3/cwx8131570q5ljqcv1f22n6c0000gn/T/ipykernel_47973/2952105492.py:10: FutureWarning: 'M' is deprecated and will be removed in a future version, please use 'ME' instead.\n",
      "  monthly_sector = sector_df.resample('M').mean()\n",
      "[*********************100%***********************]  1 of 1 completed\n",
      "/var/folders/n3/cwx8131570q5ljqcv1f22n6c0000gn/T/ipykernel_47973/2952105492.py:10: FutureWarning: 'M' is deprecated and will be removed in a future version, please use 'ME' instead.\n",
      "  monthly_sector = sector_df.resample('M').mean()\n",
      "[*********************100%***********************]  1 of 1 completed\n",
      "/var/folders/n3/cwx8131570q5ljqcv1f22n6c0000gn/T/ipykernel_47973/2952105492.py:10: FutureWarning: 'M' is deprecated and will be removed in a future version, please use 'ME' instead.\n",
      "  monthly_sector = sector_df.resample('M').mean()\n"
     ]
    },
    {
     "name": "stdout",
     "output_type": "stream",
     "text": [
      "Sector: ^SP500-50\n",
      "Intercept: -0.0995768270006164\n",
      "Coefficients: [1.04964475]\n",
      "R^2 Score: 0.450446000301451\n",
      "P-Values: \n",
      "[4.36290573e-04 1.47064276e-17]\n",
      "Processing sector: ^SP500-50\n",
      "Sector: ^SP500-50\n",
      "Intercept: -0.0995768270006164\n",
      "Coefficients: [1.04964475]\n",
      "R^2 Score: 0.450446000301451\n",
      "P-Values: \n",
      "[4.36290573e-04 1.47064276e-17]\n",
      "Processing sector: ^SP500-50\n",
      "Sector: ^SP500-50\n",
      "Intercept: -0.0995768270006164\n",
      "Coefficients: [1.04964475]\n",
      "R^2 Score: 0.450446000301451\n",
      "P-Values: \n",
      "[4.36290573e-04 1.47064276e-17]\n",
      "Processing sector: ^SP500-50\n"
     ]
    },
    {
     "name": "stderr",
     "output_type": "stream",
     "text": [
      "[*********************100%***********************]  1 of 1 completed\n",
      "/var/folders/n3/cwx8131570q5ljqcv1f22n6c0000gn/T/ipykernel_47973/2952105492.py:10: FutureWarning: 'M' is deprecated and will be removed in a future version, please use 'ME' instead.\n",
      "  monthly_sector = sector_df.resample('M').mean()\n",
      "[*********************100%***********************]  1 of 1 completed\n",
      "/var/folders/n3/cwx8131570q5ljqcv1f22n6c0000gn/T/ipykernel_47973/2952105492.py:10: FutureWarning: 'M' is deprecated and will be removed in a future version, please use 'ME' instead.\n",
      "  monthly_sector = sector_df.resample('M').mean()\n",
      "[*********************100%***********************]  1 of 1 completed\n",
      "/var/folders/n3/cwx8131570q5ljqcv1f22n6c0000gn/T/ipykernel_47973/2952105492.py:10: FutureWarning: 'M' is deprecated and will be removed in a future version, please use 'ME' instead.\n",
      "  monthly_sector = sector_df.resample('M').mean()\n"
     ]
    },
    {
     "name": "stdout",
     "output_type": "stream",
     "text": [
      "Sector: ^SP500-50\n",
      "Intercept: -0.0995768270006164\n",
      "Coefficients: [1.04964475]\n",
      "R^2 Score: 0.450446000301451\n",
      "P-Values: \n",
      "[4.36290573e-04 1.47064276e-17]\n",
      "Processing sector: ^SP500-50\n",
      "Sector: ^SP500-50\n",
      "Intercept: -0.0995768270006164\n",
      "Coefficients: [1.04964475]\n",
      "R^2 Score: 0.450446000301451\n",
      "P-Values: \n",
      "[4.36290573e-04 1.47064276e-17]\n",
      "Processing sector: ^SP500-50\n",
      "Sector: ^SP500-50\n",
      "Intercept: -0.0995768270006164\n",
      "Coefficients: [1.04964475]\n",
      "R^2 Score: 0.450446000301451\n",
      "P-Values: \n",
      "[4.36290573e-04 1.47064276e-17]\n",
      "Processing sector: ^SP500-50\n"
     ]
    },
    {
     "name": "stderr",
     "output_type": "stream",
     "text": [
      "[*********************100%***********************]  1 of 1 completed\n",
      "/var/folders/n3/cwx8131570q5ljqcv1f22n6c0000gn/T/ipykernel_47973/2952105492.py:10: FutureWarning: 'M' is deprecated and will be removed in a future version, please use 'ME' instead.\n",
      "  monthly_sector = sector_df.resample('M').mean()\n",
      "[*********************100%***********************]  1 of 1 completed\n",
      "/var/folders/n3/cwx8131570q5ljqcv1f22n6c0000gn/T/ipykernel_47973/2952105492.py:10: FutureWarning: 'M' is deprecated and will be removed in a future version, please use 'ME' instead.\n",
      "  monthly_sector = sector_df.resample('M').mean()\n"
     ]
    },
    {
     "name": "stdout",
     "output_type": "stream",
     "text": [
      "Sector: ^SP500-50\n",
      "Intercept: -0.0995768270006164\n",
      "Coefficients: [1.04964475]\n",
      "R^2 Score: 0.450446000301451\n",
      "P-Values: \n",
      "[4.36290573e-04 1.47064276e-17]\n",
      "Processing sector: ^SP500-50\n",
      "Sector: ^SP500-50\n",
      "Intercept: -0.0995768270006164\n",
      "Coefficients: [1.04964475]\n",
      "R^2 Score: 0.450446000301451\n",
      "P-Values: \n",
      "[4.36290573e-04 1.47064276e-17]\n",
      "Processing sector: ^SP500-2550\n"
     ]
    },
    {
     "name": "stderr",
     "output_type": "stream",
     "text": [
      "[*********************100%***********************]  1 of 1 completed\n",
      "/var/folders/n3/cwx8131570q5ljqcv1f22n6c0000gn/T/ipykernel_47973/2952105492.py:10: FutureWarning: 'M' is deprecated and will be removed in a future version, please use 'ME' instead.\n",
      "  monthly_sector = sector_df.resample('M').mean()\n",
      "[*********************100%***********************]  1 of 1 completed\n",
      "/var/folders/n3/cwx8131570q5ljqcv1f22n6c0000gn/T/ipykernel_47973/2952105492.py:10: FutureWarning: 'M' is deprecated and will be removed in a future version, please use 'ME' instead.\n",
      "  monthly_sector = sector_df.resample('M').mean()\n"
     ]
    },
    {
     "name": "stdout",
     "output_type": "stream",
     "text": [
      "Sector: ^SP500-2550\n",
      "Intercept: 0.09245576654909281\n",
      "Coefficients: [1.19049963]\n",
      "R^2 Score: 0.5375378282091445\n",
      "P-Values: \n",
      "[5.97267095e-04 3.62536057e-22]\n",
      "Processing sector: ^SP500-2550\n",
      "Sector: ^SP500-2550\n",
      "Intercept: 0.09245576654909281\n",
      "Coefficients: [1.19049963]\n",
      "R^2 Score: 0.5375378282091445\n",
      "P-Values: \n",
      "[5.97267095e-04 3.62536057e-22]\n",
      "Processing sector: ^SP500-2550\n"
     ]
    },
    {
     "name": "stderr",
     "output_type": "stream",
     "text": [
      "[*********************100%***********************]  1 of 1 completed\n",
      "/var/folders/n3/cwx8131570q5ljqcv1f22n6c0000gn/T/ipykernel_47973/2952105492.py:10: FutureWarning: 'M' is deprecated and will be removed in a future version, please use 'ME' instead.\n",
      "  monthly_sector = sector_df.resample('M').mean()\n",
      "[*********************100%***********************]  1 of 1 completed\n",
      "/var/folders/n3/cwx8131570q5ljqcv1f22n6c0000gn/T/ipykernel_47973/2952105492.py:10: FutureWarning: 'M' is deprecated and will be removed in a future version, please use 'ME' instead.\n",
      "  monthly_sector = sector_df.resample('M').mean()\n",
      "[*********************100%***********************]  1 of 1 completed\n",
      "/var/folders/n3/cwx8131570q5ljqcv1f22n6c0000gn/T/ipykernel_47973/2952105492.py:10: FutureWarning: 'M' is deprecated and will be removed in a future version, please use 'ME' instead.\n",
      "  monthly_sector = sector_df.resample('M').mean()\n"
     ]
    },
    {
     "name": "stdout",
     "output_type": "stream",
     "text": [
      "Sector: ^SP500-2550\n",
      "Intercept: 0.09245576654909281\n",
      "Coefficients: [1.19049963]\n",
      "R^2 Score: 0.5375378282091445\n",
      "P-Values: \n",
      "[5.97267095e-04 3.62536057e-22]\n",
      "Processing sector: ^SP500-2550\n",
      "Sector: ^SP500-2550\n",
      "Intercept: 0.09245576654909281\n",
      "Coefficients: [1.19049963]\n",
      "R^2 Score: 0.5375378282091445\n",
      "P-Values: \n",
      "[5.97267095e-04 3.62536057e-22]\n",
      "Processing sector: ^SP500-2550\n",
      "Sector: ^SP500-2550\n",
      "Intercept: 0.09245576654909281\n",
      "Coefficients: [1.19049963]\n",
      "R^2 Score: 0.5375378282091445\n",
      "P-Values: \n",
      "[5.97267095e-04 3.62536057e-22]\n",
      "Processing sector: ^SP500-2550\n"
     ]
    },
    {
     "name": "stderr",
     "output_type": "stream",
     "text": [
      "[*********************100%***********************]  1 of 1 completed\n",
      "/var/folders/n3/cwx8131570q5ljqcv1f22n6c0000gn/T/ipykernel_47973/2952105492.py:10: FutureWarning: 'M' is deprecated and will be removed in a future version, please use 'ME' instead.\n",
      "  monthly_sector = sector_df.resample('M').mean()\n",
      "[*********************100%***********************]  1 of 1 completed\n",
      "/var/folders/n3/cwx8131570q5ljqcv1f22n6c0000gn/T/ipykernel_47973/2952105492.py:10: FutureWarning: 'M' is deprecated and will be removed in a future version, please use 'ME' instead.\n",
      "  monthly_sector = sector_df.resample('M').mean()\n",
      "[*********************100%***********************]  1 of 1 completed\n",
      "/var/folders/n3/cwx8131570q5ljqcv1f22n6c0000gn/T/ipykernel_47973/2952105492.py:10: FutureWarning: 'M' is deprecated and will be removed in a future version, please use 'ME' instead.\n",
      "  monthly_sector = sector_df.resample('M').mean()\n"
     ]
    },
    {
     "name": "stdout",
     "output_type": "stream",
     "text": [
      "Sector: ^SP500-2550\n",
      "Intercept: 0.09245576654909281\n",
      "Coefficients: [1.19049963]\n",
      "R^2 Score: 0.5375378282091445\n",
      "P-Values: \n",
      "[5.97267095e-04 3.62536057e-22]\n",
      "Processing sector: ^SP500-2550\n",
      "Sector: ^SP500-2550\n",
      "Intercept: 0.09245576654909281\n",
      "Coefficients: [1.19049963]\n",
      "R^2 Score: 0.5375378282091445\n",
      "P-Values: \n",
      "[5.97267095e-04 3.62536057e-22]\n",
      "Processing sector: ^SP500-2550\n",
      "Sector: ^SP500-2550\n",
      "Intercept: 0.09245576654909281\n",
      "Coefficients: [1.19049963]\n",
      "R^2 Score: 0.5375378282091445\n",
      "P-Values: \n",
      "[5.97267095e-04 3.62536057e-22]\n",
      "Processing sector: ^SP500-2550\n"
     ]
    },
    {
     "name": "stderr",
     "output_type": "stream",
     "text": [
      "[*********************100%***********************]  1 of 1 completed\n",
      "/var/folders/n3/cwx8131570q5ljqcv1f22n6c0000gn/T/ipykernel_47973/2952105492.py:10: FutureWarning: 'M' is deprecated and will be removed in a future version, please use 'ME' instead.\n",
      "  monthly_sector = sector_df.resample('M').mean()\n",
      "[*********************100%***********************]  1 of 1 completed\n",
      "/var/folders/n3/cwx8131570q5ljqcv1f22n6c0000gn/T/ipykernel_47973/2952105492.py:10: FutureWarning: 'M' is deprecated and will be removed in a future version, please use 'ME' instead.\n",
      "  monthly_sector = sector_df.resample('M').mean()\n"
     ]
    },
    {
     "name": "stdout",
     "output_type": "stream",
     "text": [
      "Sector: ^SP500-2550\n",
      "Intercept: 0.09245576654909281\n",
      "Coefficients: [1.19049963]\n",
      "R^2 Score: 0.5375378282091445\n",
      "P-Values: \n",
      "[5.97267095e-04 3.62536057e-22]\n",
      "Processing sector: ^SP500-2550\n",
      "Sector: ^SP500-2550\n",
      "Intercept: 0.09245576654909281\n",
      "Coefficients: [1.19049963]\n",
      "R^2 Score: 0.5375378282091445\n",
      "P-Values: \n",
      "[5.97267095e-04 3.62536057e-22]\n",
      "Processing sector: ^SP500-2550\n"
     ]
    },
    {
     "name": "stderr",
     "output_type": "stream",
     "text": [
      "[*********************100%***********************]  1 of 1 completed\n",
      "/var/folders/n3/cwx8131570q5ljqcv1f22n6c0000gn/T/ipykernel_47973/2952105492.py:10: FutureWarning: 'M' is deprecated and will be removed in a future version, please use 'ME' instead.\n",
      "  monthly_sector = sector_df.resample('M').mean()\n",
      "[*********************100%***********************]  1 of 1 completed\n",
      "/var/folders/n3/cwx8131570q5ljqcv1f22n6c0000gn/T/ipykernel_47973/2952105492.py:10: FutureWarning: 'M' is deprecated and will be removed in a future version, please use 'ME' instead.\n",
      "  monthly_sector = sector_df.resample('M').mean()\n"
     ]
    },
    {
     "name": "stdout",
     "output_type": "stream",
     "text": [
      "Sector: ^SP500-2550\n",
      "Intercept: 0.09245576654909281\n",
      "Coefficients: [1.19049963]\n",
      "R^2 Score: 0.5375378282091445\n",
      "P-Values: \n",
      "[5.97267095e-04 3.62536057e-22]\n",
      "Processing sector: ^SP500-2550\n",
      "Sector: ^SP500-2550\n",
      "Intercept: 0.09245576654909281\n",
      "Coefficients: [1.19049963]\n",
      "R^2 Score: 0.5375378282091445\n",
      "P-Values: \n",
      "[5.97267095e-04 3.62536057e-22]\n",
      "Processing sector: ^SP500-2550\n"
     ]
    },
    {
     "name": "stderr",
     "output_type": "stream",
     "text": [
      "[*********************100%***********************]  1 of 1 completed\n",
      "/var/folders/n3/cwx8131570q5ljqcv1f22n6c0000gn/T/ipykernel_47973/2952105492.py:10: FutureWarning: 'M' is deprecated and will be removed in a future version, please use 'ME' instead.\n",
      "  monthly_sector = sector_df.resample('M').mean()\n",
      "[*********************100%***********************]  1 of 1 completed\n",
      "/var/folders/n3/cwx8131570q5ljqcv1f22n6c0000gn/T/ipykernel_47973/2952105492.py:10: FutureWarning: 'M' is deprecated and will be removed in a future version, please use 'ME' instead.\n",
      "  monthly_sector = sector_df.resample('M').mean()\n",
      "[*********************100%***********************]  1 of 1 completed\n",
      "/var/folders/n3/cwx8131570q5ljqcv1f22n6c0000gn/T/ipykernel_47973/2952105492.py:10: FutureWarning: 'M' is deprecated and will be removed in a future version, please use 'ME' instead.\n",
      "  monthly_sector = sector_df.resample('M').mean()\n"
     ]
    },
    {
     "name": "stdout",
     "output_type": "stream",
     "text": [
      "Sector: ^SP500-2550\n",
      "Intercept: 0.09245576654909281\n",
      "Coefficients: [1.19049963]\n",
      "R^2 Score: 0.5375378282091445\n",
      "P-Values: \n",
      "[5.97267095e-04 3.62536057e-22]\n",
      "Processing sector: ^SP500-2550\n",
      "Sector: ^SP500-2550\n",
      "Intercept: 0.09245576654909281\n",
      "Coefficients: [1.19049963]\n",
      "R^2 Score: 0.5375378282091445\n",
      "P-Values: \n",
      "[5.97267095e-04 3.62536057e-22]\n",
      "Processing sector: ^SP500-2550\n",
      "Sector: ^SP500-2550\n",
      "Intercept: 0.09245576654909281\n",
      "Coefficients: [1.19049963]\n",
      "R^2 Score: 0.5375378282091445\n",
      "P-Values: \n",
      "[5.97267095e-04 3.62536057e-22]\n",
      "Processing sector: ^SP500-2550\n"
     ]
    },
    {
     "name": "stderr",
     "output_type": "stream",
     "text": [
      "[*********************100%***********************]  1 of 1 completed\n",
      "/var/folders/n3/cwx8131570q5ljqcv1f22n6c0000gn/T/ipykernel_47973/2952105492.py:10: FutureWarning: 'M' is deprecated and will be removed in a future version, please use 'ME' instead.\n",
      "  monthly_sector = sector_df.resample('M').mean()\n",
      "[*********************100%***********************]  1 of 1 completed\n",
      "/var/folders/n3/cwx8131570q5ljqcv1f22n6c0000gn/T/ipykernel_47973/2952105492.py:10: FutureWarning: 'M' is deprecated and will be removed in a future version, please use 'ME' instead.\n",
      "  monthly_sector = sector_df.resample('M').mean()\n",
      "[*********************100%***********************]  1 of 1 completed\n",
      "/var/folders/n3/cwx8131570q5ljqcv1f22n6c0000gn/T/ipykernel_47973/2952105492.py:10: FutureWarning: 'M' is deprecated and will be removed in a future version, please use 'ME' instead.\n",
      "  monthly_sector = sector_df.resample('M').mean()\n"
     ]
    },
    {
     "name": "stdout",
     "output_type": "stream",
     "text": [
      "Sector: ^SP500-2550\n",
      "Intercept: 0.09245576654909281\n",
      "Coefficients: [1.19049963]\n",
      "R^2 Score: 0.5375378282091445\n",
      "P-Values: \n",
      "[5.97267095e-04 3.62536057e-22]\n",
      "Processing sector: ^SP500-2550\n",
      "Sector: ^SP500-2550\n",
      "Intercept: 0.09245576654909281\n",
      "Coefficients: [1.19049963]\n",
      "R^2 Score: 0.5375378282091445\n",
      "P-Values: \n",
      "[5.97267095e-04 3.62536057e-22]\n",
      "Processing sector: ^SP500-2550\n"
     ]
    },
    {
     "name": "stderr",
     "output_type": "stream",
     "text": [
      "[*********************100%***********************]  1 of 1 completed\n",
      "/var/folders/n3/cwx8131570q5ljqcv1f22n6c0000gn/T/ipykernel_47973/2952105492.py:10: FutureWarning: 'M' is deprecated and will be removed in a future version, please use 'ME' instead.\n",
      "  monthly_sector = sector_df.resample('M').mean()\n",
      "[*********************100%***********************]  1 of 1 completed\n",
      "/var/folders/n3/cwx8131570q5ljqcv1f22n6c0000gn/T/ipykernel_47973/2952105492.py:10: FutureWarning: 'M' is deprecated and will be removed in a future version, please use 'ME' instead.\n",
      "  monthly_sector = sector_df.resample('M').mean()\n"
     ]
    },
    {
     "name": "stdout",
     "output_type": "stream",
     "text": [
      "Sector: ^SP500-2550\n",
      "Intercept: 0.09245576654909281\n",
      "Coefficients: [1.19049963]\n",
      "R^2 Score: 0.5375378282091445\n",
      "P-Values: \n",
      "[5.97267095e-04 3.62536057e-22]\n",
      "Processing sector: ^SP500-2550\n",
      "Sector: ^SP500-2550\n",
      "Intercept: 0.09245576654909281\n",
      "Coefficients: [1.19049963]\n",
      "R^2 Score: 0.5375378282091445\n",
      "P-Values: \n",
      "[5.97267095e-04 3.62536057e-22]\n",
      "Processing sector: ^SP500-2550\n",
      "Sector: ^SP500-2550\n",
      "Intercept: 0.09245576654909281\n",
      "Coefficients: [1.19049963]\n",
      "R^2 Score: 0.5375378282091445\n",
      "P-Values: \n",
      "[5.97267095e-04 3.62536057e-22]\n",
      "Processing sector: ^SP500-2550\n"
     ]
    },
    {
     "name": "stderr",
     "output_type": "stream",
     "text": [
      "[*********************100%***********************]  1 of 1 completed\n",
      "/var/folders/n3/cwx8131570q5ljqcv1f22n6c0000gn/T/ipykernel_47973/2952105492.py:10: FutureWarning: 'M' is deprecated and will be removed in a future version, please use 'ME' instead.\n",
      "  monthly_sector = sector_df.resample('M').mean()\n"
     ]
    },
    {
     "name": "stdout",
     "output_type": "stream",
     "text": [
      "Sector: ^SP500-2550\n",
      "Intercept: 0.09245576654909281\n",
      "Coefficients: [1.19049963]\n",
      "R^2 Score: 0.5375378282091445\n",
      "P-Values: \n",
      "[5.97267095e-04 3.62536057e-22]\n",
      "Processing sector: ^SP500-2550\n"
     ]
    },
    {
     "name": "stderr",
     "output_type": "stream",
     "text": [
      "[*********************100%***********************]  1 of 1 completed\n",
      "/var/folders/n3/cwx8131570q5ljqcv1f22n6c0000gn/T/ipykernel_47973/2952105492.py:10: FutureWarning: 'M' is deprecated and will be removed in a future version, please use 'ME' instead.\n",
      "  monthly_sector = sector_df.resample('M').mean()\n",
      "[*********************100%***********************]  1 of 1 completed\n",
      "/var/folders/n3/cwx8131570q5ljqcv1f22n6c0000gn/T/ipykernel_47973/2952105492.py:10: FutureWarning: 'M' is deprecated and will be removed in a future version, please use 'ME' instead.\n",
      "  monthly_sector = sector_df.resample('M').mean()\n",
      "[*********************100%***********************]  1 of 1 completed\n",
      "/var/folders/n3/cwx8131570q5ljqcv1f22n6c0000gn/T/ipykernel_47973/2952105492.py:10: FutureWarning: 'M' is deprecated and will be removed in a future version, please use 'ME' instead.\n",
      "  monthly_sector = sector_df.resample('M').mean()\n"
     ]
    },
    {
     "name": "stdout",
     "output_type": "stream",
     "text": [
      "Sector: ^SP500-2550\n",
      "Intercept: 0.09245576654909281\n",
      "Coefficients: [1.19049963]\n",
      "R^2 Score: 0.5375378282091445\n",
      "P-Values: \n",
      "[5.97267095e-04 3.62536057e-22]\n",
      "Processing sector: ^SP500-2550\n",
      "Sector: ^SP500-2550\n",
      "Intercept: 0.09245576654909281\n",
      "Coefficients: [1.19049963]\n",
      "R^2 Score: 0.5375378282091445\n",
      "P-Values: \n",
      "[5.97267095e-04 3.62536057e-22]\n",
      "Processing sector: ^SP500-2550\n",
      "Sector: ^SP500-2550\n",
      "Intercept: 0.09245576654909281\n",
      "Coefficients: [1.19049963]\n",
      "R^2 Score: 0.5375378282091445\n",
      "P-Values: \n",
      "[5.97267095e-04 3.62536057e-22]\n",
      "Processing sector: ^SP500-2550\n"
     ]
    },
    {
     "name": "stderr",
     "output_type": "stream",
     "text": [
      "[*********************100%***********************]  1 of 1 completed\n",
      "/var/folders/n3/cwx8131570q5ljqcv1f22n6c0000gn/T/ipykernel_47973/2952105492.py:10: FutureWarning: 'M' is deprecated and will be removed in a future version, please use 'ME' instead.\n",
      "  monthly_sector = sector_df.resample('M').mean()\n",
      "[*********************100%***********************]  1 of 1 completed\n",
      "/var/folders/n3/cwx8131570q5ljqcv1f22n6c0000gn/T/ipykernel_47973/2952105492.py:10: FutureWarning: 'M' is deprecated and will be removed in a future version, please use 'ME' instead.\n",
      "  monthly_sector = sector_df.resample('M').mean()\n",
      "[*********************100%***********************]  1 of 1 completed\n",
      "/var/folders/n3/cwx8131570q5ljqcv1f22n6c0000gn/T/ipykernel_47973/2952105492.py:10: FutureWarning: 'M' is deprecated and will be removed in a future version, please use 'ME' instead.\n",
      "  monthly_sector = sector_df.resample('M').mean()\n"
     ]
    },
    {
     "name": "stdout",
     "output_type": "stream",
     "text": [
      "Sector: ^SP500-2550\n",
      "Intercept: 0.09245576654909281\n",
      "Coefficients: [1.19049963]\n",
      "R^2 Score: 0.5375378282091445\n",
      "P-Values: \n",
      "[5.97267095e-04 3.62536057e-22]\n",
      "Processing sector: ^SP500-2550\n",
      "Sector: ^SP500-2550\n",
      "Intercept: 0.09245576654909281\n",
      "Coefficients: [1.19049963]\n",
      "R^2 Score: 0.5375378282091445\n",
      "P-Values: \n",
      "[5.97267095e-04 3.62536057e-22]\n",
      "Processing sector: ^SP500-2550\n",
      "Sector: ^SP500-2550\n",
      "Intercept: 0.09245576654909281\n",
      "Coefficients: [1.19049963]\n",
      "R^2 Score: 0.5375378282091445\n",
      "P-Values: \n",
      "[5.97267095e-04 3.62536057e-22]\n",
      "Processing sector: ^SP500-2550\n"
     ]
    },
    {
     "name": "stderr",
     "output_type": "stream",
     "text": [
      "[*********************100%***********************]  1 of 1 completed\n",
      "/var/folders/n3/cwx8131570q5ljqcv1f22n6c0000gn/T/ipykernel_47973/2952105492.py:10: FutureWarning: 'M' is deprecated and will be removed in a future version, please use 'ME' instead.\n",
      "  monthly_sector = sector_df.resample('M').mean()\n",
      "[*********************100%***********************]  1 of 1 completed\n",
      "/var/folders/n3/cwx8131570q5ljqcv1f22n6c0000gn/T/ipykernel_47973/2952105492.py:10: FutureWarning: 'M' is deprecated and will be removed in a future version, please use 'ME' instead.\n",
      "  monthly_sector = sector_df.resample('M').mean()\n",
      "[*********************100%***********************]  1 of 1 completed\n",
      "/var/folders/n3/cwx8131570q5ljqcv1f22n6c0000gn/T/ipykernel_47973/2952105492.py:10: FutureWarning: 'M' is deprecated and will be removed in a future version, please use 'ME' instead.\n",
      "  monthly_sector = sector_df.resample('M').mean()\n"
     ]
    },
    {
     "name": "stdout",
     "output_type": "stream",
     "text": [
      "Sector: ^SP500-2550\n",
      "Intercept: 0.09245576654909281\n",
      "Coefficients: [1.19049963]\n",
      "R^2 Score: 0.5375378282091445\n",
      "P-Values: \n",
      "[5.97267095e-04 3.62536057e-22]\n",
      "Processing sector: ^SP500-2550\n",
      "Sector: ^SP500-2550\n",
      "Intercept: 0.09245576654909281\n",
      "Coefficients: [1.19049963]\n",
      "R^2 Score: 0.5375378282091445\n",
      "P-Values: \n",
      "[5.97267095e-04 3.62536057e-22]\n",
      "Processing sector: ^SP500-2550\n",
      "Sector: ^SP500-2550\n",
      "Intercept: 0.09245576654909281\n",
      "Coefficients: [1.19049963]\n",
      "R^2 Score: 0.5375378282091445\n",
      "P-Values: \n",
      "[5.97267095e-04 3.62536057e-22]\n",
      "Processing sector: ^SP500-2550\n"
     ]
    },
    {
     "name": "stderr",
     "output_type": "stream",
     "text": [
      "[*********************100%***********************]  1 of 1 completed\n",
      "/var/folders/n3/cwx8131570q5ljqcv1f22n6c0000gn/T/ipykernel_47973/2952105492.py:10: FutureWarning: 'M' is deprecated and will be removed in a future version, please use 'ME' instead.\n",
      "  monthly_sector = sector_df.resample('M').mean()\n"
     ]
    },
    {
     "name": "stdout",
     "output_type": "stream",
     "text": [
      "Sector: ^SP500-2550\n",
      "Intercept: 0.09245576654909281\n",
      "Coefficients: [1.19049963]\n",
      "R^2 Score: 0.5375378282091445\n",
      "P-Values: \n",
      "[5.97267095e-04 3.62536057e-22]\n",
      "Processing sector: ^SP500-2550\n"
     ]
    },
    {
     "name": "stderr",
     "output_type": "stream",
     "text": [
      "[*********************100%***********************]  1 of 1 completed\n",
      "/var/folders/n3/cwx8131570q5ljqcv1f22n6c0000gn/T/ipykernel_47973/2952105492.py:10: FutureWarning: 'M' is deprecated and will be removed in a future version, please use 'ME' instead.\n",
      "  monthly_sector = sector_df.resample('M').mean()\n",
      "[*********************100%***********************]  1 of 1 completed\n",
      "/var/folders/n3/cwx8131570q5ljqcv1f22n6c0000gn/T/ipykernel_47973/2952105492.py:10: FutureWarning: 'M' is deprecated and will be removed in a future version, please use 'ME' instead.\n",
      "  monthly_sector = sector_df.resample('M').mean()\n",
      "[*********************100%***********************]  1 of 1 completed\n",
      "/var/folders/n3/cwx8131570q5ljqcv1f22n6c0000gn/T/ipykernel_47973/2952105492.py:10: FutureWarning: 'M' is deprecated and will be removed in a future version, please use 'ME' instead.\n",
      "  monthly_sector = sector_df.resample('M').mean()\n"
     ]
    },
    {
     "name": "stdout",
     "output_type": "stream",
     "text": [
      "Sector: ^SP500-2550\n",
      "Intercept: 0.09245576654909281\n",
      "Coefficients: [1.19049963]\n",
      "R^2 Score: 0.5375378282091445\n",
      "P-Values: \n",
      "[5.97267095e-04 3.62536057e-22]\n",
      "Processing sector: ^SP500-2550\n",
      "Sector: ^SP500-2550\n",
      "Intercept: 0.09245576654909281\n",
      "Coefficients: [1.19049963]\n",
      "R^2 Score: 0.5375378282091445\n",
      "P-Values: \n",
      "[5.97267095e-04 3.62536057e-22]\n",
      "Processing sector: ^SP500-2550\n",
      "Sector: ^SP500-2550\n",
      "Intercept: 0.09245576654909281\n",
      "Coefficients: [1.19049963]\n",
      "R^2 Score: 0.5375378282091445\n",
      "P-Values: \n",
      "[5.97267095e-04 3.62536057e-22]\n",
      "Processing sector: ^SP500-2550\n"
     ]
    },
    {
     "name": "stderr",
     "output_type": "stream",
     "text": [
      "[*********************100%***********************]  1 of 1 completed\n",
      "/var/folders/n3/cwx8131570q5ljqcv1f22n6c0000gn/T/ipykernel_47973/2952105492.py:10: FutureWarning: 'M' is deprecated and will be removed in a future version, please use 'ME' instead.\n",
      "  monthly_sector = sector_df.resample('M').mean()\n",
      "[*********************100%***********************]  1 of 1 completed\n",
      "/var/folders/n3/cwx8131570q5ljqcv1f22n6c0000gn/T/ipykernel_47973/2952105492.py:10: FutureWarning: 'M' is deprecated and will be removed in a future version, please use 'ME' instead.\n",
      "  monthly_sector = sector_df.resample('M').mean()\n"
     ]
    },
    {
     "name": "stdout",
     "output_type": "stream",
     "text": [
      "Sector: ^SP500-2550\n",
      "Intercept: 0.09245576654909281\n",
      "Coefficients: [1.19049963]\n",
      "R^2 Score: 0.5375378282091445\n",
      "P-Values: \n",
      "[5.97267095e-04 3.62536057e-22]\n",
      "Processing sector: ^SP500-2550\n",
      "Sector: ^SP500-2550\n",
      "Intercept: 0.09245576654909281\n",
      "Coefficients: [1.19049963]\n",
      "R^2 Score: 0.5375378282091445\n",
      "P-Values: \n",
      "[5.97267095e-04 3.62536057e-22]\n",
      "Processing sector: ^SP500-2550\n"
     ]
    },
    {
     "name": "stderr",
     "output_type": "stream",
     "text": [
      "[*********************100%***********************]  1 of 1 completed\n",
      "/var/folders/n3/cwx8131570q5ljqcv1f22n6c0000gn/T/ipykernel_47973/2952105492.py:10: FutureWarning: 'M' is deprecated and will be removed in a future version, please use 'ME' instead.\n",
      "  monthly_sector = sector_df.resample('M').mean()\n",
      "[*********************100%***********************]  1 of 1 completed\n",
      "/var/folders/n3/cwx8131570q5ljqcv1f22n6c0000gn/T/ipykernel_47973/2952105492.py:10: FutureWarning: 'M' is deprecated and will be removed in a future version, please use 'ME' instead.\n",
      "  monthly_sector = sector_df.resample('M').mean()\n",
      "[*********************100%***********************]  1 of 1 completed"
     ]
    },
    {
     "name": "stdout",
     "output_type": "stream",
     "text": [
      "Sector: ^SP500-2550\n",
      "Intercept: 0.09245576654909281\n",
      "Coefficients: [1.19049963]\n",
      "R^2 Score: 0.5375378282091445\n",
      "P-Values: \n",
      "[5.97267095e-04 3.62536057e-22]\n",
      "Processing sector: ^SP500-2550\n",
      "Sector: ^SP500-2550\n",
      "Intercept: 0.09245576654909281\n",
      "Coefficients: [1.19049963]\n",
      "R^2 Score: 0.5375378282091445\n",
      "P-Values: \n",
      "[5.97267095e-04 3.62536057e-22]\n",
      "Processing sector: ^SP500-2550\n"
     ]
    },
    {
     "name": "stderr",
     "output_type": "stream",
     "text": [
      "\n",
      "/var/folders/n3/cwx8131570q5ljqcv1f22n6c0000gn/T/ipykernel_47973/2952105492.py:10: FutureWarning: 'M' is deprecated and will be removed in a future version, please use 'ME' instead.\n",
      "  monthly_sector = sector_df.resample('M').mean()\n",
      "[*********************100%***********************]  1 of 1 completed\n",
      "/var/folders/n3/cwx8131570q5ljqcv1f22n6c0000gn/T/ipykernel_47973/2952105492.py:10: FutureWarning: 'M' is deprecated and will be removed in a future version, please use 'ME' instead.\n",
      "  monthly_sector = sector_df.resample('M').mean()\n"
     ]
    },
    {
     "name": "stdout",
     "output_type": "stream",
     "text": [
      "Sector: ^SP500-2550\n",
      "Intercept: 0.09245576654909281\n",
      "Coefficients: [1.19049963]\n",
      "R^2 Score: 0.5375378282091445\n",
      "P-Values: \n",
      "[5.97267095e-04 3.62536057e-22]\n",
      "Processing sector: ^SP500-2550\n",
      "Sector: ^SP500-2550\n",
      "Intercept: 0.09245576654909281\n",
      "Coefficients: [1.19049963]\n",
      "R^2 Score: 0.5375378282091445\n",
      "P-Values: \n",
      "[5.97267095e-04 3.62536057e-22]\n",
      "Processing sector: ^SP500-2550\n"
     ]
    },
    {
     "name": "stderr",
     "output_type": "stream",
     "text": [
      "[*********************100%***********************]  1 of 1 completed\n",
      "/var/folders/n3/cwx8131570q5ljqcv1f22n6c0000gn/T/ipykernel_47973/2952105492.py:10: FutureWarning: 'M' is deprecated and will be removed in a future version, please use 'ME' instead.\n",
      "  monthly_sector = sector_df.resample('M').mean()\n",
      "[*********************100%***********************]  1 of 1 completed\n",
      "/var/folders/n3/cwx8131570q5ljqcv1f22n6c0000gn/T/ipykernel_47973/2952105492.py:10: FutureWarning: 'M' is deprecated and will be removed in a future version, please use 'ME' instead.\n",
      "  monthly_sector = sector_df.resample('M').mean()\n",
      "[*********************100%***********************]  1 of 1 completed\n",
      "/var/folders/n3/cwx8131570q5ljqcv1f22n6c0000gn/T/ipykernel_47973/2952105492.py:10: FutureWarning: 'M' is deprecated and will be removed in a future version, please use 'ME' instead.\n",
      "  monthly_sector = sector_df.resample('M').mean()\n"
     ]
    },
    {
     "name": "stdout",
     "output_type": "stream",
     "text": [
      "Sector: ^SP500-2550\n",
      "Intercept: 0.09245576654909281\n",
      "Coefficients: [1.19049963]\n",
      "R^2 Score: 0.5375378282091445\n",
      "P-Values: \n",
      "[5.97267095e-04 3.62536057e-22]\n",
      "Processing sector: ^SP500-2550\n",
      "Sector: ^SP500-2550\n",
      "Intercept: 0.09245576654909281\n",
      "Coefficients: [1.19049963]\n",
      "R^2 Score: 0.5375378282091445\n",
      "P-Values: \n",
      "[5.97267095e-04 3.62536057e-22]\n",
      "Processing sector: ^SP500-2550\n",
      "Sector: ^SP500-2550\n",
      "Intercept: 0.09245576654909281\n",
      "Coefficients: [1.19049963]\n",
      "R^2 Score: 0.5375378282091445\n",
      "P-Values: \n",
      "[5.97267095e-04 3.62536057e-22]\n",
      "Processing sector: ^SP500-2550\n"
     ]
    },
    {
     "name": "stderr",
     "output_type": "stream",
     "text": [
      "[*********************100%***********************]  1 of 1 completed\n",
      "/var/folders/n3/cwx8131570q5ljqcv1f22n6c0000gn/T/ipykernel_47973/2952105492.py:10: FutureWarning: 'M' is deprecated and will be removed in a future version, please use 'ME' instead.\n",
      "  monthly_sector = sector_df.resample('M').mean()\n",
      "[*********************100%***********************]  1 of 1 completed\n",
      "/var/folders/n3/cwx8131570q5ljqcv1f22n6c0000gn/T/ipykernel_47973/2952105492.py:10: FutureWarning: 'M' is deprecated and will be removed in a future version, please use 'ME' instead.\n",
      "  monthly_sector = sector_df.resample('M').mean()\n",
      "[*********************100%***********************]  1 of 1 completed\n",
      "/var/folders/n3/cwx8131570q5ljqcv1f22n6c0000gn/T/ipykernel_47973/2952105492.py:10: FutureWarning: 'M' is deprecated and will be removed in a future version, please use 'ME' instead.\n",
      "  monthly_sector = sector_df.resample('M').mean()\n"
     ]
    },
    {
     "name": "stdout",
     "output_type": "stream",
     "text": [
      "Sector: ^SP500-2550\n",
      "Intercept: 0.09245576654909281\n",
      "Coefficients: [1.19049963]\n",
      "R^2 Score: 0.5375378282091445\n",
      "P-Values: \n",
      "[5.97267095e-04 3.62536057e-22]\n",
      "Processing sector: ^SP500-2550\n",
      "Sector: ^SP500-2550\n",
      "Intercept: 0.09245576654909281\n",
      "Coefficients: [1.19049963]\n",
      "R^2 Score: 0.5375378282091445\n",
      "P-Values: \n",
      "[5.97267095e-04 3.62536057e-22]\n",
      "Processing sector: ^SP500-2550\n",
      "Sector: ^SP500-2550\n",
      "Intercept: 0.09245576654909281\n",
      "Coefficients: [1.19049963]\n",
      "R^2 Score: 0.5375378282091445\n",
      "P-Values: \n",
      "[5.97267095e-04 3.62536057e-22]\n",
      "Processing sector: ^SP500-2550\n"
     ]
    },
    {
     "name": "stderr",
     "output_type": "stream",
     "text": [
      "[*********************100%***********************]  1 of 1 completed\n",
      "/var/folders/n3/cwx8131570q5ljqcv1f22n6c0000gn/T/ipykernel_47973/2952105492.py:10: FutureWarning: 'M' is deprecated and will be removed in a future version, please use 'ME' instead.\n",
      "  monthly_sector = sector_df.resample('M').mean()\n",
      "[*********************100%***********************]  1 of 1 completed\n",
      "/var/folders/n3/cwx8131570q5ljqcv1f22n6c0000gn/T/ipykernel_47973/2952105492.py:10: FutureWarning: 'M' is deprecated and will be removed in a future version, please use 'ME' instead.\n",
      "  monthly_sector = sector_df.resample('M').mean()\n",
      "[*********************100%***********************]  1 of 1 completed\n",
      "/var/folders/n3/cwx8131570q5ljqcv1f22n6c0000gn/T/ipykernel_47973/2952105492.py:10: FutureWarning: 'M' is deprecated and will be removed in a future version, please use 'ME' instead.\n",
      "  monthly_sector = sector_df.resample('M').mean()\n"
     ]
    },
    {
     "name": "stdout",
     "output_type": "stream",
     "text": [
      "Sector: ^SP500-2550\n",
      "Intercept: 0.09245576654909281\n",
      "Coefficients: [1.19049963]\n",
      "R^2 Score: 0.5375378282091445\n",
      "P-Values: \n",
      "[5.97267095e-04 3.62536057e-22]\n",
      "Processing sector: ^SP500-2550\n",
      "Sector: ^SP500-2550\n",
      "Intercept: 0.09245576654909281\n",
      "Coefficients: [1.19049963]\n",
      "R^2 Score: 0.5375378282091445\n",
      "P-Values: \n",
      "[5.97267095e-04 3.62536057e-22]\n",
      "Processing sector: ^SP500-2550\n",
      "Sector: ^SP500-2550\n",
      "Intercept: 0.09245576654909281\n",
      "Coefficients: [1.19049963]\n",
      "R^2 Score: 0.5375378282091445\n",
      "P-Values: \n",
      "[5.97267095e-04 3.62536057e-22]\n",
      "Processing sector: ^SP500-2550\n"
     ]
    },
    {
     "name": "stderr",
     "output_type": "stream",
     "text": [
      "[*********************100%***********************]  1 of 1 completed\n",
      "/var/folders/n3/cwx8131570q5ljqcv1f22n6c0000gn/T/ipykernel_47973/2952105492.py:10: FutureWarning: 'M' is deprecated and will be removed in a future version, please use 'ME' instead.\n",
      "  monthly_sector = sector_df.resample('M').mean()\n",
      "[*********************100%***********************]  1 of 1 completed\n",
      "/var/folders/n3/cwx8131570q5ljqcv1f22n6c0000gn/T/ipykernel_47973/2952105492.py:10: FutureWarning: 'M' is deprecated and will be removed in a future version, please use 'ME' instead.\n",
      "  monthly_sector = sector_df.resample('M').mean()\n",
      "[*********************100%***********************]  1 of 1 completed\n",
      "/var/folders/n3/cwx8131570q5ljqcv1f22n6c0000gn/T/ipykernel_47973/2952105492.py:10: FutureWarning: 'M' is deprecated and will be removed in a future version, please use 'ME' instead.\n",
      "  monthly_sector = sector_df.resample('M').mean()\n"
     ]
    },
    {
     "name": "stdout",
     "output_type": "stream",
     "text": [
      "Sector: ^SP500-2550\n",
      "Intercept: 0.09245576654909281\n",
      "Coefficients: [1.19049963]\n",
      "R^2 Score: 0.5375378282091445\n",
      "P-Values: \n",
      "[5.97267095e-04 3.62536057e-22]\n",
      "Processing sector: ^SP500-2550\n",
      "Sector: ^SP500-2550\n",
      "Intercept: 0.09245576654909281\n",
      "Coefficients: [1.19049963]\n",
      "R^2 Score: 0.5375378282091445\n",
      "P-Values: \n",
      "[5.97267095e-04 3.62536057e-22]\n",
      "Processing sector: ^SP500-2550\n",
      "Sector: ^SP500-2550\n",
      "Intercept: 0.09245576654909281\n",
      "Coefficients: [1.19049963]\n",
      "R^2 Score: 0.5375378282091445\n",
      "P-Values: \n",
      "[5.97267095e-04 3.62536057e-22]\n",
      "Processing sector: ^SP500-3010\n"
     ]
    },
    {
     "name": "stderr",
     "output_type": "stream",
     "text": [
      "[*********************100%***********************]  1 of 1 completed\n",
      "/var/folders/n3/cwx8131570q5ljqcv1f22n6c0000gn/T/ipykernel_47973/2952105492.py:10: FutureWarning: 'M' is deprecated and will be removed in a future version, please use 'ME' instead.\n",
      "  monthly_sector = sector_df.resample('M').mean()\n",
      "[*********************100%***********************]  1 of 1 completed\n",
      "/var/folders/n3/cwx8131570q5ljqcv1f22n6c0000gn/T/ipykernel_47973/2952105492.py:10: FutureWarning: 'M' is deprecated and will be removed in a future version, please use 'ME' instead.\n",
      "  monthly_sector = sector_df.resample('M').mean()\n",
      "[*********************100%***********************]  1 of 1 completed\n",
      "/var/folders/n3/cwx8131570q5ljqcv1f22n6c0000gn/T/ipykernel_47973/2952105492.py:10: FutureWarning: 'M' is deprecated and will be removed in a future version, please use 'ME' instead.\n",
      "  monthly_sector = sector_df.resample('M').mean()\n"
     ]
    },
    {
     "name": "stdout",
     "output_type": "stream",
     "text": [
      "Sector: ^SP500-3010\n",
      "Intercept: 0.060162388366182554\n",
      "Coefficients: [0.65801678]\n",
      "R^2 Score: 0.4539556430326337\n",
      "P-Values: \n",
      "[6.29352524e-04 9.91173840e-18]\n",
      "Processing sector: ^SP500-3010\n",
      "Sector: ^SP500-3010\n",
      "Intercept: 0.060162388366182554\n",
      "Coefficients: [0.65801678]\n",
      "R^2 Score: 0.4539556430326337\n",
      "P-Values: \n",
      "[6.29352524e-04 9.91173840e-18]\n",
      "Processing sector: ^SP500-3010\n",
      "Sector: ^SP500-3010\n",
      "Intercept: 0.060162388366182554\n",
      "Coefficients: [0.65801678]\n",
      "R^2 Score: 0.4539556430326337\n",
      "P-Values: \n",
      "[6.29352524e-04 9.91173840e-18]\n",
      "Processing sector: ^SP500-3010\n"
     ]
    },
    {
     "name": "stderr",
     "output_type": "stream",
     "text": [
      "[*********************100%***********************]  1 of 1 completed\n",
      "/var/folders/n3/cwx8131570q5ljqcv1f22n6c0000gn/T/ipykernel_47973/2952105492.py:10: FutureWarning: 'M' is deprecated and will be removed in a future version, please use 'ME' instead.\n",
      "  monthly_sector = sector_df.resample('M').mean()\n",
      "[*********************100%***********************]  1 of 1 completed\n",
      "/var/folders/n3/cwx8131570q5ljqcv1f22n6c0000gn/T/ipykernel_47973/2952105492.py:10: FutureWarning: 'M' is deprecated and will be removed in a future version, please use 'ME' instead.\n",
      "  monthly_sector = sector_df.resample('M').mean()\n",
      "[*********************100%***********************]  1 of 1 completed\n",
      "/var/folders/n3/cwx8131570q5ljqcv1f22n6c0000gn/T/ipykernel_47973/2952105492.py:10: FutureWarning: 'M' is deprecated and will be removed in a future version, please use 'ME' instead.\n",
      "  monthly_sector = sector_df.resample('M').mean()\n"
     ]
    },
    {
     "name": "stdout",
     "output_type": "stream",
     "text": [
      "Sector: ^SP500-3010\n",
      "Intercept: 0.060162388366182554\n",
      "Coefficients: [0.65801678]\n",
      "R^2 Score: 0.4539556430326337\n",
      "P-Values: \n",
      "[6.29352524e-04 9.91173840e-18]\n",
      "Processing sector: ^SP500-3010\n",
      "Sector: ^SP500-3010\n",
      "Intercept: 0.060162388366182554\n",
      "Coefficients: [0.65801678]\n",
      "R^2 Score: 0.4539556430326337\n",
      "P-Values: \n",
      "[6.29352524e-04 9.91173840e-18]\n",
      "Processing sector: ^SP500-3010\n",
      "Sector: ^SP500-3010\n",
      "Intercept: 0.060162388366182554\n",
      "Coefficients: [0.65801678]\n",
      "R^2 Score: 0.4539556430326337\n",
      "P-Values: \n",
      "[6.29352524e-04 9.91173840e-18]\n",
      "Processing sector: ^SP500-3010\n"
     ]
    },
    {
     "name": "stderr",
     "output_type": "stream",
     "text": [
      "[*********************100%***********************]  1 of 1 completed\n",
      "/var/folders/n3/cwx8131570q5ljqcv1f22n6c0000gn/T/ipykernel_47973/2952105492.py:10: FutureWarning: 'M' is deprecated and will be removed in a future version, please use 'ME' instead.\n",
      "  monthly_sector = sector_df.resample('M').mean()\n",
      "[*********************100%***********************]  1 of 1 completed\n",
      "/var/folders/n3/cwx8131570q5ljqcv1f22n6c0000gn/T/ipykernel_47973/2952105492.py:10: FutureWarning: 'M' is deprecated and will be removed in a future version, please use 'ME' instead.\n",
      "  monthly_sector = sector_df.resample('M').mean()\n",
      "[*********************100%***********************]  1 of 1 completed\n",
      "/var/folders/n3/cwx8131570q5ljqcv1f22n6c0000gn/T/ipykernel_47973/2952105492.py:10: FutureWarning: 'M' is deprecated and will be removed in a future version, please use 'ME' instead.\n",
      "  monthly_sector = sector_df.resample('M').mean()\n"
     ]
    },
    {
     "name": "stdout",
     "output_type": "stream",
     "text": [
      "Sector: ^SP500-3010\n",
      "Intercept: 0.060162388366182554\n",
      "Coefficients: [0.65801678]\n",
      "R^2 Score: 0.4539556430326337\n",
      "P-Values: \n",
      "[6.29352524e-04 9.91173840e-18]\n",
      "Processing sector: ^SP500-3010\n",
      "Sector: ^SP500-3010\n",
      "Intercept: 0.060162388366182554\n",
      "Coefficients: [0.65801678]\n",
      "R^2 Score: 0.4539556430326337\n",
      "P-Values: \n",
      "[6.29352524e-04 9.91173840e-18]\n",
      "Processing sector: ^SP500-3010\n",
      "Sector: ^SP500-3010\n",
      "Intercept: 0.060162388366182554\n",
      "Coefficients: [0.65801678]\n",
      "R^2 Score: 0.4539556430326337\n",
      "P-Values: \n",
      "[6.29352524e-04 9.91173840e-18]\n",
      "Processing sector: ^SP500-3010\n"
     ]
    },
    {
     "name": "stderr",
     "output_type": "stream",
     "text": [
      "[*********************100%***********************]  1 of 1 completed\n",
      "/var/folders/n3/cwx8131570q5ljqcv1f22n6c0000gn/T/ipykernel_47973/2952105492.py:10: FutureWarning: 'M' is deprecated and will be removed in a future version, please use 'ME' instead.\n",
      "  monthly_sector = sector_df.resample('M').mean()\n",
      "[*********************100%***********************]  1 of 1 completed\n",
      "/var/folders/n3/cwx8131570q5ljqcv1f22n6c0000gn/T/ipykernel_47973/2952105492.py:10: FutureWarning: 'M' is deprecated and will be removed in a future version, please use 'ME' instead.\n",
      "  monthly_sector = sector_df.resample('M').mean()\n",
      "[*********************100%***********************]  1 of 1 completed\n",
      "/var/folders/n3/cwx8131570q5ljqcv1f22n6c0000gn/T/ipykernel_47973/2952105492.py:10: FutureWarning: 'M' is deprecated and will be removed in a future version, please use 'ME' instead.\n",
      "  monthly_sector = sector_df.resample('M').mean()\n"
     ]
    },
    {
     "name": "stdout",
     "output_type": "stream",
     "text": [
      "Sector: ^SP500-3010\n",
      "Intercept: 0.060162388366182554\n",
      "Coefficients: [0.65801678]\n",
      "R^2 Score: 0.4539556430326337\n",
      "P-Values: \n",
      "[6.29352524e-04 9.91173840e-18]\n",
      "Processing sector: ^SP500-3010\n",
      "Sector: ^SP500-3010\n",
      "Intercept: 0.060162388366182554\n",
      "Coefficients: [0.65801678]\n",
      "R^2 Score: 0.4539556430326337\n",
      "P-Values: \n",
      "[6.29352524e-04 9.91173840e-18]\n",
      "Processing sector: ^SP500-3010\n",
      "Sector: ^SP500-3010\n",
      "Intercept: 0.060162388366182554\n",
      "Coefficients: [0.65801678]\n",
      "R^2 Score: 0.4539556430326337\n",
      "P-Values: \n",
      "[6.29352524e-04 9.91173840e-18]\n",
      "Processing sector: ^SP500-3010\n"
     ]
    },
    {
     "name": "stderr",
     "output_type": "stream",
     "text": [
      "[*********************100%***********************]  1 of 1 completed\n",
      "/var/folders/n3/cwx8131570q5ljqcv1f22n6c0000gn/T/ipykernel_47973/2952105492.py:10: FutureWarning: 'M' is deprecated and will be removed in a future version, please use 'ME' instead.\n",
      "  monthly_sector = sector_df.resample('M').mean()\n",
      "[*********************100%***********************]  1 of 1 completed\n",
      "/var/folders/n3/cwx8131570q5ljqcv1f22n6c0000gn/T/ipykernel_47973/2952105492.py:10: FutureWarning: 'M' is deprecated and will be removed in a future version, please use 'ME' instead.\n",
      "  monthly_sector = sector_df.resample('M').mean()\n",
      "[*********************100%***********************]  1 of 1 completed\n",
      "/var/folders/n3/cwx8131570q5ljqcv1f22n6c0000gn/T/ipykernel_47973/2952105492.py:10: FutureWarning: 'M' is deprecated and will be removed in a future version, please use 'ME' instead.\n",
      "  monthly_sector = sector_df.resample('M').mean()\n"
     ]
    },
    {
     "name": "stdout",
     "output_type": "stream",
     "text": [
      "Sector: ^SP500-3010\n",
      "Intercept: 0.060162388366182554\n",
      "Coefficients: [0.65801678]\n",
      "R^2 Score: 0.4539556430326337\n",
      "P-Values: \n",
      "[6.29352524e-04 9.91173840e-18]\n",
      "Processing sector: ^SP500-3010\n",
      "Sector: ^SP500-3010\n",
      "Intercept: 0.060162388366182554\n",
      "Coefficients: [0.65801678]\n",
      "R^2 Score: 0.4539556430326337\n",
      "P-Values: \n",
      "[6.29352524e-04 9.91173840e-18]\n",
      "Processing sector: ^SP500-3010\n",
      "Sector: ^SP500-3010\n",
      "Intercept: 0.060162388366182554\n",
      "Coefficients: [0.65801678]\n",
      "R^2 Score: 0.4539556430326337\n",
      "P-Values: \n",
      "[6.29352524e-04 9.91173840e-18]\n",
      "Processing sector: ^SP500-3010\n"
     ]
    },
    {
     "name": "stderr",
     "output_type": "stream",
     "text": [
      "[*********************100%***********************]  1 of 1 completed\n",
      "/var/folders/n3/cwx8131570q5ljqcv1f22n6c0000gn/T/ipykernel_47973/2952105492.py:10: FutureWarning: 'M' is deprecated and will be removed in a future version, please use 'ME' instead.\n",
      "  monthly_sector = sector_df.resample('M').mean()\n",
      "[*********************100%***********************]  1 of 1 completed\n",
      "/var/folders/n3/cwx8131570q5ljqcv1f22n6c0000gn/T/ipykernel_47973/2952105492.py:10: FutureWarning: 'M' is deprecated and will be removed in a future version, please use 'ME' instead.\n",
      "  monthly_sector = sector_df.resample('M').mean()\n"
     ]
    },
    {
     "name": "stdout",
     "output_type": "stream",
     "text": [
      "Sector: ^SP500-3010\n",
      "Intercept: 0.060162388366182554\n",
      "Coefficients: [0.65801678]\n",
      "R^2 Score: 0.4539556430326337\n",
      "P-Values: \n",
      "[6.29352524e-04 9.91173840e-18]\n",
      "Processing sector: ^SP500-3010\n",
      "Sector: ^SP500-3010\n",
      "Intercept: 0.060162388366182554\n",
      "Coefficients: [0.65801678]\n",
      "R^2 Score: 0.4539556430326337\n",
      "P-Values: \n",
      "[6.29352524e-04 9.91173840e-18]\n",
      "Processing sector: ^SP500-3010\n"
     ]
    },
    {
     "name": "stderr",
     "output_type": "stream",
     "text": [
      "[*********************100%***********************]  1 of 1 completed\n",
      "/var/folders/n3/cwx8131570q5ljqcv1f22n6c0000gn/T/ipykernel_47973/2952105492.py:10: FutureWarning: 'M' is deprecated and will be removed in a future version, please use 'ME' instead.\n",
      "  monthly_sector = sector_df.resample('M').mean()\n"
     ]
    },
    {
     "name": "stdout",
     "output_type": "stream",
     "text": [
      "Sector: ^SP500-3010\n",
      "Intercept: 0.060162388366182554\n",
      "Coefficients: [0.65801678]\n",
      "R^2 Score: 0.4539556430326337\n",
      "P-Values: \n",
      "[6.29352524e-04 9.91173840e-18]\n",
      "Processing sector: ^SP500-3010\n"
     ]
    },
    {
     "name": "stderr",
     "output_type": "stream",
     "text": [
      "[*********************100%***********************]  1 of 1 completed\n",
      "/var/folders/n3/cwx8131570q5ljqcv1f22n6c0000gn/T/ipykernel_47973/2952105492.py:10: FutureWarning: 'M' is deprecated and will be removed in a future version, please use 'ME' instead.\n",
      "  monthly_sector = sector_df.resample('M').mean()\n",
      "[*********************100%***********************]  1 of 1 completed\n",
      "/var/folders/n3/cwx8131570q5ljqcv1f22n6c0000gn/T/ipykernel_47973/2952105492.py:10: FutureWarning: 'M' is deprecated and will be removed in a future version, please use 'ME' instead.\n",
      "  monthly_sector = sector_df.resample('M').mean()\n",
      "[*********************100%***********************]  1 of 1 completed\n",
      "/var/folders/n3/cwx8131570q5ljqcv1f22n6c0000gn/T/ipykernel_47973/2952105492.py:10: FutureWarning: 'M' is deprecated and will be removed in a future version, please use 'ME' instead.\n",
      "  monthly_sector = sector_df.resample('M').mean()\n"
     ]
    },
    {
     "name": "stdout",
     "output_type": "stream",
     "text": [
      "Sector: ^SP500-3010\n",
      "Intercept: 0.060162388366182554\n",
      "Coefficients: [0.65801678]\n",
      "R^2 Score: 0.4539556430326337\n",
      "P-Values: \n",
      "[6.29352524e-04 9.91173840e-18]\n",
      "Processing sector: ^SP500-3010\n",
      "Sector: ^SP500-3010\n",
      "Intercept: 0.060162388366182554\n",
      "Coefficients: [0.65801678]\n",
      "R^2 Score: 0.4539556430326337\n",
      "P-Values: \n",
      "[6.29352524e-04 9.91173840e-18]\n",
      "Processing sector: ^SP500-3010\n",
      "Sector: ^SP500-3010\n",
      "Intercept: 0.060162388366182554\n",
      "Coefficients: [0.65801678]\n",
      "R^2 Score: 0.4539556430326337\n",
      "P-Values: \n",
      "[6.29352524e-04 9.91173840e-18]\n",
      "Processing sector: ^SP500-3010\n"
     ]
    },
    {
     "name": "stderr",
     "output_type": "stream",
     "text": [
      "[*********************100%***********************]  1 of 1 completed\n",
      "/var/folders/n3/cwx8131570q5ljqcv1f22n6c0000gn/T/ipykernel_47973/2952105492.py:10: FutureWarning: 'M' is deprecated and will be removed in a future version, please use 'ME' instead.\n",
      "  monthly_sector = sector_df.resample('M').mean()\n",
      "[*********************100%***********************]  1 of 1 completed\n",
      "/var/folders/n3/cwx8131570q5ljqcv1f22n6c0000gn/T/ipykernel_47973/2952105492.py:10: FutureWarning: 'M' is deprecated and will be removed in a future version, please use 'ME' instead.\n",
      "  monthly_sector = sector_df.resample('M').mean()\n",
      "[*********************100%***********************]  1 of 1 completed\n",
      "/var/folders/n3/cwx8131570q5ljqcv1f22n6c0000gn/T/ipykernel_47973/2952105492.py:10: FutureWarning: 'M' is deprecated and will be removed in a future version, please use 'ME' instead.\n",
      "  monthly_sector = sector_df.resample('M').mean()\n"
     ]
    },
    {
     "name": "stdout",
     "output_type": "stream",
     "text": [
      "Sector: ^SP500-3010\n",
      "Intercept: 0.060162388366182554\n",
      "Coefficients: [0.65801678]\n",
      "R^2 Score: 0.4539556430326337\n",
      "P-Values: \n",
      "[6.29352524e-04 9.91173840e-18]\n",
      "Processing sector: ^SP500-3010\n",
      "Sector: ^SP500-3010\n",
      "Intercept: 0.060162388366182554\n",
      "Coefficients: [0.65801678]\n",
      "R^2 Score: 0.4539556430326337\n",
      "P-Values: \n",
      "[6.29352524e-04 9.91173840e-18]\n",
      "Processing sector: ^SP500-3010\n",
      "Sector: ^SP500-3010\n",
      "Intercept: 0.060162388366182554\n",
      "Coefficients: [0.65801678]\n",
      "R^2 Score: 0.4539556430326337\n",
      "P-Values: \n",
      "[6.29352524e-04 9.91173840e-18]\n",
      "Processing sector: ^SP500-3010\n"
     ]
    },
    {
     "name": "stderr",
     "output_type": "stream",
     "text": [
      "[*********************100%***********************]  1 of 1 completed\n",
      "/var/folders/n3/cwx8131570q5ljqcv1f22n6c0000gn/T/ipykernel_47973/2952105492.py:10: FutureWarning: 'M' is deprecated and will be removed in a future version, please use 'ME' instead.\n",
      "  monthly_sector = sector_df.resample('M').mean()\n",
      "[*********************100%***********************]  1 of 1 completed\n",
      "/var/folders/n3/cwx8131570q5ljqcv1f22n6c0000gn/T/ipykernel_47973/2952105492.py:10: FutureWarning: 'M' is deprecated and will be removed in a future version, please use 'ME' instead.\n",
      "  monthly_sector = sector_df.resample('M').mean()\n",
      "[*********************100%***********************]  1 of 1 completed\n",
      "/var/folders/n3/cwx8131570q5ljqcv1f22n6c0000gn/T/ipykernel_47973/2952105492.py:10: FutureWarning: 'M' is deprecated and will be removed in a future version, please use 'ME' instead.\n",
      "  monthly_sector = sector_df.resample('M').mean()\n"
     ]
    },
    {
     "name": "stdout",
     "output_type": "stream",
     "text": [
      "Sector: ^SP500-3010\n",
      "Intercept: 0.060162388366182554\n",
      "Coefficients: [0.65801678]\n",
      "R^2 Score: 0.4539556430326337\n",
      "P-Values: \n",
      "[6.29352524e-04 9.91173840e-18]\n",
      "Processing sector: ^SP500-3010\n",
      "Sector: ^SP500-3010\n",
      "Intercept: 0.060162388366182554\n",
      "Coefficients: [0.65801678]\n",
      "R^2 Score: 0.4539556430326337\n",
      "P-Values: \n",
      "[6.29352524e-04 9.91173840e-18]\n",
      "Processing sector: ^SP500-3010\n"
     ]
    },
    {
     "name": "stderr",
     "output_type": "stream",
     "text": [
      "[*********************100%***********************]  1 of 1 completed\n",
      "/var/folders/n3/cwx8131570q5ljqcv1f22n6c0000gn/T/ipykernel_47973/2952105492.py:10: FutureWarning: 'M' is deprecated and will be removed in a future version, please use 'ME' instead.\n",
      "  monthly_sector = sector_df.resample('M').mean()\n"
     ]
    },
    {
     "name": "stdout",
     "output_type": "stream",
     "text": [
      "Sector: ^SP500-3010\n",
      "Intercept: 0.060162388366182554\n",
      "Coefficients: [0.65801678]\n",
      "R^2 Score: 0.4539556430326337\n",
      "P-Values: \n",
      "[6.29352524e-04 9.91173840e-18]\n",
      "Processing sector: ^SP500-3010\n",
      "Sector: ^SP500-3010\n",
      "Intercept: 0.060162388366182554\n",
      "Coefficients: [0.65801678]\n",
      "R^2 Score: 0.4539556430326337\n",
      "P-Values: \n",
      "[6.29352524e-04 9.91173840e-18]\n",
      "Processing sector: ^SP500-3010\n"
     ]
    },
    {
     "name": "stderr",
     "output_type": "stream",
     "text": [
      "[*********************100%***********************]  1 of 1 completed\n",
      "/var/folders/n3/cwx8131570q5ljqcv1f22n6c0000gn/T/ipykernel_47973/2952105492.py:10: FutureWarning: 'M' is deprecated and will be removed in a future version, please use 'ME' instead.\n",
      "  monthly_sector = sector_df.resample('M').mean()\n",
      "[*********************100%***********************]  1 of 1 completed\n",
      "/var/folders/n3/cwx8131570q5ljqcv1f22n6c0000gn/T/ipykernel_47973/2952105492.py:10: FutureWarning: 'M' is deprecated and will be removed in a future version, please use 'ME' instead.\n",
      "  monthly_sector = sector_df.resample('M').mean()\n"
     ]
    },
    {
     "name": "stdout",
     "output_type": "stream",
     "text": [
      "Sector: ^SP500-3010\n",
      "Intercept: 0.060162388366182554\n",
      "Coefficients: [0.65801678]\n",
      "R^2 Score: 0.4539556430326337\n",
      "P-Values: \n",
      "[6.29352524e-04 9.91173840e-18]\n",
      "Processing sector: ^SP500-3010\n",
      "Sector: ^SP500-3010\n",
      "Intercept: 0.060162388366182554\n",
      "Coefficients: [0.65801678]\n",
      "R^2 Score: 0.4539556430326337\n",
      "P-Values: \n",
      "[6.29352524e-04 9.91173840e-18]\n",
      "Processing sector: ^SP500-3010\n"
     ]
    },
    {
     "name": "stderr",
     "output_type": "stream",
     "text": [
      "[*********************100%***********************]  1 of 1 completed\n",
      "/var/folders/n3/cwx8131570q5ljqcv1f22n6c0000gn/T/ipykernel_47973/2952105492.py:10: FutureWarning: 'M' is deprecated and will be removed in a future version, please use 'ME' instead.\n",
      "  monthly_sector = sector_df.resample('M').mean()\n",
      "[*********************100%***********************]  1 of 1 completed\n",
      "/var/folders/n3/cwx8131570q5ljqcv1f22n6c0000gn/T/ipykernel_47973/2952105492.py:10: FutureWarning: 'M' is deprecated and will be removed in a future version, please use 'ME' instead.\n",
      "  monthly_sector = sector_df.resample('M').mean()\n",
      "[*********************100%***********************]  1 of 1 completed\n",
      "/var/folders/n3/cwx8131570q5ljqcv1f22n6c0000gn/T/ipykernel_47973/2952105492.py:10: FutureWarning: 'M' is deprecated and will be removed in a future version, please use 'ME' instead.\n",
      "  monthly_sector = sector_df.resample('M').mean()\n"
     ]
    },
    {
     "name": "stdout",
     "output_type": "stream",
     "text": [
      "Sector: ^SP500-3010\n",
      "Intercept: 0.060162388366182554\n",
      "Coefficients: [0.65801678]\n",
      "R^2 Score: 0.4539556430326337\n",
      "P-Values: \n",
      "[6.29352524e-04 9.91173840e-18]\n",
      "Processing sector: ^SP500-3010\n",
      "Sector: ^SP500-3010\n",
      "Intercept: 0.060162388366182554\n",
      "Coefficients: [0.65801678]\n",
      "R^2 Score: 0.4539556430326337\n",
      "P-Values: \n",
      "[6.29352524e-04 9.91173840e-18]\n",
      "Processing sector: ^SP500-3010\n",
      "Sector: ^SP500-3010\n",
      "Intercept: 0.060162388366182554\n",
      "Coefficients: [0.65801678]\n",
      "R^2 Score: 0.4539556430326337\n",
      "P-Values: \n",
      "[6.29352524e-04 9.91173840e-18]\n",
      "Processing sector: ^SP500-3010\n"
     ]
    },
    {
     "name": "stderr",
     "output_type": "stream",
     "text": [
      "[*********************100%***********************]  1 of 1 completed\n",
      "/var/folders/n3/cwx8131570q5ljqcv1f22n6c0000gn/T/ipykernel_47973/2952105492.py:10: FutureWarning: 'M' is deprecated and will be removed in a future version, please use 'ME' instead.\n",
      "  monthly_sector = sector_df.resample('M').mean()\n",
      "[*********************100%***********************]  1 of 1 completed\n",
      "/var/folders/n3/cwx8131570q5ljqcv1f22n6c0000gn/T/ipykernel_47973/2952105492.py:10: FutureWarning: 'M' is deprecated and will be removed in a future version, please use 'ME' instead.\n",
      "  monthly_sector = sector_df.resample('M').mean()\n",
      "[*********************100%***********************]  1 of 1 completed\n",
      "/var/folders/n3/cwx8131570q5ljqcv1f22n6c0000gn/T/ipykernel_47973/2952105492.py:10: FutureWarning: 'M' is deprecated and will be removed in a future version, please use 'ME' instead.\n",
      "  monthly_sector = sector_df.resample('M').mean()\n"
     ]
    },
    {
     "name": "stdout",
     "output_type": "stream",
     "text": [
      "Sector: ^SP500-3010\n",
      "Intercept: 0.060162388366182554\n",
      "Coefficients: [0.65801678]\n",
      "R^2 Score: 0.4539556430326337\n",
      "P-Values: \n",
      "[6.29352524e-04 9.91173840e-18]\n",
      "Processing sector: ^SP500-3010\n",
      "Sector: ^SP500-3010\n",
      "Intercept: 0.060162388366182554\n",
      "Coefficients: [0.65801678]\n",
      "R^2 Score: 0.4539556430326337\n",
      "P-Values: \n",
      "[6.29352524e-04 9.91173840e-18]\n",
      "Processing sector: ^SP500-3010\n",
      "Sector: ^SP500-3010\n",
      "Intercept: 0.060162388366182554\n",
      "Coefficients: [0.65801678]\n",
      "R^2 Score: 0.4539556430326337\n",
      "P-Values: \n",
      "[6.29352524e-04 9.91173840e-18]\n",
      "Processing sector: ^SP500-3010\n"
     ]
    },
    {
     "name": "stderr",
     "output_type": "stream",
     "text": [
      "[*********************100%***********************]  1 of 1 completed\n",
      "/var/folders/n3/cwx8131570q5ljqcv1f22n6c0000gn/T/ipykernel_47973/2952105492.py:10: FutureWarning: 'M' is deprecated and will be removed in a future version, please use 'ME' instead.\n",
      "  monthly_sector = sector_df.resample('M').mean()\n",
      "[*********************100%***********************]  1 of 1 completed\n",
      "/var/folders/n3/cwx8131570q5ljqcv1f22n6c0000gn/T/ipykernel_47973/2952105492.py:10: FutureWarning: 'M' is deprecated and will be removed in a future version, please use 'ME' instead.\n",
      "  monthly_sector = sector_df.resample('M').mean()\n"
     ]
    },
    {
     "name": "stdout",
     "output_type": "stream",
     "text": [
      "Sector: ^SP500-3010\n",
      "Intercept: 0.060162388366182554\n",
      "Coefficients: [0.65801678]\n",
      "R^2 Score: 0.4539556430326337\n",
      "P-Values: \n",
      "[6.29352524e-04 9.91173840e-18]\n",
      "Processing sector: ^SP500-3010\n",
      "Sector: ^SP500-3010\n",
      "Intercept: 0.060162388366182554\n",
      "Coefficients: [0.65801678]\n",
      "R^2 Score: 0.4539556430326337\n",
      "P-Values: \n",
      "[6.29352524e-04 9.91173840e-18]\n",
      "Processing sector: ^GSPE\n"
     ]
    },
    {
     "name": "stderr",
     "output_type": "stream",
     "text": [
      "[*********************100%***********************]  1 of 1 completed\n",
      "/var/folders/n3/cwx8131570q5ljqcv1f22n6c0000gn/T/ipykernel_47973/2952105492.py:10: FutureWarning: 'M' is deprecated and will be removed in a future version, please use 'ME' instead.\n",
      "  monthly_sector = sector_df.resample('M').mean()\n",
      "[*********************100%***********************]  1 of 1 completed\n",
      "/var/folders/n3/cwx8131570q5ljqcv1f22n6c0000gn/T/ipykernel_47973/2952105492.py:10: FutureWarning: 'M' is deprecated and will be removed in a future version, please use 'ME' instead.\n",
      "  monthly_sector = sector_df.resample('M').mean()\n",
      "[*********************100%***********************]  1 of 1 completed\n",
      "/var/folders/n3/cwx8131570q5ljqcv1f22n6c0000gn/T/ipykernel_47973/2952105492.py:10: FutureWarning: 'M' is deprecated and will be removed in a future version, please use 'ME' instead.\n",
      "  monthly_sector = sector_df.resample('M').mean()\n"
     ]
    },
    {
     "name": "stdout",
     "output_type": "stream",
     "text": [
      "Sector: ^GSPE\n",
      "Intercept: 0.12617601546980023\n",
      "Coefficients: [-0.01709825]\n",
      "R^2 Score: 4.3313149294954556e-05\n",
      "P-Values: \n",
      "[0.04303728 0.94216858]\n",
      "Processing sector: ^GSPE\n",
      "Sector: ^GSPE\n",
      "Intercept: 0.12617601546980023\n",
      "Coefficients: [-0.01709825]\n",
      "R^2 Score: 4.3313149294954556e-05\n",
      "P-Values: \n",
      "[0.04303728 0.94216858]\n",
      "Processing sector: ^GSPE\n",
      "Sector: ^GSPE\n",
      "Intercept: 0.12617601546980023\n",
      "Coefficients: [-0.01709825]\n",
      "R^2 Score: 4.3313149294954556e-05\n",
      "P-Values: \n",
      "[0.04303728 0.94216858]\n",
      "Processing sector: ^GSPE\n"
     ]
    },
    {
     "name": "stderr",
     "output_type": "stream",
     "text": [
      "[*********************100%***********************]  1 of 1 completed\n",
      "/var/folders/n3/cwx8131570q5ljqcv1f22n6c0000gn/T/ipykernel_47973/2952105492.py:10: FutureWarning: 'M' is deprecated and will be removed in a future version, please use 'ME' instead.\n",
      "  monthly_sector = sector_df.resample('M').mean()\n",
      "[*********************100%***********************]  1 of 1 completed\n",
      "/var/folders/n3/cwx8131570q5ljqcv1f22n6c0000gn/T/ipykernel_47973/2952105492.py:10: FutureWarning: 'M' is deprecated and will be removed in a future version, please use 'ME' instead.\n",
      "  monthly_sector = sector_df.resample('M').mean()\n",
      "[*********************100%***********************]  1 of 1 completed\n",
      "/var/folders/n3/cwx8131570q5ljqcv1f22n6c0000gn/T/ipykernel_47973/2952105492.py:10: FutureWarning: 'M' is deprecated and will be removed in a future version, please use 'ME' instead.\n",
      "  monthly_sector = sector_df.resample('M').mean()\n"
     ]
    },
    {
     "name": "stdout",
     "output_type": "stream",
     "text": [
      "Sector: ^GSPE\n",
      "Intercept: 0.12617601546980023\n",
      "Coefficients: [-0.01709825]\n",
      "R^2 Score: 4.3313149294954556e-05\n",
      "P-Values: \n",
      "[0.04303728 0.94216858]\n",
      "Processing sector: ^GSPE\n",
      "Sector: ^GSPE\n",
      "Intercept: 0.12617601546980023\n",
      "Coefficients: [-0.01709825]\n",
      "R^2 Score: 4.3313149294954556e-05\n",
      "P-Values: \n",
      "[0.04303728 0.94216858]\n",
      "Processing sector: ^GSPE\n",
      "Sector: ^GSPE\n",
      "Intercept: 0.12617601546980023\n",
      "Coefficients: [-0.01709825]\n",
      "R^2 Score: 4.3313149294954556e-05\n",
      "P-Values: \n",
      "[0.04303728 0.94216858]\n",
      "Processing sector: ^GSPE\n"
     ]
    },
    {
     "name": "stderr",
     "output_type": "stream",
     "text": [
      "[*********************100%***********************]  1 of 1 completed\n",
      "/var/folders/n3/cwx8131570q5ljqcv1f22n6c0000gn/T/ipykernel_47973/2952105492.py:10: FutureWarning: 'M' is deprecated and will be removed in a future version, please use 'ME' instead.\n",
      "  monthly_sector = sector_df.resample('M').mean()\n",
      "[*********************100%***********************]  1 of 1 completed\n",
      "/var/folders/n3/cwx8131570q5ljqcv1f22n6c0000gn/T/ipykernel_47973/2952105492.py:10: FutureWarning: 'M' is deprecated and will be removed in a future version, please use 'ME' instead.\n",
      "  monthly_sector = sector_df.resample('M').mean()\n"
     ]
    },
    {
     "name": "stdout",
     "output_type": "stream",
     "text": [
      "Sector: ^GSPE\n",
      "Intercept: 0.12617601546980023\n",
      "Coefficients: [-0.01709825]\n",
      "R^2 Score: 4.3313149294954556e-05\n",
      "P-Values: \n",
      "[0.04303728 0.94216858]\n",
      "Processing sector: ^GSPE\n",
      "Sector: ^GSPE\n",
      "Intercept: 0.12617601546980023\n",
      "Coefficients: [-0.01709825]\n",
      "R^2 Score: 4.3313149294954556e-05\n",
      "P-Values: \n",
      "[0.04303728 0.94216858]\n",
      "Processing sector: ^GSPE\n"
     ]
    },
    {
     "name": "stderr",
     "output_type": "stream",
     "text": [
      "[*********************100%***********************]  1 of 1 completed\n",
      "/var/folders/n3/cwx8131570q5ljqcv1f22n6c0000gn/T/ipykernel_47973/2952105492.py:10: FutureWarning: 'M' is deprecated and will be removed in a future version, please use 'ME' instead.\n",
      "  monthly_sector = sector_df.resample('M').mean()\n",
      "[*********************100%***********************]  1 of 1 completed\n",
      "/var/folders/n3/cwx8131570q5ljqcv1f22n6c0000gn/T/ipykernel_47973/2952105492.py:10: FutureWarning: 'M' is deprecated and will be removed in a future version, please use 'ME' instead.\n",
      "  monthly_sector = sector_df.resample('M').mean()\n",
      "[*********************100%***********************]  1 of 1 completed\n",
      "/var/folders/n3/cwx8131570q5ljqcv1f22n6c0000gn/T/ipykernel_47973/2952105492.py:10: FutureWarning: 'M' is deprecated and will be removed in a future version, please use 'ME' instead.\n",
      "  monthly_sector = sector_df.resample('M').mean()\n"
     ]
    },
    {
     "name": "stdout",
     "output_type": "stream",
     "text": [
      "Sector: ^GSPE\n",
      "Intercept: 0.12617601546980023\n",
      "Coefficients: [-0.01709825]\n",
      "R^2 Score: 4.3313149294954556e-05\n",
      "P-Values: \n",
      "[0.04303728 0.94216858]\n",
      "Processing sector: ^GSPE\n",
      "Sector: ^GSPE\n",
      "Intercept: 0.12617601546980023\n",
      "Coefficients: [-0.01709825]\n",
      "R^2 Score: 4.3313149294954556e-05\n",
      "P-Values: \n",
      "[0.04303728 0.94216858]\n",
      "Processing sector: ^GSPE\n",
      "Sector: ^GSPE\n",
      "Intercept: 0.12617601546980023\n",
      "Coefficients: [-0.01709825]\n",
      "R^2 Score: 4.3313149294954556e-05\n",
      "P-Values: \n",
      "[0.04303728 0.94216858]\n",
      "Processing sector: ^GSPE\n"
     ]
    },
    {
     "name": "stderr",
     "output_type": "stream",
     "text": [
      "[*********************100%***********************]  1 of 1 completed\n",
      "/var/folders/n3/cwx8131570q5ljqcv1f22n6c0000gn/T/ipykernel_47973/2952105492.py:10: FutureWarning: 'M' is deprecated and will be removed in a future version, please use 'ME' instead.\n",
      "  monthly_sector = sector_df.resample('M').mean()\n",
      "[*********************100%***********************]  1 of 1 completed\n",
      "/var/folders/n3/cwx8131570q5ljqcv1f22n6c0000gn/T/ipykernel_47973/2952105492.py:10: FutureWarning: 'M' is deprecated and will be removed in a future version, please use 'ME' instead.\n",
      "  monthly_sector = sector_df.resample('M').mean()\n",
      "[*********************100%***********************]  1 of 1 completed\n",
      "/var/folders/n3/cwx8131570q5ljqcv1f22n6c0000gn/T/ipykernel_47973/2952105492.py:10: FutureWarning: 'M' is deprecated and will be removed in a future version, please use 'ME' instead.\n",
      "  monthly_sector = sector_df.resample('M').mean()\n"
     ]
    },
    {
     "name": "stdout",
     "output_type": "stream",
     "text": [
      "Sector: ^GSPE\n",
      "Intercept: 0.12617601546980023\n",
      "Coefficients: [-0.01709825]\n",
      "R^2 Score: 4.3313149294954556e-05\n",
      "P-Values: \n",
      "[0.04303728 0.94216858]\n",
      "Processing sector: ^GSPE\n",
      "Sector: ^GSPE\n",
      "Intercept: 0.12617601546980023\n",
      "Coefficients: [-0.01709825]\n",
      "R^2 Score: 4.3313149294954556e-05\n",
      "P-Values: \n",
      "[0.04303728 0.94216858]\n",
      "Processing sector: ^GSPE\n",
      "Sector: ^GSPE\n",
      "Intercept: 0.12617601546980023\n",
      "Coefficients: [-0.01709825]\n",
      "R^2 Score: 4.3313149294954556e-05\n",
      "P-Values: \n",
      "[0.04303728 0.94216858]\n",
      "Processing sector: ^GSPE\n"
     ]
    },
    {
     "name": "stderr",
     "output_type": "stream",
     "text": [
      "[*********************100%***********************]  1 of 1 completed\n",
      "/var/folders/n3/cwx8131570q5ljqcv1f22n6c0000gn/T/ipykernel_47973/2952105492.py:10: FutureWarning: 'M' is deprecated and will be removed in a future version, please use 'ME' instead.\n",
      "  monthly_sector = sector_df.resample('M').mean()\n",
      "[*********************100%***********************]  1 of 1 completed\n",
      "/var/folders/n3/cwx8131570q5ljqcv1f22n6c0000gn/T/ipykernel_47973/2952105492.py:10: FutureWarning: 'M' is deprecated and will be removed in a future version, please use 'ME' instead.\n",
      "  monthly_sector = sector_df.resample('M').mean()\n",
      "[*********************100%***********************]  1 of 1 completed\n",
      "/var/folders/n3/cwx8131570q5ljqcv1f22n6c0000gn/T/ipykernel_47973/2952105492.py:10: FutureWarning: 'M' is deprecated and will be removed in a future version, please use 'ME' instead.\n",
      "  monthly_sector = sector_df.resample('M').mean()\n",
      "[*********************100%***********************]  1 of 1 completed"
     ]
    },
    {
     "name": "stdout",
     "output_type": "stream",
     "text": [
      "Sector: ^GSPE\n",
      "Intercept: 0.12617601546980023\n",
      "Coefficients: [-0.01709825]\n",
      "R^2 Score: 4.3313149294954556e-05\n",
      "P-Values: \n",
      "[0.04303728 0.94216858]\n",
      "Processing sector: ^GSPE\n",
      "Sector: ^GSPE\n",
      "Intercept: 0.12617601546980023\n",
      "Coefficients: [-0.01709825]\n",
      "R^2 Score: 4.3313149294954556e-05\n",
      "P-Values: \n",
      "[0.04303728 0.94216858]\n",
      "Processing sector: ^GSPE\n",
      "Sector: ^GSPE\n",
      "Intercept: 0.12617601546980023\n",
      "Coefficients: [-0.01709825]\n",
      "R^2 Score: 4.3313149294954556e-05\n",
      "P-Values: \n",
      "[0.04303728 0.94216858]\n",
      "Processing sector: ^GSPE\n"
     ]
    },
    {
     "name": "stderr",
     "output_type": "stream",
     "text": [
      "\n",
      "/var/folders/n3/cwx8131570q5ljqcv1f22n6c0000gn/T/ipykernel_47973/2952105492.py:10: FutureWarning: 'M' is deprecated and will be removed in a future version, please use 'ME' instead.\n",
      "  monthly_sector = sector_df.resample('M').mean()\n",
      "[*********************100%***********************]  1 of 1 completed\n",
      "/var/folders/n3/cwx8131570q5ljqcv1f22n6c0000gn/T/ipykernel_47973/2952105492.py:10: FutureWarning: 'M' is deprecated and will be removed in a future version, please use 'ME' instead.\n",
      "  monthly_sector = sector_df.resample('M').mean()\n"
     ]
    },
    {
     "name": "stdout",
     "output_type": "stream",
     "text": [
      "Sector: ^GSPE\n",
      "Intercept: 0.12617601546980023\n",
      "Coefficients: [-0.01709825]\n",
      "R^2 Score: 4.3313149294954556e-05\n",
      "P-Values: \n",
      "[0.04303728 0.94216858]\n",
      "Processing sector: ^GSPE\n",
      "Sector: ^GSPE\n",
      "Intercept: 0.12617601546980023\n",
      "Coefficients: [-0.01709825]\n",
      "R^2 Score: 4.3313149294954556e-05\n",
      "P-Values: \n",
      "[0.04303728 0.94216858]\n",
      "Processing sector: ^GSPE\n"
     ]
    },
    {
     "name": "stderr",
     "output_type": "stream",
     "text": [
      "[*********************100%***********************]  1 of 1 completed\n",
      "/var/folders/n3/cwx8131570q5ljqcv1f22n6c0000gn/T/ipykernel_47973/2952105492.py:10: FutureWarning: 'M' is deprecated and will be removed in a future version, please use 'ME' instead.\n",
      "  monthly_sector = sector_df.resample('M').mean()\n",
      "[*********************100%***********************]  1 of 1 completed\n",
      "/var/folders/n3/cwx8131570q5ljqcv1f22n6c0000gn/T/ipykernel_47973/2952105492.py:10: FutureWarning: 'M' is deprecated and will be removed in a future version, please use 'ME' instead.\n",
      "  monthly_sector = sector_df.resample('M').mean()\n",
      "[*********************100%***********************]  1 of 1 completed\n",
      "/var/folders/n3/cwx8131570q5ljqcv1f22n6c0000gn/T/ipykernel_47973/2952105492.py:10: FutureWarning: 'M' is deprecated and will be removed in a future version, please use 'ME' instead.\n",
      "  monthly_sector = sector_df.resample('M').mean()\n"
     ]
    },
    {
     "name": "stdout",
     "output_type": "stream",
     "text": [
      "Sector: ^GSPE\n",
      "Intercept: 0.12617601546980023\n",
      "Coefficients: [-0.01709825]\n",
      "R^2 Score: 4.3313149294954556e-05\n",
      "P-Values: \n",
      "[0.04303728 0.94216858]\n",
      "Processing sector: ^GSPE\n",
      "Sector: ^GSPE\n",
      "Intercept: 0.12617601546980023\n",
      "Coefficients: [-0.01709825]\n",
      "R^2 Score: 4.3313149294954556e-05\n",
      "P-Values: \n",
      "[0.04303728 0.94216858]\n",
      "Processing sector: ^GSPE\n",
      "Sector: ^GSPE\n",
      "Intercept: 0.12617601546980023\n",
      "Coefficients: [-0.01709825]\n",
      "R^2 Score: 4.3313149294954556e-05\n",
      "P-Values: \n",
      "[0.04303728 0.94216858]\n",
      "Processing sector: ^SP500-40\n"
     ]
    },
    {
     "name": "stderr",
     "output_type": "stream",
     "text": [
      "[*********************100%***********************]  1 of 1 completed\n",
      "/var/folders/n3/cwx8131570q5ljqcv1f22n6c0000gn/T/ipykernel_47973/2952105492.py:10: FutureWarning: 'M' is deprecated and will be removed in a future version, please use 'ME' instead.\n",
      "  monthly_sector = sector_df.resample('M').mean()\n",
      "[*********************100%***********************]  1 of 1 completed\n",
      "/var/folders/n3/cwx8131570q5ljqcv1f22n6c0000gn/T/ipykernel_47973/2952105492.py:10: FutureWarning: 'M' is deprecated and will be removed in a future version, please use 'ME' instead.\n",
      "  monthly_sector = sector_df.resample('M').mean()\n",
      "[*********************100%***********************]  1 of 1 completed\n",
      "/var/folders/n3/cwx8131570q5ljqcv1f22n6c0000gn/T/ipykernel_47973/2952105492.py:10: FutureWarning: 'M' is deprecated and will be removed in a future version, please use 'ME' instead.\n",
      "  monthly_sector = sector_df.resample('M').mean()\n"
     ]
    },
    {
     "name": "stdout",
     "output_type": "stream",
     "text": [
      "Sector: ^SP500-40\n",
      "Intercept: -0.06937870960745306\n",
      "Coefficients: [1.18250709]\n",
      "R^2 Score: 0.6532895378656136\n",
      "P-Values: \n",
      "[9.40294696e-04 7.69948145e-30]\n",
      "Processing sector: ^SP500-40\n",
      "Sector: ^SP500-40\n",
      "Intercept: -0.06937870960745306\n",
      "Coefficients: [1.18250709]\n",
      "R^2 Score: 0.6532895378656136\n",
      "P-Values: \n",
      "[9.40294696e-04 7.69948145e-30]\n",
      "Processing sector: ^SP500-40\n",
      "Sector: ^SP500-40\n",
      "Intercept: -0.06937870960745306\n",
      "Coefficients: [1.18250709]\n",
      "R^2 Score: 0.6532895378656136\n",
      "P-Values: \n",
      "[9.40294696e-04 7.69948145e-30]\n",
      "Processing sector: ^SP500-40\n"
     ]
    },
    {
     "name": "stderr",
     "output_type": "stream",
     "text": [
      "[*********************100%***********************]  1 of 1 completed\n",
      "/var/folders/n3/cwx8131570q5ljqcv1f22n6c0000gn/T/ipykernel_47973/2952105492.py:10: FutureWarning: 'M' is deprecated and will be removed in a future version, please use 'ME' instead.\n",
      "  monthly_sector = sector_df.resample('M').mean()\n",
      "[*********************100%***********************]  1 of 1 completed\n",
      "/var/folders/n3/cwx8131570q5ljqcv1f22n6c0000gn/T/ipykernel_47973/2952105492.py:10: FutureWarning: 'M' is deprecated and will be removed in a future version, please use 'ME' instead.\n",
      "  monthly_sector = sector_df.resample('M').mean()\n",
      "[*********************100%***********************]  1 of 1 completed\n",
      "/var/folders/n3/cwx8131570q5ljqcv1f22n6c0000gn/T/ipykernel_47973/2952105492.py:10: FutureWarning: 'M' is deprecated and will be removed in a future version, please use 'ME' instead.\n",
      "  monthly_sector = sector_df.resample('M').mean()\n"
     ]
    },
    {
     "name": "stdout",
     "output_type": "stream",
     "text": [
      "Sector: ^SP500-40\n",
      "Intercept: -0.06937870960745306\n",
      "Coefficients: [1.18250709]\n",
      "R^2 Score: 0.6532895378656136\n",
      "P-Values: \n",
      "[9.40294696e-04 7.69948145e-30]\n",
      "Processing sector: ^SP500-40\n",
      "Sector: ^SP500-40\n",
      "Intercept: -0.06937870960745306\n",
      "Coefficients: [1.18250709]\n",
      "R^2 Score: 0.6532895378656136\n",
      "P-Values: \n",
      "[9.40294696e-04 7.69948145e-30]\n",
      "Processing sector: ^SP500-40\n",
      "Sector: ^SP500-40\n",
      "Intercept: -0.06937870960745306\n",
      "Coefficients: [1.18250709]\n",
      "R^2 Score: 0.6532895378656136\n",
      "P-Values: \n",
      "[9.40294696e-04 7.69948145e-30]\n",
      "Processing sector: ^SP500-40\n"
     ]
    },
    {
     "name": "stderr",
     "output_type": "stream",
     "text": [
      "[*********************100%***********************]  1 of 1 completed\n",
      "/var/folders/n3/cwx8131570q5ljqcv1f22n6c0000gn/T/ipykernel_47973/2952105492.py:10: FutureWarning: 'M' is deprecated and will be removed in a future version, please use 'ME' instead.\n",
      "  monthly_sector = sector_df.resample('M').mean()\n",
      "[*********************100%***********************]  1 of 1 completed\n",
      "/var/folders/n3/cwx8131570q5ljqcv1f22n6c0000gn/T/ipykernel_47973/2952105492.py:10: FutureWarning: 'M' is deprecated and will be removed in a future version, please use 'ME' instead.\n",
      "  monthly_sector = sector_df.resample('M').mean()\n"
     ]
    },
    {
     "name": "stdout",
     "output_type": "stream",
     "text": [
      "Sector: ^SP500-40\n",
      "Intercept: -0.06937870960745306\n",
      "Coefficients: [1.18250709]\n",
      "R^2 Score: 0.6532895378656136\n",
      "P-Values: \n",
      "[9.40294696e-04 7.69948145e-30]\n",
      "Processing sector: ^SP500-40\n",
      "Sector: ^SP500-40\n",
      "Intercept: -0.06937870960745306\n",
      "Coefficients: [1.18250709]\n",
      "R^2 Score: 0.6532895378656136\n",
      "P-Values: \n",
      "[9.40294696e-04 7.69948145e-30]\n",
      "Processing sector: ^SP500-40\n"
     ]
    },
    {
     "name": "stderr",
     "output_type": "stream",
     "text": [
      "[*********************100%***********************]  1 of 1 completed\n",
      "/var/folders/n3/cwx8131570q5ljqcv1f22n6c0000gn/T/ipykernel_47973/2952105492.py:10: FutureWarning: 'M' is deprecated and will be removed in a future version, please use 'ME' instead.\n",
      "  monthly_sector = sector_df.resample('M').mean()\n",
      "[*********************100%***********************]  1 of 1 completed\n",
      "/var/folders/n3/cwx8131570q5ljqcv1f22n6c0000gn/T/ipykernel_47973/2952105492.py:10: FutureWarning: 'M' is deprecated and will be removed in a future version, please use 'ME' instead.\n",
      "  monthly_sector = sector_df.resample('M').mean()\n",
      "[*********************100%***********************]  1 of 1 completed\n",
      "/var/folders/n3/cwx8131570q5ljqcv1f22n6c0000gn/T/ipykernel_47973/2952105492.py:10: FutureWarning: 'M' is deprecated and will be removed in a future version, please use 'ME' instead.\n",
      "  monthly_sector = sector_df.resample('M').mean()\n"
     ]
    },
    {
     "name": "stdout",
     "output_type": "stream",
     "text": [
      "Sector: ^SP500-40\n",
      "Intercept: -0.06937870960745306\n",
      "Coefficients: [1.18250709]\n",
      "R^2 Score: 0.6532895378656136\n",
      "P-Values: \n",
      "[9.40294696e-04 7.69948145e-30]\n",
      "Processing sector: ^SP500-40\n",
      "Sector: ^SP500-40\n",
      "Intercept: -0.06937870960745306\n",
      "Coefficients: [1.18250709]\n",
      "R^2 Score: 0.6532895378656136\n",
      "P-Values: \n",
      "[9.40294696e-04 7.69948145e-30]\n",
      "Processing sector: ^SP500-40\n",
      "Sector: ^SP500-40\n",
      "Intercept: -0.06937870960745306\n",
      "Coefficients: [1.18250709]\n",
      "R^2 Score: 0.6532895378656136\n",
      "P-Values: \n",
      "[9.40294696e-04 7.69948145e-30]\n",
      "Processing sector: ^SP500-40\n"
     ]
    },
    {
     "name": "stderr",
     "output_type": "stream",
     "text": [
      "[*********************100%***********************]  1 of 1 completed\n",
      "/var/folders/n3/cwx8131570q5ljqcv1f22n6c0000gn/T/ipykernel_47973/2952105492.py:10: FutureWarning: 'M' is deprecated and will be removed in a future version, please use 'ME' instead.\n",
      "  monthly_sector = sector_df.resample('M').mean()\n",
      "[*********************100%***********************]  1 of 1 completed\n",
      "/var/folders/n3/cwx8131570q5ljqcv1f22n6c0000gn/T/ipykernel_47973/2952105492.py:10: FutureWarning: 'M' is deprecated and will be removed in a future version, please use 'ME' instead.\n",
      "  monthly_sector = sector_df.resample('M').mean()\n",
      "[*********************100%***********************]  1 of 1 completed\n",
      "/var/folders/n3/cwx8131570q5ljqcv1f22n6c0000gn/T/ipykernel_47973/2952105492.py:10: FutureWarning: 'M' is deprecated and will be removed in a future version, please use 'ME' instead.\n",
      "  monthly_sector = sector_df.resample('M').mean()\n"
     ]
    },
    {
     "name": "stdout",
     "output_type": "stream",
     "text": [
      "Sector: ^SP500-40\n",
      "Intercept: -0.06937870960745306\n",
      "Coefficients: [1.18250709]\n",
      "R^2 Score: 0.6532895378656136\n",
      "P-Values: \n",
      "[9.40294696e-04 7.69948145e-30]\n",
      "Processing sector: ^SP500-40\n",
      "Sector: ^SP500-40\n",
      "Intercept: -0.06937870960745306\n",
      "Coefficients: [1.18250709]\n",
      "R^2 Score: 0.6532895378656136\n",
      "P-Values: \n",
      "[9.40294696e-04 7.69948145e-30]\n",
      "Processing sector: ^SP500-40\n",
      "Sector: ^SP500-40\n",
      "Intercept: -0.06937870960745306\n",
      "Coefficients: [1.18250709]\n",
      "R^2 Score: 0.6532895378656136\n",
      "P-Values: \n",
      "[9.40294696e-04 7.69948145e-30]\n",
      "Processing sector: ^SP500-40\n"
     ]
    },
    {
     "name": "stderr",
     "output_type": "stream",
     "text": [
      "[*********************100%***********************]  1 of 1 completed\n",
      "/var/folders/n3/cwx8131570q5ljqcv1f22n6c0000gn/T/ipykernel_47973/2952105492.py:10: FutureWarning: 'M' is deprecated and will be removed in a future version, please use 'ME' instead.\n",
      "  monthly_sector = sector_df.resample('M').mean()\n",
      "[*********************100%***********************]  1 of 1 completed\n",
      "/var/folders/n3/cwx8131570q5ljqcv1f22n6c0000gn/T/ipykernel_47973/2952105492.py:10: FutureWarning: 'M' is deprecated and will be removed in a future version, please use 'ME' instead.\n",
      "  monthly_sector = sector_df.resample('M').mean()\n",
      "[*********************100%***********************]  1 of 1 completed\n",
      "/var/folders/n3/cwx8131570q5ljqcv1f22n6c0000gn/T/ipykernel_47973/2952105492.py:10: FutureWarning: 'M' is deprecated and will be removed in a future version, please use 'ME' instead.\n",
      "  monthly_sector = sector_df.resample('M').mean()\n"
     ]
    },
    {
     "name": "stdout",
     "output_type": "stream",
     "text": [
      "Sector: ^SP500-40\n",
      "Intercept: -0.06937870960745306\n",
      "Coefficients: [1.18250709]\n",
      "R^2 Score: 0.6532895378656136\n",
      "P-Values: \n",
      "[9.40294696e-04 7.69948145e-30]\n",
      "Processing sector: ^SP500-40\n",
      "Sector: ^SP500-40\n",
      "Intercept: -0.06937870960745306\n",
      "Coefficients: [1.18250709]\n",
      "R^2 Score: 0.6532895378656136\n",
      "P-Values: \n",
      "[9.40294696e-04 7.69948145e-30]\n",
      "Processing sector: ^SP500-40\n",
      "Sector: ^SP500-40\n",
      "Intercept: -0.06937870960745306\n",
      "Coefficients: [1.18250709]\n",
      "R^2 Score: 0.6532895378656136\n",
      "P-Values: \n",
      "[9.40294696e-04 7.69948145e-30]\n",
      "Processing sector: ^SP500-40\n"
     ]
    },
    {
     "name": "stderr",
     "output_type": "stream",
     "text": [
      "[*********************100%***********************]  1 of 1 completed\n",
      "/var/folders/n3/cwx8131570q5ljqcv1f22n6c0000gn/T/ipykernel_47973/2952105492.py:10: FutureWarning: 'M' is deprecated and will be removed in a future version, please use 'ME' instead.\n",
      "  monthly_sector = sector_df.resample('M').mean()\n",
      "[*********************100%***********************]  1 of 1 completed\n",
      "/var/folders/n3/cwx8131570q5ljqcv1f22n6c0000gn/T/ipykernel_47973/2952105492.py:10: FutureWarning: 'M' is deprecated and will be removed in a future version, please use 'ME' instead.\n",
      "  monthly_sector = sector_df.resample('M').mean()\n"
     ]
    },
    {
     "name": "stdout",
     "output_type": "stream",
     "text": [
      "Sector: ^SP500-40\n",
      "Intercept: -0.06937870960745306\n",
      "Coefficients: [1.18250709]\n",
      "R^2 Score: 0.6532895378656136\n",
      "P-Values: \n",
      "[9.40294696e-04 7.69948145e-30]\n",
      "Processing sector: ^SP500-40\n",
      "Sector: ^SP500-40\n",
      "Intercept: -0.06937870960745306\n",
      "Coefficients: [1.18250709]\n",
      "R^2 Score: 0.6532895378656136\n",
      "P-Values: \n",
      "[9.40294696e-04 7.69948145e-30]\n",
      "Processing sector: ^SP500-40\n"
     ]
    },
    {
     "name": "stderr",
     "output_type": "stream",
     "text": [
      "[*********************100%***********************]  1 of 1 completed\n",
      "/var/folders/n3/cwx8131570q5ljqcv1f22n6c0000gn/T/ipykernel_47973/2952105492.py:10: FutureWarning: 'M' is deprecated and will be removed in a future version, please use 'ME' instead.\n",
      "  monthly_sector = sector_df.resample('M').mean()\n",
      "[*********************100%***********************]  1 of 1 completed\n",
      "/var/folders/n3/cwx8131570q5ljqcv1f22n6c0000gn/T/ipykernel_47973/2952105492.py:10: FutureWarning: 'M' is deprecated and will be removed in a future version, please use 'ME' instead.\n",
      "  monthly_sector = sector_df.resample('M').mean()\n",
      "[*********************100%***********************]  1 of 1 completed\n",
      "/var/folders/n3/cwx8131570q5ljqcv1f22n6c0000gn/T/ipykernel_47973/2952105492.py:10: FutureWarning: 'M' is deprecated and will be removed in a future version, please use 'ME' instead.\n",
      "  monthly_sector = sector_df.resample('M').mean()\n"
     ]
    },
    {
     "name": "stdout",
     "output_type": "stream",
     "text": [
      "Sector: ^SP500-40\n",
      "Intercept: -0.06937870960745306\n",
      "Coefficients: [1.18250709]\n",
      "R^2 Score: 0.6532895378656136\n",
      "P-Values: \n",
      "[9.40294696e-04 7.69948145e-30]\n",
      "Processing sector: ^SP500-40\n",
      "Sector: ^SP500-40\n",
      "Intercept: -0.06937870960745306\n",
      "Coefficients: [1.18250709]\n",
      "R^2 Score: 0.6532895378656136\n",
      "P-Values: \n",
      "[9.40294696e-04 7.69948145e-30]\n",
      "Processing sector: ^SP500-40\n",
      "Sector: ^SP500-40\n",
      "Intercept: -0.06937870960745306\n",
      "Coefficients: [1.18250709]\n",
      "R^2 Score: 0.6532895378656136\n",
      "P-Values: \n",
      "[9.40294696e-04 7.69948145e-30]\n",
      "Processing sector: ^SP500-40\n"
     ]
    },
    {
     "name": "stderr",
     "output_type": "stream",
     "text": [
      "[*********************100%***********************]  1 of 1 completed\n",
      "/var/folders/n3/cwx8131570q5ljqcv1f22n6c0000gn/T/ipykernel_47973/2952105492.py:10: FutureWarning: 'M' is deprecated and will be removed in a future version, please use 'ME' instead.\n",
      "  monthly_sector = sector_df.resample('M').mean()\n",
      "[*********************100%***********************]  1 of 1 completed\n",
      "/var/folders/n3/cwx8131570q5ljqcv1f22n6c0000gn/T/ipykernel_47973/2952105492.py:10: FutureWarning: 'M' is deprecated and will be removed in a future version, please use 'ME' instead.\n",
      "  monthly_sector = sector_df.resample('M').mean()\n",
      "[*********************100%***********************]  1 of 1 completed\n",
      "/var/folders/n3/cwx8131570q5ljqcv1f22n6c0000gn/T/ipykernel_47973/2952105492.py:10: FutureWarning: 'M' is deprecated and will be removed in a future version, please use 'ME' instead.\n",
      "  monthly_sector = sector_df.resample('M').mean()\n"
     ]
    },
    {
     "name": "stdout",
     "output_type": "stream",
     "text": [
      "Sector: ^SP500-40\n",
      "Intercept: -0.06937870960745306\n",
      "Coefficients: [1.18250709]\n",
      "R^2 Score: 0.6532895378656136\n",
      "P-Values: \n",
      "[9.40294696e-04 7.69948145e-30]\n",
      "Processing sector: ^SP500-40\n",
      "Sector: ^SP500-40\n",
      "Intercept: -0.06937870960745306\n",
      "Coefficients: [1.18250709]\n",
      "R^2 Score: 0.6532895378656136\n",
      "P-Values: \n",
      "[9.40294696e-04 7.69948145e-30]\n",
      "Processing sector: ^SP500-40\n",
      "Sector: ^SP500-40\n",
      "Intercept: -0.06937870960745306\n",
      "Coefficients: [1.18250709]\n",
      "R^2 Score: 0.6532895378656136\n",
      "P-Values: \n",
      "[9.40294696e-04 7.69948145e-30]\n",
      "Processing sector: ^SP500-40\n"
     ]
    },
    {
     "name": "stderr",
     "output_type": "stream",
     "text": [
      "[*********************100%***********************]  1 of 1 completed\n",
      "/var/folders/n3/cwx8131570q5ljqcv1f22n6c0000gn/T/ipykernel_47973/2952105492.py:10: FutureWarning: 'M' is deprecated and will be removed in a future version, please use 'ME' instead.\n",
      "  monthly_sector = sector_df.resample('M').mean()\n",
      "[*********************100%***********************]  1 of 1 completed\n",
      "/var/folders/n3/cwx8131570q5ljqcv1f22n6c0000gn/T/ipykernel_47973/2952105492.py:10: FutureWarning: 'M' is deprecated and will be removed in a future version, please use 'ME' instead.\n",
      "  monthly_sector = sector_df.resample('M').mean()\n",
      "[*********************100%***********************]  1 of 1 completed\n",
      "/var/folders/n3/cwx8131570q5ljqcv1f22n6c0000gn/T/ipykernel_47973/2952105492.py:10: FutureWarning: 'M' is deprecated and will be removed in a future version, please use 'ME' instead.\n",
      "  monthly_sector = sector_df.resample('M').mean()\n"
     ]
    },
    {
     "name": "stdout",
     "output_type": "stream",
     "text": [
      "Sector: ^SP500-40\n",
      "Intercept: -0.06937870960745306\n",
      "Coefficients: [1.18250709]\n",
      "R^2 Score: 0.6532895378656136\n",
      "P-Values: \n",
      "[9.40294696e-04 7.69948145e-30]\n",
      "Processing sector: ^SP500-40\n",
      "Sector: ^SP500-40\n",
      "Intercept: -0.06937870960745306\n",
      "Coefficients: [1.18250709]\n",
      "R^2 Score: 0.6532895378656136\n",
      "P-Values: \n",
      "[9.40294696e-04 7.69948145e-30]\n",
      "Processing sector: ^SP500-40\n",
      "Sector: ^SP500-40\n",
      "Intercept: -0.06937870960745306\n",
      "Coefficients: [1.18250709]\n",
      "R^2 Score: 0.6532895378656136\n",
      "P-Values: \n",
      "[9.40294696e-04 7.69948145e-30]\n",
      "Processing sector: ^SP500-40\n"
     ]
    },
    {
     "name": "stderr",
     "output_type": "stream",
     "text": [
      "[*********************100%***********************]  1 of 1 completed\n",
      "/var/folders/n3/cwx8131570q5ljqcv1f22n6c0000gn/T/ipykernel_47973/2952105492.py:10: FutureWarning: 'M' is deprecated and will be removed in a future version, please use 'ME' instead.\n",
      "  monthly_sector = sector_df.resample('M').mean()\n",
      "[*********************100%***********************]  1 of 1 completed\n",
      "/var/folders/n3/cwx8131570q5ljqcv1f22n6c0000gn/T/ipykernel_47973/2952105492.py:10: FutureWarning: 'M' is deprecated and will be removed in a future version, please use 'ME' instead.\n",
      "  monthly_sector = sector_df.resample('M').mean()\n"
     ]
    },
    {
     "name": "stdout",
     "output_type": "stream",
     "text": [
      "Sector: ^SP500-40\n",
      "Intercept: -0.06937870960745306\n",
      "Coefficients: [1.18250709]\n",
      "R^2 Score: 0.6532895378656136\n",
      "P-Values: \n",
      "[9.40294696e-04 7.69948145e-30]\n",
      "Processing sector: ^SP500-40\n",
      "Sector: ^SP500-40\n",
      "Intercept: -0.06937870960745306\n",
      "Coefficients: [1.18250709]\n",
      "R^2 Score: 0.6532895378656136\n",
      "P-Values: \n",
      "[9.40294696e-04 7.69948145e-30]\n",
      "Processing sector: ^SP500-40\n"
     ]
    },
    {
     "name": "stderr",
     "output_type": "stream",
     "text": [
      "[*********************100%***********************]  1 of 1 completed\n",
      "/var/folders/n3/cwx8131570q5ljqcv1f22n6c0000gn/T/ipykernel_47973/2952105492.py:10: FutureWarning: 'M' is deprecated and will be removed in a future version, please use 'ME' instead.\n",
      "  monthly_sector = sector_df.resample('M').mean()\n",
      "[*********************100%***********************]  1 of 1 completed\n",
      "/var/folders/n3/cwx8131570q5ljqcv1f22n6c0000gn/T/ipykernel_47973/2952105492.py:10: FutureWarning: 'M' is deprecated and will be removed in a future version, please use 'ME' instead.\n",
      "  monthly_sector = sector_df.resample('M').mean()\n",
      "[*********************100%***********************]  1 of 1 completed\n",
      "/var/folders/n3/cwx8131570q5ljqcv1f22n6c0000gn/T/ipykernel_47973/2952105492.py:10: FutureWarning: 'M' is deprecated and will be removed in a future version, please use 'ME' instead.\n",
      "  monthly_sector = sector_df.resample('M').mean()\n"
     ]
    },
    {
     "name": "stdout",
     "output_type": "stream",
     "text": [
      "Sector: ^SP500-40\n",
      "Intercept: -0.06937870960745306\n",
      "Coefficients: [1.18250709]\n",
      "R^2 Score: 0.6532895378656136\n",
      "P-Values: \n",
      "[9.40294696e-04 7.69948145e-30]\n",
      "Processing sector: ^SP500-40\n",
      "Sector: ^SP500-40\n",
      "Intercept: -0.06937870960745306\n",
      "Coefficients: [1.18250709]\n",
      "R^2 Score: 0.6532895378656136\n",
      "P-Values: \n",
      "[9.40294696e-04 7.69948145e-30]\n",
      "Processing sector: ^SP500-40\n",
      "Sector: ^SP500-40\n",
      "Intercept: -0.06937870960745306\n",
      "Coefficients: [1.18250709]\n",
      "R^2 Score: 0.6532895378656136\n",
      "P-Values: \n",
      "[9.40294696e-04 7.69948145e-30]\n",
      "Processing sector: ^SP500-40\n"
     ]
    },
    {
     "name": "stderr",
     "output_type": "stream",
     "text": [
      "[*********************100%***********************]  1 of 1 completed\n",
      "/var/folders/n3/cwx8131570q5ljqcv1f22n6c0000gn/T/ipykernel_47973/2952105492.py:10: FutureWarning: 'M' is deprecated and will be removed in a future version, please use 'ME' instead.\n",
      "  monthly_sector = sector_df.resample('M').mean()\n",
      "[*********************100%***********************]  1 of 1 completed\n",
      "/var/folders/n3/cwx8131570q5ljqcv1f22n6c0000gn/T/ipykernel_47973/2952105492.py:10: FutureWarning: 'M' is deprecated and will be removed in a future version, please use 'ME' instead.\n",
      "  monthly_sector = sector_df.resample('M').mean()\n",
      "[*********************100%***********************]  1 of 1 completed\n",
      "/var/folders/n3/cwx8131570q5ljqcv1f22n6c0000gn/T/ipykernel_47973/2952105492.py:10: FutureWarning: 'M' is deprecated and will be removed in a future version, please use 'ME' instead.\n",
      "  monthly_sector = sector_df.resample('M').mean()\n"
     ]
    },
    {
     "name": "stdout",
     "output_type": "stream",
     "text": [
      "Sector: ^SP500-40\n",
      "Intercept: -0.06937870960745306\n",
      "Coefficients: [1.18250709]\n",
      "R^2 Score: 0.6532895378656136\n",
      "P-Values: \n",
      "[9.40294696e-04 7.69948145e-30]\n",
      "Processing sector: ^SP500-40\n",
      "Sector: ^SP500-40\n",
      "Intercept: -0.06937870960745306\n",
      "Coefficients: [1.18250709]\n",
      "R^2 Score: 0.6532895378656136\n",
      "P-Values: \n",
      "[9.40294696e-04 7.69948145e-30]\n",
      "Processing sector: ^SP500-40\n",
      "Sector: ^SP500-40\n",
      "Intercept: -0.06937870960745306\n",
      "Coefficients: [1.18250709]\n",
      "R^2 Score: 0.6532895378656136\n",
      "P-Values: \n",
      "[9.40294696e-04 7.69948145e-30]\n",
      "Processing sector: ^SP500-40\n"
     ]
    },
    {
     "name": "stderr",
     "output_type": "stream",
     "text": [
      "[*********************100%***********************]  1 of 1 completed\n",
      "/var/folders/n3/cwx8131570q5ljqcv1f22n6c0000gn/T/ipykernel_47973/2952105492.py:10: FutureWarning: 'M' is deprecated and will be removed in a future version, please use 'ME' instead.\n",
      "  monthly_sector = sector_df.resample('M').mean()\n",
      "[*********************100%***********************]  1 of 1 completed\n",
      "/var/folders/n3/cwx8131570q5ljqcv1f22n6c0000gn/T/ipykernel_47973/2952105492.py:10: FutureWarning: 'M' is deprecated and will be removed in a future version, please use 'ME' instead.\n",
      "  monthly_sector = sector_df.resample('M').mean()\n",
      "[*********************100%***********************]  1 of 1 completed\n",
      "/var/folders/n3/cwx8131570q5ljqcv1f22n6c0000gn/T/ipykernel_47973/2952105492.py:10: FutureWarning: 'M' is deprecated and will be removed in a future version, please use 'ME' instead.\n",
      "  monthly_sector = sector_df.resample('M').mean()\n"
     ]
    },
    {
     "name": "stdout",
     "output_type": "stream",
     "text": [
      "Sector: ^SP500-40\n",
      "Intercept: -0.06937870960745306\n",
      "Coefficients: [1.18250709]\n",
      "R^2 Score: 0.6532895378656136\n",
      "P-Values: \n",
      "[9.40294696e-04 7.69948145e-30]\n",
      "Processing sector: ^SP500-40\n",
      "Sector: ^SP500-40\n",
      "Intercept: -0.06937870960745306\n",
      "Coefficients: [1.18250709]\n",
      "R^2 Score: 0.6532895378656136\n",
      "P-Values: \n",
      "[9.40294696e-04 7.69948145e-30]\n",
      "Processing sector: ^SP500-40\n",
      "Sector: ^SP500-40\n",
      "Intercept: -0.06937870960745306\n",
      "Coefficients: [1.18250709]\n",
      "R^2 Score: 0.6532895378656136\n",
      "P-Values: \n",
      "[9.40294696e-04 7.69948145e-30]\n",
      "Processing sector: ^SP500-40\n"
     ]
    },
    {
     "name": "stderr",
     "output_type": "stream",
     "text": [
      "[*********************100%***********************]  1 of 1 completed\n",
      "/var/folders/n3/cwx8131570q5ljqcv1f22n6c0000gn/T/ipykernel_47973/2952105492.py:10: FutureWarning: 'M' is deprecated and will be removed in a future version, please use 'ME' instead.\n",
      "  monthly_sector = sector_df.resample('M').mean()\n",
      "[*********************100%***********************]  1 of 1 completed\n",
      "/var/folders/n3/cwx8131570q5ljqcv1f22n6c0000gn/T/ipykernel_47973/2952105492.py:10: FutureWarning: 'M' is deprecated and will be removed in a future version, please use 'ME' instead.\n",
      "  monthly_sector = sector_df.resample('M').mean()\n"
     ]
    },
    {
     "name": "stdout",
     "output_type": "stream",
     "text": [
      "Sector: ^SP500-40\n",
      "Intercept: -0.06937870960745306\n",
      "Coefficients: [1.18250709]\n",
      "R^2 Score: 0.6532895378656136\n",
      "P-Values: \n",
      "[9.40294696e-04 7.69948145e-30]\n",
      "Processing sector: ^SP500-40\n",
      "Sector: ^SP500-40\n",
      "Intercept: -0.06937870960745306\n",
      "Coefficients: [1.18250709]\n",
      "R^2 Score: 0.6532895378656136\n",
      "P-Values: \n",
      "[9.40294696e-04 7.69948145e-30]\n",
      "Processing sector: ^SP500-40\n"
     ]
    },
    {
     "name": "stderr",
     "output_type": "stream",
     "text": [
      "[*********************100%***********************]  1 of 1 completed\n",
      "/var/folders/n3/cwx8131570q5ljqcv1f22n6c0000gn/T/ipykernel_47973/2952105492.py:10: FutureWarning: 'M' is deprecated and will be removed in a future version, please use 'ME' instead.\n",
      "  monthly_sector = sector_df.resample('M').mean()\n",
      "[*********************100%***********************]  1 of 1 completed\n",
      "/var/folders/n3/cwx8131570q5ljqcv1f22n6c0000gn/T/ipykernel_47973/2952105492.py:10: FutureWarning: 'M' is deprecated and will be removed in a future version, please use 'ME' instead.\n",
      "  monthly_sector = sector_df.resample('M').mean()\n",
      "[*********************100%***********************]  1 of 1 completed\n",
      "/var/folders/n3/cwx8131570q5ljqcv1f22n6c0000gn/T/ipykernel_47973/2952105492.py:10: FutureWarning: 'M' is deprecated and will be removed in a future version, please use 'ME' instead.\n",
      "  monthly_sector = sector_df.resample('M').mean()\n"
     ]
    },
    {
     "name": "stdout",
     "output_type": "stream",
     "text": [
      "Sector: ^SP500-40\n",
      "Intercept: -0.06937870960745306\n",
      "Coefficients: [1.18250709]\n",
      "R^2 Score: 0.6532895378656136\n",
      "P-Values: \n",
      "[9.40294696e-04 7.69948145e-30]\n",
      "Processing sector: ^SP500-40\n",
      "Sector: ^SP500-40\n",
      "Intercept: -0.06937870960745306\n",
      "Coefficients: [1.18250709]\n",
      "R^2 Score: 0.6532895378656136\n",
      "P-Values: \n",
      "[9.40294696e-04 7.69948145e-30]\n",
      "Processing sector: ^SP500-40\n",
      "Sector: ^SP500-40\n",
      "Intercept: -0.06937870960745306\n",
      "Coefficients: [1.18250709]\n",
      "R^2 Score: 0.6532895378656136\n",
      "P-Values: \n",
      "[9.40294696e-04 7.69948145e-30]\n",
      "Processing sector: ^SP500-40\n"
     ]
    },
    {
     "name": "stderr",
     "output_type": "stream",
     "text": [
      "[*********************100%***********************]  1 of 1 completed\n",
      "/var/folders/n3/cwx8131570q5ljqcv1f22n6c0000gn/T/ipykernel_47973/2952105492.py:10: FutureWarning: 'M' is deprecated and will be removed in a future version, please use 'ME' instead.\n",
      "  monthly_sector = sector_df.resample('M').mean()\n",
      "[*********************100%***********************]  1 of 1 completed\n",
      "/var/folders/n3/cwx8131570q5ljqcv1f22n6c0000gn/T/ipykernel_47973/2952105492.py:10: FutureWarning: 'M' is deprecated and will be removed in a future version, please use 'ME' instead.\n",
      "  monthly_sector = sector_df.resample('M').mean()\n",
      "[*********************100%***********************]  1 of 1 completed\n",
      "/var/folders/n3/cwx8131570q5ljqcv1f22n6c0000gn/T/ipykernel_47973/2952105492.py:10: FutureWarning: 'M' is deprecated and will be removed in a future version, please use 'ME' instead.\n",
      "  monthly_sector = sector_df.resample('M').mean()\n"
     ]
    },
    {
     "name": "stdout",
     "output_type": "stream",
     "text": [
      "Sector: ^SP500-40\n",
      "Intercept: -0.06937870960745306\n",
      "Coefficients: [1.18250709]\n",
      "R^2 Score: 0.6532895378656136\n",
      "P-Values: \n",
      "[9.40294696e-04 7.69948145e-30]\n",
      "Processing sector: ^SP500-40\n",
      "Sector: ^SP500-40\n",
      "Intercept: -0.06937870960745306\n",
      "Coefficients: [1.18250709]\n",
      "R^2 Score: 0.6532895378656136\n",
      "P-Values: \n",
      "[9.40294696e-04 7.69948145e-30]\n",
      "Processing sector: ^SP500-40\n",
      "Sector: ^SP500-40\n",
      "Intercept: -0.06937870960745306\n",
      "Coefficients: [1.18250709]\n",
      "R^2 Score: 0.6532895378656136\n",
      "P-Values: \n",
      "[9.40294696e-04 7.69948145e-30]\n",
      "Processing sector: ^SP500-40\n"
     ]
    },
    {
     "name": "stderr",
     "output_type": "stream",
     "text": [
      "[*********************100%***********************]  1 of 1 completed\n",
      "/var/folders/n3/cwx8131570q5ljqcv1f22n6c0000gn/T/ipykernel_47973/2952105492.py:10: FutureWarning: 'M' is deprecated and will be removed in a future version, please use 'ME' instead.\n",
      "  monthly_sector = sector_df.resample('M').mean()\n",
      "[*********************100%***********************]  1 of 1 completed\n",
      "/var/folders/n3/cwx8131570q5ljqcv1f22n6c0000gn/T/ipykernel_47973/2952105492.py:10: FutureWarning: 'M' is deprecated and will be removed in a future version, please use 'ME' instead.\n",
      "  monthly_sector = sector_df.resample('M').mean()\n",
      "[*********************100%***********************]  1 of 1 completed\n",
      "/var/folders/n3/cwx8131570q5ljqcv1f22n6c0000gn/T/ipykernel_47973/2952105492.py:10: FutureWarning: 'M' is deprecated and will be removed in a future version, please use 'ME' instead.\n",
      "  monthly_sector = sector_df.resample('M').mean()\n"
     ]
    },
    {
     "name": "stdout",
     "output_type": "stream",
     "text": [
      "Sector: ^SP500-40\n",
      "Intercept: -0.06937870960745306\n",
      "Coefficients: [1.18250709]\n",
      "R^2 Score: 0.6532895378656136\n",
      "P-Values: \n",
      "[9.40294696e-04 7.69948145e-30]\n",
      "Processing sector: ^SP500-40\n",
      "Sector: ^SP500-40\n",
      "Intercept: -0.06937870960745306\n",
      "Coefficients: [1.18250709]\n",
      "R^2 Score: 0.6532895378656136\n",
      "P-Values: \n",
      "[9.40294696e-04 7.69948145e-30]\n",
      "Processing sector: ^SP500-40\n",
      "Sector: ^SP500-40\n",
      "Intercept: -0.06937870960745306\n",
      "Coefficients: [1.18250709]\n",
      "R^2 Score: 0.6532895378656136\n",
      "P-Values: \n",
      "[9.40294696e-04 7.69948145e-30]\n",
      "Processing sector: ^SP500-40\n"
     ]
    },
    {
     "name": "stderr",
     "output_type": "stream",
     "text": [
      "[*********************100%***********************]  1 of 1 completed\n",
      "/var/folders/n3/cwx8131570q5ljqcv1f22n6c0000gn/T/ipykernel_47973/2952105492.py:10: FutureWarning: 'M' is deprecated and will be removed in a future version, please use 'ME' instead.\n",
      "  monthly_sector = sector_df.resample('M').mean()\n",
      "[*********************100%***********************]  1 of 1 completed\n",
      "/var/folders/n3/cwx8131570q5ljqcv1f22n6c0000gn/T/ipykernel_47973/2952105492.py:10: FutureWarning: 'M' is deprecated and will be removed in a future version, please use 'ME' instead.\n",
      "  monthly_sector = sector_df.resample('M').mean()\n"
     ]
    },
    {
     "name": "stdout",
     "output_type": "stream",
     "text": [
      "Sector: ^SP500-40\n",
      "Intercept: -0.06937870960745306\n",
      "Coefficients: [1.18250709]\n",
      "R^2 Score: 0.6532895378656136\n",
      "P-Values: \n",
      "[9.40294696e-04 7.69948145e-30]\n",
      "Processing sector: ^SP500-40\n",
      "Sector: ^SP500-40\n",
      "Intercept: -0.06937870960745306\n",
      "Coefficients: [1.18250709]\n",
      "R^2 Score: 0.6532895378656136\n",
      "P-Values: \n",
      "[9.40294696e-04 7.69948145e-30]\n",
      "Processing sector: ^SP500-40\n"
     ]
    },
    {
     "name": "stderr",
     "output_type": "stream",
     "text": [
      "[*********************100%***********************]  1 of 1 completed\n",
      "/var/folders/n3/cwx8131570q5ljqcv1f22n6c0000gn/T/ipykernel_47973/2952105492.py:10: FutureWarning: 'M' is deprecated and will be removed in a future version, please use 'ME' instead.\n",
      "  monthly_sector = sector_df.resample('M').mean()\n",
      "[*********************100%***********************]  1 of 1 completed\n",
      "/var/folders/n3/cwx8131570q5ljqcv1f22n6c0000gn/T/ipykernel_47973/2952105492.py:10: FutureWarning: 'M' is deprecated and will be removed in a future version, please use 'ME' instead.\n",
      "  monthly_sector = sector_df.resample('M').mean()\n",
      "[*********************100%***********************]  1 of 1 completed\n",
      "/var/folders/n3/cwx8131570q5ljqcv1f22n6c0000gn/T/ipykernel_47973/2952105492.py:10: FutureWarning: 'M' is deprecated and will be removed in a future version, please use 'ME' instead.\n",
      "  monthly_sector = sector_df.resample('M').mean()\n",
      "[*********************100%***********************]  1 of 1 completed\n",
      "/var/folders/n3/cwx8131570q5ljqcv1f22n6c0000gn/T/ipykernel_47973/2952105492.py:10: FutureWarning: 'M' is deprecated and will be removed in a future version, please use 'ME' instead.\n",
      "  monthly_sector = sector_df.resample('M').mean()\n"
     ]
    },
    {
     "name": "stdout",
     "output_type": "stream",
     "text": [
      "Sector: ^SP500-40\n",
      "Intercept: -0.06937870960745306\n",
      "Coefficients: [1.18250709]\n",
      "R^2 Score: 0.6532895378656136\n",
      "P-Values: \n",
      "[9.40294696e-04 7.69948145e-30]\n",
      "Processing sector: ^SP500-40\n",
      "Sector: ^SP500-40\n",
      "Intercept: -0.06937870960745306\n",
      "Coefficients: [1.18250709]\n",
      "R^2 Score: 0.6532895378656136\n",
      "P-Values: \n",
      "[9.40294696e-04 7.69948145e-30]\n",
      "Processing sector: ^SP500-40\n",
      "Sector: ^SP500-40\n",
      "Intercept: -0.06937870960745306\n",
      "Coefficients: [1.18250709]\n",
      "R^2 Score: 0.6532895378656136\n",
      "P-Values: \n",
      "[9.40294696e-04 7.69948145e-30]\n",
      "Processing sector: ^SP500-40\n",
      "Sector: ^SP500-40\n",
      "Intercept: -0.06937870960745306\n",
      "Coefficients: [1.18250709]\n",
      "R^2 Score: 0.6532895378656136\n",
      "P-Values: \n",
      "[9.40294696e-04 7.69948145e-30]\n",
      "Processing sector: ^SP500-40\n"
     ]
    },
    {
     "name": "stderr",
     "output_type": "stream",
     "text": [
      "[*********************100%***********************]  1 of 1 completed\n",
      "/var/folders/n3/cwx8131570q5ljqcv1f22n6c0000gn/T/ipykernel_47973/2952105492.py:10: FutureWarning: 'M' is deprecated and will be removed in a future version, please use 'ME' instead.\n",
      "  monthly_sector = sector_df.resample('M').mean()\n",
      "[*********************100%***********************]  1 of 1 completed\n",
      "/var/folders/n3/cwx8131570q5ljqcv1f22n6c0000gn/T/ipykernel_47973/2952105492.py:10: FutureWarning: 'M' is deprecated and will be removed in a future version, please use 'ME' instead.\n",
      "  monthly_sector = sector_df.resample('M').mean()\n",
      "[*********************100%***********************]  1 of 1 completed\n",
      "/var/folders/n3/cwx8131570q5ljqcv1f22n6c0000gn/T/ipykernel_47973/2952105492.py:10: FutureWarning: 'M' is deprecated and will be removed in a future version, please use 'ME' instead.\n",
      "  monthly_sector = sector_df.resample('M').mean()\n"
     ]
    },
    {
     "name": "stdout",
     "output_type": "stream",
     "text": [
      "Sector: ^SP500-40\n",
      "Intercept: -0.06937870960745306\n",
      "Coefficients: [1.18250709]\n",
      "R^2 Score: 0.6532895378656136\n",
      "P-Values: \n",
      "[9.40294696e-04 7.69948145e-30]\n",
      "Processing sector: ^SP500-40\n",
      "Sector: ^SP500-40\n",
      "Intercept: -0.06937870960745306\n",
      "Coefficients: [1.18250709]\n",
      "R^2 Score: 0.6532895378656136\n",
      "P-Values: \n",
      "[9.40294696e-04 7.69948145e-30]\n",
      "Processing sector: ^SP500-40\n",
      "Sector: ^SP500-40\n",
      "Intercept: -0.06937870960745306\n",
      "Coefficients: [1.18250709]\n",
      "R^2 Score: 0.6532895378656136\n",
      "P-Values: \n",
      "[9.40294696e-04 7.69948145e-30]\n",
      "Processing sector: ^SP500-40\n"
     ]
    },
    {
     "name": "stderr",
     "output_type": "stream",
     "text": [
      "[*********************100%***********************]  1 of 1 completed\n",
      "/var/folders/n3/cwx8131570q5ljqcv1f22n6c0000gn/T/ipykernel_47973/2952105492.py:10: FutureWarning: 'M' is deprecated and will be removed in a future version, please use 'ME' instead.\n",
      "  monthly_sector = sector_df.resample('M').mean()\n",
      "[*********************100%***********************]  1 of 1 completed\n",
      "/var/folders/n3/cwx8131570q5ljqcv1f22n6c0000gn/T/ipykernel_47973/2952105492.py:10: FutureWarning: 'M' is deprecated and will be removed in a future version, please use 'ME' instead.\n",
      "  monthly_sector = sector_df.resample('M').mean()\n",
      "[*********************100%***********************]  1 of 1 completed\n",
      "/var/folders/n3/cwx8131570q5ljqcv1f22n6c0000gn/T/ipykernel_47973/2952105492.py:10: FutureWarning: 'M' is deprecated and will be removed in a future version, please use 'ME' instead.\n",
      "  monthly_sector = sector_df.resample('M').mean()\n"
     ]
    },
    {
     "name": "stdout",
     "output_type": "stream",
     "text": [
      "Sector: ^SP500-40\n",
      "Intercept: -0.06937870960745306\n",
      "Coefficients: [1.18250709]\n",
      "R^2 Score: 0.6532895378656136\n",
      "P-Values: \n",
      "[9.40294696e-04 7.69948145e-30]\n",
      "Processing sector: ^SP500-40\n",
      "Sector: ^SP500-40\n",
      "Intercept: -0.06937870960745306\n",
      "Coefficients: [1.18250709]\n",
      "R^2 Score: 0.6532895378656136\n",
      "P-Values: \n",
      "[9.40294696e-04 7.69948145e-30]\n",
      "Processing sector: ^SP500-40\n",
      "Sector: ^SP500-40\n",
      "Intercept: -0.06937870960745306\n",
      "Coefficients: [1.18250709]\n",
      "R^2 Score: 0.6532895378656136\n",
      "P-Values: \n",
      "[9.40294696e-04 7.69948145e-30]\n",
      "Processing sector: ^SP500-40\n"
     ]
    },
    {
     "name": "stderr",
     "output_type": "stream",
     "text": [
      "[*********************100%***********************]  1 of 1 completed\n",
      "/var/folders/n3/cwx8131570q5ljqcv1f22n6c0000gn/T/ipykernel_47973/2952105492.py:10: FutureWarning: 'M' is deprecated and will be removed in a future version, please use 'ME' instead.\n",
      "  monthly_sector = sector_df.resample('M').mean()\n",
      "[*********************100%***********************]  1 of 1 completed\n",
      "/var/folders/n3/cwx8131570q5ljqcv1f22n6c0000gn/T/ipykernel_47973/2952105492.py:10: FutureWarning: 'M' is deprecated and will be removed in a future version, please use 'ME' instead.\n",
      "  monthly_sector = sector_df.resample('M').mean()\n"
     ]
    },
    {
     "name": "stdout",
     "output_type": "stream",
     "text": [
      "Sector: ^SP500-40\n",
      "Intercept: -0.06937870960745306\n",
      "Coefficients: [1.18250709]\n",
      "R^2 Score: 0.6532895378656136\n",
      "P-Values: \n",
      "[9.40294696e-04 7.69948145e-30]\n",
      "Processing sector: ^SP500-40\n",
      "Sector: ^SP500-40\n",
      "Intercept: -0.06937870960745306\n",
      "Coefficients: [1.18250709]\n",
      "R^2 Score: 0.6532895378656136\n",
      "P-Values: \n",
      "[9.40294696e-04 7.69948145e-30]\n",
      "Processing sector: ^SP500-40\n"
     ]
    },
    {
     "name": "stderr",
     "output_type": "stream",
     "text": [
      "[*********************100%***********************]  1 of 1 completed\n",
      "/var/folders/n3/cwx8131570q5ljqcv1f22n6c0000gn/T/ipykernel_47973/2952105492.py:10: FutureWarning: 'M' is deprecated and will be removed in a future version, please use 'ME' instead.\n",
      "  monthly_sector = sector_df.resample('M').mean()\n",
      "[*********************100%***********************]  1 of 1 completed\n",
      "/var/folders/n3/cwx8131570q5ljqcv1f22n6c0000gn/T/ipykernel_47973/2952105492.py:10: FutureWarning: 'M' is deprecated and will be removed in a future version, please use 'ME' instead.\n",
      "  monthly_sector = sector_df.resample('M').mean()\n",
      "[*********************100%***********************]  1 of 1 completed\n",
      "/var/folders/n3/cwx8131570q5ljqcv1f22n6c0000gn/T/ipykernel_47973/2952105492.py:10: FutureWarning: 'M' is deprecated and will be removed in a future version, please use 'ME' instead.\n",
      "  monthly_sector = sector_df.resample('M').mean()\n"
     ]
    },
    {
     "name": "stdout",
     "output_type": "stream",
     "text": [
      "Sector: ^SP500-40\n",
      "Intercept: -0.06937870960745306\n",
      "Coefficients: [1.18250709]\n",
      "R^2 Score: 0.6532895378656136\n",
      "P-Values: \n",
      "[9.40294696e-04 7.69948145e-30]\n",
      "Processing sector: ^SP500-40\n",
      "Sector: ^SP500-40\n",
      "Intercept: -0.06937870960745306\n",
      "Coefficients: [1.18250709]\n",
      "R^2 Score: 0.6532895378656136\n",
      "P-Values: \n",
      "[9.40294696e-04 7.69948145e-30]\n",
      "Processing sector: ^SP500-40\n",
      "Sector: ^SP500-40\n",
      "Intercept: -0.06937870960745306\n",
      "Coefficients: [1.18250709]\n",
      "R^2 Score: 0.6532895378656136\n",
      "P-Values: \n",
      "[9.40294696e-04 7.69948145e-30]\n",
      "Processing sector: ^SP500-40\n"
     ]
    },
    {
     "name": "stderr",
     "output_type": "stream",
     "text": [
      "[*********************100%***********************]  1 of 1 completed\n",
      "/var/folders/n3/cwx8131570q5ljqcv1f22n6c0000gn/T/ipykernel_47973/2952105492.py:10: FutureWarning: 'M' is deprecated and will be removed in a future version, please use 'ME' instead.\n",
      "  monthly_sector = sector_df.resample('M').mean()\n",
      "[*********************100%***********************]  1 of 1 completed\n",
      "/var/folders/n3/cwx8131570q5ljqcv1f22n6c0000gn/T/ipykernel_47973/2952105492.py:10: FutureWarning: 'M' is deprecated and will be removed in a future version, please use 'ME' instead.\n",
      "  monthly_sector = sector_df.resample('M').mean()\n",
      "[*********************100%***********************]  1 of 1 completed\n",
      "/var/folders/n3/cwx8131570q5ljqcv1f22n6c0000gn/T/ipykernel_47973/2952105492.py:10: FutureWarning: 'M' is deprecated and will be removed in a future version, please use 'ME' instead.\n",
      "  monthly_sector = sector_df.resample('M').mean()\n"
     ]
    },
    {
     "name": "stdout",
     "output_type": "stream",
     "text": [
      "Sector: ^SP500-40\n",
      "Intercept: -0.06937870960745306\n",
      "Coefficients: [1.18250709]\n",
      "R^2 Score: 0.6532895378656136\n",
      "P-Values: \n",
      "[9.40294696e-04 7.69948145e-30]\n",
      "Processing sector: ^SP500-40\n",
      "Sector: ^SP500-40\n",
      "Intercept: -0.06937870960745306\n",
      "Coefficients: [1.18250709]\n",
      "R^2 Score: 0.6532895378656136\n",
      "P-Values: \n",
      "[9.40294696e-04 7.69948145e-30]\n",
      "Processing sector: ^SP500-40\n",
      "Sector: ^SP500-40\n",
      "Intercept: -0.06937870960745306\n",
      "Coefficients: [1.18250709]\n",
      "R^2 Score: 0.6532895378656136\n",
      "P-Values: \n",
      "[9.40294696e-04 7.69948145e-30]\n",
      "Processing sector: ^SP500-40\n"
     ]
    },
    {
     "name": "stderr",
     "output_type": "stream",
     "text": [
      "[*********************100%***********************]  1 of 1 completed\n",
      "/var/folders/n3/cwx8131570q5ljqcv1f22n6c0000gn/T/ipykernel_47973/2952105492.py:10: FutureWarning: 'M' is deprecated and will be removed in a future version, please use 'ME' instead.\n",
      "  monthly_sector = sector_df.resample('M').mean()\n"
     ]
    },
    {
     "name": "stdout",
     "output_type": "stream",
     "text": [
      "Sector: ^SP500-40\n",
      "Intercept: -0.06937870960745306\n",
      "Coefficients: [1.18250709]\n",
      "R^2 Score: 0.6532895378656136\n",
      "P-Values: \n",
      "[9.40294696e-04 7.69948145e-30]\n",
      "Processing sector: ^SP500-35\n"
     ]
    },
    {
     "name": "stderr",
     "output_type": "stream",
     "text": [
      "[*********************100%***********************]  1 of 1 completed\n",
      "/var/folders/n3/cwx8131570q5ljqcv1f22n6c0000gn/T/ipykernel_47973/2952105492.py:10: FutureWarning: 'M' is deprecated and will be removed in a future version, please use 'ME' instead.\n",
      "  monthly_sector = sector_df.resample('M').mean()\n",
      "[*********************100%***********************]  1 of 1 completed\n",
      "/var/folders/n3/cwx8131570q5ljqcv1f22n6c0000gn/T/ipykernel_47973/2952105492.py:10: FutureWarning: 'M' is deprecated and will be removed in a future version, please use 'ME' instead.\n",
      "  monthly_sector = sector_df.resample('M').mean()\n"
     ]
    },
    {
     "name": "stdout",
     "output_type": "stream",
     "text": [
      "Sector: ^SP500-35\n",
      "Intercept: 0.06871329414116217\n",
      "Coefficients: [0.75917491]\n",
      "R^2 Score: 0.48478753388846885\n",
      "P-Values: \n",
      "[3.29001527e-04 2.77086677e-19]\n",
      "Processing sector: ^SP500-35\n",
      "Sector: ^SP500-35\n",
      "Intercept: 0.06871329414116217\n",
      "Coefficients: [0.75917491]\n",
      "R^2 Score: 0.48478753388846885\n",
      "P-Values: \n",
      "[3.29001527e-04 2.77086677e-19]\n",
      "Processing sector: ^SP500-35\n"
     ]
    },
    {
     "name": "stderr",
     "output_type": "stream",
     "text": [
      "[*********************100%***********************]  1 of 1 completed\n",
      "/var/folders/n3/cwx8131570q5ljqcv1f22n6c0000gn/T/ipykernel_47973/2952105492.py:10: FutureWarning: 'M' is deprecated and will be removed in a future version, please use 'ME' instead.\n",
      "  monthly_sector = sector_df.resample('M').mean()\n",
      "[*********************100%***********************]  1 of 1 completed\n",
      "/var/folders/n3/cwx8131570q5ljqcv1f22n6c0000gn/T/ipykernel_47973/2952105492.py:10: FutureWarning: 'M' is deprecated and will be removed in a future version, please use 'ME' instead.\n",
      "  monthly_sector = sector_df.resample('M').mean()\n",
      "[*********************100%***********************]  1 of 1 completed\n",
      "/var/folders/n3/cwx8131570q5ljqcv1f22n6c0000gn/T/ipykernel_47973/2952105492.py:10: FutureWarning: 'M' is deprecated and will be removed in a future version, please use 'ME' instead.\n",
      "  monthly_sector = sector_df.resample('M').mean()\n"
     ]
    },
    {
     "name": "stdout",
     "output_type": "stream",
     "text": [
      "Sector: ^SP500-35\n",
      "Intercept: 0.06871329414116217\n",
      "Coefficients: [0.75917491]\n",
      "R^2 Score: 0.48478753388846885\n",
      "P-Values: \n",
      "[3.29001527e-04 2.77086677e-19]\n",
      "Processing sector: ^SP500-35\n",
      "Sector: ^SP500-35\n",
      "Intercept: 0.06871329414116217\n",
      "Coefficients: [0.75917491]\n",
      "R^2 Score: 0.48478753388846885\n",
      "P-Values: \n",
      "[3.29001527e-04 2.77086677e-19]\n",
      "Processing sector: ^SP500-35\n",
      "Sector: ^SP500-35\n",
      "Intercept: 0.06871329414116217\n",
      "Coefficients: [0.75917491]\n",
      "R^2 Score: 0.48478753388846885\n",
      "P-Values: \n",
      "[3.29001527e-04 2.77086677e-19]\n",
      "Processing sector: ^SP500-35\n"
     ]
    },
    {
     "name": "stderr",
     "output_type": "stream",
     "text": [
      "[*********************100%***********************]  1 of 1 completed\n",
      "/var/folders/n3/cwx8131570q5ljqcv1f22n6c0000gn/T/ipykernel_47973/2952105492.py:10: FutureWarning: 'M' is deprecated and will be removed in a future version, please use 'ME' instead.\n",
      "  monthly_sector = sector_df.resample('M').mean()\n",
      "[*********************100%***********************]  1 of 1 completed\n",
      "/var/folders/n3/cwx8131570q5ljqcv1f22n6c0000gn/T/ipykernel_47973/2952105492.py:10: FutureWarning: 'M' is deprecated and will be removed in a future version, please use 'ME' instead.\n",
      "  monthly_sector = sector_df.resample('M').mean()\n",
      "[*********************100%***********************]  1 of 1 completed\n",
      "/var/folders/n3/cwx8131570q5ljqcv1f22n6c0000gn/T/ipykernel_47973/2952105492.py:10: FutureWarning: 'M' is deprecated and will be removed in a future version, please use 'ME' instead.\n",
      "  monthly_sector = sector_df.resample('M').mean()\n"
     ]
    },
    {
     "name": "stdout",
     "output_type": "stream",
     "text": [
      "Sector: ^SP500-35\n",
      "Intercept: 0.06871329414116217\n",
      "Coefficients: [0.75917491]\n",
      "R^2 Score: 0.48478753388846885\n",
      "P-Values: \n",
      "[3.29001527e-04 2.77086677e-19]\n",
      "Processing sector: ^SP500-35\n",
      "Sector: ^SP500-35\n",
      "Intercept: 0.06871329414116217\n",
      "Coefficients: [0.75917491]\n",
      "R^2 Score: 0.48478753388846885\n",
      "P-Values: \n",
      "[3.29001527e-04 2.77086677e-19]\n",
      "Processing sector: ^SP500-35\n",
      "Sector: ^SP500-35\n",
      "Intercept: 0.06871329414116217\n",
      "Coefficients: [0.75917491]\n",
      "R^2 Score: 0.48478753388846885\n",
      "P-Values: \n",
      "[3.29001527e-04 2.77086677e-19]\n",
      "Processing sector: ^SP500-35\n"
     ]
    },
    {
     "name": "stderr",
     "output_type": "stream",
     "text": [
      "[*********************100%***********************]  1 of 1 completed\n",
      "/var/folders/n3/cwx8131570q5ljqcv1f22n6c0000gn/T/ipykernel_47973/2952105492.py:10: FutureWarning: 'M' is deprecated and will be removed in a future version, please use 'ME' instead.\n",
      "  monthly_sector = sector_df.resample('M').mean()\n",
      "[*********************100%***********************]  1 of 1 completed\n",
      "/var/folders/n3/cwx8131570q5ljqcv1f22n6c0000gn/T/ipykernel_47973/2952105492.py:10: FutureWarning: 'M' is deprecated and will be removed in a future version, please use 'ME' instead.\n",
      "  monthly_sector = sector_df.resample('M').mean()\n"
     ]
    },
    {
     "name": "stdout",
     "output_type": "stream",
     "text": [
      "Sector: ^SP500-35\n",
      "Intercept: 0.06871329414116217\n",
      "Coefficients: [0.75917491]\n",
      "R^2 Score: 0.48478753388846885\n",
      "P-Values: \n",
      "[3.29001527e-04 2.77086677e-19]\n",
      "Processing sector: ^SP500-35\n",
      "Sector: ^SP500-35\n",
      "Intercept: 0.06871329414116217\n",
      "Coefficients: [0.75917491]\n",
      "R^2 Score: 0.48478753388846885\n",
      "P-Values: \n",
      "[3.29001527e-04 2.77086677e-19]\n",
      "Processing sector: ^SP500-35\n"
     ]
    },
    {
     "name": "stderr",
     "output_type": "stream",
     "text": [
      "[*********************100%***********************]  1 of 1 completed\n",
      "/var/folders/n3/cwx8131570q5ljqcv1f22n6c0000gn/T/ipykernel_47973/2952105492.py:10: FutureWarning: 'M' is deprecated and will be removed in a future version, please use 'ME' instead.\n",
      "  monthly_sector = sector_df.resample('M').mean()\n",
      "[*********************100%***********************]  1 of 1 completed\n",
      "/var/folders/n3/cwx8131570q5ljqcv1f22n6c0000gn/T/ipykernel_47973/2952105492.py:10: FutureWarning: 'M' is deprecated and will be removed in a future version, please use 'ME' instead.\n",
      "  monthly_sector = sector_df.resample('M').mean()\n",
      "[*********************100%***********************]  1 of 1 completed\n",
      "/var/folders/n3/cwx8131570q5ljqcv1f22n6c0000gn/T/ipykernel_47973/2952105492.py:10: FutureWarning: 'M' is deprecated and will be removed in a future version, please use 'ME' instead.\n",
      "  monthly_sector = sector_df.resample('M').mean()\n"
     ]
    },
    {
     "name": "stdout",
     "output_type": "stream",
     "text": [
      "Sector: ^SP500-35\n",
      "Intercept: 0.06871329414116217\n",
      "Coefficients: [0.75917491]\n",
      "R^2 Score: 0.48478753388846885\n",
      "P-Values: \n",
      "[3.29001527e-04 2.77086677e-19]\n",
      "Processing sector: ^SP500-35\n",
      "Sector: ^SP500-35\n",
      "Intercept: 0.06871329414116217\n",
      "Coefficients: [0.75917491]\n",
      "R^2 Score: 0.48478753388846885\n",
      "P-Values: \n",
      "[3.29001527e-04 2.77086677e-19]\n",
      "Processing sector: ^SP500-35\n",
      "Sector: ^SP500-35\n",
      "Intercept: 0.06871329414116217\n",
      "Coefficients: [0.75917491]\n",
      "R^2 Score: 0.48478753388846885\n",
      "P-Values: \n",
      "[3.29001527e-04 2.77086677e-19]\n",
      "Processing sector: ^SP500-35\n"
     ]
    },
    {
     "name": "stderr",
     "output_type": "stream",
     "text": [
      "[*********************100%***********************]  1 of 1 completed\n",
      "/var/folders/n3/cwx8131570q5ljqcv1f22n6c0000gn/T/ipykernel_47973/2952105492.py:10: FutureWarning: 'M' is deprecated and will be removed in a future version, please use 'ME' instead.\n",
      "  monthly_sector = sector_df.resample('M').mean()\n",
      "[*********************100%***********************]  1 of 1 completed\n",
      "/var/folders/n3/cwx8131570q5ljqcv1f22n6c0000gn/T/ipykernel_47973/2952105492.py:10: FutureWarning: 'M' is deprecated and will be removed in a future version, please use 'ME' instead.\n",
      "  monthly_sector = sector_df.resample('M').mean()\n",
      "[*********************100%***********************]  1 of 1 completed\n",
      "/var/folders/n3/cwx8131570q5ljqcv1f22n6c0000gn/T/ipykernel_47973/2952105492.py:10: FutureWarning: 'M' is deprecated and will be removed in a future version, please use 'ME' instead.\n",
      "  monthly_sector = sector_df.resample('M').mean()\n"
     ]
    },
    {
     "name": "stdout",
     "output_type": "stream",
     "text": [
      "Sector: ^SP500-35\n",
      "Intercept: 0.06871329414116217\n",
      "Coefficients: [0.75917491]\n",
      "R^2 Score: 0.48478753388846885\n",
      "P-Values: \n",
      "[3.29001527e-04 2.77086677e-19]\n",
      "Processing sector: ^SP500-35\n",
      "Sector: ^SP500-35\n",
      "Intercept: 0.06871329414116217\n",
      "Coefficients: [0.75917491]\n",
      "R^2 Score: 0.48478753388846885\n",
      "P-Values: \n",
      "[3.29001527e-04 2.77086677e-19]\n",
      "Processing sector: ^SP500-35\n",
      "Sector: ^SP500-35\n",
      "Intercept: 0.06871329414116217\n",
      "Coefficients: [0.75917491]\n",
      "R^2 Score: 0.48478753388846885\n",
      "P-Values: \n",
      "[3.29001527e-04 2.77086677e-19]\n",
      "Processing sector: ^SP500-35\n"
     ]
    },
    {
     "name": "stderr",
     "output_type": "stream",
     "text": [
      "[*********************100%***********************]  1 of 1 completed\n",
      "/var/folders/n3/cwx8131570q5ljqcv1f22n6c0000gn/T/ipykernel_47973/2952105492.py:10: FutureWarning: 'M' is deprecated and will be removed in a future version, please use 'ME' instead.\n",
      "  monthly_sector = sector_df.resample('M').mean()\n",
      "[*********************100%***********************]  1 of 1 completed\n",
      "/var/folders/n3/cwx8131570q5ljqcv1f22n6c0000gn/T/ipykernel_47973/2952105492.py:10: FutureWarning: 'M' is deprecated and will be removed in a future version, please use 'ME' instead.\n",
      "  monthly_sector = sector_df.resample('M').mean()\n",
      "[*********************100%***********************]  1 of 1 completed\n",
      "/var/folders/n3/cwx8131570q5ljqcv1f22n6c0000gn/T/ipykernel_47973/2952105492.py:10: FutureWarning: 'M' is deprecated and will be removed in a future version, please use 'ME' instead.\n",
      "  monthly_sector = sector_df.resample('M').mean()\n"
     ]
    },
    {
     "name": "stdout",
     "output_type": "stream",
     "text": [
      "Sector: ^SP500-35\n",
      "Intercept: 0.06871329414116217\n",
      "Coefficients: [0.75917491]\n",
      "R^2 Score: 0.48478753388846885\n",
      "P-Values: \n",
      "[3.29001527e-04 2.77086677e-19]\n",
      "Processing sector: ^SP500-35\n",
      "Sector: ^SP500-35\n",
      "Intercept: 0.06871329414116217\n",
      "Coefficients: [0.75917491]\n",
      "R^2 Score: 0.48478753388846885\n",
      "P-Values: \n",
      "[3.29001527e-04 2.77086677e-19]\n",
      "Processing sector: ^SP500-35\n",
      "Sector: ^SP500-35\n",
      "Intercept: 0.06871329414116217\n",
      "Coefficients: [0.75917491]\n",
      "R^2 Score: 0.48478753388846885\n",
      "P-Values: \n",
      "[3.29001527e-04 2.77086677e-19]\n",
      "Processing sector: ^SP500-35\n"
     ]
    },
    {
     "name": "stderr",
     "output_type": "stream",
     "text": [
      "[*********************100%***********************]  1 of 1 completed\n",
      "/var/folders/n3/cwx8131570q5ljqcv1f22n6c0000gn/T/ipykernel_47973/2952105492.py:10: FutureWarning: 'M' is deprecated and will be removed in a future version, please use 'ME' instead.\n",
      "  monthly_sector = sector_df.resample('M').mean()\n",
      "[*********************100%***********************]  1 of 1 completed\n",
      "/var/folders/n3/cwx8131570q5ljqcv1f22n6c0000gn/T/ipykernel_47973/2952105492.py:10: FutureWarning: 'M' is deprecated and will be removed in a future version, please use 'ME' instead.\n",
      "  monthly_sector = sector_df.resample('M').mean()\n",
      "[*********************100%***********************]  1 of 1 completed\n",
      "/var/folders/n3/cwx8131570q5ljqcv1f22n6c0000gn/T/ipykernel_47973/2952105492.py:10: FutureWarning: 'M' is deprecated and will be removed in a future version, please use 'ME' instead.\n",
      "  monthly_sector = sector_df.resample('M').mean()\n"
     ]
    },
    {
     "name": "stdout",
     "output_type": "stream",
     "text": [
      "Sector: ^SP500-35\n",
      "Intercept: 0.06871329414116217\n",
      "Coefficients: [0.75917491]\n",
      "R^2 Score: 0.48478753388846885\n",
      "P-Values: \n",
      "[3.29001527e-04 2.77086677e-19]\n",
      "Processing sector: ^SP500-35\n",
      "Sector: ^SP500-35\n",
      "Intercept: 0.06871329414116217\n",
      "Coefficients: [0.75917491]\n",
      "R^2 Score: 0.48478753388846885\n",
      "P-Values: \n",
      "[3.29001527e-04 2.77086677e-19]\n",
      "Processing sector: ^SP500-35\n",
      "Sector: ^SP500-35\n",
      "Intercept: 0.06871329414116217\n",
      "Coefficients: [0.75917491]\n",
      "R^2 Score: 0.48478753388846885\n",
      "P-Values: \n",
      "[3.29001527e-04 2.77086677e-19]\n",
      "Processing sector: ^SP500-35\n"
     ]
    },
    {
     "name": "stderr",
     "output_type": "stream",
     "text": [
      "[*********************100%***********************]  1 of 1 completed\n",
      "/var/folders/n3/cwx8131570q5ljqcv1f22n6c0000gn/T/ipykernel_47973/2952105492.py:10: FutureWarning: 'M' is deprecated and will be removed in a future version, please use 'ME' instead.\n",
      "  monthly_sector = sector_df.resample('M').mean()\n",
      "[*********************100%***********************]  1 of 1 completed\n",
      "/var/folders/n3/cwx8131570q5ljqcv1f22n6c0000gn/T/ipykernel_47973/2952105492.py:10: FutureWarning: 'M' is deprecated and will be removed in a future version, please use 'ME' instead.\n",
      "  monthly_sector = sector_df.resample('M').mean()\n"
     ]
    },
    {
     "name": "stdout",
     "output_type": "stream",
     "text": [
      "Sector: ^SP500-35\n",
      "Intercept: 0.06871329414116217\n",
      "Coefficients: [0.75917491]\n",
      "R^2 Score: 0.48478753388846885\n",
      "P-Values: \n",
      "[3.29001527e-04 2.77086677e-19]\n",
      "Processing sector: ^SP500-35\n",
      "Sector: ^SP500-35\n",
      "Intercept: 0.06871329414116217\n",
      "Coefficients: [0.75917491]\n",
      "R^2 Score: 0.48478753388846885\n",
      "P-Values: \n",
      "[3.29001527e-04 2.77086677e-19]\n",
      "Processing sector: ^SP500-35\n"
     ]
    },
    {
     "name": "stderr",
     "output_type": "stream",
     "text": [
      "[*********************100%***********************]  1 of 1 completed\n",
      "/var/folders/n3/cwx8131570q5ljqcv1f22n6c0000gn/T/ipykernel_47973/2952105492.py:10: FutureWarning: 'M' is deprecated and will be removed in a future version, please use 'ME' instead.\n",
      "  monthly_sector = sector_df.resample('M').mean()\n",
      "[*********************100%***********************]  1 of 1 completed\n",
      "/var/folders/n3/cwx8131570q5ljqcv1f22n6c0000gn/T/ipykernel_47973/2952105492.py:10: FutureWarning: 'M' is deprecated and will be removed in a future version, please use 'ME' instead.\n",
      "  monthly_sector = sector_df.resample('M').mean()\n",
      "[*********************100%***********************]  1 of 1 completed\n",
      "/var/folders/n3/cwx8131570q5ljqcv1f22n6c0000gn/T/ipykernel_47973/2952105492.py:10: FutureWarning: 'M' is deprecated and will be removed in a future version, please use 'ME' instead.\n",
      "  monthly_sector = sector_df.resample('M').mean()\n"
     ]
    },
    {
     "name": "stdout",
     "output_type": "stream",
     "text": [
      "Sector: ^SP500-35\n",
      "Intercept: 0.06871329414116217\n",
      "Coefficients: [0.75917491]\n",
      "R^2 Score: 0.48478753388846885\n",
      "P-Values: \n",
      "[3.29001527e-04 2.77086677e-19]\n",
      "Processing sector: ^SP500-35\n",
      "Sector: ^SP500-35\n",
      "Intercept: 0.06871329414116217\n",
      "Coefficients: [0.75917491]\n",
      "R^2 Score: 0.48478753388846885\n",
      "P-Values: \n",
      "[3.29001527e-04 2.77086677e-19]\n",
      "Processing sector: ^SP500-35\n",
      "Sector: ^SP500-35\n",
      "Intercept: 0.06871329414116217\n",
      "Coefficients: [0.75917491]\n",
      "R^2 Score: 0.48478753388846885\n",
      "P-Values: \n",
      "[3.29001527e-04 2.77086677e-19]\n",
      "Processing sector: ^SP500-35\n"
     ]
    },
    {
     "name": "stderr",
     "output_type": "stream",
     "text": [
      "[*********************100%***********************]  1 of 1 completed\n",
      "/var/folders/n3/cwx8131570q5ljqcv1f22n6c0000gn/T/ipykernel_47973/2952105492.py:10: FutureWarning: 'M' is deprecated and will be removed in a future version, please use 'ME' instead.\n",
      "  monthly_sector = sector_df.resample('M').mean()\n",
      "[*********************100%***********************]  1 of 1 completed\n",
      "/var/folders/n3/cwx8131570q5ljqcv1f22n6c0000gn/T/ipykernel_47973/2952105492.py:10: FutureWarning: 'M' is deprecated and will be removed in a future version, please use 'ME' instead.\n",
      "  monthly_sector = sector_df.resample('M').mean()\n",
      "[*********************100%***********************]  1 of 1 completed\n",
      "/var/folders/n3/cwx8131570q5ljqcv1f22n6c0000gn/T/ipykernel_47973/2952105492.py:10: FutureWarning: 'M' is deprecated and will be removed in a future version, please use 'ME' instead.\n",
      "  monthly_sector = sector_df.resample('M').mean()\n"
     ]
    },
    {
     "name": "stdout",
     "output_type": "stream",
     "text": [
      "Sector: ^SP500-35\n",
      "Intercept: 0.06871329414116217\n",
      "Coefficients: [0.75917491]\n",
      "R^2 Score: 0.48478753388846885\n",
      "P-Values: \n",
      "[3.29001527e-04 2.77086677e-19]\n",
      "Processing sector: ^SP500-35\n",
      "Sector: ^SP500-35\n",
      "Intercept: 0.06871329414116217\n",
      "Coefficients: [0.75917491]\n",
      "R^2 Score: 0.48478753388846885\n",
      "P-Values: \n",
      "[3.29001527e-04 2.77086677e-19]\n",
      "Processing sector: ^SP500-35\n",
      "Sector: ^SP500-35\n",
      "Intercept: 0.06871329414116217\n",
      "Coefficients: [0.75917491]\n",
      "R^2 Score: 0.48478753388846885\n",
      "P-Values: \n",
      "[3.29001527e-04 2.77086677e-19]\n",
      "Processing sector: ^SP500-35\n"
     ]
    },
    {
     "name": "stderr",
     "output_type": "stream",
     "text": [
      "[*********************100%***********************]  1 of 1 completed\n",
      "/var/folders/n3/cwx8131570q5ljqcv1f22n6c0000gn/T/ipykernel_47973/2952105492.py:10: FutureWarning: 'M' is deprecated and will be removed in a future version, please use 'ME' instead.\n",
      "  monthly_sector = sector_df.resample('M').mean()\n",
      "[*********************100%***********************]  1 of 1 completed\n",
      "/var/folders/n3/cwx8131570q5ljqcv1f22n6c0000gn/T/ipykernel_47973/2952105492.py:10: FutureWarning: 'M' is deprecated and will be removed in a future version, please use 'ME' instead.\n",
      "  monthly_sector = sector_df.resample('M').mean()\n"
     ]
    },
    {
     "name": "stdout",
     "output_type": "stream",
     "text": [
      "Sector: ^SP500-35\n",
      "Intercept: 0.06871329414116217\n",
      "Coefficients: [0.75917491]\n",
      "R^2 Score: 0.48478753388846885\n",
      "P-Values: \n",
      "[3.29001527e-04 2.77086677e-19]\n",
      "Processing sector: ^SP500-35\n",
      "Sector: ^SP500-35\n",
      "Intercept: 0.06871329414116217\n",
      "Coefficients: [0.75917491]\n",
      "R^2 Score: 0.48478753388846885\n",
      "P-Values: \n",
      "[3.29001527e-04 2.77086677e-19]\n",
      "Processing sector: ^SP500-35\n"
     ]
    },
    {
     "name": "stderr",
     "output_type": "stream",
     "text": [
      "[*********************100%***********************]  1 of 1 completed\n",
      "/var/folders/n3/cwx8131570q5ljqcv1f22n6c0000gn/T/ipykernel_47973/2952105492.py:10: FutureWarning: 'M' is deprecated and will be removed in a future version, please use 'ME' instead.\n",
      "  monthly_sector = sector_df.resample('M').mean()\n",
      "[*********************100%***********************]  1 of 1 completed\n",
      "/var/folders/n3/cwx8131570q5ljqcv1f22n6c0000gn/T/ipykernel_47973/2952105492.py:10: FutureWarning: 'M' is deprecated and will be removed in a future version, please use 'ME' instead.\n",
      "  monthly_sector = sector_df.resample('M').mean()\n"
     ]
    },
    {
     "name": "stdout",
     "output_type": "stream",
     "text": [
      "Sector: ^SP500-35\n",
      "Intercept: 0.06871329414116217\n",
      "Coefficients: [0.75917491]\n",
      "R^2 Score: 0.48478753388846885\n",
      "P-Values: \n",
      "[3.29001527e-04 2.77086677e-19]\n",
      "Processing sector: ^SP500-35\n",
      "Sector: ^SP500-35\n",
      "Intercept: 0.06871329414116217\n",
      "Coefficients: [0.75917491]\n",
      "R^2 Score: 0.48478753388846885\n",
      "P-Values: \n",
      "[3.29001527e-04 2.77086677e-19]\n",
      "Processing sector: ^SP500-35\n"
     ]
    },
    {
     "name": "stderr",
     "output_type": "stream",
     "text": [
      "[*********************100%***********************]  1 of 1 completed\n",
      "/var/folders/n3/cwx8131570q5ljqcv1f22n6c0000gn/T/ipykernel_47973/2952105492.py:10: FutureWarning: 'M' is deprecated and will be removed in a future version, please use 'ME' instead.\n",
      "  monthly_sector = sector_df.resample('M').mean()\n",
      "[*********************100%***********************]  1 of 1 completed\n",
      "/var/folders/n3/cwx8131570q5ljqcv1f22n6c0000gn/T/ipykernel_47973/2952105492.py:10: FutureWarning: 'M' is deprecated and will be removed in a future version, please use 'ME' instead.\n",
      "  monthly_sector = sector_df.resample('M').mean()\n",
      "[*********************100%***********************]  1 of 1 completed\n",
      "/var/folders/n3/cwx8131570q5ljqcv1f22n6c0000gn/T/ipykernel_47973/2952105492.py:10: FutureWarning: 'M' is deprecated and will be removed in a future version, please use 'ME' instead.\n",
      "  monthly_sector = sector_df.resample('M').mean()\n"
     ]
    },
    {
     "name": "stdout",
     "output_type": "stream",
     "text": [
      "Sector: ^SP500-35\n",
      "Intercept: 0.06871329414116217\n",
      "Coefficients: [0.75917491]\n",
      "R^2 Score: 0.48478753388846885\n",
      "P-Values: \n",
      "[3.29001527e-04 2.77086677e-19]\n",
      "Processing sector: ^SP500-35\n",
      "Sector: ^SP500-35\n",
      "Intercept: 0.06871329414116217\n",
      "Coefficients: [0.75917491]\n",
      "R^2 Score: 0.48478753388846885\n",
      "P-Values: \n",
      "[3.29001527e-04 2.77086677e-19]\n",
      "Processing sector: ^SP500-35\n",
      "Sector: ^SP500-35\n",
      "Intercept: 0.06871329414116217\n",
      "Coefficients: [0.75917491]\n",
      "R^2 Score: 0.48478753388846885\n",
      "P-Values: \n",
      "[3.29001527e-04 2.77086677e-19]\n",
      "Processing sector: ^SP500-35\n"
     ]
    },
    {
     "name": "stderr",
     "output_type": "stream",
     "text": [
      "[*********************100%***********************]  1 of 1 completed\n",
      "/var/folders/n3/cwx8131570q5ljqcv1f22n6c0000gn/T/ipykernel_47973/2952105492.py:10: FutureWarning: 'M' is deprecated and will be removed in a future version, please use 'ME' instead.\n",
      "  monthly_sector = sector_df.resample('M').mean()\n",
      "[*********************100%***********************]  1 of 1 completed\n",
      "/var/folders/n3/cwx8131570q5ljqcv1f22n6c0000gn/T/ipykernel_47973/2952105492.py:10: FutureWarning: 'M' is deprecated and will be removed in a future version, please use 'ME' instead.\n",
      "  monthly_sector = sector_df.resample('M').mean()\n",
      "[*********************100%***********************]  1 of 1 completed\n",
      "/var/folders/n3/cwx8131570q5ljqcv1f22n6c0000gn/T/ipykernel_47973/2952105492.py:10: FutureWarning: 'M' is deprecated and will be removed in a future version, please use 'ME' instead.\n",
      "  monthly_sector = sector_df.resample('M').mean()\n"
     ]
    },
    {
     "name": "stdout",
     "output_type": "stream",
     "text": [
      "Sector: ^SP500-35\n",
      "Intercept: 0.06871329414116217\n",
      "Coefficients: [0.75917491]\n",
      "R^2 Score: 0.48478753388846885\n",
      "P-Values: \n",
      "[3.29001527e-04 2.77086677e-19]\n",
      "Processing sector: ^SP500-35\n",
      "Sector: ^SP500-35\n",
      "Intercept: 0.06871329414116217\n",
      "Coefficients: [0.75917491]\n",
      "R^2 Score: 0.48478753388846885\n",
      "P-Values: \n",
      "[3.29001527e-04 2.77086677e-19]\n",
      "Processing sector: ^SP500-35\n",
      "Sector: ^SP500-35\n",
      "Intercept: 0.06871329414116217\n",
      "Coefficients: [0.75917491]\n",
      "R^2 Score: 0.48478753388846885\n",
      "P-Values: \n",
      "[3.29001527e-04 2.77086677e-19]\n",
      "Processing sector: ^SP500-35\n"
     ]
    },
    {
     "name": "stderr",
     "output_type": "stream",
     "text": [
      "[*********************100%***********************]  1 of 1 completed\n",
      "/var/folders/n3/cwx8131570q5ljqcv1f22n6c0000gn/T/ipykernel_47973/2952105492.py:10: FutureWarning: 'M' is deprecated and will be removed in a future version, please use 'ME' instead.\n",
      "  monthly_sector = sector_df.resample('M').mean()\n",
      "[*********************100%***********************]  1 of 1 completed\n",
      "/var/folders/n3/cwx8131570q5ljqcv1f22n6c0000gn/T/ipykernel_47973/2952105492.py:10: FutureWarning: 'M' is deprecated and will be removed in a future version, please use 'ME' instead.\n",
      "  monthly_sector = sector_df.resample('M').mean()\n"
     ]
    },
    {
     "name": "stdout",
     "output_type": "stream",
     "text": [
      "Sector: ^SP500-35\n",
      "Intercept: 0.06871329414116217\n",
      "Coefficients: [0.75917491]\n",
      "R^2 Score: 0.48478753388846885\n",
      "P-Values: \n",
      "[3.29001527e-04 2.77086677e-19]\n",
      "Processing sector: ^SP500-35\n",
      "Sector: ^SP500-35\n",
      "Intercept: 0.06871329414116217\n",
      "Coefficients: [0.75917491]\n",
      "R^2 Score: 0.48478753388846885\n",
      "P-Values: \n",
      "[3.29001527e-04 2.77086677e-19]\n",
      "Processing sector: ^SP500-35\n"
     ]
    },
    {
     "name": "stderr",
     "output_type": "stream",
     "text": [
      "[*********************100%***********************]  1 of 1 completed\n",
      "/var/folders/n3/cwx8131570q5ljqcv1f22n6c0000gn/T/ipykernel_47973/2952105492.py:10: FutureWarning: 'M' is deprecated and will be removed in a future version, please use 'ME' instead.\n",
      "  monthly_sector = sector_df.resample('M').mean()\n",
      "[*********************100%***********************]  1 of 1 completed\n",
      "/var/folders/n3/cwx8131570q5ljqcv1f22n6c0000gn/T/ipykernel_47973/2952105492.py:10: FutureWarning: 'M' is deprecated and will be removed in a future version, please use 'ME' instead.\n",
      "  monthly_sector = sector_df.resample('M').mean()\n"
     ]
    },
    {
     "name": "stdout",
     "output_type": "stream",
     "text": [
      "Sector: ^SP500-35\n",
      "Intercept: 0.06871329414116217\n",
      "Coefficients: [0.75917491]\n",
      "R^2 Score: 0.48478753388846885\n",
      "P-Values: \n",
      "[3.29001527e-04 2.77086677e-19]\n",
      "Processing sector: ^SP500-35\n",
      "Sector: ^SP500-35\n",
      "Intercept: 0.06871329414116217\n",
      "Coefficients: [0.75917491]\n",
      "R^2 Score: 0.48478753388846885\n",
      "P-Values: \n",
      "[3.29001527e-04 2.77086677e-19]\n",
      "Processing sector: ^SP500-35\n"
     ]
    },
    {
     "name": "stderr",
     "output_type": "stream",
     "text": [
      "[*********************100%***********************]  1 of 1 completed\n",
      "/var/folders/n3/cwx8131570q5ljqcv1f22n6c0000gn/T/ipykernel_47973/2952105492.py:10: FutureWarning: 'M' is deprecated and will be removed in a future version, please use 'ME' instead.\n",
      "  monthly_sector = sector_df.resample('M').mean()\n",
      "[*********************100%***********************]  1 of 1 completed\n",
      "/var/folders/n3/cwx8131570q5ljqcv1f22n6c0000gn/T/ipykernel_47973/2952105492.py:10: FutureWarning: 'M' is deprecated and will be removed in a future version, please use 'ME' instead.\n",
      "  monthly_sector = sector_df.resample('M').mean()\n",
      "[*********************100%***********************]  1 of 1 completed\n",
      "/var/folders/n3/cwx8131570q5ljqcv1f22n6c0000gn/T/ipykernel_47973/2952105492.py:10: FutureWarning: 'M' is deprecated and will be removed in a future version, please use 'ME' instead.\n",
      "  monthly_sector = sector_df.resample('M').mean()\n"
     ]
    },
    {
     "name": "stdout",
     "output_type": "stream",
     "text": [
      "Sector: ^SP500-35\n",
      "Intercept: 0.06871329414116217\n",
      "Coefficients: [0.75917491]\n",
      "R^2 Score: 0.48478753388846885\n",
      "P-Values: \n",
      "[3.29001527e-04 2.77086677e-19]\n",
      "Processing sector: ^SP500-35\n",
      "Sector: ^SP500-35\n",
      "Intercept: 0.06871329414116217\n",
      "Coefficients: [0.75917491]\n",
      "R^2 Score: 0.48478753388846885\n",
      "P-Values: \n",
      "[3.29001527e-04 2.77086677e-19]\n",
      "Processing sector: ^SP500-35\n",
      "Sector: ^SP500-35\n",
      "Intercept: 0.06871329414116217\n",
      "Coefficients: [0.75917491]\n",
      "R^2 Score: 0.48478753388846885\n",
      "P-Values: \n",
      "[3.29001527e-04 2.77086677e-19]\n",
      "Processing sector: ^SP500-35\n"
     ]
    },
    {
     "name": "stderr",
     "output_type": "stream",
     "text": [
      "[*********************100%***********************]  1 of 1 completed\n",
      "/var/folders/n3/cwx8131570q5ljqcv1f22n6c0000gn/T/ipykernel_47973/2952105492.py:10: FutureWarning: 'M' is deprecated and will be removed in a future version, please use 'ME' instead.\n",
      "  monthly_sector = sector_df.resample('M').mean()\n",
      "[*********************100%***********************]  1 of 1 completed\n",
      "/var/folders/n3/cwx8131570q5ljqcv1f22n6c0000gn/T/ipykernel_47973/2952105492.py:10: FutureWarning: 'M' is deprecated and will be removed in a future version, please use 'ME' instead.\n",
      "  monthly_sector = sector_df.resample('M').mean()\n",
      "[*********************100%***********************]  1 of 1 completed\n",
      "/var/folders/n3/cwx8131570q5ljqcv1f22n6c0000gn/T/ipykernel_47973/2952105492.py:10: FutureWarning: 'M' is deprecated and will be removed in a future version, please use 'ME' instead.\n",
      "  monthly_sector = sector_df.resample('M').mean()\n"
     ]
    },
    {
     "name": "stdout",
     "output_type": "stream",
     "text": [
      "Sector: ^SP500-35\n",
      "Intercept: 0.06871329414116217\n",
      "Coefficients: [0.75917491]\n",
      "R^2 Score: 0.48478753388846885\n",
      "P-Values: \n",
      "[3.29001527e-04 2.77086677e-19]\n",
      "Processing sector: ^SP500-35\n",
      "Sector: ^SP500-35\n",
      "Intercept: 0.06871329414116217\n",
      "Coefficients: [0.75917491]\n",
      "R^2 Score: 0.48478753388846885\n",
      "P-Values: \n",
      "[3.29001527e-04 2.77086677e-19]\n",
      "Processing sector: ^SP500-35\n",
      "Sector: ^SP500-35\n",
      "Intercept: 0.06871329414116217\n",
      "Coefficients: [0.75917491]\n",
      "R^2 Score: 0.48478753388846885\n",
      "P-Values: \n",
      "[3.29001527e-04 2.77086677e-19]\n",
      "Processing sector: ^SP500-35\n"
     ]
    },
    {
     "name": "stderr",
     "output_type": "stream",
     "text": [
      "[*********************100%***********************]  1 of 1 completed\n",
      "/var/folders/n3/cwx8131570q5ljqcv1f22n6c0000gn/T/ipykernel_47973/2952105492.py:10: FutureWarning: 'M' is deprecated and will be removed in a future version, please use 'ME' instead.\n",
      "  monthly_sector = sector_df.resample('M').mean()\n"
     ]
    },
    {
     "name": "stdout",
     "output_type": "stream",
     "text": [
      "Sector: ^SP500-35\n",
      "Intercept: 0.06871329414116217\n",
      "Coefficients: [0.75917491]\n",
      "R^2 Score: 0.48478753388846885\n",
      "P-Values: \n",
      "[3.29001527e-04 2.77086677e-19]\n",
      "Processing sector: ^SP500-35\n"
     ]
    },
    {
     "name": "stderr",
     "output_type": "stream",
     "text": [
      "[*********************100%***********************]  1 of 1 completed\n",
      "/var/folders/n3/cwx8131570q5ljqcv1f22n6c0000gn/T/ipykernel_47973/2952105492.py:10: FutureWarning: 'M' is deprecated and will be removed in a future version, please use 'ME' instead.\n",
      "  monthly_sector = sector_df.resample('M').mean()\n",
      "[*********************100%***********************]  1 of 1 completed\n",
      "/var/folders/n3/cwx8131570q5ljqcv1f22n6c0000gn/T/ipykernel_47973/2952105492.py:10: FutureWarning: 'M' is deprecated and will be removed in a future version, please use 'ME' instead.\n",
      "  monthly_sector = sector_df.resample('M').mean()\n"
     ]
    },
    {
     "name": "stdout",
     "output_type": "stream",
     "text": [
      "Sector: ^SP500-35\n",
      "Intercept: 0.06871329414116217\n",
      "Coefficients: [0.75917491]\n",
      "R^2 Score: 0.48478753388846885\n",
      "P-Values: \n",
      "[3.29001527e-04 2.77086677e-19]\n",
      "Processing sector: ^SP500-35\n",
      "Sector: ^SP500-35\n",
      "Intercept: 0.06871329414116217\n",
      "Coefficients: [0.75917491]\n",
      "R^2 Score: 0.48478753388846885\n",
      "P-Values: \n",
      "[3.29001527e-04 2.77086677e-19]\n",
      "Processing sector: ^SP500-35\n"
     ]
    },
    {
     "name": "stderr",
     "output_type": "stream",
     "text": [
      "[*********************100%***********************]  1 of 1 completed\n",
      "/var/folders/n3/cwx8131570q5ljqcv1f22n6c0000gn/T/ipykernel_47973/2952105492.py:10: FutureWarning: 'M' is deprecated and will be removed in a future version, please use 'ME' instead.\n",
      "  monthly_sector = sector_df.resample('M').mean()\n",
      "[*********************100%***********************]  1 of 1 completed\n",
      "/var/folders/n3/cwx8131570q5ljqcv1f22n6c0000gn/T/ipykernel_47973/2952105492.py:10: FutureWarning: 'M' is deprecated and will be removed in a future version, please use 'ME' instead.\n",
      "  monthly_sector = sector_df.resample('M').mean()\n",
      "[*********************100%***********************]  1 of 1 completed\n",
      "/var/folders/n3/cwx8131570q5ljqcv1f22n6c0000gn/T/ipykernel_47973/2952105492.py:10: FutureWarning: 'M' is deprecated and will be removed in a future version, please use 'ME' instead.\n",
      "  monthly_sector = sector_df.resample('M').mean()\n"
     ]
    },
    {
     "name": "stdout",
     "output_type": "stream",
     "text": [
      "Sector: ^SP500-35\n",
      "Intercept: 0.06871329414116217\n",
      "Coefficients: [0.75917491]\n",
      "R^2 Score: 0.48478753388846885\n",
      "P-Values: \n",
      "[3.29001527e-04 2.77086677e-19]\n",
      "Processing sector: ^SP500-35\n",
      "Sector: ^SP500-35\n",
      "Intercept: 0.06871329414116217\n",
      "Coefficients: [0.75917491]\n",
      "R^2 Score: 0.48478753388846885\n",
      "P-Values: \n",
      "[3.29001527e-04 2.77086677e-19]\n",
      "Processing sector: ^SP500-35\n",
      "Sector: ^SP500-35\n",
      "Intercept: 0.06871329414116217\n",
      "Coefficients: [0.75917491]\n",
      "R^2 Score: 0.48478753388846885\n",
      "P-Values: \n",
      "[3.29001527e-04 2.77086677e-19]\n",
      "Processing sector: ^SP500-35\n"
     ]
    },
    {
     "name": "stderr",
     "output_type": "stream",
     "text": [
      "[*********************100%***********************]  1 of 1 completed\n",
      "/var/folders/n3/cwx8131570q5ljqcv1f22n6c0000gn/T/ipykernel_47973/2952105492.py:10: FutureWarning: 'M' is deprecated and will be removed in a future version, please use 'ME' instead.\n",
      "  monthly_sector = sector_df.resample('M').mean()\n",
      "[*********************100%***********************]  1 of 1 completed\n",
      "/var/folders/n3/cwx8131570q5ljqcv1f22n6c0000gn/T/ipykernel_47973/2952105492.py:10: FutureWarning: 'M' is deprecated and will be removed in a future version, please use 'ME' instead.\n",
      "  monthly_sector = sector_df.resample('M').mean()\n",
      "[*********************100%***********************]  1 of 1 completed\n",
      "/var/folders/n3/cwx8131570q5ljqcv1f22n6c0000gn/T/ipykernel_47973/2952105492.py:10: FutureWarning: 'M' is deprecated and will be removed in a future version, please use 'ME' instead.\n",
      "  monthly_sector = sector_df.resample('M').mean()\n"
     ]
    },
    {
     "name": "stdout",
     "output_type": "stream",
     "text": [
      "Sector: ^SP500-35\n",
      "Intercept: 0.06871329414116217\n",
      "Coefficients: [0.75917491]\n",
      "R^2 Score: 0.48478753388846885\n",
      "P-Values: \n",
      "[3.29001527e-04 2.77086677e-19]\n",
      "Processing sector: ^SP500-35\n",
      "Sector: ^SP500-35\n",
      "Intercept: 0.06871329414116217\n",
      "Coefficients: [0.75917491]\n",
      "R^2 Score: 0.48478753388846885\n",
      "P-Values: \n",
      "[3.29001527e-04 2.77086677e-19]\n",
      "Processing sector: ^SP500-35\n",
      "Sector: ^SP500-35\n",
      "Intercept: 0.06871329414116217\n",
      "Coefficients: [0.75917491]\n",
      "R^2 Score: 0.48478753388846885\n",
      "P-Values: \n",
      "[3.29001527e-04 2.77086677e-19]\n",
      "Processing sector: ^SP500-35\n"
     ]
    },
    {
     "name": "stderr",
     "output_type": "stream",
     "text": [
      "[*********************100%***********************]  1 of 1 completed\n",
      "/var/folders/n3/cwx8131570q5ljqcv1f22n6c0000gn/T/ipykernel_47973/2952105492.py:10: FutureWarning: 'M' is deprecated and will be removed in a future version, please use 'ME' instead.\n",
      "  monthly_sector = sector_df.resample('M').mean()\n",
      "[*********************100%***********************]  1 of 1 completed\n",
      "/var/folders/n3/cwx8131570q5ljqcv1f22n6c0000gn/T/ipykernel_47973/2952105492.py:10: FutureWarning: 'M' is deprecated and will be removed in a future version, please use 'ME' instead.\n",
      "  monthly_sector = sector_df.resample('M').mean()\n"
     ]
    },
    {
     "name": "stdout",
     "output_type": "stream",
     "text": [
      "Sector: ^SP500-35\n",
      "Intercept: 0.06871329414116217\n",
      "Coefficients: [0.75917491]\n",
      "R^2 Score: 0.48478753388846885\n",
      "P-Values: \n",
      "[3.29001527e-04 2.77086677e-19]\n",
      "Processing sector: ^SP500-35\n",
      "Sector: ^SP500-35\n",
      "Intercept: 0.06871329414116217\n",
      "Coefficients: [0.75917491]\n",
      "R^2 Score: 0.48478753388846885\n",
      "P-Values: \n",
      "[3.29001527e-04 2.77086677e-19]\n",
      "Processing sector: ^SP500-35\n"
     ]
    },
    {
     "name": "stderr",
     "output_type": "stream",
     "text": [
      "[*********************100%***********************]  1 of 1 completed\n",
      "/var/folders/n3/cwx8131570q5ljqcv1f22n6c0000gn/T/ipykernel_47973/2952105492.py:10: FutureWarning: 'M' is deprecated and will be removed in a future version, please use 'ME' instead.\n",
      "  monthly_sector = sector_df.resample('M').mean()\n",
      "[*********************100%***********************]  1 of 1 completed\n",
      "/var/folders/n3/cwx8131570q5ljqcv1f22n6c0000gn/T/ipykernel_47973/2952105492.py:10: FutureWarning: 'M' is deprecated and will be removed in a future version, please use 'ME' instead.\n",
      "  monthly_sector = sector_df.resample('M').mean()\n"
     ]
    },
    {
     "name": "stdout",
     "output_type": "stream",
     "text": [
      "Sector: ^SP500-35\n",
      "Intercept: 0.06871329414116217\n",
      "Coefficients: [0.75917491]\n",
      "R^2 Score: 0.48478753388846885\n",
      "P-Values: \n",
      "[3.29001527e-04 2.77086677e-19]\n",
      "Processing sector: ^SP500-35\n",
      "Sector: ^SP500-35\n",
      "Intercept: 0.06871329414116217\n",
      "Coefficients: [0.75917491]\n",
      "R^2 Score: 0.48478753388846885\n",
      "P-Values: \n",
      "[3.29001527e-04 2.77086677e-19]\n",
      "Processing sector: ^SP500-20\n"
     ]
    },
    {
     "name": "stderr",
     "output_type": "stream",
     "text": [
      "[*********************100%***********************]  1 of 1 completed\n",
      "/var/folders/n3/cwx8131570q5ljqcv1f22n6c0000gn/T/ipykernel_47973/2952105492.py:10: FutureWarning: 'M' is deprecated and will be removed in a future version, please use 'ME' instead.\n",
      "  monthly_sector = sector_df.resample('M').mean()\n",
      "[*********************100%***********************]  1 of 1 completed\n",
      "/var/folders/n3/cwx8131570q5ljqcv1f22n6c0000gn/T/ipykernel_47973/2952105492.py:10: FutureWarning: 'M' is deprecated and will be removed in a future version, please use 'ME' instead.\n",
      "  monthly_sector = sector_df.resample('M').mean()\n",
      "[*********************100%***********************]  1 of 1 completed\n",
      "/var/folders/n3/cwx8131570q5ljqcv1f22n6c0000gn/T/ipykernel_47973/2952105492.py:10: FutureWarning: 'M' is deprecated and will be removed in a future version, please use 'ME' instead.\n",
      "  monthly_sector = sector_df.resample('M').mean()\n"
     ]
    },
    {
     "name": "stdout",
     "output_type": "stream",
     "text": [
      "Sector: ^SP500-20\n",
      "Intercept: -0.009803073436826164\n",
      "Coefficients: [0.94606274]\n",
      "R^2 Score: 0.8158780954468614\n",
      "P-Values: \n",
      "[3.60274049e-01 1.18223456e-46]\n",
      "Processing sector: ^SP500-20\n",
      "Sector: ^SP500-20\n",
      "Intercept: -0.009803073436826164\n",
      "Coefficients: [0.94606274]\n",
      "R^2 Score: 0.8158780954468614\n",
      "P-Values: \n",
      "[3.60274049e-01 1.18223456e-46]\n",
      "Processing sector: ^SP500-20\n",
      "Sector: ^SP500-20\n",
      "Intercept: -0.009803073436826164\n",
      "Coefficients: [0.94606274]\n",
      "R^2 Score: 0.8158780954468614\n",
      "P-Values: \n",
      "[3.60274049e-01 1.18223456e-46]\n",
      "Processing sector: ^SP500-20\n"
     ]
    },
    {
     "name": "stderr",
     "output_type": "stream",
     "text": [
      "[*********************100%***********************]  1 of 1 completed\n",
      "/var/folders/n3/cwx8131570q5ljqcv1f22n6c0000gn/T/ipykernel_47973/2952105492.py:10: FutureWarning: 'M' is deprecated and will be removed in a future version, please use 'ME' instead.\n",
      "  monthly_sector = sector_df.resample('M').mean()\n",
      "[*********************100%***********************]  1 of 1 completed\n",
      "/var/folders/n3/cwx8131570q5ljqcv1f22n6c0000gn/T/ipykernel_47973/2952105492.py:10: FutureWarning: 'M' is deprecated and will be removed in a future version, please use 'ME' instead.\n",
      "  monthly_sector = sector_df.resample('M').mean()\n",
      "[*********************100%***********************]  1 of 1 completed\n",
      "/var/folders/n3/cwx8131570q5ljqcv1f22n6c0000gn/T/ipykernel_47973/2952105492.py:10: FutureWarning: 'M' is deprecated and will be removed in a future version, please use 'ME' instead.\n",
      "  monthly_sector = sector_df.resample('M').mean()\n"
     ]
    },
    {
     "name": "stdout",
     "output_type": "stream",
     "text": [
      "Sector: ^SP500-20\n",
      "Intercept: -0.009803073436826164\n",
      "Coefficients: [0.94606274]\n",
      "R^2 Score: 0.8158780954468614\n",
      "P-Values: \n",
      "[3.60274049e-01 1.18223456e-46]\n",
      "Processing sector: ^SP500-20\n",
      "Sector: ^SP500-20\n",
      "Intercept: -0.009803073436826164\n",
      "Coefficients: [0.94606274]\n",
      "R^2 Score: 0.8158780954468614\n",
      "P-Values: \n",
      "[3.60274049e-01 1.18223456e-46]\n",
      "Processing sector: ^SP500-20\n",
      "Sector: ^SP500-20\n",
      "Intercept: -0.009803073436826164\n",
      "Coefficients: [0.94606274]\n",
      "R^2 Score: 0.8158780954468614\n",
      "P-Values: \n",
      "[3.60274049e-01 1.18223456e-46]\n",
      "Processing sector: ^SP500-20\n"
     ]
    },
    {
     "name": "stderr",
     "output_type": "stream",
     "text": [
      "[*********************100%***********************]  1 of 1 completed\n",
      "/var/folders/n3/cwx8131570q5ljqcv1f22n6c0000gn/T/ipykernel_47973/2952105492.py:10: FutureWarning: 'M' is deprecated and will be removed in a future version, please use 'ME' instead.\n",
      "  monthly_sector = sector_df.resample('M').mean()\n",
      "[*********************100%***********************]  1 of 1 completed\n",
      "/var/folders/n3/cwx8131570q5ljqcv1f22n6c0000gn/T/ipykernel_47973/2952105492.py:10: FutureWarning: 'M' is deprecated and will be removed in a future version, please use 'ME' instead.\n",
      "  monthly_sector = sector_df.resample('M').mean()\n"
     ]
    },
    {
     "name": "stdout",
     "output_type": "stream",
     "text": [
      "Sector: ^SP500-20\n",
      "Intercept: -0.009803073436826164\n",
      "Coefficients: [0.94606274]\n",
      "R^2 Score: 0.8158780954468614\n",
      "P-Values: \n",
      "[3.60274049e-01 1.18223456e-46]\n",
      "Processing sector: ^SP500-20\n",
      "Sector: ^SP500-20\n",
      "Intercept: -0.009803073436826164\n",
      "Coefficients: [0.94606274]\n",
      "R^2 Score: 0.8158780954468614\n",
      "P-Values: \n",
      "[3.60274049e-01 1.18223456e-46]\n",
      "Processing sector: ^SP500-20\n"
     ]
    },
    {
     "name": "stderr",
     "output_type": "stream",
     "text": [
      "[*********************100%***********************]  1 of 1 completed\n",
      "/var/folders/n3/cwx8131570q5ljqcv1f22n6c0000gn/T/ipykernel_47973/2952105492.py:10: FutureWarning: 'M' is deprecated and will be removed in a future version, please use 'ME' instead.\n",
      "  monthly_sector = sector_df.resample('M').mean()\n",
      "[*********************100%***********************]  1 of 1 completed\n",
      "/var/folders/n3/cwx8131570q5ljqcv1f22n6c0000gn/T/ipykernel_47973/2952105492.py:10: FutureWarning: 'M' is deprecated and will be removed in a future version, please use 'ME' instead.\n",
      "  monthly_sector = sector_df.resample('M').mean()\n",
      "[*********************100%***********************]  1 of 1 completed\n",
      "/var/folders/n3/cwx8131570q5ljqcv1f22n6c0000gn/T/ipykernel_47973/2952105492.py:10: FutureWarning: 'M' is deprecated and will be removed in a future version, please use 'ME' instead.\n",
      "  monthly_sector = sector_df.resample('M').mean()\n"
     ]
    },
    {
     "name": "stdout",
     "output_type": "stream",
     "text": [
      "Sector: ^SP500-20\n",
      "Intercept: -0.009803073436826164\n",
      "Coefficients: [0.94606274]\n",
      "R^2 Score: 0.8158780954468614\n",
      "P-Values: \n",
      "[3.60274049e-01 1.18223456e-46]\n",
      "Processing sector: ^SP500-20\n",
      "Sector: ^SP500-20\n",
      "Intercept: -0.009803073436826164\n",
      "Coefficients: [0.94606274]\n",
      "R^2 Score: 0.8158780954468614\n",
      "P-Values: \n",
      "[3.60274049e-01 1.18223456e-46]\n",
      "Processing sector: ^SP500-20\n",
      "Sector: ^SP500-20\n",
      "Intercept: -0.009803073436826164\n",
      "Coefficients: [0.94606274]\n",
      "R^2 Score: 0.8158780954468614\n",
      "P-Values: \n",
      "[3.60274049e-01 1.18223456e-46]\n",
      "Processing sector: ^SP500-20\n"
     ]
    },
    {
     "name": "stderr",
     "output_type": "stream",
     "text": [
      "[*********************100%***********************]  1 of 1 completed\n",
      "/var/folders/n3/cwx8131570q5ljqcv1f22n6c0000gn/T/ipykernel_47973/2952105492.py:10: FutureWarning: 'M' is deprecated and will be removed in a future version, please use 'ME' instead.\n",
      "  monthly_sector = sector_df.resample('M').mean()\n",
      "[*********************100%***********************]  1 of 1 completed\n",
      "/var/folders/n3/cwx8131570q5ljqcv1f22n6c0000gn/T/ipykernel_47973/2952105492.py:10: FutureWarning: 'M' is deprecated and will be removed in a future version, please use 'ME' instead.\n",
      "  monthly_sector = sector_df.resample('M').mean()\n"
     ]
    },
    {
     "name": "stdout",
     "output_type": "stream",
     "text": [
      "Sector: ^SP500-20\n",
      "Intercept: -0.009803073436826164\n",
      "Coefficients: [0.94606274]\n",
      "R^2 Score: 0.8158780954468614\n",
      "P-Values: \n",
      "[3.60274049e-01 1.18223456e-46]\n",
      "Processing sector: ^SP500-20\n",
      "Sector: ^SP500-20\n",
      "Intercept: -0.009803073436826164\n",
      "Coefficients: [0.94606274]\n",
      "R^2 Score: 0.8158780954468614\n",
      "P-Values: \n",
      "[3.60274049e-01 1.18223456e-46]\n",
      "Processing sector: ^SP500-20\n"
     ]
    },
    {
     "name": "stderr",
     "output_type": "stream",
     "text": [
      "[*********************100%***********************]  1 of 1 completed\n",
      "/var/folders/n3/cwx8131570q5ljqcv1f22n6c0000gn/T/ipykernel_47973/2952105492.py:10: FutureWarning: 'M' is deprecated and will be removed in a future version, please use 'ME' instead.\n",
      "  monthly_sector = sector_df.resample('M').mean()\n",
      "[*********************100%***********************]  1 of 1 completed\n",
      "/var/folders/n3/cwx8131570q5ljqcv1f22n6c0000gn/T/ipykernel_47973/2952105492.py:10: FutureWarning: 'M' is deprecated and will be removed in a future version, please use 'ME' instead.\n",
      "  monthly_sector = sector_df.resample('M').mean()\n",
      "[*********************100%***********************]  1 of 1 completed\n",
      "/var/folders/n3/cwx8131570q5ljqcv1f22n6c0000gn/T/ipykernel_47973/2952105492.py:10: FutureWarning: 'M' is deprecated and will be removed in a future version, please use 'ME' instead.\n",
      "  monthly_sector = sector_df.resample('M').mean()\n"
     ]
    },
    {
     "name": "stdout",
     "output_type": "stream",
     "text": [
      "Sector: ^SP500-20\n",
      "Intercept: -0.009803073436826164\n",
      "Coefficients: [0.94606274]\n",
      "R^2 Score: 0.8158780954468614\n",
      "P-Values: \n",
      "[3.60274049e-01 1.18223456e-46]\n",
      "Processing sector: ^SP500-20\n",
      "Sector: ^SP500-20\n",
      "Intercept: -0.009803073436826164\n",
      "Coefficients: [0.94606274]\n",
      "R^2 Score: 0.8158780954468614\n",
      "P-Values: \n",
      "[3.60274049e-01 1.18223456e-46]\n",
      "Processing sector: ^SP500-20\n",
      "Sector: ^SP500-20\n",
      "Intercept: -0.009803073436826164\n",
      "Coefficients: [0.94606274]\n",
      "R^2 Score: 0.8158780954468614\n",
      "P-Values: \n",
      "[3.60274049e-01 1.18223456e-46]\n",
      "Processing sector: ^SP500-20\n"
     ]
    },
    {
     "name": "stderr",
     "output_type": "stream",
     "text": [
      "[*********************100%***********************]  1 of 1 completed\n",
      "/var/folders/n3/cwx8131570q5ljqcv1f22n6c0000gn/T/ipykernel_47973/2952105492.py:10: FutureWarning: 'M' is deprecated and will be removed in a future version, please use 'ME' instead.\n",
      "  monthly_sector = sector_df.resample('M').mean()\n",
      "[*********************100%***********************]  1 of 1 completed\n",
      "/var/folders/n3/cwx8131570q5ljqcv1f22n6c0000gn/T/ipykernel_47973/2952105492.py:10: FutureWarning: 'M' is deprecated and will be removed in a future version, please use 'ME' instead.\n",
      "  monthly_sector = sector_df.resample('M').mean()\n"
     ]
    },
    {
     "name": "stdout",
     "output_type": "stream",
     "text": [
      "Sector: ^SP500-20\n",
      "Intercept: -0.009803073436826164\n",
      "Coefficients: [0.94606274]\n",
      "R^2 Score: 0.8158780954468614\n",
      "P-Values: \n",
      "[3.60274049e-01 1.18223456e-46]\n",
      "Processing sector: ^SP500-20\n",
      "Sector: ^SP500-20\n",
      "Intercept: -0.009803073436826164\n",
      "Coefficients: [0.94606274]\n",
      "R^2 Score: 0.8158780954468614\n",
      "P-Values: \n",
      "[3.60274049e-01 1.18223456e-46]\n",
      "Processing sector: ^SP500-20\n"
     ]
    },
    {
     "name": "stderr",
     "output_type": "stream",
     "text": [
      "[*********************100%***********************]  1 of 1 completed\n",
      "/var/folders/n3/cwx8131570q5ljqcv1f22n6c0000gn/T/ipykernel_47973/2952105492.py:10: FutureWarning: 'M' is deprecated and will be removed in a future version, please use 'ME' instead.\n",
      "  monthly_sector = sector_df.resample('M').mean()\n",
      "[*********************100%***********************]  1 of 1 completed\n",
      "/var/folders/n3/cwx8131570q5ljqcv1f22n6c0000gn/T/ipykernel_47973/2952105492.py:10: FutureWarning: 'M' is deprecated and will be removed in a future version, please use 'ME' instead.\n",
      "  monthly_sector = sector_df.resample('M').mean()\n",
      "[*********************100%***********************]  1 of 1 completed\n",
      "/var/folders/n3/cwx8131570q5ljqcv1f22n6c0000gn/T/ipykernel_47973/2952105492.py:10: FutureWarning: 'M' is deprecated and will be removed in a future version, please use 'ME' instead.\n",
      "  monthly_sector = sector_df.resample('M').mean()\n"
     ]
    },
    {
     "name": "stdout",
     "output_type": "stream",
     "text": [
      "Sector: ^SP500-20\n",
      "Intercept: -0.009803073436826164\n",
      "Coefficients: [0.94606274]\n",
      "R^2 Score: 0.8158780954468614\n",
      "P-Values: \n",
      "[3.60274049e-01 1.18223456e-46]\n",
      "Processing sector: ^SP500-20\n",
      "Sector: ^SP500-20\n",
      "Intercept: -0.009803073436826164\n",
      "Coefficients: [0.94606274]\n",
      "R^2 Score: 0.8158780954468614\n",
      "P-Values: \n",
      "[3.60274049e-01 1.18223456e-46]\n",
      "Processing sector: ^SP500-20\n",
      "Sector: ^SP500-20\n",
      "Intercept: -0.009803073436826164\n",
      "Coefficients: [0.94606274]\n",
      "R^2 Score: 0.8158780954468614\n",
      "P-Values: \n",
      "[3.60274049e-01 1.18223456e-46]\n",
      "Processing sector: ^SP500-20\n"
     ]
    },
    {
     "name": "stderr",
     "output_type": "stream",
     "text": [
      "[*********************100%***********************]  1 of 1 completed\n",
      "/var/folders/n3/cwx8131570q5ljqcv1f22n6c0000gn/T/ipykernel_47973/2952105492.py:10: FutureWarning: 'M' is deprecated and will be removed in a future version, please use 'ME' instead.\n",
      "  monthly_sector = sector_df.resample('M').mean()\n",
      "[*********************100%***********************]  1 of 1 completed\n",
      "/var/folders/n3/cwx8131570q5ljqcv1f22n6c0000gn/T/ipykernel_47973/2952105492.py:10: FutureWarning: 'M' is deprecated and will be removed in a future version, please use 'ME' instead.\n",
      "  monthly_sector = sector_df.resample('M').mean()\n",
      "[*********************100%***********************]  1 of 1 completed\n",
      "/var/folders/n3/cwx8131570q5ljqcv1f22n6c0000gn/T/ipykernel_47973/2952105492.py:10: FutureWarning: 'M' is deprecated and will be removed in a future version, please use 'ME' instead.\n",
      "  monthly_sector = sector_df.resample('M').mean()\n"
     ]
    },
    {
     "name": "stdout",
     "output_type": "stream",
     "text": [
      "Sector: ^SP500-20\n",
      "Intercept: -0.009803073436826164\n",
      "Coefficients: [0.94606274]\n",
      "R^2 Score: 0.8158780954468614\n",
      "P-Values: \n",
      "[3.60274049e-01 1.18223456e-46]\n",
      "Processing sector: ^SP500-20\n",
      "Sector: ^SP500-20\n",
      "Intercept: -0.009803073436826164\n",
      "Coefficients: [0.94606274]\n",
      "R^2 Score: 0.8158780954468614\n",
      "P-Values: \n",
      "[3.60274049e-01 1.18223456e-46]\n",
      "Processing sector: ^SP500-20\n",
      "Sector: ^SP500-20\n",
      "Intercept: -0.009803073436826164\n",
      "Coefficients: [0.94606274]\n",
      "R^2 Score: 0.8158780954468614\n",
      "P-Values: \n",
      "[3.60274049e-01 1.18223456e-46]\n",
      "Processing sector: ^SP500-20\n"
     ]
    },
    {
     "name": "stderr",
     "output_type": "stream",
     "text": [
      "[*********************100%***********************]  1 of 1 completed\n",
      "/var/folders/n3/cwx8131570q5ljqcv1f22n6c0000gn/T/ipykernel_47973/2952105492.py:10: FutureWarning: 'M' is deprecated and will be removed in a future version, please use 'ME' instead.\n",
      "  monthly_sector = sector_df.resample('M').mean()\n",
      "[*********************100%***********************]  1 of 1 completed\n",
      "/var/folders/n3/cwx8131570q5ljqcv1f22n6c0000gn/T/ipykernel_47973/2952105492.py:10: FutureWarning: 'M' is deprecated and will be removed in a future version, please use 'ME' instead.\n",
      "  monthly_sector = sector_df.resample('M').mean()\n",
      "[*********************100%***********************]  1 of 1 completed\n",
      "/var/folders/n3/cwx8131570q5ljqcv1f22n6c0000gn/T/ipykernel_47973/2952105492.py:10: FutureWarning: 'M' is deprecated and will be removed in a future version, please use 'ME' instead.\n",
      "  monthly_sector = sector_df.resample('M').mean()\n"
     ]
    },
    {
     "name": "stdout",
     "output_type": "stream",
     "text": [
      "Sector: ^SP500-20\n",
      "Intercept: -0.009803073436826164\n",
      "Coefficients: [0.94606274]\n",
      "R^2 Score: 0.8158780954468614\n",
      "P-Values: \n",
      "[3.60274049e-01 1.18223456e-46]\n",
      "Processing sector: ^SP500-20\n",
      "Sector: ^SP500-20\n",
      "Intercept: -0.009803073436826164\n",
      "Coefficients: [0.94606274]\n",
      "R^2 Score: 0.8158780954468614\n",
      "P-Values: \n",
      "[3.60274049e-01 1.18223456e-46]\n",
      "Processing sector: ^SP500-20\n",
      "Sector: ^SP500-20\n",
      "Intercept: -0.009803073436826164\n",
      "Coefficients: [0.94606274]\n",
      "R^2 Score: 0.8158780954468614\n",
      "P-Values: \n",
      "[3.60274049e-01 1.18223456e-46]\n",
      "Processing sector: ^SP500-20\n"
     ]
    },
    {
     "name": "stderr",
     "output_type": "stream",
     "text": [
      "[*********************100%***********************]  1 of 1 completed\n",
      "/var/folders/n3/cwx8131570q5ljqcv1f22n6c0000gn/T/ipykernel_47973/2952105492.py:10: FutureWarning: 'M' is deprecated and will be removed in a future version, please use 'ME' instead.\n",
      "  monthly_sector = sector_df.resample('M').mean()\n"
     ]
    },
    {
     "name": "stdout",
     "output_type": "stream",
     "text": [
      "Sector: ^SP500-20\n",
      "Intercept: -0.009803073436826164\n",
      "Coefficients: [0.94606274]\n",
      "R^2 Score: 0.8158780954468614\n",
      "P-Values: \n",
      "[3.60274049e-01 1.18223456e-46]\n",
      "Processing sector: ^SP500-20\n"
     ]
    },
    {
     "name": "stderr",
     "output_type": "stream",
     "text": [
      "[*********************100%***********************]  1 of 1 completed\n",
      "/var/folders/n3/cwx8131570q5ljqcv1f22n6c0000gn/T/ipykernel_47973/2952105492.py:10: FutureWarning: 'M' is deprecated and will be removed in a future version, please use 'ME' instead.\n",
      "  monthly_sector = sector_df.resample('M').mean()\n",
      "[*********************100%***********************]  1 of 1 completed\n",
      "/var/folders/n3/cwx8131570q5ljqcv1f22n6c0000gn/T/ipykernel_47973/2952105492.py:10: FutureWarning: 'M' is deprecated and will be removed in a future version, please use 'ME' instead.\n",
      "  monthly_sector = sector_df.resample('M').mean()\n",
      "[*********************100%***********************]  1 of 1 completed\n",
      "/var/folders/n3/cwx8131570q5ljqcv1f22n6c0000gn/T/ipykernel_47973/2952105492.py:10: FutureWarning: 'M' is deprecated and will be removed in a future version, please use 'ME' instead.\n",
      "  monthly_sector = sector_df.resample('M').mean()\n"
     ]
    },
    {
     "name": "stdout",
     "output_type": "stream",
     "text": [
      "Sector: ^SP500-20\n",
      "Intercept: -0.009803073436826164\n",
      "Coefficients: [0.94606274]\n",
      "R^2 Score: 0.8158780954468614\n",
      "P-Values: \n",
      "[3.60274049e-01 1.18223456e-46]\n",
      "Processing sector: ^SP500-20\n",
      "Sector: ^SP500-20\n",
      "Intercept: -0.009803073436826164\n",
      "Coefficients: [0.94606274]\n",
      "R^2 Score: 0.8158780954468614\n",
      "P-Values: \n",
      "[3.60274049e-01 1.18223456e-46]\n",
      "Processing sector: ^SP500-20\n",
      "Sector: ^SP500-20\n",
      "Intercept: -0.009803073436826164\n",
      "Coefficients: [0.94606274]\n",
      "R^2 Score: 0.8158780954468614\n",
      "P-Values: \n",
      "[3.60274049e-01 1.18223456e-46]\n",
      "Processing sector: ^SP500-20\n"
     ]
    },
    {
     "name": "stderr",
     "output_type": "stream",
     "text": [
      "[*********************100%***********************]  1 of 1 completed\n",
      "/var/folders/n3/cwx8131570q5ljqcv1f22n6c0000gn/T/ipykernel_47973/2952105492.py:10: FutureWarning: 'M' is deprecated and will be removed in a future version, please use 'ME' instead.\n",
      "  monthly_sector = sector_df.resample('M').mean()\n",
      "[*********************100%***********************]  1 of 1 completed\n",
      "/var/folders/n3/cwx8131570q5ljqcv1f22n6c0000gn/T/ipykernel_47973/2952105492.py:10: FutureWarning: 'M' is deprecated and will be removed in a future version, please use 'ME' instead.\n",
      "  monthly_sector = sector_df.resample('M').mean()\n",
      "[*********************100%***********************]  1 of 1 completed\n",
      "/var/folders/n3/cwx8131570q5ljqcv1f22n6c0000gn/T/ipykernel_47973/2952105492.py:10: FutureWarning: 'M' is deprecated and will be removed in a future version, please use 'ME' instead.\n",
      "  monthly_sector = sector_df.resample('M').mean()\n",
      "[*********************100%***********************]  1 of 1 completed"
     ]
    },
    {
     "name": "stdout",
     "output_type": "stream",
     "text": [
      "Sector: ^SP500-20\n",
      "Intercept: -0.009803073436826164\n",
      "Coefficients: [0.94606274]\n",
      "R^2 Score: 0.8158780954468614\n",
      "P-Values: \n",
      "[3.60274049e-01 1.18223456e-46]\n",
      "Processing sector: ^SP500-20\n",
      "Sector: ^SP500-20\n",
      "Intercept: -0.009803073436826164\n",
      "Coefficients: [0.94606274]\n",
      "R^2 Score: 0.8158780954468614\n",
      "P-Values: \n",
      "[3.60274049e-01 1.18223456e-46]\n",
      "Processing sector: ^SP500-20\n",
      "Sector: ^SP500-20\n",
      "Intercept: -0.009803073436826164\n",
      "Coefficients: [0.94606274]\n",
      "R^2 Score: 0.8158780954468614\n",
      "P-Values: \n",
      "[3.60274049e-01 1.18223456e-46]\n",
      "Processing sector: ^SP500-20\n"
     ]
    },
    {
     "name": "stderr",
     "output_type": "stream",
     "text": [
      "\n",
      "/var/folders/n3/cwx8131570q5ljqcv1f22n6c0000gn/T/ipykernel_47973/2952105492.py:10: FutureWarning: 'M' is deprecated and will be removed in a future version, please use 'ME' instead.\n",
      "  monthly_sector = sector_df.resample('M').mean()\n",
      "[*********************100%***********************]  1 of 1 completed\n",
      "/var/folders/n3/cwx8131570q5ljqcv1f22n6c0000gn/T/ipykernel_47973/2952105492.py:10: FutureWarning: 'M' is deprecated and will be removed in a future version, please use 'ME' instead.\n",
      "  monthly_sector = sector_df.resample('M').mean()\n",
      "[*********************100%***********************]  1 of 1 completed\n",
      "/var/folders/n3/cwx8131570q5ljqcv1f22n6c0000gn/T/ipykernel_47973/2952105492.py:10: FutureWarning: 'M' is deprecated and will be removed in a future version, please use 'ME' instead.\n",
      "  monthly_sector = sector_df.resample('M').mean()\n"
     ]
    },
    {
     "name": "stdout",
     "output_type": "stream",
     "text": [
      "Sector: ^SP500-20\n",
      "Intercept: -0.009803073436826164\n",
      "Coefficients: [0.94606274]\n",
      "R^2 Score: 0.8158780954468614\n",
      "P-Values: \n",
      "[3.60274049e-01 1.18223456e-46]\n",
      "Processing sector: ^SP500-20\n",
      "Sector: ^SP500-20\n",
      "Intercept: -0.009803073436826164\n",
      "Coefficients: [0.94606274]\n",
      "R^2 Score: 0.8158780954468614\n",
      "P-Values: \n",
      "[3.60274049e-01 1.18223456e-46]\n",
      "Processing sector: ^SP500-20\n",
      "Sector: ^SP500-20\n",
      "Intercept: -0.009803073436826164\n",
      "Coefficients: [0.94606274]\n",
      "R^2 Score: 0.8158780954468614\n",
      "P-Values: \n",
      "[3.60274049e-01 1.18223456e-46]\n",
      "Processing sector: ^SP500-20\n"
     ]
    },
    {
     "name": "stderr",
     "output_type": "stream",
     "text": [
      "[*********************100%***********************]  1 of 1 completed\n",
      "/var/folders/n3/cwx8131570q5ljqcv1f22n6c0000gn/T/ipykernel_47973/2952105492.py:10: FutureWarning: 'M' is deprecated and will be removed in a future version, please use 'ME' instead.\n",
      "  monthly_sector = sector_df.resample('M').mean()\n",
      "[*********************100%***********************]  1 of 1 completed\n",
      "/var/folders/n3/cwx8131570q5ljqcv1f22n6c0000gn/T/ipykernel_47973/2952105492.py:10: FutureWarning: 'M' is deprecated and will be removed in a future version, please use 'ME' instead.\n",
      "  monthly_sector = sector_df.resample('M').mean()\n"
     ]
    },
    {
     "name": "stdout",
     "output_type": "stream",
     "text": [
      "Sector: ^SP500-20\n",
      "Intercept: -0.009803073436826164\n",
      "Coefficients: [0.94606274]\n",
      "R^2 Score: 0.8158780954468614\n",
      "P-Values: \n",
      "[3.60274049e-01 1.18223456e-46]\n",
      "Processing sector: ^SP500-20\n",
      "Sector: ^SP500-20\n",
      "Intercept: -0.009803073436826164\n",
      "Coefficients: [0.94606274]\n",
      "R^2 Score: 0.8158780954468614\n",
      "P-Values: \n",
      "[3.60274049e-01 1.18223456e-46]\n",
      "Processing sector: ^SP500-20\n"
     ]
    },
    {
     "name": "stderr",
     "output_type": "stream",
     "text": [
      "[*********************100%***********************]  1 of 1 completed\n",
      "/var/folders/n3/cwx8131570q5ljqcv1f22n6c0000gn/T/ipykernel_47973/2952105492.py:10: FutureWarning: 'M' is deprecated and will be removed in a future version, please use 'ME' instead.\n",
      "  monthly_sector = sector_df.resample('M').mean()\n",
      "[*********************100%***********************]  1 of 1 completed\n",
      "/var/folders/n3/cwx8131570q5ljqcv1f22n6c0000gn/T/ipykernel_47973/2952105492.py:10: FutureWarning: 'M' is deprecated and will be removed in a future version, please use 'ME' instead.\n",
      "  monthly_sector = sector_df.resample('M').mean()\n",
      "[*********************100%***********************]  1 of 1 completed\n",
      "/var/folders/n3/cwx8131570q5ljqcv1f22n6c0000gn/T/ipykernel_47973/2952105492.py:10: FutureWarning: 'M' is deprecated and will be removed in a future version, please use 'ME' instead.\n",
      "  monthly_sector = sector_df.resample('M').mean()\n"
     ]
    },
    {
     "name": "stdout",
     "output_type": "stream",
     "text": [
      "Sector: ^SP500-20\n",
      "Intercept: -0.009803073436826164\n",
      "Coefficients: [0.94606274]\n",
      "R^2 Score: 0.8158780954468614\n",
      "P-Values: \n",
      "[3.60274049e-01 1.18223456e-46]\n",
      "Processing sector: ^SP500-20\n",
      "Sector: ^SP500-20\n",
      "Intercept: -0.009803073436826164\n",
      "Coefficients: [0.94606274]\n",
      "R^2 Score: 0.8158780954468614\n",
      "P-Values: \n",
      "[3.60274049e-01 1.18223456e-46]\n",
      "Processing sector: ^SP500-20\n",
      "Sector: ^SP500-20\n",
      "Intercept: -0.009803073436826164\n",
      "Coefficients: [0.94606274]\n",
      "R^2 Score: 0.8158780954468614\n",
      "P-Values: \n",
      "[3.60274049e-01 1.18223456e-46]\n",
      "Processing sector: ^SP500-20\n"
     ]
    },
    {
     "name": "stderr",
     "output_type": "stream",
     "text": [
      "[*********************100%***********************]  1 of 1 completed\n",
      "/var/folders/n3/cwx8131570q5ljqcv1f22n6c0000gn/T/ipykernel_47973/2952105492.py:10: FutureWarning: 'M' is deprecated and will be removed in a future version, please use 'ME' instead.\n",
      "  monthly_sector = sector_df.resample('M').mean()\n",
      "[*********************100%***********************]  1 of 1 completed\n",
      "/var/folders/n3/cwx8131570q5ljqcv1f22n6c0000gn/T/ipykernel_47973/2952105492.py:10: FutureWarning: 'M' is deprecated and will be removed in a future version, please use 'ME' instead.\n",
      "  monthly_sector = sector_df.resample('M').mean()\n",
      "[*********************100%***********************]  1 of 1 completed\n",
      "/var/folders/n3/cwx8131570q5ljqcv1f22n6c0000gn/T/ipykernel_47973/2952105492.py:10: FutureWarning: 'M' is deprecated and will be removed in a future version, please use 'ME' instead.\n",
      "  monthly_sector = sector_df.resample('M').mean()\n",
      "[*********************100%***********************]  1 of 1 completed"
     ]
    },
    {
     "name": "stdout",
     "output_type": "stream",
     "text": [
      "Sector: ^SP500-20\n",
      "Intercept: -0.009803073436826164\n",
      "Coefficients: [0.94606274]\n",
      "R^2 Score: 0.8158780954468614\n",
      "P-Values: \n",
      "[3.60274049e-01 1.18223456e-46]\n",
      "Processing sector: ^SP500-20\n",
      "Sector: ^SP500-20\n",
      "Intercept: -0.009803073436826164\n",
      "Coefficients: [0.94606274]\n",
      "R^2 Score: 0.8158780954468614\n",
      "P-Values: \n",
      "[3.60274049e-01 1.18223456e-46]\n",
      "Processing sector: ^SP500-20\n",
      "Sector: ^SP500-20\n",
      "Intercept: -0.009803073436826164\n",
      "Coefficients: [0.94606274]\n",
      "R^2 Score: 0.8158780954468614\n",
      "P-Values: \n",
      "[3.60274049e-01 1.18223456e-46]\n",
      "Processing sector: ^SP500-20\n"
     ]
    },
    {
     "name": "stderr",
     "output_type": "stream",
     "text": [
      "\n",
      "/var/folders/n3/cwx8131570q5ljqcv1f22n6c0000gn/T/ipykernel_47973/2952105492.py:10: FutureWarning: 'M' is deprecated and will be removed in a future version, please use 'ME' instead.\n",
      "  monthly_sector = sector_df.resample('M').mean()\n",
      "[*********************100%***********************]  1 of 1 completed\n",
      "/var/folders/n3/cwx8131570q5ljqcv1f22n6c0000gn/T/ipykernel_47973/2952105492.py:10: FutureWarning: 'M' is deprecated and will be removed in a future version, please use 'ME' instead.\n",
      "  monthly_sector = sector_df.resample('M').mean()\n",
      "[*********************100%***********************]  1 of 1 completed\n",
      "/var/folders/n3/cwx8131570q5ljqcv1f22n6c0000gn/T/ipykernel_47973/2952105492.py:10: FutureWarning: 'M' is deprecated and will be removed in a future version, please use 'ME' instead.\n",
      "  monthly_sector = sector_df.resample('M').mean()\n"
     ]
    },
    {
     "name": "stdout",
     "output_type": "stream",
     "text": [
      "Sector: ^SP500-20\n",
      "Intercept: -0.009803073436826164\n",
      "Coefficients: [0.94606274]\n",
      "R^2 Score: 0.8158780954468614\n",
      "P-Values: \n",
      "[3.60274049e-01 1.18223456e-46]\n",
      "Processing sector: ^SP500-20\n",
      "Sector: ^SP500-20\n",
      "Intercept: -0.009803073436826164\n",
      "Coefficients: [0.94606274]\n",
      "R^2 Score: 0.8158780954468614\n",
      "P-Values: \n",
      "[3.60274049e-01 1.18223456e-46]\n",
      "Processing sector: ^SP500-20\n",
      "Sector: ^SP500-20\n",
      "Intercept: -0.009803073436826164\n",
      "Coefficients: [0.94606274]\n",
      "R^2 Score: 0.8158780954468614\n",
      "P-Values: \n",
      "[3.60274049e-01 1.18223456e-46]\n",
      "Processing sector: ^SP500-20\n"
     ]
    },
    {
     "name": "stderr",
     "output_type": "stream",
     "text": [
      "[*********************100%***********************]  1 of 1 completed\n",
      "/var/folders/n3/cwx8131570q5ljqcv1f22n6c0000gn/T/ipykernel_47973/2952105492.py:10: FutureWarning: 'M' is deprecated and will be removed in a future version, please use 'ME' instead.\n",
      "  monthly_sector = sector_df.resample('M').mean()\n",
      "[*********************100%***********************]  1 of 1 completed\n",
      "/var/folders/n3/cwx8131570q5ljqcv1f22n6c0000gn/T/ipykernel_47973/2952105492.py:10: FutureWarning: 'M' is deprecated and will be removed in a future version, please use 'ME' instead.\n",
      "  monthly_sector = sector_df.resample('M').mean()\n",
      "[*********************100%***********************]  1 of 1 completed\n",
      "/var/folders/n3/cwx8131570q5ljqcv1f22n6c0000gn/T/ipykernel_47973/2952105492.py:10: FutureWarning: 'M' is deprecated and will be removed in a future version, please use 'ME' instead.\n",
      "  monthly_sector = sector_df.resample('M').mean()\n"
     ]
    },
    {
     "name": "stdout",
     "output_type": "stream",
     "text": [
      "Sector: ^SP500-20\n",
      "Intercept: -0.009803073436826164\n",
      "Coefficients: [0.94606274]\n",
      "R^2 Score: 0.8158780954468614\n",
      "P-Values: \n",
      "[3.60274049e-01 1.18223456e-46]\n",
      "Processing sector: ^SP500-20\n",
      "Sector: ^SP500-20\n",
      "Intercept: -0.009803073436826164\n",
      "Coefficients: [0.94606274]\n",
      "R^2 Score: 0.8158780954468614\n",
      "P-Values: \n",
      "[3.60274049e-01 1.18223456e-46]\n",
      "Processing sector: ^SP500-20\n",
      "Sector: ^SP500-20\n",
      "Intercept: -0.009803073436826164\n",
      "Coefficients: [0.94606274]\n",
      "R^2 Score: 0.8158780954468614\n",
      "P-Values: \n",
      "[3.60274049e-01 1.18223456e-46]\n",
      "Processing sector: ^SP500-20\n"
     ]
    },
    {
     "name": "stderr",
     "output_type": "stream",
     "text": [
      "[*********************100%***********************]  1 of 1 completed\n",
      "/var/folders/n3/cwx8131570q5ljqcv1f22n6c0000gn/T/ipykernel_47973/2952105492.py:10: FutureWarning: 'M' is deprecated and will be removed in a future version, please use 'ME' instead.\n",
      "  monthly_sector = sector_df.resample('M').mean()\n",
      "[*********************100%***********************]  1 of 1 completed\n",
      "/var/folders/n3/cwx8131570q5ljqcv1f22n6c0000gn/T/ipykernel_47973/2952105492.py:10: FutureWarning: 'M' is deprecated and will be removed in a future version, please use 'ME' instead.\n",
      "  monthly_sector = sector_df.resample('M').mean()\n",
      "[*********************100%***********************]  1 of 1 completed\n",
      "/var/folders/n3/cwx8131570q5ljqcv1f22n6c0000gn/T/ipykernel_47973/2952105492.py:10: FutureWarning: 'M' is deprecated and will be removed in a future version, please use 'ME' instead.\n",
      "  monthly_sector = sector_df.resample('M').mean()\n"
     ]
    },
    {
     "name": "stdout",
     "output_type": "stream",
     "text": [
      "Sector: ^SP500-20\n",
      "Intercept: -0.009803073436826164\n",
      "Coefficients: [0.94606274]\n",
      "R^2 Score: 0.8158780954468614\n",
      "P-Values: \n",
      "[3.60274049e-01 1.18223456e-46]\n",
      "Processing sector: ^SP500-20\n",
      "Sector: ^SP500-20\n",
      "Intercept: -0.009803073436826164\n",
      "Coefficients: [0.94606274]\n",
      "R^2 Score: 0.8158780954468614\n",
      "P-Values: \n",
      "[3.60274049e-01 1.18223456e-46]\n",
      "Processing sector: ^SP500-20\n",
      "Sector: ^SP500-20\n",
      "Intercept: -0.009803073436826164\n",
      "Coefficients: [0.94606274]\n",
      "R^2 Score: 0.8158780954468614\n",
      "P-Values: \n",
      "[3.60274049e-01 1.18223456e-46]\n",
      "Processing sector: ^SP500-20\n"
     ]
    },
    {
     "name": "stderr",
     "output_type": "stream",
     "text": [
      "[*********************100%***********************]  1 of 1 completed\n",
      "/var/folders/n3/cwx8131570q5ljqcv1f22n6c0000gn/T/ipykernel_47973/2952105492.py:10: FutureWarning: 'M' is deprecated and will be removed in a future version, please use 'ME' instead.\n",
      "  monthly_sector = sector_df.resample('M').mean()\n",
      "[*********************100%***********************]  1 of 1 completed\n",
      "/var/folders/n3/cwx8131570q5ljqcv1f22n6c0000gn/T/ipykernel_47973/2952105492.py:10: FutureWarning: 'M' is deprecated and will be removed in a future version, please use 'ME' instead.\n",
      "  monthly_sector = sector_df.resample('M').mean()\n",
      "[*********************100%***********************]  1 of 1 completed\n",
      "/var/folders/n3/cwx8131570q5ljqcv1f22n6c0000gn/T/ipykernel_47973/2952105492.py:10: FutureWarning: 'M' is deprecated and will be removed in a future version, please use 'ME' instead.\n",
      "  monthly_sector = sector_df.resample('M').mean()\n"
     ]
    },
    {
     "name": "stdout",
     "output_type": "stream",
     "text": [
      "Sector: ^SP500-20\n",
      "Intercept: -0.009803073436826164\n",
      "Coefficients: [0.94606274]\n",
      "R^2 Score: 0.8158780954468614\n",
      "P-Values: \n",
      "[3.60274049e-01 1.18223456e-46]\n",
      "Processing sector: ^SP500-20\n",
      "Sector: ^SP500-20\n",
      "Intercept: -0.009803073436826164\n",
      "Coefficients: [0.94606274]\n",
      "R^2 Score: 0.8158780954468614\n",
      "P-Values: \n",
      "[3.60274049e-01 1.18223456e-46]\n",
      "Processing sector: ^SP500-20\n",
      "Sector: ^SP500-20\n",
      "Intercept: -0.009803073436826164\n",
      "Coefficients: [0.94606274]\n",
      "R^2 Score: 0.8158780954468614\n",
      "P-Values: \n",
      "[3.60274049e-01 1.18223456e-46]\n",
      "Processing sector: ^SP500-20\n"
     ]
    },
    {
     "name": "stderr",
     "output_type": "stream",
     "text": [
      "[*********************100%***********************]  1 of 1 completed\n",
      "/var/folders/n3/cwx8131570q5ljqcv1f22n6c0000gn/T/ipykernel_47973/2952105492.py:10: FutureWarning: 'M' is deprecated and will be removed in a future version, please use 'ME' instead.\n",
      "  monthly_sector = sector_df.resample('M').mean()\n",
      "[*********************100%***********************]  1 of 1 completed\n",
      "/var/folders/n3/cwx8131570q5ljqcv1f22n6c0000gn/T/ipykernel_47973/2952105492.py:10: FutureWarning: 'M' is deprecated and will be removed in a future version, please use 'ME' instead.\n",
      "  monthly_sector = sector_df.resample('M').mean()\n"
     ]
    },
    {
     "name": "stdout",
     "output_type": "stream",
     "text": [
      "Sector: ^SP500-20\n",
      "Intercept: -0.009803073436826164\n",
      "Coefficients: [0.94606274]\n",
      "R^2 Score: 0.8158780954468614\n",
      "P-Values: \n",
      "[3.60274049e-01 1.18223456e-46]\n",
      "Processing sector: ^SP500-20\n",
      "Sector: ^SP500-20\n",
      "Intercept: -0.009803073436826164\n",
      "Coefficients: [0.94606274]\n",
      "R^2 Score: 0.8158780954468614\n",
      "P-Values: \n",
      "[3.60274049e-01 1.18223456e-46]\n",
      "Processing sector: ^SP500-20\n"
     ]
    },
    {
     "name": "stderr",
     "output_type": "stream",
     "text": [
      "[*********************100%***********************]  1 of 1 completed\n",
      "/var/folders/n3/cwx8131570q5ljqcv1f22n6c0000gn/T/ipykernel_47973/2952105492.py:10: FutureWarning: 'M' is deprecated and will be removed in a future version, please use 'ME' instead.\n",
      "  monthly_sector = sector_df.resample('M').mean()\n",
      "[*********************100%***********************]  1 of 1 completed\n",
      "/var/folders/n3/cwx8131570q5ljqcv1f22n6c0000gn/T/ipykernel_47973/2952105492.py:10: FutureWarning: 'M' is deprecated and will be removed in a future version, please use 'ME' instead.\n",
      "  monthly_sector = sector_df.resample('M').mean()\n",
      "[*********************100%***********************]  1 of 1 completed\n",
      "/var/folders/n3/cwx8131570q5ljqcv1f22n6c0000gn/T/ipykernel_47973/2952105492.py:10: FutureWarning: 'M' is deprecated and will be removed in a future version, please use 'ME' instead.\n",
      "  monthly_sector = sector_df.resample('M').mean()\n"
     ]
    },
    {
     "name": "stdout",
     "output_type": "stream",
     "text": [
      "Sector: ^SP500-20\n",
      "Intercept: -0.009803073436826164\n",
      "Coefficients: [0.94606274]\n",
      "R^2 Score: 0.8158780954468614\n",
      "P-Values: \n",
      "[3.60274049e-01 1.18223456e-46]\n",
      "Processing sector: ^SP500-20\n",
      "Sector: ^SP500-20\n",
      "Intercept: -0.009803073436826164\n",
      "Coefficients: [0.94606274]\n",
      "R^2 Score: 0.8158780954468614\n",
      "P-Values: \n",
      "[3.60274049e-01 1.18223456e-46]\n",
      "Processing sector: ^SP500-20\n",
      "Sector: ^SP500-20\n",
      "Intercept: -0.009803073436826164\n",
      "Coefficients: [0.94606274]\n",
      "R^2 Score: 0.8158780954468614\n",
      "P-Values: \n",
      "[3.60274049e-01 1.18223456e-46]\n",
      "Processing sector: ^SP500-20\n"
     ]
    },
    {
     "name": "stderr",
     "output_type": "stream",
     "text": [
      "[*********************100%***********************]  1 of 1 completed\n",
      "/var/folders/n3/cwx8131570q5ljqcv1f22n6c0000gn/T/ipykernel_47973/2952105492.py:10: FutureWarning: 'M' is deprecated and will be removed in a future version, please use 'ME' instead.\n",
      "  monthly_sector = sector_df.resample('M').mean()\n",
      "[*********************100%***********************]  1 of 1 completed\n",
      "/var/folders/n3/cwx8131570q5ljqcv1f22n6c0000gn/T/ipykernel_47973/2952105492.py:10: FutureWarning: 'M' is deprecated and will be removed in a future version, please use 'ME' instead.\n",
      "  monthly_sector = sector_df.resample('M').mean()\n",
      "[*********************100%***********************]  1 of 1 completed\n",
      "/var/folders/n3/cwx8131570q5ljqcv1f22n6c0000gn/T/ipykernel_47973/2952105492.py:10: FutureWarning: 'M' is deprecated and will be removed in a future version, please use 'ME' instead.\n",
      "  monthly_sector = sector_df.resample('M').mean()\n"
     ]
    },
    {
     "name": "stdout",
     "output_type": "stream",
     "text": [
      "Sector: ^SP500-20\n",
      "Intercept: -0.009803073436826164\n",
      "Coefficients: [0.94606274]\n",
      "R^2 Score: 0.8158780954468614\n",
      "P-Values: \n",
      "[3.60274049e-01 1.18223456e-46]\n",
      "Processing sector: ^SP500-20\n",
      "Sector: ^SP500-20\n",
      "Intercept: -0.009803073436826164\n",
      "Coefficients: [0.94606274]\n",
      "R^2 Score: 0.8158780954468614\n",
      "P-Values: \n",
      "[3.60274049e-01 1.18223456e-46]\n",
      "Processing sector: ^SP500-20\n",
      "Sector: ^SP500-20\n",
      "Intercept: -0.009803073436826164\n",
      "Coefficients: [0.94606274]\n",
      "R^2 Score: 0.8158780954468614\n",
      "P-Values: \n",
      "[3.60274049e-01 1.18223456e-46]\n",
      "Processing sector: ^SP500-20\n"
     ]
    },
    {
     "name": "stderr",
     "output_type": "stream",
     "text": [
      "[*********************100%***********************]  1 of 1 completed\n",
      "/var/folders/n3/cwx8131570q5ljqcv1f22n6c0000gn/T/ipykernel_47973/2952105492.py:10: FutureWarning: 'M' is deprecated and will be removed in a future version, please use 'ME' instead.\n",
      "  monthly_sector = sector_df.resample('M').mean()\n",
      "[*********************100%***********************]  1 of 1 completed\n",
      "/var/folders/n3/cwx8131570q5ljqcv1f22n6c0000gn/T/ipykernel_47973/2952105492.py:10: FutureWarning: 'M' is deprecated and will be removed in a future version, please use 'ME' instead.\n",
      "  monthly_sector = sector_df.resample('M').mean()\n",
      "[*********************100%***********************]  1 of 1 completed\n",
      "/var/folders/n3/cwx8131570q5ljqcv1f22n6c0000gn/T/ipykernel_47973/2952105492.py:10: FutureWarning: 'M' is deprecated and will be removed in a future version, please use 'ME' instead.\n",
      "  monthly_sector = sector_df.resample('M').mean()\n"
     ]
    },
    {
     "name": "stdout",
     "output_type": "stream",
     "text": [
      "Sector: ^SP500-20\n",
      "Intercept: -0.009803073436826164\n",
      "Coefficients: [0.94606274]\n",
      "R^2 Score: 0.8158780954468614\n",
      "P-Values: \n",
      "[3.60274049e-01 1.18223456e-46]\n",
      "Processing sector: ^SP500-20\n",
      "Sector: ^SP500-20\n",
      "Intercept: -0.009803073436826164\n",
      "Coefficients: [0.94606274]\n",
      "R^2 Score: 0.8158780954468614\n",
      "P-Values: \n",
      "[3.60274049e-01 1.18223456e-46]\n",
      "Processing sector: ^SP500-20\n",
      "Sector: ^SP500-20\n",
      "Intercept: -0.009803073436826164\n",
      "Coefficients: [0.94606274]\n",
      "R^2 Score: 0.8158780954468614\n",
      "P-Values: \n",
      "[3.60274049e-01 1.18223456e-46]\n",
      "Processing sector: ^SP500-20\n"
     ]
    },
    {
     "name": "stderr",
     "output_type": "stream",
     "text": [
      "[*********************100%***********************]  1 of 1 completed\n",
      "/var/folders/n3/cwx8131570q5ljqcv1f22n6c0000gn/T/ipykernel_47973/2952105492.py:10: FutureWarning: 'M' is deprecated and will be removed in a future version, please use 'ME' instead.\n",
      "  monthly_sector = sector_df.resample('M').mean()\n",
      "[*********************100%***********************]  1 of 1 completed\n",
      "/var/folders/n3/cwx8131570q5ljqcv1f22n6c0000gn/T/ipykernel_47973/2952105492.py:10: FutureWarning: 'M' is deprecated and will be removed in a future version, please use 'ME' instead.\n",
      "  monthly_sector = sector_df.resample('M').mean()\n"
     ]
    },
    {
     "name": "stdout",
     "output_type": "stream",
     "text": [
      "Sector: ^SP500-20\n",
      "Intercept: -0.009803073436826164\n",
      "Coefficients: [0.94606274]\n",
      "R^2 Score: 0.8158780954468614\n",
      "P-Values: \n",
      "[3.60274049e-01 1.18223456e-46]\n",
      "Processing sector: ^SP500-20\n",
      "Sector: ^SP500-20\n",
      "Intercept: -0.009803073436826164\n",
      "Coefficients: [0.94606274]\n",
      "R^2 Score: 0.8158780954468614\n",
      "P-Values: \n",
      "[3.60274049e-01 1.18223456e-46]\n",
      "Processing sector: ^SP500-20\n"
     ]
    },
    {
     "name": "stderr",
     "output_type": "stream",
     "text": [
      "[*********************100%***********************]  1 of 1 completed\n",
      "/var/folders/n3/cwx8131570q5ljqcv1f22n6c0000gn/T/ipykernel_47973/2952105492.py:10: FutureWarning: 'M' is deprecated and will be removed in a future version, please use 'ME' instead.\n",
      "  monthly_sector = sector_df.resample('M').mean()\n",
      "[*********************100%***********************]  1 of 1 completed\n",
      "/var/folders/n3/cwx8131570q5ljqcv1f22n6c0000gn/T/ipykernel_47973/2952105492.py:10: FutureWarning: 'M' is deprecated and will be removed in a future version, please use 'ME' instead.\n",
      "  monthly_sector = sector_df.resample('M').mean()\n"
     ]
    },
    {
     "name": "stdout",
     "output_type": "stream",
     "text": [
      "Sector: ^SP500-20\n",
      "Intercept: -0.009803073436826164\n",
      "Coefficients: [0.94606274]\n",
      "R^2 Score: 0.8158780954468614\n",
      "P-Values: \n",
      "[3.60274049e-01 1.18223456e-46]\n",
      "Processing sector: ^SP500-20\n",
      "Sector: ^SP500-20\n",
      "Intercept: -0.009803073436826164\n",
      "Coefficients: [0.94606274]\n",
      "R^2 Score: 0.8158780954468614\n",
      "P-Values: \n",
      "[3.60274049e-01 1.18223456e-46]\n",
      "Processing sector: ^SP500-20\n"
     ]
    },
    {
     "name": "stderr",
     "output_type": "stream",
     "text": [
      "[*********************100%***********************]  1 of 1 completed\n",
      "/var/folders/n3/cwx8131570q5ljqcv1f22n6c0000gn/T/ipykernel_47973/2952105492.py:10: FutureWarning: 'M' is deprecated and will be removed in a future version, please use 'ME' instead.\n",
      "  monthly_sector = sector_df.resample('M').mean()\n",
      "[*********************100%***********************]  1 of 1 completed\n",
      "/var/folders/n3/cwx8131570q5ljqcv1f22n6c0000gn/T/ipykernel_47973/2952105492.py:10: FutureWarning: 'M' is deprecated and will be removed in a future version, please use 'ME' instead.\n",
      "  monthly_sector = sector_df.resample('M').mean()\n",
      "[*********************100%***********************]  1 of 1 completed\n",
      "/var/folders/n3/cwx8131570q5ljqcv1f22n6c0000gn/T/ipykernel_47973/2952105492.py:10: FutureWarning: 'M' is deprecated and will be removed in a future version, please use 'ME' instead.\n",
      "  monthly_sector = sector_df.resample('M').mean()\n"
     ]
    },
    {
     "name": "stdout",
     "output_type": "stream",
     "text": [
      "Sector: ^SP500-20\n",
      "Intercept: -0.009803073436826164\n",
      "Coefficients: [0.94606274]\n",
      "R^2 Score: 0.8158780954468614\n",
      "P-Values: \n",
      "[3.60274049e-01 1.18223456e-46]\n",
      "Processing sector: ^SP500-20\n",
      "Sector: ^SP500-20\n",
      "Intercept: -0.009803073436826164\n",
      "Coefficients: [0.94606274]\n",
      "R^2 Score: 0.8158780954468614\n",
      "P-Values: \n",
      "[3.60274049e-01 1.18223456e-46]\n",
      "Processing sector: ^SP500-20\n",
      "Sector: ^SP500-20\n",
      "Intercept: -0.009803073436826164\n",
      "Coefficients: [0.94606274]\n",
      "R^2 Score: 0.8158780954468614\n",
      "P-Values: \n",
      "[3.60274049e-01 1.18223456e-46]\n",
      "Processing sector: ^SP500-20\n"
     ]
    },
    {
     "name": "stderr",
     "output_type": "stream",
     "text": [
      "[*********************100%***********************]  1 of 1 completed\n",
      "/var/folders/n3/cwx8131570q5ljqcv1f22n6c0000gn/T/ipykernel_47973/2952105492.py:10: FutureWarning: 'M' is deprecated and will be removed in a future version, please use 'ME' instead.\n",
      "  monthly_sector = sector_df.resample('M').mean()\n"
     ]
    },
    {
     "name": "stdout",
     "output_type": "stream",
     "text": [
      "Sector: ^SP500-20\n",
      "Intercept: -0.009803073436826164\n",
      "Coefficients: [0.94606274]\n",
      "R^2 Score: 0.8158780954468614\n",
      "P-Values: \n",
      "[3.60274049e-01 1.18223456e-46]\n",
      "Processing sector: ^SP500-20\n"
     ]
    },
    {
     "name": "stderr",
     "output_type": "stream",
     "text": [
      "[*********************100%***********************]  1 of 1 completed\n",
      "/var/folders/n3/cwx8131570q5ljqcv1f22n6c0000gn/T/ipykernel_47973/2952105492.py:10: FutureWarning: 'M' is deprecated and will be removed in a future version, please use 'ME' instead.\n",
      "  monthly_sector = sector_df.resample('M').mean()\n",
      "[*********************100%***********************]  1 of 1 completed\n",
      "/var/folders/n3/cwx8131570q5ljqcv1f22n6c0000gn/T/ipykernel_47973/2952105492.py:10: FutureWarning: 'M' is deprecated and will be removed in a future version, please use 'ME' instead.\n",
      "  monthly_sector = sector_df.resample('M').mean()\n"
     ]
    },
    {
     "name": "stdout",
     "output_type": "stream",
     "text": [
      "Sector: ^SP500-20\n",
      "Intercept: -0.009803073436826164\n",
      "Coefficients: [0.94606274]\n",
      "R^2 Score: 0.8158780954468614\n",
      "P-Values: \n",
      "[3.60274049e-01 1.18223456e-46]\n",
      "Processing sector: ^SP500-20\n",
      "Sector: ^SP500-20\n",
      "Intercept: -0.009803073436826164\n",
      "Coefficients: [0.94606274]\n",
      "R^2 Score: 0.8158780954468614\n",
      "P-Values: \n",
      "[3.60274049e-01 1.18223456e-46]\n",
      "Processing sector: ^SP500-45\n"
     ]
    },
    {
     "name": "stderr",
     "output_type": "stream",
     "text": [
      "[*********************100%***********************]  1 of 1 completed\n",
      "/var/folders/n3/cwx8131570q5ljqcv1f22n6c0000gn/T/ipykernel_47973/2952105492.py:10: FutureWarning: 'M' is deprecated and will be removed in a future version, please use 'ME' instead.\n",
      "  monthly_sector = sector_df.resample('M').mean()\n",
      "[*********************100%***********************]  1 of 1 completed\n",
      "/var/folders/n3/cwx8131570q5ljqcv1f22n6c0000gn/T/ipykernel_47973/2952105492.py:10: FutureWarning: 'M' is deprecated and will be removed in a future version, please use 'ME' instead.\n",
      "  monthly_sector = sector_df.resample('M').mean()\n"
     ]
    },
    {
     "name": "stdout",
     "output_type": "stream",
     "text": [
      "Sector: ^SP500-45\n",
      "Intercept: 0.07023843873506372\n",
      "Coefficients: [1.36510614]\n",
      "R^2 Score: 0.6843913243039648\n",
      "P-Values: \n",
      "[1.80964586e-03 2.43613985e-32]\n",
      "Processing sector: ^SP500-45\n",
      "Sector: ^SP500-45\n",
      "Intercept: 0.07023843873506372\n",
      "Coefficients: [1.36510614]\n",
      "R^2 Score: 0.6843913243039648\n",
      "P-Values: \n",
      "[1.80964586e-03 2.43613985e-32]\n",
      "Processing sector: ^SP500-45\n"
     ]
    },
    {
     "name": "stderr",
     "output_type": "stream",
     "text": [
      "[*********************100%***********************]  1 of 1 completed\n",
      "/var/folders/n3/cwx8131570q5ljqcv1f22n6c0000gn/T/ipykernel_47973/2952105492.py:10: FutureWarning: 'M' is deprecated and will be removed in a future version, please use 'ME' instead.\n",
      "  monthly_sector = sector_df.resample('M').mean()\n",
      "[*********************100%***********************]  1 of 1 completed\n",
      "/var/folders/n3/cwx8131570q5ljqcv1f22n6c0000gn/T/ipykernel_47973/2952105492.py:10: FutureWarning: 'M' is deprecated and will be removed in a future version, please use 'ME' instead.\n",
      "  monthly_sector = sector_df.resample('M').mean()\n",
      "[*********************100%***********************]  1 of 1 completed\n",
      "/var/folders/n3/cwx8131570q5ljqcv1f22n6c0000gn/T/ipykernel_47973/2952105492.py:10: FutureWarning: 'M' is deprecated and will be removed in a future version, please use 'ME' instead.\n",
      "  monthly_sector = sector_df.resample('M').mean()\n"
     ]
    },
    {
     "name": "stdout",
     "output_type": "stream",
     "text": [
      "Sector: ^SP500-45\n",
      "Intercept: 0.07023843873506372\n",
      "Coefficients: [1.36510614]\n",
      "R^2 Score: 0.6843913243039648\n",
      "P-Values: \n",
      "[1.80964586e-03 2.43613985e-32]\n",
      "Processing sector: ^SP500-45\n",
      "Sector: ^SP500-45\n",
      "Intercept: 0.07023843873506372\n",
      "Coefficients: [1.36510614]\n",
      "R^2 Score: 0.6843913243039648\n",
      "P-Values: \n",
      "[1.80964586e-03 2.43613985e-32]\n",
      "Processing sector: ^SP500-45\n",
      "Sector: ^SP500-45\n",
      "Intercept: 0.07023843873506372\n",
      "Coefficients: [1.36510614]\n",
      "R^2 Score: 0.6843913243039648\n",
      "P-Values: \n",
      "[1.80964586e-03 2.43613985e-32]\n",
      "Processing sector: ^SP500-45\n"
     ]
    },
    {
     "name": "stderr",
     "output_type": "stream",
     "text": [
      "[*********************100%***********************]  1 of 1 completed\n",
      "/var/folders/n3/cwx8131570q5ljqcv1f22n6c0000gn/T/ipykernel_47973/2952105492.py:10: FutureWarning: 'M' is deprecated and will be removed in a future version, please use 'ME' instead.\n",
      "  monthly_sector = sector_df.resample('M').mean()\n",
      "[*********************100%***********************]  1 of 1 completed\n",
      "/var/folders/n3/cwx8131570q5ljqcv1f22n6c0000gn/T/ipykernel_47973/2952105492.py:10: FutureWarning: 'M' is deprecated and will be removed in a future version, please use 'ME' instead.\n",
      "  monthly_sector = sector_df.resample('M').mean()\n",
      "[*********************100%***********************]  1 of 1 completed\n",
      "/var/folders/n3/cwx8131570q5ljqcv1f22n6c0000gn/T/ipykernel_47973/2952105492.py:10: FutureWarning: 'M' is deprecated and will be removed in a future version, please use 'ME' instead.\n",
      "  monthly_sector = sector_df.resample('M').mean()\n"
     ]
    },
    {
     "name": "stdout",
     "output_type": "stream",
     "text": [
      "Sector: ^SP500-45\n",
      "Intercept: 0.07023843873506372\n",
      "Coefficients: [1.36510614]\n",
      "R^2 Score: 0.6843913243039648\n",
      "P-Values: \n",
      "[1.80964586e-03 2.43613985e-32]\n",
      "Processing sector: ^SP500-45\n",
      "Sector: ^SP500-45\n",
      "Intercept: 0.07023843873506372\n",
      "Coefficients: [1.36510614]\n",
      "R^2 Score: 0.6843913243039648\n",
      "P-Values: \n",
      "[1.80964586e-03 2.43613985e-32]\n",
      "Processing sector: ^SP500-45\n",
      "Sector: ^SP500-45\n",
      "Intercept: 0.07023843873506372\n",
      "Coefficients: [1.36510614]\n",
      "R^2 Score: 0.6843913243039648\n",
      "P-Values: \n",
      "[1.80964586e-03 2.43613985e-32]\n",
      "Processing sector: ^SP500-45\n"
     ]
    },
    {
     "name": "stderr",
     "output_type": "stream",
     "text": [
      "[*********************100%***********************]  1 of 1 completed\n",
      "/var/folders/n3/cwx8131570q5ljqcv1f22n6c0000gn/T/ipykernel_47973/2952105492.py:10: FutureWarning: 'M' is deprecated and will be removed in a future version, please use 'ME' instead.\n",
      "  monthly_sector = sector_df.resample('M').mean()\n",
      "[*********************100%***********************]  1 of 1 completed\n",
      "/var/folders/n3/cwx8131570q5ljqcv1f22n6c0000gn/T/ipykernel_47973/2952105492.py:10: FutureWarning: 'M' is deprecated and will be removed in a future version, please use 'ME' instead.\n",
      "  monthly_sector = sector_df.resample('M').mean()\n"
     ]
    },
    {
     "name": "stdout",
     "output_type": "stream",
     "text": [
      "Sector: ^SP500-45\n",
      "Intercept: 0.07023843873506372\n",
      "Coefficients: [1.36510614]\n",
      "R^2 Score: 0.6843913243039648\n",
      "P-Values: \n",
      "[1.80964586e-03 2.43613985e-32]\n",
      "Processing sector: ^SP500-45\n",
      "Sector: ^SP500-45\n",
      "Intercept: 0.07023843873506372\n",
      "Coefficients: [1.36510614]\n",
      "R^2 Score: 0.6843913243039648\n",
      "P-Values: \n",
      "[1.80964586e-03 2.43613985e-32]\n",
      "Processing sector: ^SP500-45\n"
     ]
    },
    {
     "name": "stderr",
     "output_type": "stream",
     "text": [
      "[*********************100%***********************]  1 of 1 completed\n",
      "/var/folders/n3/cwx8131570q5ljqcv1f22n6c0000gn/T/ipykernel_47973/2952105492.py:10: FutureWarning: 'M' is deprecated and will be removed in a future version, please use 'ME' instead.\n",
      "  monthly_sector = sector_df.resample('M').mean()\n",
      "[*********************100%***********************]  1 of 1 completed\n",
      "/var/folders/n3/cwx8131570q5ljqcv1f22n6c0000gn/T/ipykernel_47973/2952105492.py:10: FutureWarning: 'M' is deprecated and will be removed in a future version, please use 'ME' instead.\n",
      "  monthly_sector = sector_df.resample('M').mean()\n",
      "[*********************100%***********************]  1 of 1 completed\n",
      "/var/folders/n3/cwx8131570q5ljqcv1f22n6c0000gn/T/ipykernel_47973/2952105492.py:10: FutureWarning: 'M' is deprecated and will be removed in a future version, please use 'ME' instead.\n",
      "  monthly_sector = sector_df.resample('M').mean()\n"
     ]
    },
    {
     "name": "stdout",
     "output_type": "stream",
     "text": [
      "Sector: ^SP500-45\n",
      "Intercept: 0.07023843873506372\n",
      "Coefficients: [1.36510614]\n",
      "R^2 Score: 0.6843913243039648\n",
      "P-Values: \n",
      "[1.80964586e-03 2.43613985e-32]\n",
      "Processing sector: ^SP500-45\n",
      "Sector: ^SP500-45\n",
      "Intercept: 0.07023843873506372\n",
      "Coefficients: [1.36510614]\n",
      "R^2 Score: 0.6843913243039648\n",
      "P-Values: \n",
      "[1.80964586e-03 2.43613985e-32]\n",
      "Processing sector: ^SP500-45\n",
      "Sector: ^SP500-45\n",
      "Intercept: 0.07023843873506372\n",
      "Coefficients: [1.36510614]\n",
      "R^2 Score: 0.6843913243039648\n",
      "P-Values: \n",
      "[1.80964586e-03 2.43613985e-32]\n",
      "Processing sector: ^SP500-45\n"
     ]
    },
    {
     "name": "stderr",
     "output_type": "stream",
     "text": [
      "[*********************100%***********************]  1 of 1 completed\n",
      "/var/folders/n3/cwx8131570q5ljqcv1f22n6c0000gn/T/ipykernel_47973/2952105492.py:10: FutureWarning: 'M' is deprecated and will be removed in a future version, please use 'ME' instead.\n",
      "  monthly_sector = sector_df.resample('M').mean()\n",
      "[*********************100%***********************]  1 of 1 completed\n",
      "/var/folders/n3/cwx8131570q5ljqcv1f22n6c0000gn/T/ipykernel_47973/2952105492.py:10: FutureWarning: 'M' is deprecated and will be removed in a future version, please use 'ME' instead.\n",
      "  monthly_sector = sector_df.resample('M').mean()\n",
      "[*********************100%***********************]  1 of 1 completed\n",
      "/var/folders/n3/cwx8131570q5ljqcv1f22n6c0000gn/T/ipykernel_47973/2952105492.py:10: FutureWarning: 'M' is deprecated and will be removed in a future version, please use 'ME' instead.\n",
      "  monthly_sector = sector_df.resample('M').mean()\n"
     ]
    },
    {
     "name": "stdout",
     "output_type": "stream",
     "text": [
      "Sector: ^SP500-45\n",
      "Intercept: 0.07023843873506372\n",
      "Coefficients: [1.36510614]\n",
      "R^2 Score: 0.6843913243039648\n",
      "P-Values: \n",
      "[1.80964586e-03 2.43613985e-32]\n",
      "Processing sector: ^SP500-45\n",
      "Sector: ^SP500-45\n",
      "Intercept: 0.07023843873506372\n",
      "Coefficients: [1.36510614]\n",
      "R^2 Score: 0.6843913243039648\n",
      "P-Values: \n",
      "[1.80964586e-03 2.43613985e-32]\n",
      "Processing sector: ^SP500-45\n",
      "Sector: ^SP500-45\n",
      "Intercept: 0.07023843873506372\n",
      "Coefficients: [1.36510614]\n",
      "R^2 Score: 0.6843913243039648\n",
      "P-Values: \n",
      "[1.80964586e-03 2.43613985e-32]\n",
      "Processing sector: ^SP500-45\n"
     ]
    },
    {
     "name": "stderr",
     "output_type": "stream",
     "text": [
      "[*********************100%***********************]  1 of 1 completed\n",
      "/var/folders/n3/cwx8131570q5ljqcv1f22n6c0000gn/T/ipykernel_47973/2952105492.py:10: FutureWarning: 'M' is deprecated and will be removed in a future version, please use 'ME' instead.\n",
      "  monthly_sector = sector_df.resample('M').mean()\n",
      "[*********************100%***********************]  1 of 1 completed\n",
      "/var/folders/n3/cwx8131570q5ljqcv1f22n6c0000gn/T/ipykernel_47973/2952105492.py:10: FutureWarning: 'M' is deprecated and will be removed in a future version, please use 'ME' instead.\n",
      "  monthly_sector = sector_df.resample('M').mean()\n",
      "[*********************100%***********************]  1 of 1 completed\n",
      "/var/folders/n3/cwx8131570q5ljqcv1f22n6c0000gn/T/ipykernel_47973/2952105492.py:10: FutureWarning: 'M' is deprecated and will be removed in a future version, please use 'ME' instead.\n",
      "  monthly_sector = sector_df.resample('M').mean()\n"
     ]
    },
    {
     "name": "stdout",
     "output_type": "stream",
     "text": [
      "Sector: ^SP500-45\n",
      "Intercept: 0.07023843873506372\n",
      "Coefficients: [1.36510614]\n",
      "R^2 Score: 0.6843913243039648\n",
      "P-Values: \n",
      "[1.80964586e-03 2.43613985e-32]\n",
      "Processing sector: ^SP500-45\n",
      "Sector: ^SP500-45\n",
      "Intercept: 0.07023843873506372\n",
      "Coefficients: [1.36510614]\n",
      "R^2 Score: 0.6843913243039648\n",
      "P-Values: \n",
      "[1.80964586e-03 2.43613985e-32]\n",
      "Processing sector: ^SP500-45\n",
      "Sector: ^SP500-45\n",
      "Intercept: 0.07023843873506372\n",
      "Coefficients: [1.36510614]\n",
      "R^2 Score: 0.6843913243039648\n",
      "P-Values: \n",
      "[1.80964586e-03 2.43613985e-32]\n",
      "Processing sector: ^SP500-45\n"
     ]
    },
    {
     "name": "stderr",
     "output_type": "stream",
     "text": [
      "[*********************100%***********************]  1 of 1 completed\n",
      "/var/folders/n3/cwx8131570q5ljqcv1f22n6c0000gn/T/ipykernel_47973/2952105492.py:10: FutureWarning: 'M' is deprecated and will be removed in a future version, please use 'ME' instead.\n",
      "  monthly_sector = sector_df.resample('M').mean()\n",
      "[*********************100%***********************]  1 of 1 completed\n",
      "/var/folders/n3/cwx8131570q5ljqcv1f22n6c0000gn/T/ipykernel_47973/2952105492.py:10: FutureWarning: 'M' is deprecated and will be removed in a future version, please use 'ME' instead.\n",
      "  monthly_sector = sector_df.resample('M').mean()\n",
      "[*********************100%***********************]  1 of 1 completed\n",
      "/var/folders/n3/cwx8131570q5ljqcv1f22n6c0000gn/T/ipykernel_47973/2952105492.py:10: FutureWarning: 'M' is deprecated and will be removed in a future version, please use 'ME' instead.\n",
      "  monthly_sector = sector_df.resample('M').mean()\n"
     ]
    },
    {
     "name": "stdout",
     "output_type": "stream",
     "text": [
      "Sector: ^SP500-45\n",
      "Intercept: 0.07023843873506372\n",
      "Coefficients: [1.36510614]\n",
      "R^2 Score: 0.6843913243039648\n",
      "P-Values: \n",
      "[1.80964586e-03 2.43613985e-32]\n",
      "Processing sector: ^SP500-45\n",
      "Sector: ^SP500-45\n",
      "Intercept: 0.07023843873506372\n",
      "Coefficients: [1.36510614]\n",
      "R^2 Score: 0.6843913243039648\n",
      "P-Values: \n",
      "[1.80964586e-03 2.43613985e-32]\n",
      "Processing sector: ^SP500-45\n",
      "Sector: ^SP500-45\n",
      "Intercept: 0.07023843873506372\n",
      "Coefficients: [1.36510614]\n",
      "R^2 Score: 0.6843913243039648\n",
      "P-Values: \n",
      "[1.80964586e-03 2.43613985e-32]\n",
      "Processing sector: ^SP500-45\n"
     ]
    },
    {
     "name": "stderr",
     "output_type": "stream",
     "text": [
      "[*********************100%***********************]  1 of 1 completed\n",
      "/var/folders/n3/cwx8131570q5ljqcv1f22n6c0000gn/T/ipykernel_47973/2952105492.py:10: FutureWarning: 'M' is deprecated and will be removed in a future version, please use 'ME' instead.\n",
      "  monthly_sector = sector_df.resample('M').mean()\n",
      "[*********************100%***********************]  1 of 1 completed\n",
      "/var/folders/n3/cwx8131570q5ljqcv1f22n6c0000gn/T/ipykernel_47973/2952105492.py:10: FutureWarning: 'M' is deprecated and will be removed in a future version, please use 'ME' instead.\n",
      "  monthly_sector = sector_df.resample('M').mean()\n",
      "[*********************100%***********************]  1 of 1 completed\n",
      "/var/folders/n3/cwx8131570q5ljqcv1f22n6c0000gn/T/ipykernel_47973/2952105492.py:10: FutureWarning: 'M' is deprecated and will be removed in a future version, please use 'ME' instead.\n",
      "  monthly_sector = sector_df.resample('M').mean()\n"
     ]
    },
    {
     "name": "stdout",
     "output_type": "stream",
     "text": [
      "Sector: ^SP500-45\n",
      "Intercept: 0.07023843873506372\n",
      "Coefficients: [1.36510614]\n",
      "R^2 Score: 0.6843913243039648\n",
      "P-Values: \n",
      "[1.80964586e-03 2.43613985e-32]\n",
      "Processing sector: ^SP500-45\n",
      "Sector: ^SP500-45\n",
      "Intercept: 0.07023843873506372\n",
      "Coefficients: [1.36510614]\n",
      "R^2 Score: 0.6843913243039648\n",
      "P-Values: \n",
      "[1.80964586e-03 2.43613985e-32]\n",
      "Processing sector: ^SP500-45\n",
      "Sector: ^SP500-45\n",
      "Intercept: 0.07023843873506372\n",
      "Coefficients: [1.36510614]\n",
      "R^2 Score: 0.6843913243039648\n",
      "P-Values: \n",
      "[1.80964586e-03 2.43613985e-32]\n",
      "Processing sector: ^SP500-45\n"
     ]
    },
    {
     "name": "stderr",
     "output_type": "stream",
     "text": [
      "[*********************100%***********************]  1 of 1 completed\n",
      "/var/folders/n3/cwx8131570q5ljqcv1f22n6c0000gn/T/ipykernel_47973/2952105492.py:10: FutureWarning: 'M' is deprecated and will be removed in a future version, please use 'ME' instead.\n",
      "  monthly_sector = sector_df.resample('M').mean()\n",
      "[*********************100%***********************]  1 of 1 completed\n",
      "/var/folders/n3/cwx8131570q5ljqcv1f22n6c0000gn/T/ipykernel_47973/2952105492.py:10: FutureWarning: 'M' is deprecated and will be removed in a future version, please use 'ME' instead.\n",
      "  monthly_sector = sector_df.resample('M').mean()\n",
      "[*********************100%***********************]  1 of 1 completed\n",
      "/var/folders/n3/cwx8131570q5ljqcv1f22n6c0000gn/T/ipykernel_47973/2952105492.py:10: FutureWarning: 'M' is deprecated and will be removed in a future version, please use 'ME' instead.\n",
      "  monthly_sector = sector_df.resample('M').mean()\n"
     ]
    },
    {
     "name": "stdout",
     "output_type": "stream",
     "text": [
      "Sector: ^SP500-45\n",
      "Intercept: 0.07023843873506372\n",
      "Coefficients: [1.36510614]\n",
      "R^2 Score: 0.6843913243039648\n",
      "P-Values: \n",
      "[1.80964586e-03 2.43613985e-32]\n",
      "Processing sector: ^SP500-45\n",
      "Sector: ^SP500-45\n",
      "Intercept: 0.07023843873506372\n",
      "Coefficients: [1.36510614]\n",
      "R^2 Score: 0.6843913243039648\n",
      "P-Values: \n",
      "[1.80964586e-03 2.43613985e-32]\n",
      "Processing sector: ^SP500-45\n",
      "Sector: ^SP500-45\n",
      "Intercept: 0.07023843873506372\n",
      "Coefficients: [1.36510614]\n",
      "R^2 Score: 0.6843913243039648\n",
      "P-Values: \n",
      "[1.80964586e-03 2.43613985e-32]\n",
      "Processing sector: ^SP500-45\n"
     ]
    },
    {
     "name": "stderr",
     "output_type": "stream",
     "text": [
      "[*********************100%***********************]  1 of 1 completed\n",
      "/var/folders/n3/cwx8131570q5ljqcv1f22n6c0000gn/T/ipykernel_47973/2952105492.py:10: FutureWarning: 'M' is deprecated and will be removed in a future version, please use 'ME' instead.\n",
      "  monthly_sector = sector_df.resample('M').mean()\n",
      "[*********************100%***********************]  1 of 1 completed\n",
      "/var/folders/n3/cwx8131570q5ljqcv1f22n6c0000gn/T/ipykernel_47973/2952105492.py:10: FutureWarning: 'M' is deprecated and will be removed in a future version, please use 'ME' instead.\n",
      "  monthly_sector = sector_df.resample('M').mean()\n",
      "[*********************100%***********************]  1 of 1 completed\n",
      "/var/folders/n3/cwx8131570q5ljqcv1f22n6c0000gn/T/ipykernel_47973/2952105492.py:10: FutureWarning: 'M' is deprecated and will be removed in a future version, please use 'ME' instead.\n",
      "  monthly_sector = sector_df.resample('M').mean()\n"
     ]
    },
    {
     "name": "stdout",
     "output_type": "stream",
     "text": [
      "Sector: ^SP500-45\n",
      "Intercept: 0.07023843873506372\n",
      "Coefficients: [1.36510614]\n",
      "R^2 Score: 0.6843913243039648\n",
      "P-Values: \n",
      "[1.80964586e-03 2.43613985e-32]\n",
      "Processing sector: ^SP500-45\n",
      "Sector: ^SP500-45\n",
      "Intercept: 0.07023843873506372\n",
      "Coefficients: [1.36510614]\n",
      "R^2 Score: 0.6843913243039648\n",
      "P-Values: \n",
      "[1.80964586e-03 2.43613985e-32]\n",
      "Processing sector: ^SP500-45\n",
      "Sector: ^SP500-45\n",
      "Intercept: 0.07023843873506372\n",
      "Coefficients: [1.36510614]\n",
      "R^2 Score: 0.6843913243039648\n",
      "P-Values: \n",
      "[1.80964586e-03 2.43613985e-32]\n",
      "Processing sector: ^SP500-45\n"
     ]
    },
    {
     "name": "stderr",
     "output_type": "stream",
     "text": [
      "[*********************100%***********************]  1 of 1 completed\n",
      "/var/folders/n3/cwx8131570q5ljqcv1f22n6c0000gn/T/ipykernel_47973/2952105492.py:10: FutureWarning: 'M' is deprecated and will be removed in a future version, please use 'ME' instead.\n",
      "  monthly_sector = sector_df.resample('M').mean()\n",
      "[*********************100%***********************]  1 of 1 completed\n",
      "/var/folders/n3/cwx8131570q5ljqcv1f22n6c0000gn/T/ipykernel_47973/2952105492.py:10: FutureWarning: 'M' is deprecated and will be removed in a future version, please use 'ME' instead.\n",
      "  monthly_sector = sector_df.resample('M').mean()\n",
      "[*********************100%***********************]  1 of 1 completed\n",
      "/var/folders/n3/cwx8131570q5ljqcv1f22n6c0000gn/T/ipykernel_47973/2952105492.py:10: FutureWarning: 'M' is deprecated and will be removed in a future version, please use 'ME' instead.\n",
      "  monthly_sector = sector_df.resample('M').mean()\n"
     ]
    },
    {
     "name": "stdout",
     "output_type": "stream",
     "text": [
      "Sector: ^SP500-45\n",
      "Intercept: 0.07023843873506372\n",
      "Coefficients: [1.36510614]\n",
      "R^2 Score: 0.6843913243039648\n",
      "P-Values: \n",
      "[1.80964586e-03 2.43613985e-32]\n",
      "Processing sector: ^SP500-45\n",
      "Sector: ^SP500-45\n",
      "Intercept: 0.07023843873506372\n",
      "Coefficients: [1.36510614]\n",
      "R^2 Score: 0.6843913243039648\n",
      "P-Values: \n",
      "[1.80964586e-03 2.43613985e-32]\n",
      "Processing sector: ^SP500-45\n",
      "Sector: ^SP500-45\n",
      "Intercept: 0.07023843873506372\n",
      "Coefficients: [1.36510614]\n",
      "R^2 Score: 0.6843913243039648\n",
      "P-Values: \n",
      "[1.80964586e-03 2.43613985e-32]\n",
      "Processing sector: ^SP500-45\n"
     ]
    },
    {
     "name": "stderr",
     "output_type": "stream",
     "text": [
      "[*********************100%***********************]  1 of 1 completed\n",
      "/var/folders/n3/cwx8131570q5ljqcv1f22n6c0000gn/T/ipykernel_47973/2952105492.py:10: FutureWarning: 'M' is deprecated and will be removed in a future version, please use 'ME' instead.\n",
      "  monthly_sector = sector_df.resample('M').mean()\n",
      "[*********************100%***********************]  1 of 1 completed\n",
      "/var/folders/n3/cwx8131570q5ljqcv1f22n6c0000gn/T/ipykernel_47973/2952105492.py:10: FutureWarning: 'M' is deprecated and will be removed in a future version, please use 'ME' instead.\n",
      "  monthly_sector = sector_df.resample('M').mean()\n",
      "[*********************100%***********************]  1 of 1 completed\n",
      "/var/folders/n3/cwx8131570q5ljqcv1f22n6c0000gn/T/ipykernel_47973/2952105492.py:10: FutureWarning: 'M' is deprecated and will be removed in a future version, please use 'ME' instead.\n",
      "  monthly_sector = sector_df.resample('M').mean()\n"
     ]
    },
    {
     "name": "stdout",
     "output_type": "stream",
     "text": [
      "Sector: ^SP500-45\n",
      "Intercept: 0.07023843873506372\n",
      "Coefficients: [1.36510614]\n",
      "R^2 Score: 0.6843913243039648\n",
      "P-Values: \n",
      "[1.80964586e-03 2.43613985e-32]\n",
      "Processing sector: ^SP500-45\n",
      "Sector: ^SP500-45\n",
      "Intercept: 0.07023843873506372\n",
      "Coefficients: [1.36510614]\n",
      "R^2 Score: 0.6843913243039648\n",
      "P-Values: \n",
      "[1.80964586e-03 2.43613985e-32]\n",
      "Processing sector: ^SP500-45\n",
      "Sector: ^SP500-45\n",
      "Intercept: 0.07023843873506372\n",
      "Coefficients: [1.36510614]\n",
      "R^2 Score: 0.6843913243039648\n",
      "P-Values: \n",
      "[1.80964586e-03 2.43613985e-32]\n",
      "Processing sector: ^SP500-45\n"
     ]
    },
    {
     "name": "stderr",
     "output_type": "stream",
     "text": [
      "[*********************100%***********************]  1 of 1 completed\n",
      "/var/folders/n3/cwx8131570q5ljqcv1f22n6c0000gn/T/ipykernel_47973/2952105492.py:10: FutureWarning: 'M' is deprecated and will be removed in a future version, please use 'ME' instead.\n",
      "  monthly_sector = sector_df.resample('M').mean()\n",
      "[*********************100%***********************]  1 of 1 completed\n",
      "/var/folders/n3/cwx8131570q5ljqcv1f22n6c0000gn/T/ipykernel_47973/2952105492.py:10: FutureWarning: 'M' is deprecated and will be removed in a future version, please use 'ME' instead.\n",
      "  monthly_sector = sector_df.resample('M').mean()\n",
      "[*********************100%***********************]  1 of 1 completed\n",
      "/var/folders/n3/cwx8131570q5ljqcv1f22n6c0000gn/T/ipykernel_47973/2952105492.py:10: FutureWarning: 'M' is deprecated and will be removed in a future version, please use 'ME' instead.\n",
      "  monthly_sector = sector_df.resample('M').mean()\n"
     ]
    },
    {
     "name": "stdout",
     "output_type": "stream",
     "text": [
      "Sector: ^SP500-45\n",
      "Intercept: 0.07023843873506372\n",
      "Coefficients: [1.36510614]\n",
      "R^2 Score: 0.6843913243039648\n",
      "P-Values: \n",
      "[1.80964586e-03 2.43613985e-32]\n",
      "Processing sector: ^SP500-45\n",
      "Sector: ^SP500-45\n",
      "Intercept: 0.07023843873506372\n",
      "Coefficients: [1.36510614]\n",
      "R^2 Score: 0.6843913243039648\n",
      "P-Values: \n",
      "[1.80964586e-03 2.43613985e-32]\n",
      "Processing sector: ^SP500-45\n",
      "Sector: ^SP500-45\n",
      "Intercept: 0.07023843873506372\n",
      "Coefficients: [1.36510614]\n",
      "R^2 Score: 0.6843913243039648\n",
      "P-Values: \n",
      "[1.80964586e-03 2.43613985e-32]\n",
      "Processing sector: ^SP500-45\n"
     ]
    },
    {
     "name": "stderr",
     "output_type": "stream",
     "text": [
      "[*********************100%***********************]  1 of 1 completed\n",
      "/var/folders/n3/cwx8131570q5ljqcv1f22n6c0000gn/T/ipykernel_47973/2952105492.py:10: FutureWarning: 'M' is deprecated and will be removed in a future version, please use 'ME' instead.\n",
      "  monthly_sector = sector_df.resample('M').mean()\n",
      "[*********************100%***********************]  1 of 1 completed\n",
      "/var/folders/n3/cwx8131570q5ljqcv1f22n6c0000gn/T/ipykernel_47973/2952105492.py:10: FutureWarning: 'M' is deprecated and will be removed in a future version, please use 'ME' instead.\n",
      "  monthly_sector = sector_df.resample('M').mean()\n",
      "[*********************100%***********************]  1 of 1 completed\n",
      "/var/folders/n3/cwx8131570q5ljqcv1f22n6c0000gn/T/ipykernel_47973/2952105492.py:10: FutureWarning: 'M' is deprecated and will be removed in a future version, please use 'ME' instead.\n",
      "  monthly_sector = sector_df.resample('M').mean()\n"
     ]
    },
    {
     "name": "stdout",
     "output_type": "stream",
     "text": [
      "Sector: ^SP500-45\n",
      "Intercept: 0.07023843873506372\n",
      "Coefficients: [1.36510614]\n",
      "R^2 Score: 0.6843913243039648\n",
      "P-Values: \n",
      "[1.80964586e-03 2.43613985e-32]\n",
      "Processing sector: ^SP500-45\n",
      "Sector: ^SP500-45\n",
      "Intercept: 0.07023843873506372\n",
      "Coefficients: [1.36510614]\n",
      "R^2 Score: 0.6843913243039648\n",
      "P-Values: \n",
      "[1.80964586e-03 2.43613985e-32]\n",
      "Processing sector: ^SP500-45\n",
      "Sector: ^SP500-45\n",
      "Intercept: 0.07023843873506372\n",
      "Coefficients: [1.36510614]\n",
      "R^2 Score: 0.6843913243039648\n",
      "P-Values: \n",
      "[1.80964586e-03 2.43613985e-32]\n",
      "Processing sector: ^SP500-45\n"
     ]
    },
    {
     "name": "stderr",
     "output_type": "stream",
     "text": [
      "[*********************100%***********************]  1 of 1 completed\n",
      "/var/folders/n3/cwx8131570q5ljqcv1f22n6c0000gn/T/ipykernel_47973/2952105492.py:10: FutureWarning: 'M' is deprecated and will be removed in a future version, please use 'ME' instead.\n",
      "  monthly_sector = sector_df.resample('M').mean()\n",
      "[*********************100%***********************]  1 of 1 completed\n",
      "/var/folders/n3/cwx8131570q5ljqcv1f22n6c0000gn/T/ipykernel_47973/2952105492.py:10: FutureWarning: 'M' is deprecated and will be removed in a future version, please use 'ME' instead.\n",
      "  monthly_sector = sector_df.resample('M').mean()\n"
     ]
    },
    {
     "name": "stdout",
     "output_type": "stream",
     "text": [
      "Sector: ^SP500-45\n",
      "Intercept: 0.07023843873506372\n",
      "Coefficients: [1.36510614]\n",
      "R^2 Score: 0.6843913243039648\n",
      "P-Values: \n",
      "[1.80964586e-03 2.43613985e-32]\n",
      "Processing sector: ^SP500-45\n",
      "Sector: ^SP500-45\n",
      "Intercept: 0.07023843873506372\n",
      "Coefficients: [1.36510614]\n",
      "R^2 Score: 0.6843913243039648\n",
      "P-Values: \n",
      "[1.80964586e-03 2.43613985e-32]\n",
      "Processing sector: ^SP500-45\n"
     ]
    },
    {
     "name": "stderr",
     "output_type": "stream",
     "text": [
      "[*********************100%***********************]  1 of 1 completed\n",
      "/var/folders/n3/cwx8131570q5ljqcv1f22n6c0000gn/T/ipykernel_47973/2952105492.py:10: FutureWarning: 'M' is deprecated and will be removed in a future version, please use 'ME' instead.\n",
      "  monthly_sector = sector_df.resample('M').mean()\n",
      "[*********************100%***********************]  1 of 1 completed\n",
      "/var/folders/n3/cwx8131570q5ljqcv1f22n6c0000gn/T/ipykernel_47973/2952105492.py:10: FutureWarning: 'M' is deprecated and will be removed in a future version, please use 'ME' instead.\n",
      "  monthly_sector = sector_df.resample('M').mean()\n",
      "[*********************100%***********************]  1 of 1 completed\n",
      "/var/folders/n3/cwx8131570q5ljqcv1f22n6c0000gn/T/ipykernel_47973/2952105492.py:10: FutureWarning: 'M' is deprecated and will be removed in a future version, please use 'ME' instead.\n",
      "  monthly_sector = sector_df.resample('M').mean()\n"
     ]
    },
    {
     "name": "stdout",
     "output_type": "stream",
     "text": [
      "Sector: ^SP500-45\n",
      "Intercept: 0.07023843873506372\n",
      "Coefficients: [1.36510614]\n",
      "R^2 Score: 0.6843913243039648\n",
      "P-Values: \n",
      "[1.80964586e-03 2.43613985e-32]\n",
      "Processing sector: ^SP500-45\n",
      "Sector: ^SP500-45\n",
      "Intercept: 0.07023843873506372\n",
      "Coefficients: [1.36510614]\n",
      "R^2 Score: 0.6843913243039648\n",
      "P-Values: \n",
      "[1.80964586e-03 2.43613985e-32]\n",
      "Processing sector: ^SP500-45\n",
      "Sector: ^SP500-45\n",
      "Intercept: 0.07023843873506372\n",
      "Coefficients: [1.36510614]\n",
      "R^2 Score: 0.6843913243039648\n",
      "P-Values: \n",
      "[1.80964586e-03 2.43613985e-32]\n",
      "Processing sector: ^SP500-45\n"
     ]
    },
    {
     "name": "stderr",
     "output_type": "stream",
     "text": [
      "[*********************100%***********************]  1 of 1 completed\n",
      "/var/folders/n3/cwx8131570q5ljqcv1f22n6c0000gn/T/ipykernel_47973/2952105492.py:10: FutureWarning: 'M' is deprecated and will be removed in a future version, please use 'ME' instead.\n",
      "  monthly_sector = sector_df.resample('M').mean()\n",
      "[*********************100%***********************]  1 of 1 completed\n",
      "/var/folders/n3/cwx8131570q5ljqcv1f22n6c0000gn/T/ipykernel_47973/2952105492.py:10: FutureWarning: 'M' is deprecated and will be removed in a future version, please use 'ME' instead.\n",
      "  monthly_sector = sector_df.resample('M').mean()\n",
      "[*********************100%***********************]  1 of 1 completed\n",
      "/var/folders/n3/cwx8131570q5ljqcv1f22n6c0000gn/T/ipykernel_47973/2952105492.py:10: FutureWarning: 'M' is deprecated and will be removed in a future version, please use 'ME' instead.\n",
      "  monthly_sector = sector_df.resample('M').mean()\n"
     ]
    },
    {
     "name": "stdout",
     "output_type": "stream",
     "text": [
      "Sector: ^SP500-45\n",
      "Intercept: 0.07023843873506372\n",
      "Coefficients: [1.36510614]\n",
      "R^2 Score: 0.6843913243039648\n",
      "P-Values: \n",
      "[1.80964586e-03 2.43613985e-32]\n",
      "Processing sector: ^SP500-45\n",
      "Sector: ^SP500-45\n",
      "Intercept: 0.07023843873506372\n",
      "Coefficients: [1.36510614]\n",
      "R^2 Score: 0.6843913243039648\n",
      "P-Values: \n",
      "[1.80964586e-03 2.43613985e-32]\n",
      "Processing sector: ^SP500-45\n",
      "Sector: ^SP500-45\n",
      "Intercept: 0.07023843873506372\n",
      "Coefficients: [1.36510614]\n",
      "R^2 Score: 0.6843913243039648\n",
      "P-Values: \n",
      "[1.80964586e-03 2.43613985e-32]\n",
      "Processing sector: ^SP500-45\n"
     ]
    },
    {
     "name": "stderr",
     "output_type": "stream",
     "text": [
      "[*********************100%***********************]  1 of 1 completed\n",
      "/var/folders/n3/cwx8131570q5ljqcv1f22n6c0000gn/T/ipykernel_47973/2952105492.py:10: FutureWarning: 'M' is deprecated and will be removed in a future version, please use 'ME' instead.\n",
      "  monthly_sector = sector_df.resample('M').mean()\n",
      "[*********************100%***********************]  1 of 1 completed\n",
      "/var/folders/n3/cwx8131570q5ljqcv1f22n6c0000gn/T/ipykernel_47973/2952105492.py:10: FutureWarning: 'M' is deprecated and will be removed in a future version, please use 'ME' instead.\n",
      "  monthly_sector = sector_df.resample('M').mean()\n",
      "[*********************100%***********************]  1 of 1 completed"
     ]
    },
    {
     "name": "stdout",
     "output_type": "stream",
     "text": [
      "Sector: ^SP500-45\n",
      "Intercept: 0.07023843873506372\n",
      "Coefficients: [1.36510614]\n",
      "R^2 Score: 0.6843913243039648\n",
      "P-Values: \n",
      "[1.80964586e-03 2.43613985e-32]\n",
      "Processing sector: ^SP500-45\n",
      "Sector: ^SP500-45\n",
      "Intercept: 0.07023843873506372\n",
      "Coefficients: [1.36510614]\n",
      "R^2 Score: 0.6843913243039648\n",
      "P-Values: \n",
      "[1.80964586e-03 2.43613985e-32]\n",
      "Processing sector: ^SP500-45\n"
     ]
    },
    {
     "name": "stderr",
     "output_type": "stream",
     "text": [
      "\n",
      "/var/folders/n3/cwx8131570q5ljqcv1f22n6c0000gn/T/ipykernel_47973/2952105492.py:10: FutureWarning: 'M' is deprecated and will be removed in a future version, please use 'ME' instead.\n",
      "  monthly_sector = sector_df.resample('M').mean()\n"
     ]
    },
    {
     "name": "stdout",
     "output_type": "stream",
     "text": [
      "Sector: ^SP500-45\n",
      "Intercept: 0.07023843873506372\n",
      "Coefficients: [1.36510614]\n",
      "R^2 Score: 0.6843913243039648\n",
      "P-Values: \n",
      "[1.80964586e-03 2.43613985e-32]\n",
      "Processing sector: ^SP500-45\n"
     ]
    },
    {
     "name": "stderr",
     "output_type": "stream",
     "text": [
      "[*********************100%***********************]  1 of 1 completed\n",
      "/var/folders/n3/cwx8131570q5ljqcv1f22n6c0000gn/T/ipykernel_47973/2952105492.py:10: FutureWarning: 'M' is deprecated and will be removed in a future version, please use 'ME' instead.\n",
      "  monthly_sector = sector_df.resample('M').mean()\n",
      "[*********************100%***********************]  1 of 1 completed\n",
      "/var/folders/n3/cwx8131570q5ljqcv1f22n6c0000gn/T/ipykernel_47973/2952105492.py:10: FutureWarning: 'M' is deprecated and will be removed in a future version, please use 'ME' instead.\n",
      "  monthly_sector = sector_df.resample('M').mean()\n",
      "[*********************100%***********************]  1 of 1 completed\n",
      "/var/folders/n3/cwx8131570q5ljqcv1f22n6c0000gn/T/ipykernel_47973/2952105492.py:10: FutureWarning: 'M' is deprecated and will be removed in a future version, please use 'ME' instead.\n",
      "  monthly_sector = sector_df.resample('M').mean()\n"
     ]
    },
    {
     "name": "stdout",
     "output_type": "stream",
     "text": [
      "Sector: ^SP500-45\n",
      "Intercept: 0.07023843873506372\n",
      "Coefficients: [1.36510614]\n",
      "R^2 Score: 0.6843913243039648\n",
      "P-Values: \n",
      "[1.80964586e-03 2.43613985e-32]\n",
      "Processing sector: ^SP500-45\n",
      "Sector: ^SP500-45\n",
      "Intercept: 0.07023843873506372\n",
      "Coefficients: [1.36510614]\n",
      "R^2 Score: 0.6843913243039648\n",
      "P-Values: \n",
      "[1.80964586e-03 2.43613985e-32]\n",
      "Processing sector: ^SP500-45\n",
      "Sector: ^SP500-45\n",
      "Intercept: 0.07023843873506372\n",
      "Coefficients: [1.36510614]\n",
      "R^2 Score: 0.6843913243039648\n",
      "P-Values: \n",
      "[1.80964586e-03 2.43613985e-32]\n",
      "Processing sector: ^SP500-45\n"
     ]
    },
    {
     "name": "stderr",
     "output_type": "stream",
     "text": [
      "[*********************100%***********************]  1 of 1 completed\n",
      "/var/folders/n3/cwx8131570q5ljqcv1f22n6c0000gn/T/ipykernel_47973/2952105492.py:10: FutureWarning: 'M' is deprecated and will be removed in a future version, please use 'ME' instead.\n",
      "  monthly_sector = sector_df.resample('M').mean()\n",
      "[*********************100%***********************]  1 of 1 completed\n",
      "/var/folders/n3/cwx8131570q5ljqcv1f22n6c0000gn/T/ipykernel_47973/2952105492.py:10: FutureWarning: 'M' is deprecated and will be removed in a future version, please use 'ME' instead.\n",
      "  monthly_sector = sector_df.resample('M').mean()\n",
      "[*********************100%***********************]  1 of 1 completed\n",
      "/var/folders/n3/cwx8131570q5ljqcv1f22n6c0000gn/T/ipykernel_47973/2952105492.py:10: FutureWarning: 'M' is deprecated and will be removed in a future version, please use 'ME' instead.\n",
      "  monthly_sector = sector_df.resample('M').mean()\n"
     ]
    },
    {
     "name": "stdout",
     "output_type": "stream",
     "text": [
      "Sector: ^SP500-45\n",
      "Intercept: 0.07023843873506372\n",
      "Coefficients: [1.36510614]\n",
      "R^2 Score: 0.6843913243039648\n",
      "P-Values: \n",
      "[1.80964586e-03 2.43613985e-32]\n",
      "Processing sector: ^SP500-45\n",
      "Sector: ^SP500-45\n",
      "Intercept: 0.07023843873506372\n",
      "Coefficients: [1.36510614]\n",
      "R^2 Score: 0.6843913243039648\n",
      "P-Values: \n",
      "[1.80964586e-03 2.43613985e-32]\n",
      "Processing sector: ^SP500-45\n",
      "Sector: ^SP500-45\n",
      "Intercept: 0.07023843873506372\n",
      "Coefficients: [1.36510614]\n",
      "R^2 Score: 0.6843913243039648\n",
      "P-Values: \n",
      "[1.80964586e-03 2.43613985e-32]\n",
      "Processing sector: ^SP500-45\n"
     ]
    },
    {
     "name": "stderr",
     "output_type": "stream",
     "text": [
      "[*********************100%***********************]  1 of 1 completed\n",
      "/var/folders/n3/cwx8131570q5ljqcv1f22n6c0000gn/T/ipykernel_47973/2952105492.py:10: FutureWarning: 'M' is deprecated and will be removed in a future version, please use 'ME' instead.\n",
      "  monthly_sector = sector_df.resample('M').mean()\n",
      "[*********************100%***********************]  1 of 1 completed\n",
      "/var/folders/n3/cwx8131570q5ljqcv1f22n6c0000gn/T/ipykernel_47973/2952105492.py:10: FutureWarning: 'M' is deprecated and will be removed in a future version, please use 'ME' instead.\n",
      "  monthly_sector = sector_df.resample('M').mean()\n",
      "[*********************100%***********************]  1 of 1 completed\n",
      "/var/folders/n3/cwx8131570q5ljqcv1f22n6c0000gn/T/ipykernel_47973/2952105492.py:10: FutureWarning: 'M' is deprecated and will be removed in a future version, please use 'ME' instead.\n",
      "  monthly_sector = sector_df.resample('M').mean()\n"
     ]
    },
    {
     "name": "stdout",
     "output_type": "stream",
     "text": [
      "Sector: ^SP500-45\n",
      "Intercept: 0.07023843873506372\n",
      "Coefficients: [1.36510614]\n",
      "R^2 Score: 0.6843913243039648\n",
      "P-Values: \n",
      "[1.80964586e-03 2.43613985e-32]\n",
      "Processing sector: ^SP500-45\n",
      "Sector: ^SP500-45\n",
      "Intercept: 0.07023843873506372\n",
      "Coefficients: [1.36510614]\n",
      "R^2 Score: 0.6843913243039648\n",
      "P-Values: \n",
      "[1.80964586e-03 2.43613985e-32]\n",
      "Processing sector: ^SP500-45\n",
      "Sector: ^SP500-45\n",
      "Intercept: 0.07023843873506372\n",
      "Coefficients: [1.36510614]\n",
      "R^2 Score: 0.6843913243039648\n",
      "P-Values: \n",
      "[1.80964586e-03 2.43613985e-32]\n",
      "Processing sector: ^SP500-45\n"
     ]
    },
    {
     "name": "stderr",
     "output_type": "stream",
     "text": [
      "[*********************100%***********************]  1 of 1 completed\n",
      "/var/folders/n3/cwx8131570q5ljqcv1f22n6c0000gn/T/ipykernel_47973/2952105492.py:10: FutureWarning: 'M' is deprecated and will be removed in a future version, please use 'ME' instead.\n",
      "  monthly_sector = sector_df.resample('M').mean()\n"
     ]
    },
    {
     "name": "stdout",
     "output_type": "stream",
     "text": [
      "Sector: ^SP500-45\n",
      "Intercept: 0.07023843873506372\n",
      "Coefficients: [1.36510614]\n",
      "R^2 Score: 0.6843913243039648\n",
      "P-Values: \n",
      "[1.80964586e-03 2.43613985e-32]\n",
      "Processing sector: ^SP500-45\n"
     ]
    },
    {
     "name": "stderr",
     "output_type": "stream",
     "text": [
      "[*********************100%***********************]  1 of 1 completed\n",
      "/var/folders/n3/cwx8131570q5ljqcv1f22n6c0000gn/T/ipykernel_47973/2952105492.py:10: FutureWarning: 'M' is deprecated and will be removed in a future version, please use 'ME' instead.\n",
      "  monthly_sector = sector_df.resample('M').mean()\n",
      "[*********************100%***********************]  1 of 1 completed\n",
      "/var/folders/n3/cwx8131570q5ljqcv1f22n6c0000gn/T/ipykernel_47973/2952105492.py:10: FutureWarning: 'M' is deprecated and will be removed in a future version, please use 'ME' instead.\n",
      "  monthly_sector = sector_df.resample('M').mean()\n"
     ]
    },
    {
     "name": "stdout",
     "output_type": "stream",
     "text": [
      "Sector: ^SP500-45\n",
      "Intercept: 0.07023843873506372\n",
      "Coefficients: [1.36510614]\n",
      "R^2 Score: 0.6843913243039648\n",
      "P-Values: \n",
      "[1.80964586e-03 2.43613985e-32]\n",
      "Processing sector: ^SP500-45\n",
      "Sector: ^SP500-45\n",
      "Intercept: 0.07023843873506372\n",
      "Coefficients: [1.36510614]\n",
      "R^2 Score: 0.6843913243039648\n",
      "P-Values: \n",
      "[1.80964586e-03 2.43613985e-32]\n",
      "Processing sector: ^SP500-45\n"
     ]
    },
    {
     "name": "stderr",
     "output_type": "stream",
     "text": [
      "[*********************100%***********************]  1 of 1 completed\n",
      "/var/folders/n3/cwx8131570q5ljqcv1f22n6c0000gn/T/ipykernel_47973/2952105492.py:10: FutureWarning: 'M' is deprecated and will be removed in a future version, please use 'ME' instead.\n",
      "  monthly_sector = sector_df.resample('M').mean()\n"
     ]
    },
    {
     "name": "stdout",
     "output_type": "stream",
     "text": [
      "Sector: ^SP500-45\n",
      "Intercept: 0.07023843873506372\n",
      "Coefficients: [1.36510614]\n",
      "R^2 Score: 0.6843913243039648\n",
      "P-Values: \n",
      "[1.80964586e-03 2.43613985e-32]\n",
      "Processing sector: ^SP500-15\n"
     ]
    },
    {
     "name": "stderr",
     "output_type": "stream",
     "text": [
      "[*********************100%***********************]  1 of 1 completed\n",
      "/var/folders/n3/cwx8131570q5ljqcv1f22n6c0000gn/T/ipykernel_47973/2952105492.py:10: FutureWarning: 'M' is deprecated and will be removed in a future version, please use 'ME' instead.\n",
      "  monthly_sector = sector_df.resample('M').mean()\n",
      "[*********************100%***********************]  1 of 1 completed\n",
      "/var/folders/n3/cwx8131570q5ljqcv1f22n6c0000gn/T/ipykernel_47973/2952105492.py:10: FutureWarning: 'M' is deprecated and will be removed in a future version, please use 'ME' instead.\n",
      "  monthly_sector = sector_df.resample('M').mean()\n",
      "[*********************100%***********************]  1 of 1 completed\n",
      "/var/folders/n3/cwx8131570q5ljqcv1f22n6c0000gn/T/ipykernel_47973/2952105492.py:10: FutureWarning: 'M' is deprecated and will be removed in a future version, please use 'ME' instead.\n",
      "  monthly_sector = sector_df.resample('M').mean()\n"
     ]
    },
    {
     "name": "stdout",
     "output_type": "stream",
     "text": [
      "Sector: ^SP500-15\n",
      "Intercept: -0.07983520089815263\n",
      "Coefficients: [1.09542754]\n",
      "R^2 Score: 0.804788133332005\n",
      "P-Values: \n",
      "[6.89841756e-09 4.21757671e-45]\n",
      "Processing sector: ^SP500-15\n",
      "Sector: ^SP500-15\n",
      "Intercept: -0.07983520089815263\n",
      "Coefficients: [1.09542754]\n",
      "R^2 Score: 0.804788133332005\n",
      "P-Values: \n",
      "[6.89841756e-09 4.21757671e-45]\n",
      "Processing sector: ^SP500-15\n",
      "Sector: ^SP500-15\n",
      "Intercept: -0.07983520089815263\n",
      "Coefficients: [1.09542754]\n",
      "R^2 Score: 0.804788133332005\n",
      "P-Values: \n",
      "[6.89841756e-09 4.21757671e-45]\n",
      "Processing sector: ^SP500-15\n"
     ]
    },
    {
     "name": "stderr",
     "output_type": "stream",
     "text": [
      "[*********************100%***********************]  1 of 1 completed\n",
      "/var/folders/n3/cwx8131570q5ljqcv1f22n6c0000gn/T/ipykernel_47973/2952105492.py:10: FutureWarning: 'M' is deprecated and will be removed in a future version, please use 'ME' instead.\n",
      "  monthly_sector = sector_df.resample('M').mean()\n",
      "[*********************100%***********************]  1 of 1 completed\n",
      "/var/folders/n3/cwx8131570q5ljqcv1f22n6c0000gn/T/ipykernel_47973/2952105492.py:10: FutureWarning: 'M' is deprecated and will be removed in a future version, please use 'ME' instead.\n",
      "  monthly_sector = sector_df.resample('M').mean()\n"
     ]
    },
    {
     "name": "stdout",
     "output_type": "stream",
     "text": [
      "Sector: ^SP500-15\n",
      "Intercept: -0.07983520089815263\n",
      "Coefficients: [1.09542754]\n",
      "R^2 Score: 0.804788133332005\n",
      "P-Values: \n",
      "[6.89841756e-09 4.21757671e-45]\n",
      "Processing sector: ^SP500-15\n",
      "Sector: ^SP500-15\n",
      "Intercept: -0.07983520089815263\n",
      "Coefficients: [1.09542754]\n",
      "R^2 Score: 0.804788133332005\n",
      "P-Values: \n",
      "[6.89841756e-09 4.21757671e-45]\n",
      "Processing sector: ^SP500-15\n"
     ]
    },
    {
     "name": "stderr",
     "output_type": "stream",
     "text": [
      "[*********************100%***********************]  1 of 1 completed\n",
      "/var/folders/n3/cwx8131570q5ljqcv1f22n6c0000gn/T/ipykernel_47973/2952105492.py:10: FutureWarning: 'M' is deprecated and will be removed in a future version, please use 'ME' instead.\n",
      "  monthly_sector = sector_df.resample('M').mean()\n",
      "[*********************100%***********************]  1 of 1 completed\n",
      "/var/folders/n3/cwx8131570q5ljqcv1f22n6c0000gn/T/ipykernel_47973/2952105492.py:10: FutureWarning: 'M' is deprecated and will be removed in a future version, please use 'ME' instead.\n",
      "  monthly_sector = sector_df.resample('M').mean()\n",
      "[*********************100%***********************]  1 of 1 completed\n",
      "/var/folders/n3/cwx8131570q5ljqcv1f22n6c0000gn/T/ipykernel_47973/2952105492.py:10: FutureWarning: 'M' is deprecated and will be removed in a future version, please use 'ME' instead.\n",
      "  monthly_sector = sector_df.resample('M').mean()\n"
     ]
    },
    {
     "name": "stdout",
     "output_type": "stream",
     "text": [
      "Sector: ^SP500-15\n",
      "Intercept: -0.07983520089815263\n",
      "Coefficients: [1.09542754]\n",
      "R^2 Score: 0.804788133332005\n",
      "P-Values: \n",
      "[6.89841756e-09 4.21757671e-45]\n",
      "Processing sector: ^SP500-15\n",
      "Sector: ^SP500-15\n",
      "Intercept: -0.07983520089815263\n",
      "Coefficients: [1.09542754]\n",
      "R^2 Score: 0.804788133332005\n",
      "P-Values: \n",
      "[6.89841756e-09 4.21757671e-45]\n",
      "Processing sector: ^SP500-15\n",
      "Sector: ^SP500-15\n",
      "Intercept: -0.07983520089815263\n",
      "Coefficients: [1.09542754]\n",
      "R^2 Score: 0.804788133332005\n",
      "P-Values: \n",
      "[6.89841756e-09 4.21757671e-45]\n",
      "Processing sector: ^SP500-15\n"
     ]
    },
    {
     "name": "stderr",
     "output_type": "stream",
     "text": [
      "[*********************100%***********************]  1 of 1 completed\n",
      "/var/folders/n3/cwx8131570q5ljqcv1f22n6c0000gn/T/ipykernel_47973/2952105492.py:10: FutureWarning: 'M' is deprecated and will be removed in a future version, please use 'ME' instead.\n",
      "  monthly_sector = sector_df.resample('M').mean()\n",
      "[*********************100%***********************]  1 of 1 completed\n",
      "/var/folders/n3/cwx8131570q5ljqcv1f22n6c0000gn/T/ipykernel_47973/2952105492.py:10: FutureWarning: 'M' is deprecated and will be removed in a future version, please use 'ME' instead.\n",
      "  monthly_sector = sector_df.resample('M').mean()\n",
      "[*********************100%***********************]  1 of 1 completed\n",
      "/var/folders/n3/cwx8131570q5ljqcv1f22n6c0000gn/T/ipykernel_47973/2952105492.py:10: FutureWarning: 'M' is deprecated and will be removed in a future version, please use 'ME' instead.\n",
      "  monthly_sector = sector_df.resample('M').mean()\n"
     ]
    },
    {
     "name": "stdout",
     "output_type": "stream",
     "text": [
      "Sector: ^SP500-15\n",
      "Intercept: -0.07983520089815263\n",
      "Coefficients: [1.09542754]\n",
      "R^2 Score: 0.804788133332005\n",
      "P-Values: \n",
      "[6.89841756e-09 4.21757671e-45]\n",
      "Processing sector: ^SP500-15\n",
      "Sector: ^SP500-15\n",
      "Intercept: -0.07983520089815263\n",
      "Coefficients: [1.09542754]\n",
      "R^2 Score: 0.804788133332005\n",
      "P-Values: \n",
      "[6.89841756e-09 4.21757671e-45]\n",
      "Processing sector: ^SP500-15\n",
      "Sector: ^SP500-15\n",
      "Intercept: -0.07983520089815263\n",
      "Coefficients: [1.09542754]\n",
      "R^2 Score: 0.804788133332005\n",
      "P-Values: \n",
      "[6.89841756e-09 4.21757671e-45]\n",
      "Processing sector: ^SP500-15\n"
     ]
    },
    {
     "name": "stderr",
     "output_type": "stream",
     "text": [
      "[*********************100%***********************]  1 of 1 completed\n",
      "/var/folders/n3/cwx8131570q5ljqcv1f22n6c0000gn/T/ipykernel_47973/2952105492.py:10: FutureWarning: 'M' is deprecated and will be removed in a future version, please use 'ME' instead.\n",
      "  monthly_sector = sector_df.resample('M').mean()\n",
      "[*********************100%***********************]  1 of 1 completed\n",
      "/var/folders/n3/cwx8131570q5ljqcv1f22n6c0000gn/T/ipykernel_47973/2952105492.py:10: FutureWarning: 'M' is deprecated and will be removed in a future version, please use 'ME' instead.\n",
      "  monthly_sector = sector_df.resample('M').mean()\n",
      "[*********************100%***********************]  1 of 1 completed\n",
      "/var/folders/n3/cwx8131570q5ljqcv1f22n6c0000gn/T/ipykernel_47973/2952105492.py:10: FutureWarning: 'M' is deprecated and will be removed in a future version, please use 'ME' instead.\n",
      "  monthly_sector = sector_df.resample('M').mean()\n"
     ]
    },
    {
     "name": "stdout",
     "output_type": "stream",
     "text": [
      "Sector: ^SP500-15\n",
      "Intercept: -0.07983520089815263\n",
      "Coefficients: [1.09542754]\n",
      "R^2 Score: 0.804788133332005\n",
      "P-Values: \n",
      "[6.89841756e-09 4.21757671e-45]\n",
      "Processing sector: ^SP500-15\n",
      "Sector: ^SP500-15\n",
      "Intercept: -0.07983520089815263\n",
      "Coefficients: [1.09542754]\n",
      "R^2 Score: 0.804788133332005\n",
      "P-Values: \n",
      "[6.89841756e-09 4.21757671e-45]\n",
      "Processing sector: ^SP500-15\n",
      "Sector: ^SP500-15\n",
      "Intercept: -0.07983520089815263\n",
      "Coefficients: [1.09542754]\n",
      "R^2 Score: 0.804788133332005\n",
      "P-Values: \n",
      "[6.89841756e-09 4.21757671e-45]\n",
      "Processing sector: ^SP500-15\n"
     ]
    },
    {
     "name": "stderr",
     "output_type": "stream",
     "text": [
      "[*********************100%***********************]  1 of 1 completed\n",
      "/var/folders/n3/cwx8131570q5ljqcv1f22n6c0000gn/T/ipykernel_47973/2952105492.py:10: FutureWarning: 'M' is deprecated and will be removed in a future version, please use 'ME' instead.\n",
      "  monthly_sector = sector_df.resample('M').mean()\n",
      "[*********************100%***********************]  1 of 1 completed\n",
      "/var/folders/n3/cwx8131570q5ljqcv1f22n6c0000gn/T/ipykernel_47973/2952105492.py:10: FutureWarning: 'M' is deprecated and will be removed in a future version, please use 'ME' instead.\n",
      "  monthly_sector = sector_df.resample('M').mean()\n"
     ]
    },
    {
     "name": "stdout",
     "output_type": "stream",
     "text": [
      "Sector: ^SP500-15\n",
      "Intercept: -0.07983520089815263\n",
      "Coefficients: [1.09542754]\n",
      "R^2 Score: 0.804788133332005\n",
      "P-Values: \n",
      "[6.89841756e-09 4.21757671e-45]\n",
      "Processing sector: ^SP500-15\n",
      "Sector: ^SP500-15\n",
      "Intercept: -0.07983520089815263\n",
      "Coefficients: [1.09542754]\n",
      "R^2 Score: 0.804788133332005\n",
      "P-Values: \n",
      "[6.89841756e-09 4.21757671e-45]\n",
      "Processing sector: ^SP500-15\n"
     ]
    },
    {
     "name": "stderr",
     "output_type": "stream",
     "text": [
      "[*********************100%***********************]  1 of 1 completed\n",
      "/var/folders/n3/cwx8131570q5ljqcv1f22n6c0000gn/T/ipykernel_47973/2952105492.py:10: FutureWarning: 'M' is deprecated and will be removed in a future version, please use 'ME' instead.\n",
      "  monthly_sector = sector_df.resample('M').mean()\n",
      "[*********************100%***********************]  1 of 1 completed\n",
      "/var/folders/n3/cwx8131570q5ljqcv1f22n6c0000gn/T/ipykernel_47973/2952105492.py:10: FutureWarning: 'M' is deprecated and will be removed in a future version, please use 'ME' instead.\n",
      "  monthly_sector = sector_df.resample('M').mean()\n",
      "[*********************100%***********************]  1 of 1 completed\n",
      "/var/folders/n3/cwx8131570q5ljqcv1f22n6c0000gn/T/ipykernel_47973/2952105492.py:10: FutureWarning: 'M' is deprecated and will be removed in a future version, please use 'ME' instead.\n",
      "  monthly_sector = sector_df.resample('M').mean()\n"
     ]
    },
    {
     "name": "stdout",
     "output_type": "stream",
     "text": [
      "Sector: ^SP500-15\n",
      "Intercept: -0.07983520089815263\n",
      "Coefficients: [1.09542754]\n",
      "R^2 Score: 0.804788133332005\n",
      "P-Values: \n",
      "[6.89841756e-09 4.21757671e-45]\n",
      "Processing sector: ^SP500-15\n",
      "Sector: ^SP500-15\n",
      "Intercept: -0.07983520089815263\n",
      "Coefficients: [1.09542754]\n",
      "R^2 Score: 0.804788133332005\n",
      "P-Values: \n",
      "[6.89841756e-09 4.21757671e-45]\n",
      "Processing sector: ^SP500-15\n",
      "Sector: ^SP500-15\n",
      "Intercept: -0.07983520089815263\n",
      "Coefficients: [1.09542754]\n",
      "R^2 Score: 0.804788133332005\n",
      "P-Values: \n",
      "[6.89841756e-09 4.21757671e-45]\n",
      "Processing sector: ^SP500-15\n"
     ]
    },
    {
     "name": "stderr",
     "output_type": "stream",
     "text": [
      "[*********************100%***********************]  1 of 1 completed\n",
      "/var/folders/n3/cwx8131570q5ljqcv1f22n6c0000gn/T/ipykernel_47973/2952105492.py:10: FutureWarning: 'M' is deprecated and will be removed in a future version, please use 'ME' instead.\n",
      "  monthly_sector = sector_df.resample('M').mean()\n",
      "[*********************100%***********************]  1 of 1 completed\n",
      "/var/folders/n3/cwx8131570q5ljqcv1f22n6c0000gn/T/ipykernel_47973/2952105492.py:10: FutureWarning: 'M' is deprecated and will be removed in a future version, please use 'ME' instead.\n",
      "  monthly_sector = sector_df.resample('M').mean()\n",
      "[*********************100%***********************]  1 of 1 completed\n",
      "/var/folders/n3/cwx8131570q5ljqcv1f22n6c0000gn/T/ipykernel_47973/2952105492.py:10: FutureWarning: 'M' is deprecated and will be removed in a future version, please use 'ME' instead.\n",
      "  monthly_sector = sector_df.resample('M').mean()\n"
     ]
    },
    {
     "name": "stdout",
     "output_type": "stream",
     "text": [
      "Sector: ^SP500-15\n",
      "Intercept: -0.07983520089815263\n",
      "Coefficients: [1.09542754]\n",
      "R^2 Score: 0.804788133332005\n",
      "P-Values: \n",
      "[6.89841756e-09 4.21757671e-45]\n",
      "Processing sector: ^SP500-15\n",
      "Sector: ^SP500-15\n",
      "Intercept: -0.07983520089815263\n",
      "Coefficients: [1.09542754]\n",
      "R^2 Score: 0.804788133332005\n",
      "P-Values: \n",
      "[6.89841756e-09 4.21757671e-45]\n",
      "Processing sector: ^SP500-15\n",
      "Sector: ^SP500-15\n",
      "Intercept: -0.07983520089815263\n",
      "Coefficients: [1.09542754]\n",
      "R^2 Score: 0.804788133332005\n",
      "P-Values: \n",
      "[6.89841756e-09 4.21757671e-45]\n",
      "Processing sector: ^SP500-15\n"
     ]
    },
    {
     "name": "stderr",
     "output_type": "stream",
     "text": [
      "[*********************100%***********************]  1 of 1 completed\n",
      "/var/folders/n3/cwx8131570q5ljqcv1f22n6c0000gn/T/ipykernel_47973/2952105492.py:10: FutureWarning: 'M' is deprecated and will be removed in a future version, please use 'ME' instead.\n",
      "  monthly_sector = sector_df.resample('M').mean()\n",
      "[*********************100%***********************]  1 of 1 completed\n",
      "/var/folders/n3/cwx8131570q5ljqcv1f22n6c0000gn/T/ipykernel_47973/2952105492.py:10: FutureWarning: 'M' is deprecated and will be removed in a future version, please use 'ME' instead.\n",
      "  monthly_sector = sector_df.resample('M').mean()\n",
      "[*********************100%***********************]  1 of 1 completed\n",
      "/var/folders/n3/cwx8131570q5ljqcv1f22n6c0000gn/T/ipykernel_47973/2952105492.py:10: FutureWarning: 'M' is deprecated and will be removed in a future version, please use 'ME' instead.\n",
      "  monthly_sector = sector_df.resample('M').mean()\n"
     ]
    },
    {
     "name": "stdout",
     "output_type": "stream",
     "text": [
      "Sector: ^SP500-15\n",
      "Intercept: -0.07983520089815263\n",
      "Coefficients: [1.09542754]\n",
      "R^2 Score: 0.804788133332005\n",
      "P-Values: \n",
      "[6.89841756e-09 4.21757671e-45]\n",
      "Processing sector: ^SP500-15\n",
      "Sector: ^SP500-15\n",
      "Intercept: -0.07983520089815263\n",
      "Coefficients: [1.09542754]\n",
      "R^2 Score: 0.804788133332005\n",
      "P-Values: \n",
      "[6.89841756e-09 4.21757671e-45]\n",
      "Processing sector: ^SP500-15\n",
      "Sector: ^SP500-15\n",
      "Intercept: -0.07983520089815263\n",
      "Coefficients: [1.09542754]\n",
      "R^2 Score: 0.804788133332005\n",
      "P-Values: \n",
      "[6.89841756e-09 4.21757671e-45]\n",
      "Processing sector: ^SP500-15\n"
     ]
    },
    {
     "name": "stderr",
     "output_type": "stream",
     "text": [
      "[*********************100%***********************]  1 of 1 completed\n",
      "/var/folders/n3/cwx8131570q5ljqcv1f22n6c0000gn/T/ipykernel_47973/2952105492.py:10: FutureWarning: 'M' is deprecated and will be removed in a future version, please use 'ME' instead.\n",
      "  monthly_sector = sector_df.resample('M').mean()\n",
      "[*********************100%***********************]  1 of 1 completed\n",
      "/var/folders/n3/cwx8131570q5ljqcv1f22n6c0000gn/T/ipykernel_47973/2952105492.py:10: FutureWarning: 'M' is deprecated and will be removed in a future version, please use 'ME' instead.\n",
      "  monthly_sector = sector_df.resample('M').mean()\n"
     ]
    },
    {
     "name": "stdout",
     "output_type": "stream",
     "text": [
      "Sector: ^SP500-15\n",
      "Intercept: -0.07983520089815263\n",
      "Coefficients: [1.09542754]\n",
      "R^2 Score: 0.804788133332005\n",
      "P-Values: \n",
      "[6.89841756e-09 4.21757671e-45]\n",
      "Processing sector: ^SP500-15\n"
     ]
    },
    {
     "name": "stderr",
     "output_type": "stream",
     "text": [
      "[*********************100%***********************]  1 of 1 completed\n",
      "/var/folders/n3/cwx8131570q5ljqcv1f22n6c0000gn/T/ipykernel_47973/2952105492.py:10: FutureWarning: 'M' is deprecated and will be removed in a future version, please use 'ME' instead.\n",
      "  monthly_sector = sector_df.resample('M').mean()\n"
     ]
    },
    {
     "name": "stdout",
     "output_type": "stream",
     "text": [
      "Sector: ^SP500-15\n",
      "Intercept: -0.07983520089815263\n",
      "Coefficients: [1.09542754]\n",
      "R^2 Score: 0.804788133332005\n",
      "P-Values: \n",
      "[6.89841756e-09 4.21757671e-45]\n",
      "Processing sector: ^SP500-15\n",
      "Sector: ^SP500-15\n",
      "Intercept: -0.07983520089815263\n",
      "Coefficients: [1.09542754]\n",
      "R^2 Score: 0.804788133332005\n",
      "P-Values: \n",
      "[6.89841756e-09 4.21757671e-45]\n",
      "Processing sector: ^SP500-60\n"
     ]
    },
    {
     "name": "stderr",
     "output_type": "stream",
     "text": [
      "[*********************100%***********************]  1 of 1 completed\n",
      "/var/folders/n3/cwx8131570q5ljqcv1f22n6c0000gn/T/ipykernel_47973/2952105492.py:10: FutureWarning: 'M' is deprecated and will be removed in a future version, please use 'ME' instead.\n",
      "  monthly_sector = sector_df.resample('M').mean()\n",
      "[*********************100%***********************]  1 of 1 completed\n",
      "/var/folders/n3/cwx8131570q5ljqcv1f22n6c0000gn/T/ipykernel_47973/2952105492.py:10: FutureWarning: 'M' is deprecated and will be removed in a future version, please use 'ME' instead.\n",
      "  monthly_sector = sector_df.resample('M').mean()\n",
      "[*********************100%***********************]  1 of 1 completed\n",
      "/var/folders/n3/cwx8131570q5ljqcv1f22n6c0000gn/T/ipykernel_47973/2952105492.py:10: FutureWarning: 'M' is deprecated and will be removed in a future version, please use 'ME' instead.\n",
      "  monthly_sector = sector_df.resample('M').mean()\n"
     ]
    },
    {
     "name": "stdout",
     "output_type": "stream",
     "text": [
      "Sector: ^SP500-60\n",
      "Intercept: 0.031116330516742292\n",
      "Coefficients: [0.42445888]\n",
      "R^2 Score: 0.19904491890628206\n",
      "P-Values: \n",
      "[1.35483472e-01 2.91773147e-07]\n",
      "Processing sector: ^SP500-60\n",
      "Sector: ^SP500-60\n",
      "Intercept: 0.031116330516742292\n",
      "Coefficients: [0.42445888]\n",
      "R^2 Score: 0.19904491890628206\n",
      "P-Values: \n",
      "[1.35483472e-01 2.91773147e-07]\n",
      "Processing sector: ^SP500-60\n",
      "Sector: ^SP500-60\n",
      "Intercept: 0.031116330516742292\n",
      "Coefficients: [0.42445888]\n",
      "R^2 Score: 0.19904491890628206\n",
      "P-Values: \n",
      "[1.35483472e-01 2.91773147e-07]\n",
      "Processing sector: ^SP500-60\n"
     ]
    },
    {
     "name": "stderr",
     "output_type": "stream",
     "text": [
      "[*********************100%***********************]  1 of 1 completed\n",
      "/var/folders/n3/cwx8131570q5ljqcv1f22n6c0000gn/T/ipykernel_47973/2952105492.py:10: FutureWarning: 'M' is deprecated and will be removed in a future version, please use 'ME' instead.\n",
      "  monthly_sector = sector_df.resample('M').mean()\n",
      "[*********************100%***********************]  1 of 1 completed\n",
      "/var/folders/n3/cwx8131570q5ljqcv1f22n6c0000gn/T/ipykernel_47973/2952105492.py:10: FutureWarning: 'M' is deprecated and will be removed in a future version, please use 'ME' instead.\n",
      "  monthly_sector = sector_df.resample('M').mean()\n",
      "[*********************100%***********************]  1 of 1 completed\n",
      "/var/folders/n3/cwx8131570q5ljqcv1f22n6c0000gn/T/ipykernel_47973/2952105492.py:10: FutureWarning: 'M' is deprecated and will be removed in a future version, please use 'ME' instead.\n",
      "  monthly_sector = sector_df.resample('M').mean()\n"
     ]
    },
    {
     "name": "stdout",
     "output_type": "stream",
     "text": [
      "Sector: ^SP500-60\n",
      "Intercept: 0.031116330516742292\n",
      "Coefficients: [0.42445888]\n",
      "R^2 Score: 0.19904491890628206\n",
      "P-Values: \n",
      "[1.35483472e-01 2.91773147e-07]\n",
      "Processing sector: ^SP500-60\n",
      "Sector: ^SP500-60\n",
      "Intercept: 0.031116330516742292\n",
      "Coefficients: [0.42445888]\n",
      "R^2 Score: 0.19904491890628206\n",
      "P-Values: \n",
      "[1.35483472e-01 2.91773147e-07]\n",
      "Processing sector: ^SP500-60\n",
      "Sector: ^SP500-60\n",
      "Intercept: 0.031116330516742292\n",
      "Coefficients: [0.42445888]\n",
      "R^2 Score: 0.19904491890628206\n",
      "P-Values: \n",
      "[1.35483472e-01 2.91773147e-07]\n",
      "Processing sector: ^SP500-60\n"
     ]
    },
    {
     "name": "stderr",
     "output_type": "stream",
     "text": [
      "[*********************100%***********************]  1 of 1 completed\n",
      "/var/folders/n3/cwx8131570q5ljqcv1f22n6c0000gn/T/ipykernel_47973/2952105492.py:10: FutureWarning: 'M' is deprecated and will be removed in a future version, please use 'ME' instead.\n",
      "  monthly_sector = sector_df.resample('M').mean()\n",
      "[*********************100%***********************]  1 of 1 completed\n",
      "/var/folders/n3/cwx8131570q5ljqcv1f22n6c0000gn/T/ipykernel_47973/2952105492.py:10: FutureWarning: 'M' is deprecated and will be removed in a future version, please use 'ME' instead.\n",
      "  monthly_sector = sector_df.resample('M').mean()\n",
      "[*********************100%***********************]  1 of 1 completed\n",
      "/var/folders/n3/cwx8131570q5ljqcv1f22n6c0000gn/T/ipykernel_47973/2952105492.py:10: FutureWarning: 'M' is deprecated and will be removed in a future version, please use 'ME' instead.\n",
      "  monthly_sector = sector_df.resample('M').mean()\n"
     ]
    },
    {
     "name": "stdout",
     "output_type": "stream",
     "text": [
      "Sector: ^SP500-60\n",
      "Intercept: 0.031116330516742292\n",
      "Coefficients: [0.42445888]\n",
      "R^2 Score: 0.19904491890628206\n",
      "P-Values: \n",
      "[1.35483472e-01 2.91773147e-07]\n",
      "Processing sector: ^SP500-60\n",
      "Sector: ^SP500-60\n",
      "Intercept: 0.031116330516742292\n",
      "Coefficients: [0.42445888]\n",
      "R^2 Score: 0.19904491890628206\n",
      "P-Values: \n",
      "[1.35483472e-01 2.91773147e-07]\n",
      "Processing sector: ^SP500-60\n",
      "Sector: ^SP500-60\n",
      "Intercept: 0.031116330516742292\n",
      "Coefficients: [0.42445888]\n",
      "R^2 Score: 0.19904491890628206\n",
      "P-Values: \n",
      "[1.35483472e-01 2.91773147e-07]\n",
      "Processing sector: ^SP500-60\n"
     ]
    },
    {
     "name": "stderr",
     "output_type": "stream",
     "text": [
      "[*********************100%***********************]  1 of 1 completed\n",
      "/var/folders/n3/cwx8131570q5ljqcv1f22n6c0000gn/T/ipykernel_47973/2952105492.py:10: FutureWarning: 'M' is deprecated and will be removed in a future version, please use 'ME' instead.\n",
      "  monthly_sector = sector_df.resample('M').mean()\n",
      "[*********************100%***********************]  1 of 1 completed\n",
      "/var/folders/n3/cwx8131570q5ljqcv1f22n6c0000gn/T/ipykernel_47973/2952105492.py:10: FutureWarning: 'M' is deprecated and will be removed in a future version, please use 'ME' instead.\n",
      "  monthly_sector = sector_df.resample('M').mean()\n",
      "[*********************100%***********************]  1 of 1 completed\n",
      "/var/folders/n3/cwx8131570q5ljqcv1f22n6c0000gn/T/ipykernel_47973/2952105492.py:10: FutureWarning: 'M' is deprecated and will be removed in a future version, please use 'ME' instead.\n",
      "  monthly_sector = sector_df.resample('M').mean()\n"
     ]
    },
    {
     "name": "stdout",
     "output_type": "stream",
     "text": [
      "Sector: ^SP500-60\n",
      "Intercept: 0.031116330516742292\n",
      "Coefficients: [0.42445888]\n",
      "R^2 Score: 0.19904491890628206\n",
      "P-Values: \n",
      "[1.35483472e-01 2.91773147e-07]\n",
      "Processing sector: ^SP500-60\n",
      "Sector: ^SP500-60\n",
      "Intercept: 0.031116330516742292\n",
      "Coefficients: [0.42445888]\n",
      "R^2 Score: 0.19904491890628206\n",
      "P-Values: \n",
      "[1.35483472e-01 2.91773147e-07]\n",
      "Processing sector: ^SP500-60\n",
      "Sector: ^SP500-60\n",
      "Intercept: 0.031116330516742292\n",
      "Coefficients: [0.42445888]\n",
      "R^2 Score: 0.19904491890628206\n",
      "P-Values: \n",
      "[1.35483472e-01 2.91773147e-07]\n",
      "Processing sector: ^SP500-60\n"
     ]
    },
    {
     "name": "stderr",
     "output_type": "stream",
     "text": [
      "[*********************100%***********************]  1 of 1 completed\n",
      "/var/folders/n3/cwx8131570q5ljqcv1f22n6c0000gn/T/ipykernel_47973/2952105492.py:10: FutureWarning: 'M' is deprecated and will be removed in a future version, please use 'ME' instead.\n",
      "  monthly_sector = sector_df.resample('M').mean()\n",
      "[*********************100%***********************]  1 of 1 completed\n",
      "/var/folders/n3/cwx8131570q5ljqcv1f22n6c0000gn/T/ipykernel_47973/2952105492.py:10: FutureWarning: 'M' is deprecated and will be removed in a future version, please use 'ME' instead.\n",
      "  monthly_sector = sector_df.resample('M').mean()\n",
      "[*********************100%***********************]  1 of 1 completed\n",
      "/var/folders/n3/cwx8131570q5ljqcv1f22n6c0000gn/T/ipykernel_47973/2952105492.py:10: FutureWarning: 'M' is deprecated and will be removed in a future version, please use 'ME' instead.\n",
      "  monthly_sector = sector_df.resample('M').mean()\n"
     ]
    },
    {
     "name": "stdout",
     "output_type": "stream",
     "text": [
      "Sector: ^SP500-60\n",
      "Intercept: 0.031116330516742292\n",
      "Coefficients: [0.42445888]\n",
      "R^2 Score: 0.19904491890628206\n",
      "P-Values: \n",
      "[1.35483472e-01 2.91773147e-07]\n",
      "Processing sector: ^SP500-60\n",
      "Sector: ^SP500-60\n",
      "Intercept: 0.031116330516742292\n",
      "Coefficients: [0.42445888]\n",
      "R^2 Score: 0.19904491890628206\n",
      "P-Values: \n",
      "[1.35483472e-01 2.91773147e-07]\n",
      "Processing sector: ^SP500-60\n",
      "Sector: ^SP500-60\n",
      "Intercept: 0.031116330516742292\n",
      "Coefficients: [0.42445888]\n",
      "R^2 Score: 0.19904491890628206\n",
      "P-Values: \n",
      "[1.35483472e-01 2.91773147e-07]\n",
      "Processing sector: ^SP500-60\n"
     ]
    },
    {
     "name": "stderr",
     "output_type": "stream",
     "text": [
      "[*********************100%***********************]  1 of 1 completed\n",
      "/var/folders/n3/cwx8131570q5ljqcv1f22n6c0000gn/T/ipykernel_47973/2952105492.py:10: FutureWarning: 'M' is deprecated and will be removed in a future version, please use 'ME' instead.\n",
      "  monthly_sector = sector_df.resample('M').mean()\n",
      "[*********************100%***********************]  1 of 1 completed\n",
      "/var/folders/n3/cwx8131570q5ljqcv1f22n6c0000gn/T/ipykernel_47973/2952105492.py:10: FutureWarning: 'M' is deprecated and will be removed in a future version, please use 'ME' instead.\n",
      "  monthly_sector = sector_df.resample('M').mean()\n"
     ]
    },
    {
     "name": "stdout",
     "output_type": "stream",
     "text": [
      "Sector: ^SP500-60\n",
      "Intercept: 0.031116330516742292\n",
      "Coefficients: [0.42445888]\n",
      "R^2 Score: 0.19904491890628206\n",
      "P-Values: \n",
      "[1.35483472e-01 2.91773147e-07]\n",
      "Processing sector: ^SP500-60\n",
      "Sector: ^SP500-60\n",
      "Intercept: 0.031116330516742292\n",
      "Coefficients: [0.42445888]\n",
      "R^2 Score: 0.19904491890628206\n",
      "P-Values: \n",
      "[1.35483472e-01 2.91773147e-07]\n",
      "Processing sector: ^SP500-60\n"
     ]
    },
    {
     "name": "stderr",
     "output_type": "stream",
     "text": [
      "[*********************100%***********************]  1 of 1 completed\n",
      "/var/folders/n3/cwx8131570q5ljqcv1f22n6c0000gn/T/ipykernel_47973/2952105492.py:10: FutureWarning: 'M' is deprecated and will be removed in a future version, please use 'ME' instead.\n",
      "  monthly_sector = sector_df.resample('M').mean()\n",
      "[*********************100%***********************]  1 of 1 completed\n",
      "/var/folders/n3/cwx8131570q5ljqcv1f22n6c0000gn/T/ipykernel_47973/2952105492.py:10: FutureWarning: 'M' is deprecated and will be removed in a future version, please use 'ME' instead.\n",
      "  monthly_sector = sector_df.resample('M').mean()\n",
      "[*********************100%***********************]  1 of 1 completed\n",
      "/var/folders/n3/cwx8131570q5ljqcv1f22n6c0000gn/T/ipykernel_47973/2952105492.py:10: FutureWarning: 'M' is deprecated and will be removed in a future version, please use 'ME' instead.\n",
      "  monthly_sector = sector_df.resample('M').mean()\n"
     ]
    },
    {
     "name": "stdout",
     "output_type": "stream",
     "text": [
      "Sector: ^SP500-60\n",
      "Intercept: 0.031116330516742292\n",
      "Coefficients: [0.42445888]\n",
      "R^2 Score: 0.19904491890628206\n",
      "P-Values: \n",
      "[1.35483472e-01 2.91773147e-07]\n",
      "Processing sector: ^SP500-60\n",
      "Sector: ^SP500-60\n",
      "Intercept: 0.031116330516742292\n",
      "Coefficients: [0.42445888]\n",
      "R^2 Score: 0.19904491890628206\n",
      "P-Values: \n",
      "[1.35483472e-01 2.91773147e-07]\n",
      "Processing sector: ^SP500-60\n",
      "Sector: ^SP500-60\n",
      "Intercept: 0.031116330516742292\n",
      "Coefficients: [0.42445888]\n",
      "R^2 Score: 0.19904491890628206\n",
      "P-Values: \n",
      "[1.35483472e-01 2.91773147e-07]\n",
      "Processing sector: ^SP500-60\n"
     ]
    },
    {
     "name": "stderr",
     "output_type": "stream",
     "text": [
      "[*********************100%***********************]  1 of 1 completed\n",
      "/var/folders/n3/cwx8131570q5ljqcv1f22n6c0000gn/T/ipykernel_47973/2952105492.py:10: FutureWarning: 'M' is deprecated and will be removed in a future version, please use 'ME' instead.\n",
      "  monthly_sector = sector_df.resample('M').mean()\n",
      "[*********************100%***********************]  1 of 1 completed\n",
      "/var/folders/n3/cwx8131570q5ljqcv1f22n6c0000gn/T/ipykernel_47973/2952105492.py:10: FutureWarning: 'M' is deprecated and will be removed in a future version, please use 'ME' instead.\n",
      "  monthly_sector = sector_df.resample('M').mean()\n",
      "[*********************100%***********************]  1 of 1 completed\n",
      "/var/folders/n3/cwx8131570q5ljqcv1f22n6c0000gn/T/ipykernel_47973/2952105492.py:10: FutureWarning: 'M' is deprecated and will be removed in a future version, please use 'ME' instead.\n",
      "  monthly_sector = sector_df.resample('M').mean()\n"
     ]
    },
    {
     "name": "stdout",
     "output_type": "stream",
     "text": [
      "Sector: ^SP500-60\n",
      "Intercept: 0.031116330516742292\n",
      "Coefficients: [0.42445888]\n",
      "R^2 Score: 0.19904491890628206\n",
      "P-Values: \n",
      "[1.35483472e-01 2.91773147e-07]\n",
      "Processing sector: ^SP500-60\n",
      "Sector: ^SP500-60\n",
      "Intercept: 0.031116330516742292\n",
      "Coefficients: [0.42445888]\n",
      "R^2 Score: 0.19904491890628206\n",
      "P-Values: \n",
      "[1.35483472e-01 2.91773147e-07]\n",
      "Processing sector: ^SP500-60\n",
      "Sector: ^SP500-60\n",
      "Intercept: 0.031116330516742292\n",
      "Coefficients: [0.42445888]\n",
      "R^2 Score: 0.19904491890628206\n",
      "P-Values: \n",
      "[1.35483472e-01 2.91773147e-07]\n",
      "Processing sector: ^SP500-60\n"
     ]
    },
    {
     "name": "stderr",
     "output_type": "stream",
     "text": [
      "[*********************100%***********************]  1 of 1 completed\n",
      "/var/folders/n3/cwx8131570q5ljqcv1f22n6c0000gn/T/ipykernel_47973/2952105492.py:10: FutureWarning: 'M' is deprecated and will be removed in a future version, please use 'ME' instead.\n",
      "  monthly_sector = sector_df.resample('M').mean()\n",
      "[*********************100%***********************]  1 of 1 completed\n",
      "/var/folders/n3/cwx8131570q5ljqcv1f22n6c0000gn/T/ipykernel_47973/2952105492.py:10: FutureWarning: 'M' is deprecated and will be removed in a future version, please use 'ME' instead.\n",
      "  monthly_sector = sector_df.resample('M').mean()\n",
      "[*********************100%***********************]  1 of 1 completed\n",
      "/var/folders/n3/cwx8131570q5ljqcv1f22n6c0000gn/T/ipykernel_47973/2952105492.py:10: FutureWarning: 'M' is deprecated and will be removed in a future version, please use 'ME' instead.\n",
      "  monthly_sector = sector_df.resample('M').mean()\n"
     ]
    },
    {
     "name": "stdout",
     "output_type": "stream",
     "text": [
      "Sector: ^SP500-60\n",
      "Intercept: 0.031116330516742292\n",
      "Coefficients: [0.42445888]\n",
      "R^2 Score: 0.19904491890628206\n",
      "P-Values: \n",
      "[1.35483472e-01 2.91773147e-07]\n",
      "Processing sector: ^SP500-60\n",
      "Sector: ^SP500-60\n",
      "Intercept: 0.031116330516742292\n",
      "Coefficients: [0.42445888]\n",
      "R^2 Score: 0.19904491890628206\n",
      "P-Values: \n",
      "[1.35483472e-01 2.91773147e-07]\n",
      "Processing sector: ^SP500-60\n",
      "Sector: ^SP500-60\n",
      "Intercept: 0.031116330516742292\n",
      "Coefficients: [0.42445888]\n",
      "R^2 Score: 0.19904491890628206\n",
      "P-Values: \n",
      "[1.35483472e-01 2.91773147e-07]\n",
      "Processing sector: ^SP500-60\n"
     ]
    },
    {
     "name": "stderr",
     "output_type": "stream",
     "text": [
      "[*********************100%***********************]  1 of 1 completed\n",
      "/var/folders/n3/cwx8131570q5ljqcv1f22n6c0000gn/T/ipykernel_47973/2952105492.py:10: FutureWarning: 'M' is deprecated and will be removed in a future version, please use 'ME' instead.\n",
      "  monthly_sector = sector_df.resample('M').mean()\n",
      "[*********************100%***********************]  1 of 1 completed\n",
      "/var/folders/n3/cwx8131570q5ljqcv1f22n6c0000gn/T/ipykernel_47973/2952105492.py:10: FutureWarning: 'M' is deprecated and will be removed in a future version, please use 'ME' instead.\n",
      "  monthly_sector = sector_df.resample('M').mean()\n"
     ]
    },
    {
     "name": "stdout",
     "output_type": "stream",
     "text": [
      "Sector: ^SP500-60\n",
      "Intercept: 0.031116330516742292\n",
      "Coefficients: [0.42445888]\n",
      "R^2 Score: 0.19904491890628206\n",
      "P-Values: \n",
      "[1.35483472e-01 2.91773147e-07]\n",
      "Processing sector: ^SP500-60\n",
      "Sector: ^SP500-60\n",
      "Intercept: 0.031116330516742292\n",
      "Coefficients: [0.42445888]\n",
      "R^2 Score: 0.19904491890628206\n",
      "P-Values: \n",
      "[1.35483472e-01 2.91773147e-07]\n",
      "Processing sector: ^SP500-60\n"
     ]
    },
    {
     "name": "stderr",
     "output_type": "stream",
     "text": [
      "[*********************100%***********************]  1 of 1 completed\n",
      "/var/folders/n3/cwx8131570q5ljqcv1f22n6c0000gn/T/ipykernel_47973/2952105492.py:10: FutureWarning: 'M' is deprecated and will be removed in a future version, please use 'ME' instead.\n",
      "  monthly_sector = sector_df.resample('M').mean()\n",
      "[*********************100%***********************]  1 of 1 completed\n",
      "/var/folders/n3/cwx8131570q5ljqcv1f22n6c0000gn/T/ipykernel_47973/2952105492.py:10: FutureWarning: 'M' is deprecated and will be removed in a future version, please use 'ME' instead.\n",
      "  monthly_sector = sector_df.resample('M').mean()\n",
      "[*********************100%***********************]  1 of 1 completed\n",
      "/var/folders/n3/cwx8131570q5ljqcv1f22n6c0000gn/T/ipykernel_47973/2952105492.py:10: FutureWarning: 'M' is deprecated and will be removed in a future version, please use 'ME' instead.\n",
      "  monthly_sector = sector_df.resample('M').mean()\n"
     ]
    },
    {
     "name": "stdout",
     "output_type": "stream",
     "text": [
      "Sector: ^SP500-60\n",
      "Intercept: 0.031116330516742292\n",
      "Coefficients: [0.42445888]\n",
      "R^2 Score: 0.19904491890628206\n",
      "P-Values: \n",
      "[1.35483472e-01 2.91773147e-07]\n",
      "Processing sector: ^SP500-60\n",
      "Sector: ^SP500-60\n",
      "Intercept: 0.031116330516742292\n",
      "Coefficients: [0.42445888]\n",
      "R^2 Score: 0.19904491890628206\n",
      "P-Values: \n",
      "[1.35483472e-01 2.91773147e-07]\n",
      "Processing sector: ^SP500-60\n",
      "Sector: ^SP500-60\n",
      "Intercept: 0.031116330516742292\n",
      "Coefficients: [0.42445888]\n",
      "R^2 Score: 0.19904491890628206\n",
      "P-Values: \n",
      "[1.35483472e-01 2.91773147e-07]\n",
      "Processing sector: ^SP500-55\n"
     ]
    },
    {
     "name": "stderr",
     "output_type": "stream",
     "text": [
      "[*********************100%***********************]  1 of 1 completed\n",
      "/var/folders/n3/cwx8131570q5ljqcv1f22n6c0000gn/T/ipykernel_47973/2952105492.py:10: FutureWarning: 'M' is deprecated and will be removed in a future version, please use 'ME' instead.\n",
      "  monthly_sector = sector_df.resample('M').mean()\n",
      "[*********************100%***********************]  1 of 1 completed\n",
      "/var/folders/n3/cwx8131570q5ljqcv1f22n6c0000gn/T/ipykernel_47973/2952105492.py:10: FutureWarning: 'M' is deprecated and will be removed in a future version, please use 'ME' instead.\n",
      "  monthly_sector = sector_df.resample('M').mean()\n",
      "[*********************100%***********************]  1 of 1 completed\n",
      "/var/folders/n3/cwx8131570q5ljqcv1f22n6c0000gn/T/ipykernel_47973/2952105492.py:10: FutureWarning: 'M' is deprecated and will be removed in a future version, please use 'ME' instead.\n",
      "  monthly_sector = sector_df.resample('M').mean()\n"
     ]
    },
    {
     "name": "stdout",
     "output_type": "stream",
     "text": [
      "Sector: ^SP500-55\n",
      "Intercept: 0.07818880056426478\n",
      "Coefficients: [0.14403904]\n",
      "R^2 Score: 0.058618253833697787\n",
      "P-Values: \n",
      "[8.39004623e-08 6.74515161e-03]\n",
      "Processing sector: ^SP500-55\n",
      "Sector: ^SP500-55\n",
      "Intercept: 0.07818880056426478\n",
      "Coefficients: [0.14403904]\n",
      "R^2 Score: 0.058618253833697787\n",
      "P-Values: \n",
      "[8.39004623e-08 6.74515161e-03]\n",
      "Processing sector: ^SP500-55\n",
      "Sector: ^SP500-55\n",
      "Intercept: 0.07818880056426478\n",
      "Coefficients: [0.14403904]\n",
      "R^2 Score: 0.058618253833697787\n",
      "P-Values: \n",
      "[8.39004623e-08 6.74515161e-03]\n",
      "Processing sector: ^SP500-55\n"
     ]
    },
    {
     "name": "stderr",
     "output_type": "stream",
     "text": [
      "[*********************100%***********************]  1 of 1 completed\n",
      "/var/folders/n3/cwx8131570q5ljqcv1f22n6c0000gn/T/ipykernel_47973/2952105492.py:10: FutureWarning: 'M' is deprecated and will be removed in a future version, please use 'ME' instead.\n",
      "  monthly_sector = sector_df.resample('M').mean()\n",
      "[*********************100%***********************]  1 of 1 completed\n",
      "/var/folders/n3/cwx8131570q5ljqcv1f22n6c0000gn/T/ipykernel_47973/2952105492.py:10: FutureWarning: 'M' is deprecated and will be removed in a future version, please use 'ME' instead.\n",
      "  monthly_sector = sector_df.resample('M').mean()\n",
      "[*********************100%***********************]  1 of 1 completed\n",
      "/var/folders/n3/cwx8131570q5ljqcv1f22n6c0000gn/T/ipykernel_47973/2952105492.py:10: FutureWarning: 'M' is deprecated and will be removed in a future version, please use 'ME' instead.\n",
      "  monthly_sector = sector_df.resample('M').mean()\n"
     ]
    },
    {
     "name": "stdout",
     "output_type": "stream",
     "text": [
      "Sector: ^SP500-55\n",
      "Intercept: 0.07818880056426478\n",
      "Coefficients: [0.14403904]\n",
      "R^2 Score: 0.058618253833697787\n",
      "P-Values: \n",
      "[8.39004623e-08 6.74515161e-03]\n",
      "Processing sector: ^SP500-55\n",
      "Sector: ^SP500-55\n",
      "Intercept: 0.07818880056426478\n",
      "Coefficients: [0.14403904]\n",
      "R^2 Score: 0.058618253833697787\n",
      "P-Values: \n",
      "[8.39004623e-08 6.74515161e-03]\n",
      "Processing sector: ^SP500-55\n",
      "Sector: ^SP500-55\n",
      "Intercept: 0.07818880056426478\n",
      "Coefficients: [0.14403904]\n",
      "R^2 Score: 0.058618253833697787\n",
      "P-Values: \n",
      "[8.39004623e-08 6.74515161e-03]\n",
      "Processing sector: ^SP500-55\n"
     ]
    },
    {
     "name": "stderr",
     "output_type": "stream",
     "text": [
      "[*********************100%***********************]  1 of 1 completed\n",
      "/var/folders/n3/cwx8131570q5ljqcv1f22n6c0000gn/T/ipykernel_47973/2952105492.py:10: FutureWarning: 'M' is deprecated and will be removed in a future version, please use 'ME' instead.\n",
      "  monthly_sector = sector_df.resample('M').mean()\n"
     ]
    },
    {
     "name": "stdout",
     "output_type": "stream",
     "text": [
      "Sector: ^SP500-55\n",
      "Intercept: 0.07818880056426478\n",
      "Coefficients: [0.14403904]\n",
      "R^2 Score: 0.058618253833697787\n",
      "P-Values: \n",
      "[8.39004623e-08 6.74515161e-03]\n",
      "Processing sector: ^SP500-55\n"
     ]
    },
    {
     "name": "stderr",
     "output_type": "stream",
     "text": [
      "[*********************100%***********************]  1 of 1 completed\n",
      "/var/folders/n3/cwx8131570q5ljqcv1f22n6c0000gn/T/ipykernel_47973/2952105492.py:10: FutureWarning: 'M' is deprecated and will be removed in a future version, please use 'ME' instead.\n",
      "  monthly_sector = sector_df.resample('M').mean()\n",
      "[*********************100%***********************]  1 of 1 completed\n",
      "/var/folders/n3/cwx8131570q5ljqcv1f22n6c0000gn/T/ipykernel_47973/2952105492.py:10: FutureWarning: 'M' is deprecated and will be removed in a future version, please use 'ME' instead.\n",
      "  monthly_sector = sector_df.resample('M').mean()\n",
      "[*********************100%***********************]  1 of 1 completed\n",
      "/var/folders/n3/cwx8131570q5ljqcv1f22n6c0000gn/T/ipykernel_47973/2952105492.py:10: FutureWarning: 'M' is deprecated and will be removed in a future version, please use 'ME' instead.\n",
      "  monthly_sector = sector_df.resample('M').mean()\n"
     ]
    },
    {
     "name": "stdout",
     "output_type": "stream",
     "text": [
      "Sector: ^SP500-55\n",
      "Intercept: 0.07818880056426478\n",
      "Coefficients: [0.14403904]\n",
      "R^2 Score: 0.058618253833697787\n",
      "P-Values: \n",
      "[8.39004623e-08 6.74515161e-03]\n",
      "Processing sector: ^SP500-55\n",
      "Sector: ^SP500-55\n",
      "Intercept: 0.07818880056426478\n",
      "Coefficients: [0.14403904]\n",
      "R^2 Score: 0.058618253833697787\n",
      "P-Values: \n",
      "[8.39004623e-08 6.74515161e-03]\n",
      "Processing sector: ^SP500-55\n",
      "Sector: ^SP500-55\n",
      "Intercept: 0.07818880056426478\n",
      "Coefficients: [0.14403904]\n",
      "R^2 Score: 0.058618253833697787\n",
      "P-Values: \n",
      "[8.39004623e-08 6.74515161e-03]\n",
      "Processing sector: ^SP500-55\n"
     ]
    },
    {
     "name": "stderr",
     "output_type": "stream",
     "text": [
      "[*********************100%***********************]  1 of 1 completed\n",
      "/var/folders/n3/cwx8131570q5ljqcv1f22n6c0000gn/T/ipykernel_47973/2952105492.py:10: FutureWarning: 'M' is deprecated and will be removed in a future version, please use 'ME' instead.\n",
      "  monthly_sector = sector_df.resample('M').mean()\n",
      "[*********************100%***********************]  1 of 1 completed\n",
      "/var/folders/n3/cwx8131570q5ljqcv1f22n6c0000gn/T/ipykernel_47973/2952105492.py:10: FutureWarning: 'M' is deprecated and will be removed in a future version, please use 'ME' instead.\n",
      "  monthly_sector = sector_df.resample('M').mean()\n"
     ]
    },
    {
     "name": "stdout",
     "output_type": "stream",
     "text": [
      "Sector: ^SP500-55\n",
      "Intercept: 0.07818880056426478\n",
      "Coefficients: [0.14403904]\n",
      "R^2 Score: 0.058618253833697787\n",
      "P-Values: \n",
      "[8.39004623e-08 6.74515161e-03]\n",
      "Processing sector: ^SP500-55\n",
      "Sector: ^SP500-55\n",
      "Intercept: 0.07818880056426478\n",
      "Coefficients: [0.14403904]\n",
      "R^2 Score: 0.058618253833697787\n",
      "P-Values: \n",
      "[8.39004623e-08 6.74515161e-03]\n",
      "Processing sector: ^SP500-55\n"
     ]
    },
    {
     "name": "stderr",
     "output_type": "stream",
     "text": [
      "[*********************100%***********************]  1 of 1 completed\n",
      "/var/folders/n3/cwx8131570q5ljqcv1f22n6c0000gn/T/ipykernel_47973/2952105492.py:10: FutureWarning: 'M' is deprecated and will be removed in a future version, please use 'ME' instead.\n",
      "  monthly_sector = sector_df.resample('M').mean()\n",
      "[*********************100%***********************]  1 of 1 completed\n",
      "/var/folders/n3/cwx8131570q5ljqcv1f22n6c0000gn/T/ipykernel_47973/2952105492.py:10: FutureWarning: 'M' is deprecated and will be removed in a future version, please use 'ME' instead.\n",
      "  monthly_sector = sector_df.resample('M').mean()\n",
      "[*********************100%***********************]  1 of 1 completed\n",
      "/var/folders/n3/cwx8131570q5ljqcv1f22n6c0000gn/T/ipykernel_47973/2952105492.py:10: FutureWarning: 'M' is deprecated and will be removed in a future version, please use 'ME' instead.\n",
      "  monthly_sector = sector_df.resample('M').mean()\n"
     ]
    },
    {
     "name": "stdout",
     "output_type": "stream",
     "text": [
      "Sector: ^SP500-55\n",
      "Intercept: 0.07818880056426478\n",
      "Coefficients: [0.14403904]\n",
      "R^2 Score: 0.058618253833697787\n",
      "P-Values: \n",
      "[8.39004623e-08 6.74515161e-03]\n",
      "Processing sector: ^SP500-55\n",
      "Sector: ^SP500-55\n",
      "Intercept: 0.07818880056426478\n",
      "Coefficients: [0.14403904]\n",
      "R^2 Score: 0.058618253833697787\n",
      "P-Values: \n",
      "[8.39004623e-08 6.74515161e-03]\n",
      "Processing sector: ^SP500-55\n",
      "Sector: ^SP500-55\n",
      "Intercept: 0.07818880056426478\n",
      "Coefficients: [0.14403904]\n",
      "R^2 Score: 0.058618253833697787\n",
      "P-Values: \n",
      "[8.39004623e-08 6.74515161e-03]\n",
      "Processing sector: ^SP500-55\n"
     ]
    },
    {
     "name": "stderr",
     "output_type": "stream",
     "text": [
      "[*********************100%***********************]  1 of 1 completed\n",
      "/var/folders/n3/cwx8131570q5ljqcv1f22n6c0000gn/T/ipykernel_47973/2952105492.py:10: FutureWarning: 'M' is deprecated and will be removed in a future version, please use 'ME' instead.\n",
      "  monthly_sector = sector_df.resample('M').mean()\n",
      "[*********************100%***********************]  1 of 1 completed\n",
      "/var/folders/n3/cwx8131570q5ljqcv1f22n6c0000gn/T/ipykernel_47973/2952105492.py:10: FutureWarning: 'M' is deprecated and will be removed in a future version, please use 'ME' instead.\n",
      "  monthly_sector = sector_df.resample('M').mean()\n"
     ]
    },
    {
     "name": "stdout",
     "output_type": "stream",
     "text": [
      "Sector: ^SP500-55\n",
      "Intercept: 0.07818880056426478\n",
      "Coefficients: [0.14403904]\n",
      "R^2 Score: 0.058618253833697787\n",
      "P-Values: \n",
      "[8.39004623e-08 6.74515161e-03]\n",
      "Processing sector: ^SP500-55\n",
      "Sector: ^SP500-55\n",
      "Intercept: 0.07818880056426478\n",
      "Coefficients: [0.14403904]\n",
      "R^2 Score: 0.058618253833697787\n",
      "P-Values: \n",
      "[8.39004623e-08 6.74515161e-03]\n",
      "Processing sector: ^SP500-55\n"
     ]
    },
    {
     "name": "stderr",
     "output_type": "stream",
     "text": [
      "[*********************100%***********************]  1 of 1 completed\n",
      "/var/folders/n3/cwx8131570q5ljqcv1f22n6c0000gn/T/ipykernel_47973/2952105492.py:10: FutureWarning: 'M' is deprecated and will be removed in a future version, please use 'ME' instead.\n",
      "  monthly_sector = sector_df.resample('M').mean()\n",
      "[*********************100%***********************]  1 of 1 completed\n",
      "/var/folders/n3/cwx8131570q5ljqcv1f22n6c0000gn/T/ipykernel_47973/2952105492.py:10: FutureWarning: 'M' is deprecated and will be removed in a future version, please use 'ME' instead.\n",
      "  monthly_sector = sector_df.resample('M').mean()\n"
     ]
    },
    {
     "name": "stdout",
     "output_type": "stream",
     "text": [
      "Sector: ^SP500-55\n",
      "Intercept: 0.07818880056426478\n",
      "Coefficients: [0.14403904]\n",
      "R^2 Score: 0.058618253833697787\n",
      "P-Values: \n",
      "[8.39004623e-08 6.74515161e-03]\n",
      "Processing sector: ^SP500-55\n",
      "Sector: ^SP500-55\n",
      "Intercept: 0.07818880056426478\n",
      "Coefficients: [0.14403904]\n",
      "R^2 Score: 0.058618253833697787\n",
      "P-Values: \n",
      "[8.39004623e-08 6.74515161e-03]\n",
      "Processing sector: ^SP500-55\n"
     ]
    },
    {
     "name": "stderr",
     "output_type": "stream",
     "text": [
      "[*********************100%***********************]  1 of 1 completed\n",
      "/var/folders/n3/cwx8131570q5ljqcv1f22n6c0000gn/T/ipykernel_47973/2952105492.py:10: FutureWarning: 'M' is deprecated and will be removed in a future version, please use 'ME' instead.\n",
      "  monthly_sector = sector_df.resample('M').mean()\n",
      "[*********************100%***********************]  1 of 1 completed\n",
      "/var/folders/n3/cwx8131570q5ljqcv1f22n6c0000gn/T/ipykernel_47973/2952105492.py:10: FutureWarning: 'M' is deprecated and will be removed in a future version, please use 'ME' instead.\n",
      "  monthly_sector = sector_df.resample('M').mean()\n"
     ]
    },
    {
     "name": "stdout",
     "output_type": "stream",
     "text": [
      "Sector: ^SP500-55\n",
      "Intercept: 0.07818880056426478\n",
      "Coefficients: [0.14403904]\n",
      "R^2 Score: 0.058618253833697787\n",
      "P-Values: \n",
      "[8.39004623e-08 6.74515161e-03]\n",
      "Processing sector: ^SP500-55\n",
      "Sector: ^SP500-55\n",
      "Intercept: 0.07818880056426478\n",
      "Coefficients: [0.14403904]\n",
      "R^2 Score: 0.058618253833697787\n",
      "P-Values: \n",
      "[8.39004623e-08 6.74515161e-03]\n",
      "Processing sector: ^SP500-55\n"
     ]
    },
    {
     "name": "stderr",
     "output_type": "stream",
     "text": [
      "[*********************100%***********************]  1 of 1 completed\n",
      "/var/folders/n3/cwx8131570q5ljqcv1f22n6c0000gn/T/ipykernel_47973/2952105492.py:10: FutureWarning: 'M' is deprecated and will be removed in a future version, please use 'ME' instead.\n",
      "  monthly_sector = sector_df.resample('M').mean()\n",
      "[*********************100%***********************]  1 of 1 completed\n",
      "/var/folders/n3/cwx8131570q5ljqcv1f22n6c0000gn/T/ipykernel_47973/2952105492.py:10: FutureWarning: 'M' is deprecated and will be removed in a future version, please use 'ME' instead.\n",
      "  monthly_sector = sector_df.resample('M').mean()\n",
      "[*********************100%***********************]  1 of 1 completed\n",
      "/var/folders/n3/cwx8131570q5ljqcv1f22n6c0000gn/T/ipykernel_47973/2952105492.py:10: FutureWarning: 'M' is deprecated and will be removed in a future version, please use 'ME' instead.\n",
      "  monthly_sector = sector_df.resample('M').mean()\n"
     ]
    },
    {
     "name": "stdout",
     "output_type": "stream",
     "text": [
      "Sector: ^SP500-55\n",
      "Intercept: 0.07818880056426478\n",
      "Coefficients: [0.14403904]\n",
      "R^2 Score: 0.058618253833697787\n",
      "P-Values: \n",
      "[8.39004623e-08 6.74515161e-03]\n",
      "Processing sector: ^SP500-55\n",
      "Sector: ^SP500-55\n",
      "Intercept: 0.07818880056426478\n",
      "Coefficients: [0.14403904]\n",
      "R^2 Score: 0.058618253833697787\n",
      "P-Values: \n",
      "[8.39004623e-08 6.74515161e-03]\n",
      "Processing sector: ^SP500-55\n",
      "Sector: ^SP500-55\n",
      "Intercept: 0.07818880056426478\n",
      "Coefficients: [0.14403904]\n",
      "R^2 Score: 0.058618253833697787\n",
      "P-Values: \n",
      "[8.39004623e-08 6.74515161e-03]\n",
      "Processing sector: ^SP500-55\n"
     ]
    },
    {
     "name": "stderr",
     "output_type": "stream",
     "text": [
      "[*********************100%***********************]  1 of 1 completed\n",
      "/var/folders/n3/cwx8131570q5ljqcv1f22n6c0000gn/T/ipykernel_47973/2952105492.py:10: FutureWarning: 'M' is deprecated and will be removed in a future version, please use 'ME' instead.\n",
      "  monthly_sector = sector_df.resample('M').mean()\n",
      "[*********************100%***********************]  1 of 1 completed\n",
      "/var/folders/n3/cwx8131570q5ljqcv1f22n6c0000gn/T/ipykernel_47973/2952105492.py:10: FutureWarning: 'M' is deprecated and will be removed in a future version, please use 'ME' instead.\n",
      "  monthly_sector = sector_df.resample('M').mean()\n"
     ]
    },
    {
     "name": "stdout",
     "output_type": "stream",
     "text": [
      "Sector: ^SP500-55\n",
      "Intercept: 0.07818880056426478\n",
      "Coefficients: [0.14403904]\n",
      "R^2 Score: 0.058618253833697787\n",
      "P-Values: \n",
      "[8.39004623e-08 6.74515161e-03]\n",
      "Processing sector: ^SP500-55\n",
      "Sector: ^SP500-55\n",
      "Intercept: 0.07818880056426478\n",
      "Coefficients: [0.14403904]\n",
      "R^2 Score: 0.058618253833697787\n",
      "P-Values: \n",
      "[8.39004623e-08 6.74515161e-03]\n",
      "Processing sector: ^SP500-55\n"
     ]
    },
    {
     "name": "stderr",
     "output_type": "stream",
     "text": [
      "[*********************100%***********************]  1 of 1 completed\n",
      "/var/folders/n3/cwx8131570q5ljqcv1f22n6c0000gn/T/ipykernel_47973/2952105492.py:10: FutureWarning: 'M' is deprecated and will be removed in a future version, please use 'ME' instead.\n",
      "  monthly_sector = sector_df.resample('M').mean()\n",
      "[*********************100%***********************]  1 of 1 completed\n",
      "/var/folders/n3/cwx8131570q5ljqcv1f22n6c0000gn/T/ipykernel_47973/2952105492.py:10: FutureWarning: 'M' is deprecated and will be removed in a future version, please use 'ME' instead.\n",
      "  monthly_sector = sector_df.resample('M').mean()\n",
      "[*********************100%***********************]  1 of 1 completed\n",
      "/var/folders/n3/cwx8131570q5ljqcv1f22n6c0000gn/T/ipykernel_47973/2952105492.py:10: FutureWarning: 'M' is deprecated and will be removed in a future version, please use 'ME' instead.\n",
      "  monthly_sector = sector_df.resample('M').mean()\n"
     ]
    },
    {
     "name": "stdout",
     "output_type": "stream",
     "text": [
      "Sector: ^SP500-55\n",
      "Intercept: 0.07818880056426478\n",
      "Coefficients: [0.14403904]\n",
      "R^2 Score: 0.058618253833697787\n",
      "P-Values: \n",
      "[8.39004623e-08 6.74515161e-03]\n",
      "Processing sector: ^SP500-55\n",
      "Sector: ^SP500-55\n",
      "Intercept: 0.07818880056426478\n",
      "Coefficients: [0.14403904]\n",
      "R^2 Score: 0.058618253833697787\n",
      "P-Values: \n",
      "[8.39004623e-08 6.74515161e-03]\n",
      "Processing sector: ^SP500-55\n",
      "Sector: ^SP500-55\n",
      "Intercept: 0.07818880056426478\n",
      "Coefficients: [0.14403904]\n",
      "R^2 Score: 0.058618253833697787\n",
      "P-Values: \n",
      "[8.39004623e-08 6.74515161e-03]\n",
      "Processing sector: ^SP500-55\n"
     ]
    },
    {
     "name": "stderr",
     "output_type": "stream",
     "text": [
      "[*********************100%***********************]  1 of 1 completed\n",
      "/var/folders/n3/cwx8131570q5ljqcv1f22n6c0000gn/T/ipykernel_47973/2952105492.py:10: FutureWarning: 'M' is deprecated and will be removed in a future version, please use 'ME' instead.\n",
      "  monthly_sector = sector_df.resample('M').mean()\n",
      "[*********************100%***********************]  1 of 1 completed"
     ]
    },
    {
     "name": "stdout",
     "output_type": "stream",
     "text": [
      "Sector: ^SP500-55\n",
      "Intercept: 0.07818880056426478\n",
      "Coefficients: [0.14403904]\n",
      "R^2 Score: 0.058618253833697787\n",
      "P-Values: \n",
      "[8.39004623e-08 6.74515161e-03]\n",
      "Processing sector: ^SP500-55\n",
      "Sector: ^SP500-55\n",
      "Intercept: 0.07818880056426478\n",
      "Coefficients: [0.14403904]\n",
      "R^2 Score: 0.058618253833697787\n",
      "P-Values: \n",
      "[8.39004623e-08 6.74515161e-03]\n"
     ]
    },
    {
     "name": "stderr",
     "output_type": "stream",
     "text": [
      "\n",
      "/var/folders/n3/cwx8131570q5ljqcv1f22n6c0000gn/T/ipykernel_47973/2952105492.py:10: FutureWarning: 'M' is deprecated and will be removed in a future version, please use 'ME' instead.\n",
      "  monthly_sector = sector_df.resample('M').mean()\n"
     ]
    }
   ],
   "source": [
    "sp500_df = yf.download('^GSPC', start='2010-01-01')\n",
    "monthly_sp500 = sp500_df.resample('M').mean()\n",
    "monthly_sp500['Return'] = (monthly_sp500['Close'].shift(-21) - monthly_sp500['Close']) / monthly_sp500['Close']\n",
    "\n",
    "\n",
    "for sector_symbol in sectors_df['Sector']:\n",
    "    print(f'Processing sector: {sector_symbol}')\n",
    "    \n",
    "    sector_df = yf.download(sector_symbol, start='2010-01-01')\n",
    "    monthly_sector = sector_df.resample('M').mean()\n",
    "    monthly_sector['Return'] = (monthly_sector['Close'].shift(-21) - monthly_sector['Close']) / monthly_sector['Close']\n",
    "\n",
    "    monthly_sp500.dropna(inplace=True)\n",
    "    monthly_sector.dropna(inplace=True)\n",
    "\n",
    "    returns_df = pd.DataFrame({\n",
    "        'SP500_Return': monthly_sp500['Return'],\n",
    "        'Sector_Return': monthly_sector['Return']\n",
    "    }).dropna()\n",
    "\n",
    "    X = returns_df['SP500_Return'].values\n",
    "    y = returns_df['Sector_Return'].values\n",
    "\n",
    "    X_train, X_test, y_train, y_test = train_test_split(X, y, test_size=0.2, random_state=42)\n",
    "\n",
    "    X_train_sm = sm.add_constant(X_train)  \n",
    "    model = sm.OLS(y_train, X_train_sm).fit()\n",
    "\n",
    "    y_pred = model.predict(sm.add_constant(X_test))\n",
    "\n",
    "    r2 = model.rsquared\n",
    "\n",
    "    print(f'Sector: {sector_symbol}')\n",
    "    print(f'Intercept: {model.params[0]}')\n",
    "    print(f'Coefficients: {model.params[1:]}')\n",
    "    print(f'R^2 Score: {r2}')\n",
    "    print(f'P-Values: \\n{model.pvalues}')"
   ]
  },
  {
   "cell_type": "code",
   "execution_count": null,
   "id": "826292c3",
   "metadata": {},
   "outputs": [],
   "source": [
    "output_path = os.path.join('..', 'results', 'Sector_LinearRegression.csv')\n",
    "\n",
    ".to_csv(output_path, index=False)\n",
    "\n",
    "print(f\"saved to {output_path}\")"
   ]
  },
  {
   "cell_type": "code",
   "execution_count": 6,
   "id": "577501a0",
   "metadata": {},
   "outputs": [
    {
     "data": {
      "text/html": [
       "<div>\n",
       "<style scoped>\n",
       "    .dataframe tbody tr th:only-of-type {\n",
       "        vertical-align: middle;\n",
       "    }\n",
       "\n",
       "    .dataframe tbody tr th {\n",
       "        vertical-align: top;\n",
       "    }\n",
       "\n",
       "    .dataframe thead th {\n",
       "        text-align: right;\n",
       "    }\n",
       "</style>\n",
       "<table border=\"1\" class=\"dataframe\">\n",
       "  <thead>\n",
       "    <tr style=\"text-align: right;\">\n",
       "      <th></th>\n",
       "      <th>SP500_Return</th>\n",
       "      <th>Sector_Return</th>\n",
       "    </tr>\n",
       "    <tr>\n",
       "      <th>Date</th>\n",
       "      <th></th>\n",
       "      <th></th>\n",
       "    </tr>\n",
       "  </thead>\n",
       "  <tbody>\n",
       "    <tr>\n",
       "      <th>2010-01-31</th>\n",
       "      <td>0.074436</td>\n",
       "      <td>0.108539</td>\n",
       "    </tr>\n",
       "    <tr>\n",
       "      <th>2010-02-28</th>\n",
       "      <td>0.126019</td>\n",
       "      <td>0.179620</td>\n",
       "    </tr>\n",
       "    <tr>\n",
       "      <th>2010-03-31</th>\n",
       "      <td>0.079228</td>\n",
       "      <td>0.180267</td>\n",
       "    </tr>\n",
       "    <tr>\n",
       "      <th>2010-04-30</th>\n",
       "      <td>0.086244</td>\n",
       "      <td>0.155758</td>\n",
       "    </tr>\n",
       "    <tr>\n",
       "      <th>2010-05-31</th>\n",
       "      <td>0.202145</td>\n",
       "      <td>0.188811</td>\n",
       "    </tr>\n",
       "    <tr>\n",
       "      <th>...</th>\n",
       "      <td>...</td>\n",
       "      <td>...</td>\n",
       "    </tr>\n",
       "    <tr>\n",
       "      <th>2022-08-31</th>\n",
       "      <td>0.258903</td>\n",
       "      <td>-0.064711</td>\n",
       "    </tr>\n",
       "    <tr>\n",
       "      <th>2022-09-30</th>\n",
       "      <td>0.406340</td>\n",
       "      <td>-0.050097</td>\n",
       "    </tr>\n",
       "    <tr>\n",
       "      <th>2022-10-31</th>\n",
       "      <td>0.486293</td>\n",
       "      <td>0.083703</td>\n",
       "    </tr>\n",
       "    <tr>\n",
       "      <th>2022-11-30</th>\n",
       "      <td>0.398400</td>\n",
       "      <td>0.091147</td>\n",
       "    </tr>\n",
       "    <tr>\n",
       "      <th>2022-12-31</th>\n",
       "      <td>0.411568</td>\n",
       "      <td>0.080367</td>\n",
       "    </tr>\n",
       "  </tbody>\n",
       "</table>\n",
       "<p>156 rows × 2 columns</p>\n",
       "</div>"
      ],
      "text/plain": [
       "            SP500_Return  Sector_Return\n",
       "Date                                   \n",
       "2010-01-31      0.074436       0.108539\n",
       "2010-02-28      0.126019       0.179620\n",
       "2010-03-31      0.079228       0.180267\n",
       "2010-04-30      0.086244       0.155758\n",
       "2010-05-31      0.202145       0.188811\n",
       "...                  ...            ...\n",
       "2022-08-31      0.258903      -0.064711\n",
       "2022-09-30      0.406340      -0.050097\n",
       "2022-10-31      0.486293       0.083703\n",
       "2022-11-30      0.398400       0.091147\n",
       "2022-12-31      0.411568       0.080367\n",
       "\n",
       "[156 rows x 2 columns]"
      ]
     },
     "execution_count": 6,
     "metadata": {},
     "output_type": "execute_result"
    }
   ],
   "source": [
    "returns_df"
   ]
  }
 ],
 "metadata": {
  "kernelspec": {
   "display_name": "Python 3 (ipykernel)",
   "language": "python",
   "name": "python3"
  },
  "language_info": {
   "codemirror_mode": {
    "name": "ipython",
    "version": 3
   },
   "file_extension": ".py",
   "mimetype": "text/x-python",
   "name": "python",
   "nbconvert_exporter": "python",
   "pygments_lexer": "ipython3",
   "version": "3.11.8"
  }
 },
 "nbformat": 4,
 "nbformat_minor": 5
}
