{
 "cells": [
  {
   "cell_type": "markdown",
   "id": "919c58ed",
   "metadata": {},
   "source": [
    "### Federal Reserve Economic Data (FRED)\n"
   ]
  },
  {
   "cell_type": "code",
   "execution_count": 4,
   "id": "cb0e585a",
   "metadata": {},
   "outputs": [
    {
     "name": "stdout",
     "output_type": "stream",
     "text": [
      "  realtime_start realtime_end       date  value\n",
      "0     2024-06-12   2024-06-12 1947-01-01  21.48\n",
      "1     2024-06-12   2024-06-12 1947-02-01  21.62\n",
      "2     2024-06-12   2024-06-12 1947-03-01  22.00\n",
      "3     2024-06-12   2024-06-12 1947-04-01  22.00\n",
      "4     2024-06-12   2024-06-12 1947-05-01  21.95\n"
     ]
    }
   ],
   "source": [
    "import pandas as pd\n",
    "import requests\n",
    "\n",
    "\n",
    "def fetch_fred_data(series_id, api_key):\n",
    "    url = f\"https://api.stlouisfed.org/fred/series/observations?series_id={series_id}&api_key={api_key}&file_type=json\"\n",
    "    response = requests.get(url).json()\n",
    "    data = pd.DataFrame(response['observations'])\n",
    "    data['date'] = pd.to_datetime(data['date'])\n",
    "    # Remove any non-numeric values and convert to float\n",
    "    data['value'] = pd.to_numeric(data['value'], errors='coerce')\n",
    "    return data\n",
    "\n",
    "api_key = '498e896779ad57e66a70de7fd117115c'\n",
    "\n",
    "series_ids = {\n",
    "    'IPI': 'INDPRO',\n",
    "    'CPI': 'CPIAUCSL',\n",
    "    'M1': 'M1SL',\n",
    "    'M2': 'M2SL',\n",
    "    'Housing Price Index': 'CSUSHPINSA',\n",
    "    '15 Year Mortgage Rate': 'MORTGAGE15US',\n",
    "    '30 Year Mortgage Rate': 'MORTGAGE30US',\n",
    "    'Federal Funds Rate': 'FEDFUNDS'\n",
    "}\n",
    "\n",
    "dataframes = {}\n",
    "for name, series_id in series_ids.items():\n",
    "    dataframes[name] = fetch_fred_data(series_id, api_key)\n",
    "\n",
    "# Example to view CPI data\n",
    "print(dataframes['CPI'].head())"
   ]
  },
  {
   "cell_type": "code",
   "execution_count": 42,
   "id": "e0a8d71f",
   "metadata": {},
   "outputs": [],
   "source": [
    "df_ipi =dataframes['IPI'].drop(columns= ['realtime_start','realtime_end'])\n",
    "df_CPI =dataframes['CPI'].drop(columns= ['realtime_start','realtime_end'])\n",
    "df_m1 =dataframes['M1'].drop(columns= ['realtime_start','realtime_end'])\n",
    "df_m2 =dataframes['M2'].drop(columns= ['realtime_start','realtime_end'])\n",
    "df_hpi =dataframes['Housing Price Index'].drop(columns= ['realtime_start','realtime_end'])\n",
    "df_15m =dataframes['15 Year Mortgage Rate'].drop(columns= ['realtime_start','realtime_end'])\n",
    "df_30m =dataframes['30 Year Mortgage Rate'].drop(columns= ['realtime_start','realtime_end'])\n",
    "df_ffr = df_ffr.drop(columns= ['realtime_start','realtime_end'])"
   ]
  },
  {
   "cell_type": "code",
   "execution_count": 43,
   "id": "698ed2f8",
   "metadata": {},
   "outputs": [],
   "source": [
    "df_ipi.rename(columns = {'value':'IPI'}, inplace = True)\n",
    "df_CPI.rename(columns = {'value':'CPI'}, inplace = True)\n",
    "df_m1.rename(columns = {'value':'M1'}, inplace = True)\n",
    "df_m2.rename(columns = {'value':'M2'}, inplace = True)\n",
    "df_hpi.rename(columns = {'value':'Housing Price Index'}, inplace = True)\n",
    "df_15m.rename(columns = {'value':'15 Year Mortgage Rate'}, inplace = True)\n",
    "df_30m.rename(columns = {'value':'30 Year Mortgage Rate'}, inplace = True)\n",
    "df_ffr.rename(columns = {'value':'Federal Funds Rate'}, inplace = True)"
   ]
  },
  {
   "cell_type": "code",
   "execution_count": 44,
   "id": "81c06d3c",
   "metadata": {},
   "outputs": [],
   "source": [
    "df_ipi.set_index('date', inplace=True)\n",
    "df_CPI.set_index('date', inplace=True)\n",
    "df_m1.set_index('date', inplace=True)\n",
    "df_m2.set_index('date', inplace=True)\n",
    "df_hpi.set_index('date', inplace=True)\n",
    "df_15m.set_index('date', inplace=True)\n",
    "df_30m.set_index('date', inplace=True)\n",
    "df_ffr.set_index('date', inplace=True)\n",
    "df_ei_m = df_ipi.join([df_CPI,df_m1,df_m2,df_hpi, df_ffr],how = 'outer')\n",
    "df_ei_w = df_15m.join(df_30m, how = 'outer')"
   ]
  },
  {
   "cell_type": "code",
   "execution_count": 28,
   "id": "69a4ed53",
   "metadata": {},
   "outputs": [
    {
     "data": {
      "text/html": [
       "<div>\n",
       "<style scoped>\n",
       "    .dataframe tbody tr th:only-of-type {\n",
       "        vertical-align: middle;\n",
       "    }\n",
       "\n",
       "    .dataframe tbody tr th {\n",
       "        vertical-align: top;\n",
       "    }\n",
       "\n",
       "    .dataframe thead th {\n",
       "        text-align: right;\n",
       "    }\n",
       "</style>\n",
       "<table border=\"1\" class=\"dataframe\">\n",
       "  <thead>\n",
       "    <tr style=\"text-align: right;\">\n",
       "      <th></th>\n",
       "      <th>date</th>\n",
       "      <th>value</th>\n",
       "    </tr>\n",
       "  </thead>\n",
       "  <tbody>\n",
       "    <tr>\n",
       "      <th>0</th>\n",
       "      <td>1971-04-02</td>\n",
       "      <td>7.33</td>\n",
       "    </tr>\n",
       "    <tr>\n",
       "      <th>1</th>\n",
       "      <td>1971-04-09</td>\n",
       "      <td>7.31</td>\n",
       "    </tr>\n",
       "    <tr>\n",
       "      <th>2</th>\n",
       "      <td>1971-04-16</td>\n",
       "      <td>7.31</td>\n",
       "    </tr>\n",
       "    <tr>\n",
       "      <th>3</th>\n",
       "      <td>1971-04-23</td>\n",
       "      <td>7.31</td>\n",
       "    </tr>\n",
       "    <tr>\n",
       "      <th>4</th>\n",
       "      <td>1971-04-30</td>\n",
       "      <td>7.29</td>\n",
       "    </tr>\n",
       "    <tr>\n",
       "      <th>...</th>\n",
       "      <td>...</td>\n",
       "      <td>...</td>\n",
       "    </tr>\n",
       "    <tr>\n",
       "      <th>2772</th>\n",
       "      <td>2024-05-16</td>\n",
       "      <td>7.02</td>\n",
       "    </tr>\n",
       "    <tr>\n",
       "      <th>2773</th>\n",
       "      <td>2024-05-23</td>\n",
       "      <td>6.94</td>\n",
       "    </tr>\n",
       "    <tr>\n",
       "      <th>2774</th>\n",
       "      <td>2024-05-30</td>\n",
       "      <td>7.03</td>\n",
       "    </tr>\n",
       "    <tr>\n",
       "      <th>2775</th>\n",
       "      <td>2024-06-06</td>\n",
       "      <td>6.99</td>\n",
       "    </tr>\n",
       "    <tr>\n",
       "      <th>2776</th>\n",
       "      <td>2024-06-13</td>\n",
       "      <td>6.95</td>\n",
       "    </tr>\n",
       "  </tbody>\n",
       "</table>\n",
       "<p>2777 rows × 2 columns</p>\n",
       "</div>"
      ],
      "text/plain": [
       "           date  value\n",
       "0    1971-04-02   7.33\n",
       "1    1971-04-09   7.31\n",
       "2    1971-04-16   7.31\n",
       "3    1971-04-23   7.31\n",
       "4    1971-04-30   7.29\n",
       "...         ...    ...\n",
       "2772 2024-05-16   7.02\n",
       "2773 2024-05-23   6.94\n",
       "2774 2024-05-30   7.03\n",
       "2775 2024-06-06   6.99\n",
       "2776 2024-06-13   6.95\n",
       "\n",
       "[2777 rows x 2 columns]"
      ]
     },
     "execution_count": 28,
     "metadata": {},
     "output_type": "execute_result"
    }
   ],
   "source": [
    "df_30m"
   ]
  },
  {
   "cell_type": "markdown",
   "id": "abfb453a",
   "metadata": {},
   "source": [
    "### Gold Price\n",
    "https://data.nasdaq.com/tools/api"
   ]
  },
  {
   "cell_type": "code",
   "execution_count": 5,
   "id": "3e5854f6",
   "metadata": {},
   "outputs": [],
   "source": [
    "# %pip install quandl\n",
    "import quandl\n",
    "\n",
    "quandl.ApiConfig.api_key = '4wWVxPhofJuUo2QY-Tm_'\n",
    "\n",
    "gold_data = quandl.get(\"LBMA/GOLD\")\n",
    "\n",
    "# # Check existing columns before renaming\n",
    "# print(\"Columns before renaming:\", gold_data.columns)\n",
    "\n",
    "# Ensure correct column renaming\n",
    "if 'USD (AM)' in gold_data.columns:\n",
    "    gold_data.reset_index(inplace=True)\n",
    "    gold_data.rename(columns={'USD (AM)': 'Gold Price'}, inplace=True)\n",
    "    gold_data['Gold Price'] = pd.to_numeric(gold_data['Gold Price'], errors='coerce')"
   ]
  },
  {
   "cell_type": "code",
   "execution_count": 9,
   "id": "1c8fe603",
   "metadata": {},
   "outputs": [],
   "source": [
    "gold_data = gold_data.drop(['USD (PM)','GBP (AM)','GBP (PM)','EURO (AM)','EURO (PM)'], axis =1)"
   ]
  },
  {
   "cell_type": "code",
   "execution_count": 36,
   "id": "59545df6",
   "metadata": {},
   "outputs": [],
   "source": [
    "gold_data.rename(columns = {'Date':'date'}, inplace = True)\n",
    "gold_data.set_index('date', inplace=True)"
   ]
  },
  {
   "cell_type": "code",
   "execution_count": 37,
   "id": "8aa28d36",
   "metadata": {},
   "outputs": [],
   "source": [
    "df_ei_d = gold_data"
   ]
  },
  {
   "cell_type": "code",
   "execution_count": 45,
   "id": "ae795a40",
   "metadata": {},
   "outputs": [],
   "source": [
    "df_ei_d.to_csv('economic_indicators_daily.csv')\n",
    "df_ei_w.to_csv('economic_indicators_weekly.csv')\n",
    "df_ei_m.to_csv('economic_indicators_monthly.csv')"
   ]
  }
 ],
 "metadata": {
  "kernelspec": {
   "display_name": "Python 3 (ipykernel)",
   "language": "python",
   "name": "python3"
  },
  "language_info": {
   "codemirror_mode": {
    "name": "ipython",
    "version": 3
   },
   "file_extension": ".py",
   "mimetype": "text/x-python",
   "name": "python",
   "nbconvert_exporter": "python",
   "pygments_lexer": "ipython3",
   "version": "3.9.7"
  }
 },
 "nbformat": 4,
 "nbformat_minor": 5
}
