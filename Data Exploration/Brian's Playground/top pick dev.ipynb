{
 "cells": [
  {
   "cell_type": "code",
   "execution_count": null,
   "metadata": {},
   "outputs": [],
   "source": [
    "#made a copy of the top pick file to turn into something more than a top 10 picker based off the most recent monthly returns"
   ]
  },
  {
   "cell_type": "code",
   "execution_count": 1,
   "metadata": {},
   "outputs": [],
   "source": [
    "import yfinance as yf\n",
    "import pandas as pd\n",
    "from datetime import datetime, timedelta\n",
    "import os"
   ]
  },
  {
   "cell_type": "code",
   "execution_count": 2,
   "metadata": {},
   "outputs": [],
   "source": [
    "# Load the portfolio data\n",
    "#data_dir = os.path.join('..', 'Data')\n",
    "#input_path = os.path.join('Data', 'portfolio_pick.csv')\n",
    "\n",
    "#xialin told me to do it @xialin pls don't get mad at me lol\n",
    "input_path = r'C:\\Users\\bsung\\OneDrive\\Documents\\GitHub\\PortfolioProject\\Data\\portfolio_pick.csv'\n",
    "\n",
    "monthly_returns = pd.read_csv(input_path)"
   ]
  },
  {
   "cell_type": "code",
   "execution_count": 3,
   "metadata": {},
   "outputs": [],
   "source": [
    "def get_last_market_date():\n",
    "        today = datetime.today()\n",
    "        if today.weekday() == 5:  # Saturday\n",
    "            return today - timedelta(days=1)\n",
    "        elif today.weekday() == 6:  # Sunday\n",
    "            return today - timedelta(days=2)\n",
    "        return today\n",
    "    \n",
    "last_market_date = get_last_market_date().strftime('%Y-%m-%d')\n",
    "    \n",
    "    # Fetch stock prices\n",
    "def get_price(ticker):\n",
    "    try:\n",
    "        stock = yf.Ticker(ticker)\n",
    "        history = stock.history(period='5d')  # Fetch last 5 days to ensure data availability\n",
    "        if not history.empty:\n",
    "            return history['Close'].dropna().iloc[-1]  # Get the most recent available closing price\n",
    "    except Exception as e:\n",
    "        print(f\"Error fetching price for {ticker}: {e}\")\n",
    "    return None\n",
    "    \n",
    "monthly_returns['Price'] = monthly_returns['Stock'].apply(get_price)"
   ]
  },
  {
   "cell_type": "code",
   "execution_count": 4,
   "metadata": {},
   "outputs": [],
   "source": [
    "\n",
    "def calculate_most_recent_monthly_return(ticker):\n",
    "    stock = yf.Ticker(ticker)\n",
    "    hist = stock.history(period=\"3mo\")\n",
    "    hist['Monthly Return'] = hist['Close'].pct_change(periods=21)\n",
    "    hist = hist[['Monthly Return']].dropna()\n",
    "\n",
    "    today = datetime.today()\n",
    "    most_recent_return = hist.iloc[-1] if today.day == 1 else hist.iloc[-2]\n",
    "\n",
    "    return most_recent_return['Monthly Return']\n",
    "\n",
    "# Calculate monthly returns for each stock\n",
    "stock_dataframes = {ticker: calculate_most_recent_monthly_return(ticker) for ticker in monthly_returns['Stock']}\n",
    "\n",
    "# Create a DataFrame with the results\n",
    "result_df = pd.DataFrame(list(stock_dataframes.items()), columns=['Stock', 'Monthly Return'])\n",
    "\n",
    "# Get the top 10 tickers with the highest returns\n",
    "top_10_df = result_df.nlargest(10, 'Monthly Return')\n",
    "\n"
   ]
  },
  {
   "cell_type": "code",
   "execution_count": 5,
   "metadata": {},
   "outputs": [
    {
     "name": "stdout",
     "output_type": "stream",
     "text": [
      "saved to ..\\results\\top10portfoliopick.csv\n"
     ]
    }
   ],
   "source": [
    "# Output the result to a CSV file\n",
    "results_dir = os.path.join('..', 'results')\n",
    "\n",
    "os.makedirs(results_dir, exist_ok=True)\n",
    "\n",
    "file_path = os.path.join(results_dir, 'top10portfoliopick.csv')\n",
    "\n",
    "top_10_df.to_csv(file_path, index=False)\n",
    "\n",
    "print(f\"saved to {file_path}\")"
   ]
  }
 ],
 "metadata": {
  "kernelspec": {
   "display_name": "Python 3",
   "language": "python",
   "name": "python3"
  },
  "language_info": {
   "codemirror_mode": {
    "name": "ipython",
    "version": 3
   },
   "file_extension": ".py",
   "mimetype": "text/x-python",
   "name": "python",
   "nbconvert_exporter": "python",
   "pygments_lexer": "ipython3",
   "version": "3.12.3"
  }
 },
 "nbformat": 4,
 "nbformat_minor": 2
}
