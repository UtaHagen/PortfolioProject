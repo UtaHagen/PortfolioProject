{
 "cells": [
  {
   "cell_type": "code",
   "execution_count": 1,
   "metadata": {},
   "outputs": [],
   "source": [
    "import yfinance as yf\n",
    "import pandas as pd\n",
    "from datetime import datetime\n",
    "import os"
   ]
  },
  {
   "cell_type": "code",
   "execution_count": 5,
   "metadata": {},
   "outputs": [],
   "source": [
    "# Load the portfolio data\n",
    "# data_dir = os.path.join('..', 'Data')\n",
    "input_path = os.path.join('Data', 'portfolio_pick.csv')\n",
    "\n",
    "monthly_returns = pd.read_csv(input_path)"
   ]
  },
  {
   "cell_type": "code",
   "execution_count": 7,
   "metadata": {},
   "outputs": [],
   "source": [
    "\n",
    "def calculate_most_recent_monthly_return(ticker):\n",
    "    stock = yf.Ticker(ticker)\n",
    "    hist = stock.history(period=\"3mo\")\n",
    "    hist['Monthly Return'] = hist['Close'].pct_change(periods=21)\n",
    "    hist = hist[['Monthly Return']].dropna()\n",
    "\n",
    "    today = datetime.today()\n",
    "    most_recent_return = hist.iloc[-1] if today.day == 1 else hist.iloc[-2]\n",
    "\n",
    "    return most_recent_return['Monthly Return']\n",
    "\n",
    "# Calculate monthly returns for each stock\n",
    "stock_dataframes = {ticker: calculate_most_recent_monthly_return(ticker) for ticker in monthly_returns['Stock']}\n",
    "\n",
    "# Create a DataFrame with the results\n",
    "result_df = pd.DataFrame(list(stock_dataframes.items()), columns=['Stock', 'Monthly Return'])\n",
    "\n",
    "# Get the top 10 tickers with the highest returns\n",
    "top_10_df = result_df.nlargest(10, 'Monthly Return')\n",
    "\n"
   ]
  },
  {
   "cell_type": "code",
   "execution_count": 8,
   "metadata": {},
   "outputs": [
    {
     "name": "stdout",
     "output_type": "stream",
     "text": [
      "saved to ../results/top10portfoliopick.csv\n"
     ]
    }
   ],
   "source": [
    "# Output the result to a CSV file\n",
    "results_dir = os.path.join('..', 'results')\n",
    "\n",
    "os.makedirs(results_dir, exist_ok=True)\n",
    "\n",
    "file_path = os.path.join(results_dir, 'top10portfoliopick.csv')\n",
    "\n",
    "top_10_df.to_csv(file_path, index=False)\n",
    "\n",
    "print(f\"saved to {file_path}\")"
   ]
  }
 ],
 "metadata": {
  "kernelspec": {
   "display_name": "envstock",
   "language": "python",
   "name": "python3"
  },
  "language_info": {
   "codemirror_mode": {
    "name": "ipython",
    "version": 3
   },
   "file_extension": ".py",
   "mimetype": "text/x-python",
   "name": "python",
   "nbconvert_exporter": "python",
   "pygments_lexer": "ipython3",
   "version": "3.11.8"
  }
 },
 "nbformat": 4,
 "nbformat_minor": 2
}
