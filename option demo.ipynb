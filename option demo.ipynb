{
 "cells": [
  {
   "cell_type": "code",
   "execution_count": 4,
   "metadata": {},
   "outputs": [],
   "source": [
    "import tkinter as tk\n",
    "from tkinter import messagebox\n",
    "import pandas as pd\n",
    "import random\n",
    "\n",
    "\n"
   ]
  },
  {
   "cell_type": "code",
   "execution_count": 5,
   "metadata": {},
   "outputs": [
    {
     "name": "stdout",
     "output_type": "stream",
     "text": [
      "   Price\n",
      "0      9\n"
     ]
    }
   ],
   "source": [
    "random_price = random.randint(1, 100)\n",
    "\n",
    "print(random_price)"
   ]
  },
  {
   "cell_type": "code",
   "execution_count": 6,
   "metadata": {},
   "outputs": [
    {
     "data": {
      "text/plain": [
       "<bound method Misc.mainloop of <tkinter.Tk object .>>"
      ]
     },
     "execution_count": 6,
     "metadata": {},
     "output_type": "execute_result"
    }
   ],
   "source": [
    "def submit_number():\n",
    "    try:\n",
    "        number = int(entry.get())\n",
    "        if 1 <= number <= 100:\n",
    "            user_price = number\n",
    "            print(user_price)\n",
    "            messagebox.showinfo(\"Success\", f\"You entered: {number}\")\n",
    "        else:\n",
    "            messagebox.showwarning(\"Invalid Entry\", \"Please enter a number between 1 and 100.\")\n",
    "    except ValueError:\n",
    "        messagebox.showwarning(\"Invalid Entry\", \"Please enter a valid number.\")\n",
    "\n",
    "# Create the main window\n",
    "root = tk.Tk()\n",
    "root.title(\"Number Entry\")\n",
    "\n",
    "# Create and pack the widgets\n",
    "label = tk.Label(root, text=\"Enter a number between 1 and 100:\")\n",
    "label.pack(pady=10)\n",
    "\n",
    "entry = tk.Entry(root)\n",
    "entry.pack(pady=5)\n",
    "\n",
    "submit_button = tk.Button(root, text=\"Submit\", command=submit_number)\n",
    "submit_button.pack(pady=10)\n",
    "\n",
    "# Run the application\n",
    "root.mainloop"
   ]
  }
 ],
 "metadata": {
  "kernelspec": {
   "display_name": "Python 3",
   "language": "python",
   "name": "python3"
  },
  "language_info": {
   "codemirror_mode": {
    "name": "ipython",
    "version": 3
   },
   "file_extension": ".py",
   "mimetype": "text/x-python",
   "name": "python",
   "nbconvert_exporter": "python",
   "pygments_lexer": "ipython3",
   "version": "3.12.3"
  }
 },
 "nbformat": 4,
 "nbformat_minor": 2
}
