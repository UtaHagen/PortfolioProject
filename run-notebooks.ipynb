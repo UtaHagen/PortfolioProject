{
 "cells": [
  {
   "cell_type": "code",
   "execution_count": 7,
   "metadata": {},
   "outputs": [
    {
     "name": "stdout",
     "output_type": "stream",
     "text": [
      "Collecting pandas_ta\n",
      "  Downloading pandas_ta-0.3.14b.tar.gz (115 kB)\n",
      "\u001b[2K     \u001b[90m━━━━━━━━━━━━━━━━━━━━━━━━━━━━━━━━━━━━━━━\u001b[0m \u001b[32m115.1/115.1 kB\u001b[0m \u001b[31m1.4 MB/s\u001b[0m eta \u001b[36m0:00:00\u001b[0ma \u001b[36m0:00:01\u001b[0m\n",
      "\u001b[?25h  Preparing metadata (setup.py) ... \u001b[?25ldone\n",
      "\u001b[?25hRequirement already satisfied: pandas in /opt/anaconda3/envs/envstock/lib/python3.11/site-packages (from pandas_ta) (2.2.2)\n",
      "Requirement already satisfied: numpy>=1.23.2 in /opt/anaconda3/envs/envstock/lib/python3.11/site-packages (from pandas->pandas_ta) (1.25.2)\n",
      "Requirement already satisfied: python-dateutil>=2.8.2 in /opt/anaconda3/envs/envstock/lib/python3.11/site-packages (from pandas->pandas_ta) (2.9.0)\n",
      "Requirement already satisfied: pytz>=2020.1 in /opt/anaconda3/envs/envstock/lib/python3.11/site-packages (from pandas->pandas_ta) (2024.1)\n",
      "Requirement already satisfied: tzdata>=2022.7 in /opt/anaconda3/envs/envstock/lib/python3.11/site-packages (from pandas->pandas_ta) (2024.1)\n",
      "Requirement already satisfied: six>=1.5 in /opt/anaconda3/envs/envstock/lib/python3.11/site-packages (from python-dateutil>=2.8.2->pandas->pandas_ta) (1.16.0)\n",
      "Building wheels for collected packages: pandas_ta\n",
      "  Building wheel for pandas_ta (setup.py) ... \u001b[?25ldone\n",
      "\u001b[?25h  Created wheel for pandas_ta: filename=pandas_ta-0.3.14b0-py3-none-any.whl size=218909 sha256=b0746a79fd3f93c226c8b9898ac7fc6285d7a479cf57343a081ddb7e783f7325\n",
      "  Stored in directory: /Users/alexvalentine/Library/Caches/pip/wheels/7f/33/8b/50b245c5c65433cd8f5cb24ac15d97e5a3db2d41a8b6ae957d\n",
      "Successfully built pandas_ta\n",
      "Installing collected packages: pandas_ta\n",
      "Successfully installed pandas_ta-0.3.14b0\n"
     ]
    }
   ],
   "source": [
    "!pip install pandas_ta"
   ]
  },
  {
   "cell_type": "code",
   "execution_count": 1,
   "metadata": {},
   "outputs": [],
   "source": [
    "import papermill as pm\n",
    "import os"
   ]
  },
  {
   "cell_type": "code",
   "execution_count": null,
   "metadata": {},
   "outputs": [],
   "source": [
    "os.makedirs('executed_notebooks', exist_ok=True)"
   ]
  },
  {
   "cell_type": "code",
   "execution_count": 8,
   "metadata": {},
   "outputs": [
    {
     "data": {
      "application/vnd.jupyter.widget-view+json": {
       "model_id": "a44c9797960543caa3b733160bc4d3ab",
       "version_major": 2,
       "version_minor": 0
      },
      "text/plain": [
       "Executing:   0%|          | 0/109 [00:00<?, ?cell/s]"
      ]
     },
     "metadata": {},
     "output_type": "display_data"
    },
    {
     "ename": "PapermillExecutionError",
     "evalue": "\n---------------------------------------------------------------------------\nException encountered at \"In [16]\":\n---------------------------------------------------------------------------\nTypeError                                 Traceback (most recent call last)\nCell In[16], line 11\n      7 factor_data = factor_data.resample('M').last().div(100)\n      9 factor_data.index.name = 'date'\n---> 11 factor_data = factor_data.join(data['return_1m']).sort_index()\n     13 factor_data\n\nFile /opt/anaconda3/envs/envstock/lib/python3.11/site-packages/pandas/core/frame.py:10757, in DataFrame.join(self, other, on, how, lsuffix, rsuffix, sort, validate)\n  10747     if how == \"cross\":\n  10748         return merge(\n  10749             self,\n  10750             other,\n   (...)\n  10755             validate=validate,\n  10756         )\n> 10757     return merge(\n  10758         self,\n  10759         other,\n  10760         left_on=on,\n  10761         how=how,\n  10762         left_index=on is None,\n  10763         right_index=True,\n  10764         suffixes=(lsuffix, rsuffix),\n  10765         sort=sort,\n  10766         validate=validate,\n  10767     )\n  10768 else:\n  10769     if on is not None:\n\nFile /opt/anaconda3/envs/envstock/lib/python3.11/site-packages/pandas/core/reshape/merge.py:184, in merge(left, right, how, on, left_on, right_on, left_index, right_index, sort, suffixes, copy, indicator, validate)\n    169 else:\n    170     op = _MergeOperation(\n    171         left_df,\n    172         right_df,\n   (...)\n    182         validate=validate,\n    183     )\n--> 184     return op.get_result(copy=copy)\n\nFile /opt/anaconda3/envs/envstock/lib/python3.11/site-packages/pandas/core/reshape/merge.py:886, in _MergeOperation.get_result(self, copy)\n    883 if self.indicator:\n    884     self.left, self.right = self._indicator_pre_merge(self.left, self.right)\n--> 886 join_index, left_indexer, right_indexer = self._get_join_info()\n    888 result = self._reindex_and_concat(\n    889     join_index, left_indexer, right_indexer, copy=copy\n    890 )\n    891 result = result.__finalize__(self, method=self._merge_type)\n\nFile /opt/anaconda3/envs/envstock/lib/python3.11/site-packages/pandas/core/reshape/merge.py:1137, in _MergeOperation._get_join_info(self)\n   1134 right_ax = self.right.index\n   1136 if self.left_index and self.right_index and self.how != \"asof\":\n-> 1137     join_index, left_indexer, right_indexer = left_ax.join(\n   1138         right_ax, how=self.how, return_indexers=True, sort=self.sort\n   1139     )\n   1141 elif self.right_index and self.how == \"left\":\n   1142     join_index, left_indexer, right_indexer = _left_join_on_index(\n   1143         left_ax, right_ax, self.left_join_keys, sort=self.sort\n   1144     )\n\nFile /opt/anaconda3/envs/envstock/lib/python3.11/site-packages/pandas/core/indexes/base.py:279, in _maybe_return_indexers.<locals>.join(self, other, how, level, return_indexers, sort)\n    269 @functools.wraps(meth)\n    270 def join(\n    271     self,\n   (...)\n    277     sort: bool = False,\n    278 ):\n--> 279     join_index, lidx, ridx = meth(self, other, how=how, level=level, sort=sort)\n    280     if not return_indexers:\n    281         return join_index\n\nFile /opt/anaconda3/envs/envstock/lib/python3.11/site-packages/pandas/core/indexes/base.py:4615, in Index.join(self, other, how, level, return_indexers, sort)\n   4613         pass\n   4614     else:\n-> 4615         return self._join_multi(other, how=how)\n   4617 # join on the level\n   4618 if level is not None and (self._is_multi or other._is_multi):\n\nFile /opt/anaconda3/envs/envstock/lib/python3.11/site-packages/pandas/core/indexes/base.py:4806, in Index._join_multi(self, other, how)\n   4803     how = flip.get(how, how)\n   4805 level = other.names.index(jl)\n-> 4806 result = self._join_level(other, level, how=how)\n   4808 if flip_order:\n   4809     return result[0], result[2], result[1]\n\nFile /opt/anaconda3/envs/envstock/lib/python3.11/site-packages/pandas/core/indexes/base.py:4900, in Index._join_level(self, other, level, how, keep_order)\n   4895 if not right.is_unique:\n   4896     raise NotImplementedError(\n   4897         \"Index._join_level on non-unique index is not implemented\"\n   4898     )\n-> 4900 new_level, left_lev_indexer, right_lev_indexer = old_level.join(\n   4901     right, how=how, return_indexers=True\n   4902 )\n   4904 if left_lev_indexer is None:\n   4905     if keep_order or len(left) == 0:\n\nFile /opt/anaconda3/envs/envstock/lib/python3.11/site-packages/pandas/core/indexes/base.py:279, in _maybe_return_indexers.<locals>.join(self, other, how, level, return_indexers, sort)\n    269 @functools.wraps(meth)\n    270 def join(\n    271     self,\n   (...)\n    277     sort: bool = False,\n    278 ):\n--> 279     join_index, lidx, ridx = meth(self, other, how=how, level=level, sort=sort)\n    280     if not return_indexers:\n    281         return join_index\n\nFile /opt/anaconda3/envs/envstock/lib/python3.11/site-packages/pandas/core/indexes/base.py:4598, in Index.join(self, other, how, level, return_indexers, sort)\n   4595 if isinstance(self, ABCDatetimeIndex) and isinstance(other, ABCDatetimeIndex):\n   4596     if (self.tz is None) ^ (other.tz is None):\n   4597         # Raise instead of casting to object below.\n-> 4598         raise TypeError(\"Cannot join tz-naive with tz-aware DatetimeIndex\")\n   4600 if not self._is_multi and not other._is_multi:\n   4601     # We have specific handling for MultiIndex below\n   4602     pself, pother = self._maybe_downcast_for_indexing(other)\n\nTypeError: Cannot join tz-naive with tz-aware DatetimeIndex\n",
     "output_type": "error",
     "traceback": [
      "\u001b[0;31m---------------------------------------------------------------------------\u001b[0m",
      "\u001b[0;31mPapermillExecutionError\u001b[0m                   Traceback (most recent call last)",
      "Cell \u001b[0;32mIn[8], line 1\u001b[0m\n\u001b[0;32m----> 1\u001b[0m \u001b[43mpm\u001b[49m\u001b[38;5;241;43m.\u001b[39;49m\u001b[43mexecute_notebook\u001b[49m\u001b[43m(\u001b[49m\n\u001b[1;32m      2\u001b[0m \u001b[43m    \u001b[49m\u001b[38;5;124;43m'\u001b[39;49m\u001b[38;5;124;43mnotebooks/MLmodel.ipynb\u001b[39;49m\u001b[38;5;124;43m'\u001b[39;49m\u001b[43m,\u001b[49m\n\u001b[1;32m      3\u001b[0m \u001b[43m    \u001b[49m\u001b[38;5;124;43m'\u001b[39;49m\u001b[38;5;124;43mexecuted_notebooks/MLmodel.ipynb\u001b[39;49m\u001b[38;5;124;43m'\u001b[39;49m\n\u001b[1;32m      4\u001b[0m \u001b[43m    \u001b[49m\u001b[38;5;66;43;03m# ,parameters=dict(output_file='Results/ml_output.csv')\u001b[39;49;00m\n\u001b[1;32m      5\u001b[0m \u001b[43m)\u001b[49m\n",
      "File \u001b[0;32m/opt/anaconda3/envs/envstock/lib/python3.11/site-packages/papermill/execute.py:131\u001b[0m, in \u001b[0;36mexecute_notebook\u001b[0;34m(input_path, output_path, parameters, engine_name, request_save_on_cell_execute, prepare_only, kernel_name, language, progress_bar, log_output, stdout_file, stderr_file, start_timeout, report_mode, cwd, **engine_kwargs)\u001b[0m\n\u001b[1;32m    116\u001b[0m         nb \u001b[38;5;241m=\u001b[39m papermill_engines\u001b[38;5;241m.\u001b[39mexecute_notebook_with_engine(\n\u001b[1;32m    117\u001b[0m             engine_name,\n\u001b[1;32m    118\u001b[0m             nb,\n\u001b[0;32m   (...)\u001b[0m\n\u001b[1;32m    127\u001b[0m             \u001b[38;5;241m*\u001b[39m\u001b[38;5;241m*\u001b[39mengine_kwargs,\n\u001b[1;32m    128\u001b[0m         )\n\u001b[1;32m    130\u001b[0m     \u001b[38;5;66;03m# Check for errors first (it saves on error before raising)\u001b[39;00m\n\u001b[0;32m--> 131\u001b[0m     \u001b[43mraise_for_execution_errors\u001b[49m\u001b[43m(\u001b[49m\u001b[43mnb\u001b[49m\u001b[43m,\u001b[49m\u001b[43m \u001b[49m\u001b[43moutput_path\u001b[49m\u001b[43m)\u001b[49m\n\u001b[1;32m    133\u001b[0m \u001b[38;5;66;03m# Write final output in case the engine didn't write it on cell completion.\u001b[39;00m\n\u001b[1;32m    134\u001b[0m write_ipynb(nb, output_path)\n",
      "File \u001b[0;32m/opt/anaconda3/envs/envstock/lib/python3.11/site-packages/papermill/execute.py:251\u001b[0m, in \u001b[0;36mraise_for_execution_errors\u001b[0;34m(nb, output_path)\u001b[0m\n\u001b[1;32m    248\u001b[0m nb\u001b[38;5;241m.\u001b[39mcells\u001b[38;5;241m.\u001b[39minsert(\u001b[38;5;241m0\u001b[39m, error_msg_cell)\n\u001b[1;32m    250\u001b[0m write_ipynb(nb, output_path)\n\u001b[0;32m--> 251\u001b[0m \u001b[38;5;28;01mraise\u001b[39;00m error\n",
      "\u001b[0;31mPapermillExecutionError\u001b[0m: \n---------------------------------------------------------------------------\nException encountered at \"In [16]\":\n---------------------------------------------------------------------------\nTypeError                                 Traceback (most recent call last)\nCell In[16], line 11\n      7 factor_data = factor_data.resample('M').last().div(100)\n      9 factor_data.index.name = 'date'\n---> 11 factor_data = factor_data.join(data['return_1m']).sort_index()\n     13 factor_data\n\nFile /opt/anaconda3/envs/envstock/lib/python3.11/site-packages/pandas/core/frame.py:10757, in DataFrame.join(self, other, on, how, lsuffix, rsuffix, sort, validate)\n  10747     if how == \"cross\":\n  10748         return merge(\n  10749             self,\n  10750             other,\n   (...)\n  10755             validate=validate,\n  10756         )\n> 10757     return merge(\n  10758         self,\n  10759         other,\n  10760         left_on=on,\n  10761         how=how,\n  10762         left_index=on is None,\n  10763         right_index=True,\n  10764         suffixes=(lsuffix, rsuffix),\n  10765         sort=sort,\n  10766         validate=validate,\n  10767     )\n  10768 else:\n  10769     if on is not None:\n\nFile /opt/anaconda3/envs/envstock/lib/python3.11/site-packages/pandas/core/reshape/merge.py:184, in merge(left, right, how, on, left_on, right_on, left_index, right_index, sort, suffixes, copy, indicator, validate)\n    169 else:\n    170     op = _MergeOperation(\n    171         left_df,\n    172         right_df,\n   (...)\n    182         validate=validate,\n    183     )\n--> 184     return op.get_result(copy=copy)\n\nFile /opt/anaconda3/envs/envstock/lib/python3.11/site-packages/pandas/core/reshape/merge.py:886, in _MergeOperation.get_result(self, copy)\n    883 if self.indicator:\n    884     self.left, self.right = self._indicator_pre_merge(self.left, self.right)\n--> 886 join_index, left_indexer, right_indexer = self._get_join_info()\n    888 result = self._reindex_and_concat(\n    889     join_index, left_indexer, right_indexer, copy=copy\n    890 )\n    891 result = result.__finalize__(self, method=self._merge_type)\n\nFile /opt/anaconda3/envs/envstock/lib/python3.11/site-packages/pandas/core/reshape/merge.py:1137, in _MergeOperation._get_join_info(self)\n   1134 right_ax = self.right.index\n   1136 if self.left_index and self.right_index and self.how != \"asof\":\n-> 1137     join_index, left_indexer, right_indexer = left_ax.join(\n   1138         right_ax, how=self.how, return_indexers=True, sort=self.sort\n   1139     )\n   1141 elif self.right_index and self.how == \"left\":\n   1142     join_index, left_indexer, right_indexer = _left_join_on_index(\n   1143         left_ax, right_ax, self.left_join_keys, sort=self.sort\n   1144     )\n\nFile /opt/anaconda3/envs/envstock/lib/python3.11/site-packages/pandas/core/indexes/base.py:279, in _maybe_return_indexers.<locals>.join(self, other, how, level, return_indexers, sort)\n    269 @functools.wraps(meth)\n    270 def join(\n    271     self,\n   (...)\n    277     sort: bool = False,\n    278 ):\n--> 279     join_index, lidx, ridx = meth(self, other, how=how, level=level, sort=sort)\n    280     if not return_indexers:\n    281         return join_index\n\nFile /opt/anaconda3/envs/envstock/lib/python3.11/site-packages/pandas/core/indexes/base.py:4615, in Index.join(self, other, how, level, return_indexers, sort)\n   4613         pass\n   4614     else:\n-> 4615         return self._join_multi(other, how=how)\n   4617 # join on the level\n   4618 if level is not None and (self._is_multi or other._is_multi):\n\nFile /opt/anaconda3/envs/envstock/lib/python3.11/site-packages/pandas/core/indexes/base.py:4806, in Index._join_multi(self, other, how)\n   4803     how = flip.get(how, how)\n   4805 level = other.names.index(jl)\n-> 4806 result = self._join_level(other, level, how=how)\n   4808 if flip_order:\n   4809     return result[0], result[2], result[1]\n\nFile /opt/anaconda3/envs/envstock/lib/python3.11/site-packages/pandas/core/indexes/base.py:4900, in Index._join_level(self, other, level, how, keep_order)\n   4895 if not right.is_unique:\n   4896     raise NotImplementedError(\n   4897         \"Index._join_level on non-unique index is not implemented\"\n   4898     )\n-> 4900 new_level, left_lev_indexer, right_lev_indexer = old_level.join(\n   4901     right, how=how, return_indexers=True\n   4902 )\n   4904 if left_lev_indexer is None:\n   4905     if keep_order or len(left) == 0:\n\nFile /opt/anaconda3/envs/envstock/lib/python3.11/site-packages/pandas/core/indexes/base.py:279, in _maybe_return_indexers.<locals>.join(self, other, how, level, return_indexers, sort)\n    269 @functools.wraps(meth)\n    270 def join(\n    271     self,\n   (...)\n    277     sort: bool = False,\n    278 ):\n--> 279     join_index, lidx, ridx = meth(self, other, how=how, level=level, sort=sort)\n    280     if not return_indexers:\n    281         return join_index\n\nFile /opt/anaconda3/envs/envstock/lib/python3.11/site-packages/pandas/core/indexes/base.py:4598, in Index.join(self, other, how, level, return_indexers, sort)\n   4595 if isinstance(self, ABCDatetimeIndex) and isinstance(other, ABCDatetimeIndex):\n   4596     if (self.tz is None) ^ (other.tz is None):\n   4597         # Raise instead of casting to object below.\n-> 4598         raise TypeError(\"Cannot join tz-naive with tz-aware DatetimeIndex\")\n   4600 if not self._is_multi and not other._is_multi:\n   4601     # We have specific handling for MultiIndex below\n   4602     pself, pother = self._maybe_downcast_for_indexing(other)\n\nTypeError: Cannot join tz-naive with tz-aware DatetimeIndex\n"
     ]
    }
   ],
   "source": [
    "pm.execute_notebook(\n",
    "    'notebooks/MLmodel.ipynb',\n",
    "    'executed_notebooks/MLmodel.ipynb'\n",
    "    # ,parameters=dict(output_file='Results/ml_output.csv')\n",
    ")"
   ]
  },
  {
   "cell_type": "code",
   "execution_count": 9,
   "metadata": {},
   "outputs": [
    {
     "ename": "NameError",
     "evalue": "name 'factor_data' is not defined",
     "output_type": "error",
     "traceback": [
      "\u001b[0;31m---------------------------------------------------------------------------\u001b[0m",
      "\u001b[0;31mNameError\u001b[0m                                 Traceback (most recent call last)",
      "Cell \u001b[0;32mIn[9], line 1\u001b[0m\n\u001b[0;32m----> 1\u001b[0m \u001b[43mfactor_data\u001b[49m\n",
      "\u001b[0;31mNameError\u001b[0m: name 'factor_data' is not defined"
     ]
    }
   ],
   "source": []
  },
  {
   "cell_type": "code",
   "execution_count": null,
   "metadata": {},
   "outputs": [],
   "source": [
    "# Execute the second notebook, passing the result from notebook 1\n",
    "pm.execute_notebook(\n",
    "    'notebook_2.ipynb',\n",
    "    'executed_notebooks/notebook_2_output.ipynb',\n",
    "    parameters=dict(input_file='Results/output_1.csv', output_file='Results/output_2.csv')\n",
    ")\n"
   ]
  },
  {
   "cell_type": "code",
   "execution_count": null,
   "metadata": {},
   "outputs": [],
   "source": [
    "# Execute the third notebook, passing the result from notebook 2\n",
    "pm.execute_notebook(\n",
    "    'notebooks/top 10 pick code.ipynb',\n",
    "    'executed_notebooks/top 10 pick code.ipynb',\n",
    "    parameters=dict(input_file='Results/output_2.csv', output_file='results/top10portfoliopick.csv')\n",
    ")"
   ]
  }
 ],
 "metadata": {
  "kernelspec": {
   "display_name": "envstock",
   "language": "python",
   "name": "python3"
  },
  "language_info": {
   "codemirror_mode": {
    "name": "ipython",
    "version": 3
   },
   "file_extension": ".py",
   "mimetype": "text/x-python",
   "name": "python",
   "nbconvert_exporter": "python",
   "pygments_lexer": "ipython3",
   "version": "3.11.8"
  }
 },
 "nbformat": 4,
 "nbformat_minor": 2
}
