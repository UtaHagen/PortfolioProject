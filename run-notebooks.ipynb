{
 "cells": [
  {
   "cell_type": "code",
<<<<<<< Updated upstream
   "execution_count": 7,
   "metadata": {},
   "outputs": [
    {
     "name": "stdout",
     "output_type": "stream",
     "text": [
      "Collecting pandas_ta\n",
      "  Downloading pandas_ta-0.3.14b.tar.gz (115 kB)\n",
      "\u001b[2K     \u001b[90m━━━━━━━━━━━━━━━━━━━━━━━━━━━━━━━━━━━━━━━\u001b[0m \u001b[32m115.1/115.1 kB\u001b[0m \u001b[31m1.4 MB/s\u001b[0m eta \u001b[36m0:00:00\u001b[0ma \u001b[36m0:00:01\u001b[0m\n",
      "\u001b[?25h  Preparing metadata (setup.py) ... \u001b[?25ldone\n",
      "\u001b[?25hRequirement already satisfied: pandas in /opt/anaconda3/envs/envstock/lib/python3.11/site-packages (from pandas_ta) (2.2.2)\n",
      "Requirement already satisfied: numpy>=1.23.2 in /opt/anaconda3/envs/envstock/lib/python3.11/site-packages (from pandas->pandas_ta) (1.25.2)\n",
      "Requirement already satisfied: python-dateutil>=2.8.2 in /opt/anaconda3/envs/envstock/lib/python3.11/site-packages (from pandas->pandas_ta) (2.9.0)\n",
      "Requirement already satisfied: pytz>=2020.1 in /opt/anaconda3/envs/envstock/lib/python3.11/site-packages (from pandas->pandas_ta) (2024.1)\n",
      "Requirement already satisfied: tzdata>=2022.7 in /opt/anaconda3/envs/envstock/lib/python3.11/site-packages (from pandas->pandas_ta) (2024.1)\n",
      "Requirement already satisfied: six>=1.5 in /opt/anaconda3/envs/envstock/lib/python3.11/site-packages (from python-dateutil>=2.8.2->pandas->pandas_ta) (1.16.0)\n",
      "Building wheels for collected packages: pandas_ta\n",
      "  Building wheel for pandas_ta (setup.py) ... \u001b[?25ldone\n",
      "\u001b[?25h  Created wheel for pandas_ta: filename=pandas_ta-0.3.14b0-py3-none-any.whl size=218909 sha256=b0746a79fd3f93c226c8b9898ac7fc6285d7a479cf57343a081ddb7e783f7325\n",
      "  Stored in directory: /Users/alexvalentine/Library/Caches/pip/wheels/7f/33/8b/50b245c5c65433cd8f5cb24ac15d97e5a3db2d41a8b6ae957d\n",
      "Successfully built pandas_ta\n",
      "Installing collected packages: pandas_ta\n",
      "Successfully installed pandas_ta-0.3.14b0\n"
     ]
    }
   ],
   "source": [
    "!pip install pandas_ta"
   ]
  },
  {
   "cell_type": "code",
   "execution_count": 1,
=======
   "execution_count": 2,
>>>>>>> Stashed changes
   "metadata": {},
   "outputs": [],
   "source": [
    "import papermill as pm\n",
    "import os"
   ]
  },
  {
   "cell_type": "code",
   "execution_count": null,
   "metadata": {},
   "outputs": [],
   "source": [
    "os.makedirs('executed_notebooks', exist_ok=True)"
   ]
  },
  {
   "cell_type": "code",
<<<<<<< Updated upstream
   "execution_count": 8,
=======
   "execution_count": 4,
>>>>>>> Stashed changes
   "metadata": {},
   "outputs": [
    {
     "data": {
      "application/vnd.jupyter.widget-view+json": {
<<<<<<< Updated upstream
       "model_id": "a44c9797960543caa3b733160bc4d3ab",
=======
       "model_id": "04360ca29ccb40c686e318c86366610c",
>>>>>>> Stashed changes
       "version_major": 2,
       "version_minor": 0
      },
      "text/plain": [
<<<<<<< Updated upstream
       "Executing:   0%|          | 0/109 [00:00<?, ?cell/s]"
=======
       "Executing:   0%|          | 0/63 [00:00<?, ?cell/s]"
>>>>>>> Stashed changes
      ]
     },
     "metadata": {},
     "output_type": "display_data"
    },
    {
<<<<<<< Updated upstream
     "ename": "PapermillExecutionError",
     "evalue": "\n---------------------------------------------------------------------------\nException encountered at \"In [16]\":\n---------------------------------------------------------------------------\nTypeError                                 Traceback (most recent call last)\nCell In[16], line 11\n      7 factor_data = factor_data.resample('M').last().div(100)\n      9 factor_data.index.name = 'date'\n---> 11 factor_data = factor_data.join(data['return_1m']).sort_index()\n     13 factor_data\n\nFile /opt/anaconda3/envs/envstock/lib/python3.11/site-packages/pandas/core/frame.py:10757, in DataFrame.join(self, other, on, how, lsuffix, rsuffix, sort, validate)\n  10747     if how == \"cross\":\n  10748         return merge(\n  10749             self,\n  10750             other,\n   (...)\n  10755             validate=validate,\n  10756         )\n> 10757     return merge(\n  10758         self,\n  10759         other,\n  10760         left_on=on,\n  10761         how=how,\n  10762         left_index=on is None,\n  10763         right_index=True,\n  10764         suffixes=(lsuffix, rsuffix),\n  10765         sort=sort,\n  10766         validate=validate,\n  10767     )\n  10768 else:\n  10769     if on is not None:\n\nFile /opt/anaconda3/envs/envstock/lib/python3.11/site-packages/pandas/core/reshape/merge.py:184, in merge(left, right, how, on, left_on, right_on, left_index, right_index, sort, suffixes, copy, indicator, validate)\n    169 else:\n    170     op = _MergeOperation(\n    171         left_df,\n    172         right_df,\n   (...)\n    182         validate=validate,\n    183     )\n--> 184     return op.get_result(copy=copy)\n\nFile /opt/anaconda3/envs/envstock/lib/python3.11/site-packages/pandas/core/reshape/merge.py:886, in _MergeOperation.get_result(self, copy)\n    883 if self.indicator:\n    884     self.left, self.right = self._indicator_pre_merge(self.left, self.right)\n--> 886 join_index, left_indexer, right_indexer = self._get_join_info()\n    888 result = self._reindex_and_concat(\n    889     join_index, left_indexer, right_indexer, copy=copy\n    890 )\n    891 result = result.__finalize__(self, method=self._merge_type)\n\nFile /opt/anaconda3/envs/envstock/lib/python3.11/site-packages/pandas/core/reshape/merge.py:1137, in _MergeOperation._get_join_info(self)\n   1134 right_ax = self.right.index\n   1136 if self.left_index and self.right_index and self.how != \"asof\":\n-> 1137     join_index, left_indexer, right_indexer = left_ax.join(\n   1138         right_ax, how=self.how, return_indexers=True, sort=self.sort\n   1139     )\n   1141 elif self.right_index and self.how == \"left\":\n   1142     join_index, left_indexer, right_indexer = _left_join_on_index(\n   1143         left_ax, right_ax, self.left_join_keys, sort=self.sort\n   1144     )\n\nFile /opt/anaconda3/envs/envstock/lib/python3.11/site-packages/pandas/core/indexes/base.py:279, in _maybe_return_indexers.<locals>.join(self, other, how, level, return_indexers, sort)\n    269 @functools.wraps(meth)\n    270 def join(\n    271     self,\n   (...)\n    277     sort: bool = False,\n    278 ):\n--> 279     join_index, lidx, ridx = meth(self, other, how=how, level=level, sort=sort)\n    280     if not return_indexers:\n    281         return join_index\n\nFile /opt/anaconda3/envs/envstock/lib/python3.11/site-packages/pandas/core/indexes/base.py:4615, in Index.join(self, other, how, level, return_indexers, sort)\n   4613         pass\n   4614     else:\n-> 4615         return self._join_multi(other, how=how)\n   4617 # join on the level\n   4618 if level is not None and (self._is_multi or other._is_multi):\n\nFile /opt/anaconda3/envs/envstock/lib/python3.11/site-packages/pandas/core/indexes/base.py:4806, in Index._join_multi(self, other, how)\n   4803     how = flip.get(how, how)\n   4805 level = other.names.index(jl)\n-> 4806 result = self._join_level(other, level, how=how)\n   4808 if flip_order:\n   4809     return result[0], result[2], result[1]\n\nFile /opt/anaconda3/envs/envstock/lib/python3.11/site-packages/pandas/core/indexes/base.py:4900, in Index._join_level(self, other, level, how, keep_order)\n   4895 if not right.is_unique:\n   4896     raise NotImplementedError(\n   4897         \"Index._join_level on non-unique index is not implemented\"\n   4898     )\n-> 4900 new_level, left_lev_indexer, right_lev_indexer = old_level.join(\n   4901     right, how=how, return_indexers=True\n   4902 )\n   4904 if left_lev_indexer is None:\n   4905     if keep_order or len(left) == 0:\n\nFile /opt/anaconda3/envs/envstock/lib/python3.11/site-packages/pandas/core/indexes/base.py:279, in _maybe_return_indexers.<locals>.join(self, other, how, level, return_indexers, sort)\n    269 @functools.wraps(meth)\n    270 def join(\n    271     self,\n   (...)\n    277     sort: bool = False,\n    278 ):\n--> 279     join_index, lidx, ridx = meth(self, other, how=how, level=level, sort=sort)\n    280     if not return_indexers:\n    281         return join_index\n\nFile /opt/anaconda3/envs/envstock/lib/python3.11/site-packages/pandas/core/indexes/base.py:4598, in Index.join(self, other, how, level, return_indexers, sort)\n   4595 if isinstance(self, ABCDatetimeIndex) and isinstance(other, ABCDatetimeIndex):\n   4596     if (self.tz is None) ^ (other.tz is None):\n   4597         # Raise instead of casting to object below.\n-> 4598         raise TypeError(\"Cannot join tz-naive with tz-aware DatetimeIndex\")\n   4600 if not self._is_multi and not other._is_multi:\n   4601     # We have specific handling for MultiIndex below\n   4602     pself, pother = self._maybe_downcast_for_indexing(other)\n\nTypeError: Cannot join tz-naive with tz-aware DatetimeIndex\n",
     "output_type": "error",
     "traceback": [
      "\u001b[0;31m---------------------------------------------------------------------------\u001b[0m",
      "\u001b[0;31mPapermillExecutionError\u001b[0m                   Traceback (most recent call last)",
      "Cell \u001b[0;32mIn[8], line 1\u001b[0m\n\u001b[0;32m----> 1\u001b[0m \u001b[43mpm\u001b[49m\u001b[38;5;241;43m.\u001b[39;49m\u001b[43mexecute_notebook\u001b[49m\u001b[43m(\u001b[49m\n\u001b[1;32m      2\u001b[0m \u001b[43m    \u001b[49m\u001b[38;5;124;43m'\u001b[39;49m\u001b[38;5;124;43mnotebooks/MLmodel.ipynb\u001b[39;49m\u001b[38;5;124;43m'\u001b[39;49m\u001b[43m,\u001b[49m\n\u001b[1;32m      3\u001b[0m \u001b[43m    \u001b[49m\u001b[38;5;124;43m'\u001b[39;49m\u001b[38;5;124;43mexecuted_notebooks/MLmodel.ipynb\u001b[39;49m\u001b[38;5;124;43m'\u001b[39;49m\n\u001b[1;32m      4\u001b[0m \u001b[43m    \u001b[49m\u001b[38;5;66;43;03m# ,parameters=dict(output_file='Results/ml_output.csv')\u001b[39;49;00m\n\u001b[1;32m      5\u001b[0m \u001b[43m)\u001b[49m\n",
      "File \u001b[0;32m/opt/anaconda3/envs/envstock/lib/python3.11/site-packages/papermill/execute.py:131\u001b[0m, in \u001b[0;36mexecute_notebook\u001b[0;34m(input_path, output_path, parameters, engine_name, request_save_on_cell_execute, prepare_only, kernel_name, language, progress_bar, log_output, stdout_file, stderr_file, start_timeout, report_mode, cwd, **engine_kwargs)\u001b[0m\n\u001b[1;32m    116\u001b[0m         nb \u001b[38;5;241m=\u001b[39m papermill_engines\u001b[38;5;241m.\u001b[39mexecute_notebook_with_engine(\n\u001b[1;32m    117\u001b[0m             engine_name,\n\u001b[1;32m    118\u001b[0m             nb,\n\u001b[0;32m   (...)\u001b[0m\n\u001b[1;32m    127\u001b[0m             \u001b[38;5;241m*\u001b[39m\u001b[38;5;241m*\u001b[39mengine_kwargs,\n\u001b[1;32m    128\u001b[0m         )\n\u001b[1;32m    130\u001b[0m     \u001b[38;5;66;03m# Check for errors first (it saves on error before raising)\u001b[39;00m\n\u001b[0;32m--> 131\u001b[0m     \u001b[43mraise_for_execution_errors\u001b[49m\u001b[43m(\u001b[49m\u001b[43mnb\u001b[49m\u001b[43m,\u001b[49m\u001b[43m \u001b[49m\u001b[43moutput_path\u001b[49m\u001b[43m)\u001b[49m\n\u001b[1;32m    133\u001b[0m \u001b[38;5;66;03m# Write final output in case the engine didn't write it on cell completion.\u001b[39;00m\n\u001b[1;32m    134\u001b[0m write_ipynb(nb, output_path)\n",
      "File \u001b[0;32m/opt/anaconda3/envs/envstock/lib/python3.11/site-packages/papermill/execute.py:251\u001b[0m, in \u001b[0;36mraise_for_execution_errors\u001b[0;34m(nb, output_path)\u001b[0m\n\u001b[1;32m    248\u001b[0m nb\u001b[38;5;241m.\u001b[39mcells\u001b[38;5;241m.\u001b[39minsert(\u001b[38;5;241m0\u001b[39m, error_msg_cell)\n\u001b[1;32m    250\u001b[0m write_ipynb(nb, output_path)\n\u001b[0;32m--> 251\u001b[0m \u001b[38;5;28;01mraise\u001b[39;00m error\n",
      "\u001b[0;31mPapermillExecutionError\u001b[0m: \n---------------------------------------------------------------------------\nException encountered at \"In [16]\":\n---------------------------------------------------------------------------\nTypeError                                 Traceback (most recent call last)\nCell In[16], line 11\n      7 factor_data = factor_data.resample('M').last().div(100)\n      9 factor_data.index.name = 'date'\n---> 11 factor_data = factor_data.join(data['return_1m']).sort_index()\n     13 factor_data\n\nFile /opt/anaconda3/envs/envstock/lib/python3.11/site-packages/pandas/core/frame.py:10757, in DataFrame.join(self, other, on, how, lsuffix, rsuffix, sort, validate)\n  10747     if how == \"cross\":\n  10748         return merge(\n  10749             self,\n  10750             other,\n   (...)\n  10755             validate=validate,\n  10756         )\n> 10757     return merge(\n  10758         self,\n  10759         other,\n  10760         left_on=on,\n  10761         how=how,\n  10762         left_index=on is None,\n  10763         right_index=True,\n  10764         suffixes=(lsuffix, rsuffix),\n  10765         sort=sort,\n  10766         validate=validate,\n  10767     )\n  10768 else:\n  10769     if on is not None:\n\nFile /opt/anaconda3/envs/envstock/lib/python3.11/site-packages/pandas/core/reshape/merge.py:184, in merge(left, right, how, on, left_on, right_on, left_index, right_index, sort, suffixes, copy, indicator, validate)\n    169 else:\n    170     op = _MergeOperation(\n    171         left_df,\n    172         right_df,\n   (...)\n    182         validate=validate,\n    183     )\n--> 184     return op.get_result(copy=copy)\n\nFile /opt/anaconda3/envs/envstock/lib/python3.11/site-packages/pandas/core/reshape/merge.py:886, in _MergeOperation.get_result(self, copy)\n    883 if self.indicator:\n    884     self.left, self.right = self._indicator_pre_merge(self.left, self.right)\n--> 886 join_index, left_indexer, right_indexer = self._get_join_info()\n    888 result = self._reindex_and_concat(\n    889     join_index, left_indexer, right_indexer, copy=copy\n    890 )\n    891 result = result.__finalize__(self, method=self._merge_type)\n\nFile /opt/anaconda3/envs/envstock/lib/python3.11/site-packages/pandas/core/reshape/merge.py:1137, in _MergeOperation._get_join_info(self)\n   1134 right_ax = self.right.index\n   1136 if self.left_index and self.right_index and self.how != \"asof\":\n-> 1137     join_index, left_indexer, right_indexer = left_ax.join(\n   1138         right_ax, how=self.how, return_indexers=True, sort=self.sort\n   1139     )\n   1141 elif self.right_index and self.how == \"left\":\n   1142     join_index, left_indexer, right_indexer = _left_join_on_index(\n   1143         left_ax, right_ax, self.left_join_keys, sort=self.sort\n   1144     )\n\nFile /opt/anaconda3/envs/envstock/lib/python3.11/site-packages/pandas/core/indexes/base.py:279, in _maybe_return_indexers.<locals>.join(self, other, how, level, return_indexers, sort)\n    269 @functools.wraps(meth)\n    270 def join(\n    271     self,\n   (...)\n    277     sort: bool = False,\n    278 ):\n--> 279     join_index, lidx, ridx = meth(self, other, how=how, level=level, sort=sort)\n    280     if not return_indexers:\n    281         return join_index\n\nFile /opt/anaconda3/envs/envstock/lib/python3.11/site-packages/pandas/core/indexes/base.py:4615, in Index.join(self, other, how, level, return_indexers, sort)\n   4613         pass\n   4614     else:\n-> 4615         return self._join_multi(other, how=how)\n   4617 # join on the level\n   4618 if level is not None and (self._is_multi or other._is_multi):\n\nFile /opt/anaconda3/envs/envstock/lib/python3.11/site-packages/pandas/core/indexes/base.py:4806, in Index._join_multi(self, other, how)\n   4803     how = flip.get(how, how)\n   4805 level = other.names.index(jl)\n-> 4806 result = self._join_level(other, level, how=how)\n   4808 if flip_order:\n   4809     return result[0], result[2], result[1]\n\nFile /opt/anaconda3/envs/envstock/lib/python3.11/site-packages/pandas/core/indexes/base.py:4900, in Index._join_level(self, other, level, how, keep_order)\n   4895 if not right.is_unique:\n   4896     raise NotImplementedError(\n   4897         \"Index._join_level on non-unique index is not implemented\"\n   4898     )\n-> 4900 new_level, left_lev_indexer, right_lev_indexer = old_level.join(\n   4901     right, how=how, return_indexers=True\n   4902 )\n   4904 if left_lev_indexer is None:\n   4905     if keep_order or len(left) == 0:\n\nFile /opt/anaconda3/envs/envstock/lib/python3.11/site-packages/pandas/core/indexes/base.py:279, in _maybe_return_indexers.<locals>.join(self, other, how, level, return_indexers, sort)\n    269 @functools.wraps(meth)\n    270 def join(\n    271     self,\n   (...)\n    277     sort: bool = False,\n    278 ):\n--> 279     join_index, lidx, ridx = meth(self, other, how=how, level=level, sort=sort)\n    280     if not return_indexers:\n    281         return join_index\n\nFile /opt/anaconda3/envs/envstock/lib/python3.11/site-packages/pandas/core/indexes/base.py:4598, in Index.join(self, other, how, level, return_indexers, sort)\n   4595 if isinstance(self, ABCDatetimeIndex) and isinstance(other, ABCDatetimeIndex):\n   4596     if (self.tz is None) ^ (other.tz is None):\n   4597         # Raise instead of casting to object below.\n-> 4598         raise TypeError(\"Cannot join tz-naive with tz-aware DatetimeIndex\")\n   4600 if not self._is_multi and not other._is_multi:\n   4601     # We have specific handling for MultiIndex below\n   4602     pself, pother = self._maybe_downcast_for_indexing(other)\n\nTypeError: Cannot join tz-naive with tz-aware DatetimeIndex\n"
=======
     "ename": "KeyboardInterrupt",
     "evalue": "",
     "output_type": "error",
     "traceback": [
      "\u001b[0;31m---------------------------------------------------------------------------\u001b[0m",
      "\u001b[0;31mKeyboardInterrupt\u001b[0m                         Traceback (most recent call last)",
      "Cell \u001b[0;32mIn[4], line 1\u001b[0m\n\u001b[0;32m----> 1\u001b[0m \u001b[43mpm\u001b[49m\u001b[38;5;241;43m.\u001b[39;49m\u001b[43mexecute_notebook\u001b[49m\u001b[43m(\u001b[49m\n\u001b[1;32m      2\u001b[0m \u001b[43m    \u001b[49m\u001b[38;5;124;43m'\u001b[39;49m\u001b[38;5;124;43mnotebooks/MLmodel.ipynb\u001b[39;49m\u001b[38;5;124;43m'\u001b[39;49m\u001b[43m,\u001b[49m\n\u001b[1;32m      3\u001b[0m \u001b[43m    \u001b[49m\u001b[38;5;124;43m'\u001b[39;49m\u001b[38;5;124;43mexecuted_notebooks/MLmodel.ipynb\u001b[39;49m\u001b[38;5;124;43m'\u001b[39;49m\n\u001b[1;32m      4\u001b[0m \u001b[43m)\u001b[49m\n",
      "File \u001b[0;32m/opt/anaconda3/envs/envstock/lib/python3.11/site-packages/papermill/execute.py:116\u001b[0m, in \u001b[0;36mexecute_notebook\u001b[0;34m(input_path, output_path, parameters, engine_name, request_save_on_cell_execute, prepare_only, kernel_name, language, progress_bar, log_output, stdout_file, stderr_file, start_timeout, report_mode, cwd, **engine_kwargs)\u001b[0m\n\u001b[1;32m    114\u001b[0m \u001b[38;5;66;03m# Execute the Notebook in `cwd` if it is set\u001b[39;00m\n\u001b[1;32m    115\u001b[0m \u001b[38;5;28;01mwith\u001b[39;00m chdir(cwd):\n\u001b[0;32m--> 116\u001b[0m     nb \u001b[38;5;241m=\u001b[39m \u001b[43mpapermill_engines\u001b[49m\u001b[38;5;241;43m.\u001b[39;49m\u001b[43mexecute_notebook_with_engine\u001b[49m\u001b[43m(\u001b[49m\n\u001b[1;32m    117\u001b[0m \u001b[43m        \u001b[49m\u001b[43mengine_name\u001b[49m\u001b[43m,\u001b[49m\n\u001b[1;32m    118\u001b[0m \u001b[43m        \u001b[49m\u001b[43mnb\u001b[49m\u001b[43m,\u001b[49m\n\u001b[1;32m    119\u001b[0m \u001b[43m        \u001b[49m\u001b[43minput_path\u001b[49m\u001b[38;5;241;43m=\u001b[39;49m\u001b[43minput_path\u001b[49m\u001b[43m,\u001b[49m\n\u001b[1;32m    120\u001b[0m \u001b[43m        \u001b[49m\u001b[43moutput_path\u001b[49m\u001b[38;5;241;43m=\u001b[39;49m\u001b[43moutput_path\u001b[49m\u001b[43m \u001b[49m\u001b[38;5;28;43;01mif\u001b[39;49;00m\u001b[43m \u001b[49m\u001b[43mrequest_save_on_cell_execute\u001b[49m\u001b[43m \u001b[49m\u001b[38;5;28;43;01melse\u001b[39;49;00m\u001b[43m \u001b[49m\u001b[38;5;28;43;01mNone\u001b[39;49;00m\u001b[43m,\u001b[49m\n\u001b[1;32m    121\u001b[0m \u001b[43m        \u001b[49m\u001b[43mkernel_name\u001b[49m\u001b[38;5;241;43m=\u001b[39;49m\u001b[43mkernel_name\u001b[49m\u001b[43m,\u001b[49m\n\u001b[1;32m    122\u001b[0m \u001b[43m        \u001b[49m\u001b[43mprogress_bar\u001b[49m\u001b[38;5;241;43m=\u001b[39;49m\u001b[43mprogress_bar\u001b[49m\u001b[43m,\u001b[49m\n\u001b[1;32m    123\u001b[0m \u001b[43m        \u001b[49m\u001b[43mlog_output\u001b[49m\u001b[38;5;241;43m=\u001b[39;49m\u001b[43mlog_output\u001b[49m\u001b[43m,\u001b[49m\n\u001b[1;32m    124\u001b[0m \u001b[43m        \u001b[49m\u001b[43mstart_timeout\u001b[49m\u001b[38;5;241;43m=\u001b[39;49m\u001b[43mstart_timeout\u001b[49m\u001b[43m,\u001b[49m\n\u001b[1;32m    125\u001b[0m \u001b[43m        \u001b[49m\u001b[43mstdout_file\u001b[49m\u001b[38;5;241;43m=\u001b[39;49m\u001b[43mstdout_file\u001b[49m\u001b[43m,\u001b[49m\n\u001b[1;32m    126\u001b[0m \u001b[43m        \u001b[49m\u001b[43mstderr_file\u001b[49m\u001b[38;5;241;43m=\u001b[39;49m\u001b[43mstderr_file\u001b[49m\u001b[43m,\u001b[49m\n\u001b[1;32m    127\u001b[0m \u001b[43m        \u001b[49m\u001b[38;5;241;43m*\u001b[39;49m\u001b[38;5;241;43m*\u001b[39;49m\u001b[43mengine_kwargs\u001b[49m\u001b[43m,\u001b[49m\n\u001b[1;32m    128\u001b[0m \u001b[43m    \u001b[49m\u001b[43m)\u001b[49m\n\u001b[1;32m    130\u001b[0m \u001b[38;5;66;03m# Check for errors first (it saves on error before raising)\u001b[39;00m\n\u001b[1;32m    131\u001b[0m raise_for_execution_errors(nb, output_path)\n",
      "File \u001b[0;32m/opt/anaconda3/envs/envstock/lib/python3.11/site-packages/papermill/engines.py:48\u001b[0m, in \u001b[0;36mPapermillEngines.execute_notebook_with_engine\u001b[0;34m(self, engine_name, nb, kernel_name, **kwargs)\u001b[0m\n\u001b[1;32m     46\u001b[0m \u001b[38;5;28;01mdef\u001b[39;00m \u001b[38;5;21mexecute_notebook_with_engine\u001b[39m(\u001b[38;5;28mself\u001b[39m, engine_name, nb, kernel_name, \u001b[38;5;241m*\u001b[39m\u001b[38;5;241m*\u001b[39mkwargs):\n\u001b[1;32m     47\u001b[0m \u001b[38;5;250m    \u001b[39m\u001b[38;5;124;03m\"\"\"Fetch a named engine and execute the nb object against it.\"\"\"\u001b[39;00m\n\u001b[0;32m---> 48\u001b[0m     \u001b[38;5;28;01mreturn\u001b[39;00m \u001b[38;5;28;43mself\u001b[39;49m\u001b[38;5;241;43m.\u001b[39;49m\u001b[43mget_engine\u001b[49m\u001b[43m(\u001b[49m\u001b[43mengine_name\u001b[49m\u001b[43m)\u001b[49m\u001b[38;5;241;43m.\u001b[39;49m\u001b[43mexecute_notebook\u001b[49m\u001b[43m(\u001b[49m\u001b[43mnb\u001b[49m\u001b[43m,\u001b[49m\u001b[43m \u001b[49m\u001b[43mkernel_name\u001b[49m\u001b[43m,\u001b[49m\u001b[43m \u001b[49m\u001b[38;5;241;43m*\u001b[39;49m\u001b[38;5;241;43m*\u001b[39;49m\u001b[43mkwargs\u001b[49m\u001b[43m)\u001b[49m\n",
      "File \u001b[0;32m/opt/anaconda3/envs/envstock/lib/python3.11/site-packages/papermill/engines.py:370\u001b[0m, in \u001b[0;36mEngine.execute_notebook\u001b[0;34m(cls, nb, kernel_name, output_path, progress_bar, log_output, autosave_cell_every, **kwargs)\u001b[0m\n\u001b[1;32m    368\u001b[0m nb_man\u001b[38;5;241m.\u001b[39mnotebook_start()\n\u001b[1;32m    369\u001b[0m \u001b[38;5;28;01mtry\u001b[39;00m:\n\u001b[0;32m--> 370\u001b[0m     \u001b[38;5;28;43mcls\u001b[39;49m\u001b[38;5;241;43m.\u001b[39;49m\u001b[43mexecute_managed_notebook\u001b[49m\u001b[43m(\u001b[49m\u001b[43mnb_man\u001b[49m\u001b[43m,\u001b[49m\u001b[43m \u001b[49m\u001b[43mkernel_name\u001b[49m\u001b[43m,\u001b[49m\u001b[43m \u001b[49m\u001b[43mlog_output\u001b[49m\u001b[38;5;241;43m=\u001b[39;49m\u001b[43mlog_output\u001b[49m\u001b[43m,\u001b[49m\u001b[43m \u001b[49m\u001b[38;5;241;43m*\u001b[39;49m\u001b[38;5;241;43m*\u001b[39;49m\u001b[43mkwargs\u001b[49m\u001b[43m)\u001b[49m\n\u001b[1;32m    371\u001b[0m \u001b[38;5;28;01mfinally\u001b[39;00m:\n\u001b[1;32m    372\u001b[0m     nb_man\u001b[38;5;241m.\u001b[39mcleanup_pbar()\n",
      "File \u001b[0;32m/opt/anaconda3/envs/envstock/lib/python3.11/site-packages/papermill/engines.py:442\u001b[0m, in \u001b[0;36mNBClientEngine.execute_managed_notebook\u001b[0;34m(cls, nb_man, kernel_name, log_output, stdout_file, stderr_file, start_timeout, execution_timeout, **kwargs)\u001b[0m\n\u001b[1;32m    431\u001b[0m \u001b[38;5;66;03m# Nicely handle preprocessor arguments prioritizing values set by engine\u001b[39;00m\n\u001b[1;32m    432\u001b[0m final_kwargs \u001b[38;5;241m=\u001b[39m merge_kwargs(\n\u001b[1;32m    433\u001b[0m     safe_kwargs,\n\u001b[1;32m    434\u001b[0m     timeout\u001b[38;5;241m=\u001b[39mexecution_timeout \u001b[38;5;28;01mif\u001b[39;00m execution_timeout \u001b[38;5;28;01melse\u001b[39;00m kwargs\u001b[38;5;241m.\u001b[39mget(\u001b[38;5;124m'\u001b[39m\u001b[38;5;124mtimeout\u001b[39m\u001b[38;5;124m'\u001b[39m),\n\u001b[0;32m   (...)\u001b[0m\n\u001b[1;32m    440\u001b[0m     stderr_file\u001b[38;5;241m=\u001b[39mstderr_file,\n\u001b[1;32m    441\u001b[0m )\n\u001b[0;32m--> 442\u001b[0m \u001b[38;5;28;01mreturn\u001b[39;00m \u001b[43mPapermillNotebookClient\u001b[49m\u001b[43m(\u001b[49m\u001b[43mnb_man\u001b[49m\u001b[43m,\u001b[49m\u001b[43m \u001b[49m\u001b[38;5;241;43m*\u001b[39;49m\u001b[38;5;241;43m*\u001b[39;49m\u001b[43mfinal_kwargs\u001b[49m\u001b[43m)\u001b[49m\u001b[38;5;241;43m.\u001b[39;49m\u001b[43mexecute\u001b[49m\u001b[43m(\u001b[49m\u001b[43m)\u001b[49m\n",
      "File \u001b[0;32m/opt/anaconda3/envs/envstock/lib/python3.11/site-packages/papermill/clientwrap.py:45\u001b[0m, in \u001b[0;36mPapermillNotebookClient.execute\u001b[0;34m(self, **kwargs)\u001b[0m\n\u001b[1;32m     43\u001b[0m \u001b[38;5;28;01mwith\u001b[39;00m \u001b[38;5;28mself\u001b[39m\u001b[38;5;241m.\u001b[39msetup_kernel(\u001b[38;5;241m*\u001b[39m\u001b[38;5;241m*\u001b[39mkwargs):\n\u001b[1;32m     44\u001b[0m     \u001b[38;5;28mself\u001b[39m\u001b[38;5;241m.\u001b[39mlog\u001b[38;5;241m.\u001b[39minfo(\u001b[38;5;124mf\u001b[39m\u001b[38;5;124m\"\u001b[39m\u001b[38;5;124mExecuting notebook with kernel: \u001b[39m\u001b[38;5;132;01m{\u001b[39;00m\u001b[38;5;28mself\u001b[39m\u001b[38;5;241m.\u001b[39mkernel_name\u001b[38;5;132;01m}\u001b[39;00m\u001b[38;5;124m\"\u001b[39m)\n\u001b[0;32m---> 45\u001b[0m     \u001b[38;5;28;43mself\u001b[39;49m\u001b[38;5;241;43m.\u001b[39;49m\u001b[43mpapermill_execute_cells\u001b[49m\u001b[43m(\u001b[49m\u001b[43m)\u001b[49m\n\u001b[1;32m     46\u001b[0m     info_msg \u001b[38;5;241m=\u001b[39m \u001b[38;5;28mself\u001b[39m\u001b[38;5;241m.\u001b[39mwait_for_reply(\u001b[38;5;28mself\u001b[39m\u001b[38;5;241m.\u001b[39mkc\u001b[38;5;241m.\u001b[39mkernel_info())\n\u001b[1;32m     47\u001b[0m     \u001b[38;5;28mself\u001b[39m\u001b[38;5;241m.\u001b[39mnb\u001b[38;5;241m.\u001b[39mmetadata[\u001b[38;5;124m'\u001b[39m\u001b[38;5;124mlanguage_info\u001b[39m\u001b[38;5;124m'\u001b[39m] \u001b[38;5;241m=\u001b[39m info_msg[\u001b[38;5;124m'\u001b[39m\u001b[38;5;124mcontent\u001b[39m\u001b[38;5;124m'\u001b[39m][\u001b[38;5;124m'\u001b[39m\u001b[38;5;124mlanguage_info\u001b[39m\u001b[38;5;124m'\u001b[39m]\n",
      "File \u001b[0;32m/opt/anaconda3/envs/envstock/lib/python3.11/site-packages/papermill/clientwrap.py:72\u001b[0m, in \u001b[0;36mPapermillNotebookClient.papermill_execute_cells\u001b[0;34m(self)\u001b[0m\n\u001b[1;32m     70\u001b[0m \u001b[38;5;28;01mtry\u001b[39;00m:\n\u001b[1;32m     71\u001b[0m     \u001b[38;5;28mself\u001b[39m\u001b[38;5;241m.\u001b[39mnb_man\u001b[38;5;241m.\u001b[39mcell_start(cell, index)\n\u001b[0;32m---> 72\u001b[0m     \u001b[38;5;28;43mself\u001b[39;49m\u001b[38;5;241;43m.\u001b[39;49m\u001b[43mexecute_cell\u001b[49m\u001b[43m(\u001b[49m\u001b[43mcell\u001b[49m\u001b[43m,\u001b[49m\u001b[43m \u001b[49m\u001b[43mindex\u001b[49m\u001b[43m)\u001b[49m\n\u001b[1;32m     73\u001b[0m \u001b[38;5;28;01mexcept\u001b[39;00m CellExecutionError \u001b[38;5;28;01mas\u001b[39;00m ex:\n\u001b[1;32m     74\u001b[0m     \u001b[38;5;28mself\u001b[39m\u001b[38;5;241m.\u001b[39mnb_man\u001b[38;5;241m.\u001b[39mcell_exception(\u001b[38;5;28mself\u001b[39m\u001b[38;5;241m.\u001b[39mnb\u001b[38;5;241m.\u001b[39mcells[index], cell_index\u001b[38;5;241m=\u001b[39mindex, exception\u001b[38;5;241m=\u001b[39mex)\n",
      "File \u001b[0;32m/opt/anaconda3/envs/envstock/lib/python3.11/site-packages/jupyter_core/utils/__init__.py:159\u001b[0m, in \u001b[0;36mrun_sync.<locals>.wrapped\u001b[0;34m(*args, **kwargs)\u001b[0m\n\u001b[1;32m    157\u001b[0m     \u001b[38;5;28;01mif\u001b[39;00m name \u001b[38;5;129;01mnot\u001b[39;00m \u001b[38;5;129;01min\u001b[39;00m _runner_map:\n\u001b[1;32m    158\u001b[0m         _runner_map[name] \u001b[38;5;241m=\u001b[39m _TaskRunner()\n\u001b[0;32m--> 159\u001b[0m     \u001b[38;5;28;01mreturn\u001b[39;00m \u001b[43m_runner_map\u001b[49m\u001b[43m[\u001b[49m\u001b[43mname\u001b[49m\u001b[43m]\u001b[49m\u001b[38;5;241;43m.\u001b[39;49m\u001b[43mrun\u001b[49m\u001b[43m(\u001b[49m\u001b[43minner\u001b[49m\u001b[43m)\u001b[49m\n\u001b[1;32m    160\u001b[0m \u001b[38;5;28;01mexcept\u001b[39;00m \u001b[38;5;167;01mRuntimeError\u001b[39;00m:\n\u001b[1;32m    161\u001b[0m     \u001b[38;5;28;01mpass\u001b[39;00m\n",
      "File \u001b[0;32m/opt/anaconda3/envs/envstock/lib/python3.11/site-packages/jupyter_core/utils/__init__.py:126\u001b[0m, in \u001b[0;36m_TaskRunner.run\u001b[0;34m(self, coro)\u001b[0m\n\u001b[1;32m    124\u001b[0m         \u001b[38;5;28mself\u001b[39m\u001b[38;5;241m.\u001b[39m__runner_thread\u001b[38;5;241m.\u001b[39mstart()\n\u001b[1;32m    125\u001b[0m fut \u001b[38;5;241m=\u001b[39m asyncio\u001b[38;5;241m.\u001b[39mrun_coroutine_threadsafe(coro, \u001b[38;5;28mself\u001b[39m\u001b[38;5;241m.\u001b[39m__io_loop)\n\u001b[0;32m--> 126\u001b[0m \u001b[38;5;28;01mreturn\u001b[39;00m \u001b[43mfut\u001b[49m\u001b[38;5;241;43m.\u001b[39;49m\u001b[43mresult\u001b[49m\u001b[43m(\u001b[49m\u001b[38;5;28;43;01mNone\u001b[39;49;00m\u001b[43m)\u001b[49m\n",
      "File \u001b[0;32m/opt/anaconda3/envs/envstock/lib/python3.11/concurrent/futures/_base.py:451\u001b[0m, in \u001b[0;36mFuture.result\u001b[0;34m(self, timeout)\u001b[0m\n\u001b[1;32m    448\u001b[0m \u001b[38;5;28;01melif\u001b[39;00m \u001b[38;5;28mself\u001b[39m\u001b[38;5;241m.\u001b[39m_state \u001b[38;5;241m==\u001b[39m FINISHED:\n\u001b[1;32m    449\u001b[0m     \u001b[38;5;28;01mreturn\u001b[39;00m \u001b[38;5;28mself\u001b[39m\u001b[38;5;241m.\u001b[39m__get_result()\n\u001b[0;32m--> 451\u001b[0m \u001b[38;5;28;43mself\u001b[39;49m\u001b[38;5;241;43m.\u001b[39;49m\u001b[43m_condition\u001b[49m\u001b[38;5;241;43m.\u001b[39;49m\u001b[43mwait\u001b[49m\u001b[43m(\u001b[49m\u001b[43mtimeout\u001b[49m\u001b[43m)\u001b[49m\n\u001b[1;32m    453\u001b[0m \u001b[38;5;28;01mif\u001b[39;00m \u001b[38;5;28mself\u001b[39m\u001b[38;5;241m.\u001b[39m_state \u001b[38;5;129;01min\u001b[39;00m [CANCELLED, CANCELLED_AND_NOTIFIED]:\n\u001b[1;32m    454\u001b[0m     \u001b[38;5;28;01mraise\u001b[39;00m CancelledError()\n",
      "File \u001b[0;32m/opt/anaconda3/envs/envstock/lib/python3.11/threading.py:327\u001b[0m, in \u001b[0;36mCondition.wait\u001b[0;34m(self, timeout)\u001b[0m\n\u001b[1;32m    325\u001b[0m \u001b[38;5;28;01mtry\u001b[39;00m:    \u001b[38;5;66;03m# restore state no matter what (e.g., KeyboardInterrupt)\u001b[39;00m\n\u001b[1;32m    326\u001b[0m     \u001b[38;5;28;01mif\u001b[39;00m timeout \u001b[38;5;129;01mis\u001b[39;00m \u001b[38;5;28;01mNone\u001b[39;00m:\n\u001b[0;32m--> 327\u001b[0m         \u001b[43mwaiter\u001b[49m\u001b[38;5;241;43m.\u001b[39;49m\u001b[43macquire\u001b[49m\u001b[43m(\u001b[49m\u001b[43m)\u001b[49m\n\u001b[1;32m    328\u001b[0m         gotit \u001b[38;5;241m=\u001b[39m \u001b[38;5;28;01mTrue\u001b[39;00m\n\u001b[1;32m    329\u001b[0m     \u001b[38;5;28;01melse\u001b[39;00m:\n",
      "\u001b[0;31mKeyboardInterrupt\u001b[0m: "
>>>>>>> Stashed changes
     ]
    }
   ],
   "source": [
    "pm.execute_notebook(\n",
    "    'notebooks/MLmodel.ipynb',\n",
    "    'executed_notebooks/MLmodel.ipynb'\n",
<<<<<<< Updated upstream
    "    # ,parameters=dict(output_file='Results/ml_output.csv')\n",
=======
>>>>>>> Stashed changes
    ")"
   ]
  },
  {
   "cell_type": "code",
<<<<<<< Updated upstream
   "execution_count": 9,
   "metadata": {},
   "outputs": [
    {
     "ename": "NameError",
     "evalue": "name 'factor_data' is not defined",
     "output_type": "error",
     "traceback": [
      "\u001b[0;31m---------------------------------------------------------------------------\u001b[0m",
      "\u001b[0;31mNameError\u001b[0m                                 Traceback (most recent call last)",
      "Cell \u001b[0;32mIn[9], line 1\u001b[0m\n\u001b[0;32m----> 1\u001b[0m \u001b[43mfactor_data\u001b[49m\n",
      "\u001b[0;31mNameError\u001b[0m: name 'factor_data' is not defined"
     ]
    }
   ],
   "source": []
  },
  {
   "cell_type": "code",
   "execution_count": null,
   "metadata": {},
   "outputs": [],
   "source": [
    "# Execute the second notebook, passing the result from notebook 1\n",
    "pm.execute_notebook(\n",
    "    'notebook_2.ipynb',\n",
    "    'executed_notebooks/notebook_2_output.ipynb',\n",
    "    parameters=dict(input_file='Results/output_1.csv', output_file='Results/output_2.csv')\n",
=======
   "execution_count": 15,
   "metadata": {},
   "outputs": [
    {
     "data": {
      "application/vnd.jupyter.widget-view+json": {
       "model_id": "551e0400ce564346b1fcffee2d72924a",
       "version_major": 2,
       "version_minor": 0
      },
      "text/plain": [
       "Executing:   0%|          | 0/2 [00:00<?, ?cell/s]"
      ]
     },
     "metadata": {},
     "output_type": "display_data"
    },
    {
     "ename": "PapermillExecutionError",
     "evalue": "\n---------------------------------------------------------------------------\nException encountered at \"In [1]\":\n---------------------------------------------------------------------------\nFileNotFoundError                         Traceback (most recent call last)\nCell In[1], line 13\n     10 monthly_sp500['Return'] = (monthly_sp500['Close'].shift(-21) - monthly_sp500['Close']) / monthly_sp500['Close']\n     12 sectors_path = '/Users/allison/Desktop/sectorsymbollist.csv'\n---> 13 sectors_df = pd.read_csv(sectors_path)\n     15 for sector_symbol in sectors_df['Sector']:\n     16     print(f'Processing sector: {sector_symbol}')\n\nFile /opt/anaconda3/envs/envstock/lib/python3.11/site-packages/pandas/io/parsers/readers.py:1026, in read_csv(filepath_or_buffer, sep, delimiter, header, names, index_col, usecols, dtype, engine, converters, true_values, false_values, skipinitialspace, skiprows, skipfooter, nrows, na_values, keep_default_na, na_filter, verbose, skip_blank_lines, parse_dates, infer_datetime_format, keep_date_col, date_parser, date_format, dayfirst, cache_dates, iterator, chunksize, compression, thousands, decimal, lineterminator, quotechar, quoting, doublequote, escapechar, comment, encoding, encoding_errors, dialect, on_bad_lines, delim_whitespace, low_memory, memory_map, float_precision, storage_options, dtype_backend)\n   1013 kwds_defaults = _refine_defaults_read(\n   1014     dialect,\n   1015     delimiter,\n   (...)\n   1022     dtype_backend=dtype_backend,\n   1023 )\n   1024 kwds.update(kwds_defaults)\n-> 1026 return _read(filepath_or_buffer, kwds)\n\nFile /opt/anaconda3/envs/envstock/lib/python3.11/site-packages/pandas/io/parsers/readers.py:620, in _read(filepath_or_buffer, kwds)\n    617 _validate_names(kwds.get(\"names\", None))\n    619 # Create the parser.\n--> 620 parser = TextFileReader(filepath_or_buffer, **kwds)\n    622 if chunksize or iterator:\n    623     return parser\n\nFile /opt/anaconda3/envs/envstock/lib/python3.11/site-packages/pandas/io/parsers/readers.py:1620, in TextFileReader.__init__(self, f, engine, **kwds)\n   1617     self.options[\"has_index_names\"] = kwds[\"has_index_names\"]\n   1619 self.handles: IOHandles | None = None\n-> 1620 self._engine = self._make_engine(f, self.engine)\n\nFile /opt/anaconda3/envs/envstock/lib/python3.11/site-packages/pandas/io/parsers/readers.py:1880, in TextFileReader._make_engine(self, f, engine)\n   1878     if \"b\" not in mode:\n   1879         mode += \"b\"\n-> 1880 self.handles = get_handle(\n   1881     f,\n   1882     mode,\n   1883     encoding=self.options.get(\"encoding\", None),\n   1884     compression=self.options.get(\"compression\", None),\n   1885     memory_map=self.options.get(\"memory_map\", False),\n   1886     is_text=is_text,\n   1887     errors=self.options.get(\"encoding_errors\", \"strict\"),\n   1888     storage_options=self.options.get(\"storage_options\", None),\n   1889 )\n   1890 assert self.handles is not None\n   1891 f = self.handles.handle\n\nFile /opt/anaconda3/envs/envstock/lib/python3.11/site-packages/pandas/io/common.py:873, in get_handle(path_or_buf, mode, encoding, compression, memory_map, is_text, errors, storage_options)\n    868 elif isinstance(handle, str):\n    869     # Check whether the filename is to be opened in binary mode.\n    870     # Binary mode does not support 'encoding' and 'newline'.\n    871     if ioargs.encoding and \"b\" not in ioargs.mode:\n    872         # Encoding\n--> 873         handle = open(\n    874             handle,\n    875             ioargs.mode,\n    876             encoding=ioargs.encoding,\n    877             errors=errors,\n    878             newline=\"\",\n    879         )\n    880     else:\n    881         # Binary mode\n    882         handle = open(handle, ioargs.mode)\n\nFileNotFoundError: [Errno 2] No such file or directory: '/Users/allison/Desktop/sectorsymbollist.csv'\n",
     "output_type": "error",
     "traceback": [
      "\u001b[0;31m---------------------------------------------------------------------------\u001b[0m",
      "\u001b[0;31mPapermillExecutionError\u001b[0m                   Traceback (most recent call last)",
      "Cell \u001b[0;32mIn[15], line 2\u001b[0m\n\u001b[1;32m      1\u001b[0m \u001b[38;5;66;03m# Execute the second notebook, passing the result from notebook 1\u001b[39;00m\n\u001b[0;32m----> 2\u001b[0m \u001b[43mpm\u001b[49m\u001b[38;5;241;43m.\u001b[39;49m\u001b[43mexecute_notebook\u001b[49m\u001b[43m(\u001b[49m\n\u001b[1;32m      3\u001b[0m \u001b[43m    \u001b[49m\u001b[38;5;124;43m'\u001b[39;49m\u001b[38;5;124;43mnotebooks/Sector_LinearRegression.ipynb\u001b[39;49m\u001b[38;5;124;43m'\u001b[39;49m\u001b[43m,\u001b[49m\n\u001b[1;32m      4\u001b[0m \u001b[43m    \u001b[49m\u001b[38;5;124;43m'\u001b[39;49m\u001b[38;5;124;43mexecuted_notebooks/notebook_2_output.ipynb\u001b[39;49m\u001b[38;5;124;43m'\u001b[39;49m\n\u001b[1;32m      5\u001b[0m \u001b[43m)\u001b[49m\n",
      "File \u001b[0;32m/opt/anaconda3/envs/envstock/lib/python3.11/site-packages/papermill/execute.py:131\u001b[0m, in \u001b[0;36mexecute_notebook\u001b[0;34m(input_path, output_path, parameters, engine_name, request_save_on_cell_execute, prepare_only, kernel_name, language, progress_bar, log_output, stdout_file, stderr_file, start_timeout, report_mode, cwd, **engine_kwargs)\u001b[0m\n\u001b[1;32m    116\u001b[0m         nb \u001b[38;5;241m=\u001b[39m papermill_engines\u001b[38;5;241m.\u001b[39mexecute_notebook_with_engine(\n\u001b[1;32m    117\u001b[0m             engine_name,\n\u001b[1;32m    118\u001b[0m             nb,\n\u001b[0;32m   (...)\u001b[0m\n\u001b[1;32m    127\u001b[0m             \u001b[38;5;241m*\u001b[39m\u001b[38;5;241m*\u001b[39mengine_kwargs,\n\u001b[1;32m    128\u001b[0m         )\n\u001b[1;32m    130\u001b[0m     \u001b[38;5;66;03m# Check for errors first (it saves on error before raising)\u001b[39;00m\n\u001b[0;32m--> 131\u001b[0m     \u001b[43mraise_for_execution_errors\u001b[49m\u001b[43m(\u001b[49m\u001b[43mnb\u001b[49m\u001b[43m,\u001b[49m\u001b[43m \u001b[49m\u001b[43moutput_path\u001b[49m\u001b[43m)\u001b[49m\n\u001b[1;32m    133\u001b[0m \u001b[38;5;66;03m# Write final output in case the engine didn't write it on cell completion.\u001b[39;00m\n\u001b[1;32m    134\u001b[0m write_ipynb(nb, output_path)\n",
      "File \u001b[0;32m/opt/anaconda3/envs/envstock/lib/python3.11/site-packages/papermill/execute.py:251\u001b[0m, in \u001b[0;36mraise_for_execution_errors\u001b[0;34m(nb, output_path)\u001b[0m\n\u001b[1;32m    248\u001b[0m nb\u001b[38;5;241m.\u001b[39mcells\u001b[38;5;241m.\u001b[39minsert(\u001b[38;5;241m0\u001b[39m, error_msg_cell)\n\u001b[1;32m    250\u001b[0m write_ipynb(nb, output_path)\n\u001b[0;32m--> 251\u001b[0m \u001b[38;5;28;01mraise\u001b[39;00m error\n",
      "\u001b[0;31mPapermillExecutionError\u001b[0m: \n---------------------------------------------------------------------------\nException encountered at \"In [1]\":\n---------------------------------------------------------------------------\nFileNotFoundError                         Traceback (most recent call last)\nCell In[1], line 13\n     10 monthly_sp500['Return'] = (monthly_sp500['Close'].shift(-21) - monthly_sp500['Close']) / monthly_sp500['Close']\n     12 sectors_path = '/Users/allison/Desktop/sectorsymbollist.csv'\n---> 13 sectors_df = pd.read_csv(sectors_path)\n     15 for sector_symbol in sectors_df['Sector']:\n     16     print(f'Processing sector: {sector_symbol}')\n\nFile /opt/anaconda3/envs/envstock/lib/python3.11/site-packages/pandas/io/parsers/readers.py:1026, in read_csv(filepath_or_buffer, sep, delimiter, header, names, index_col, usecols, dtype, engine, converters, true_values, false_values, skipinitialspace, skiprows, skipfooter, nrows, na_values, keep_default_na, na_filter, verbose, skip_blank_lines, parse_dates, infer_datetime_format, keep_date_col, date_parser, date_format, dayfirst, cache_dates, iterator, chunksize, compression, thousands, decimal, lineterminator, quotechar, quoting, doublequote, escapechar, comment, encoding, encoding_errors, dialect, on_bad_lines, delim_whitespace, low_memory, memory_map, float_precision, storage_options, dtype_backend)\n   1013 kwds_defaults = _refine_defaults_read(\n   1014     dialect,\n   1015     delimiter,\n   (...)\n   1022     dtype_backend=dtype_backend,\n   1023 )\n   1024 kwds.update(kwds_defaults)\n-> 1026 return _read(filepath_or_buffer, kwds)\n\nFile /opt/anaconda3/envs/envstock/lib/python3.11/site-packages/pandas/io/parsers/readers.py:620, in _read(filepath_or_buffer, kwds)\n    617 _validate_names(kwds.get(\"names\", None))\n    619 # Create the parser.\n--> 620 parser = TextFileReader(filepath_or_buffer, **kwds)\n    622 if chunksize or iterator:\n    623     return parser\n\nFile /opt/anaconda3/envs/envstock/lib/python3.11/site-packages/pandas/io/parsers/readers.py:1620, in TextFileReader.__init__(self, f, engine, **kwds)\n   1617     self.options[\"has_index_names\"] = kwds[\"has_index_names\"]\n   1619 self.handles: IOHandles | None = None\n-> 1620 self._engine = self._make_engine(f, self.engine)\n\nFile /opt/anaconda3/envs/envstock/lib/python3.11/site-packages/pandas/io/parsers/readers.py:1880, in TextFileReader._make_engine(self, f, engine)\n   1878     if \"b\" not in mode:\n   1879         mode += \"b\"\n-> 1880 self.handles = get_handle(\n   1881     f,\n   1882     mode,\n   1883     encoding=self.options.get(\"encoding\", None),\n   1884     compression=self.options.get(\"compression\", None),\n   1885     memory_map=self.options.get(\"memory_map\", False),\n   1886     is_text=is_text,\n   1887     errors=self.options.get(\"encoding_errors\", \"strict\"),\n   1888     storage_options=self.options.get(\"storage_options\", None),\n   1889 )\n   1890 assert self.handles is not None\n   1891 f = self.handles.handle\n\nFile /opt/anaconda3/envs/envstock/lib/python3.11/site-packages/pandas/io/common.py:873, in get_handle(path_or_buf, mode, encoding, compression, memory_map, is_text, errors, storage_options)\n    868 elif isinstance(handle, str):\n    869     # Check whether the filename is to be opened in binary mode.\n    870     # Binary mode does not support 'encoding' and 'newline'.\n    871     if ioargs.encoding and \"b\" not in ioargs.mode:\n    872         # Encoding\n--> 873         handle = open(\n    874             handle,\n    875             ioargs.mode,\n    876             encoding=ioargs.encoding,\n    877             errors=errors,\n    878             newline=\"\",\n    879         )\n    880     else:\n    881         # Binary mode\n    882         handle = open(handle, ioargs.mode)\n\nFileNotFoundError: [Errno 2] No such file or directory: '/Users/allison/Desktop/sectorsymbollist.csv'\n"
     ]
    }
   ],
   "source": [
    "# Execute the second notebook, passing the result from notebook 1\n",
    "pm.execute_notebook(\n",
    "    'notebooks/Sector_LinearRegression.ipynb',\n",
    "    'executed_notebooks/notebook_2_output.ipynb'\n",
>>>>>>> Stashed changes
    ")\n"
   ]
  },
  {
   "cell_type": "code",
<<<<<<< Updated upstream
   "execution_count": null,
   "metadata": {},
   "outputs": [],
=======
   "execution_count": 14,
   "metadata": {},
   "outputs": [
    {
     "data": {
      "application/vnd.jupyter.widget-view+json": {
       "model_id": "b8ae959616eb427684bbef9a59d2104c",
       "version_major": 2,
       "version_minor": 0
      },
      "text/plain": [
       "Executing:   0%|          | 0/4 [00:00<?, ?cell/s]"
      ]
     },
     "metadata": {},
     "output_type": "display_data"
    },
    {
     "data": {
      "text/plain": [
       "{'cells': [{'cell_type': 'code',\n",
       "   'execution_count': 1,\n",
       "   'metadata': {'tags': [],\n",
       "    'papermill': {'exception': False,\n",
       "     'start_time': '2024-09-15T18:37:20.655644',\n",
       "     'end_time': '2024-09-15T18:37:21.128586',\n",
       "     'duration': 0.472942,\n",
       "     'status': 'completed'},\n",
       "    'execution': {'iopub.status.busy': '2024-09-15T18:37:20.657621Z',\n",
       "     'iopub.execute_input': '2024-09-15T18:37:20.657803Z',\n",
       "     'iopub.status.idle': '2024-09-15T18:37:21.126978Z',\n",
       "     'shell.execute_reply': '2024-09-15T18:37:21.126523Z'}},\n",
       "   'outputs': [],\n",
       "   'source': 'import yfinance as yf\\nimport pandas as pd\\nfrom datetime import datetime\\nimport os',\n",
       "   'id': '2aa2995c'},\n",
       "  {'cell_type': 'code',\n",
       "   'execution_count': 2,\n",
       "   'metadata': {'tags': [],\n",
       "    'papermill': {'exception': False,\n",
       "     'start_time': '2024-09-15T18:37:21.130028',\n",
       "     'end_time': '2024-09-15T18:37:21.138015',\n",
       "     'duration': 0.007987,\n",
       "     'status': 'completed'},\n",
       "    'execution': {'iopub.status.busy': '2024-09-15T18:37:21.131742Z',\n",
       "     'iopub.execute_input': '2024-09-15T18:37:21.132108Z',\n",
       "     'iopub.status.idle': '2024-09-15T18:37:21.136264Z',\n",
       "     'shell.execute_reply': '2024-09-15T18:37:21.135733Z'}},\n",
       "   'outputs': [],\n",
       "   'source': \"# Load the portfolio data\\n# data_dir = os.path.join('..', 'Data')\\ninput_path = os.path.join('Data', 'portfolio_pick.csv')\\n\\nmonthly_returns = pd.read_csv(input_path)\",\n",
       "   'id': '7b3bec9a'},\n",
       "  {'cell_type': 'code',\n",
       "   'execution_count': 3,\n",
       "   'metadata': {'tags': [],\n",
       "    'papermill': {'exception': False,\n",
       "     'start_time': '2024-09-15T18:37:21.139458',\n",
       "     'end_time': '2024-09-15T18:37:24.717204',\n",
       "     'duration': 3.577746,\n",
       "     'status': 'completed'},\n",
       "    'execution': {'iopub.status.busy': '2024-09-15T18:37:21.141004Z',\n",
       "     'iopub.execute_input': '2024-09-15T18:37:21.141157Z',\n",
       "     'iopub.status.idle': '2024-09-15T18:37:24.715503Z',\n",
       "     'shell.execute_reply': '2024-09-15T18:37:24.714973Z'}},\n",
       "   'outputs': [],\n",
       "   'source': '\\ndef calculate_most_recent_monthly_return(ticker):\\n    stock = yf.Ticker(ticker)\\n    hist = stock.history(period=\"3mo\")\\n    hist[\\'Monthly Return\\'] = hist[\\'Close\\'].pct_change(periods=21)\\n    hist = hist[[\\'Monthly Return\\']].dropna()\\n\\n    today = datetime.today()\\n    most_recent_return = hist.iloc[-1] if today.day == 1 else hist.iloc[-2]\\n\\n    return most_recent_return[\\'Monthly Return\\']\\n\\n# Calculate monthly returns for each stock\\nstock_dataframes = {ticker: calculate_most_recent_monthly_return(ticker) for ticker in monthly_returns[\\'Stock\\']}\\n\\n# Create a DataFrame with the results\\nresult_df = pd.DataFrame(list(stock_dataframes.items()), columns=[\\'Stock\\', \\'Monthly Return\\'])\\n\\n# Get the top 10 tickers with the highest returns\\ntop_10_df = result_df.nlargest(10, \\'Monthly Return\\')\\n\\n',\n",
       "   'id': '051f19b3'},\n",
       "  {'cell_type': 'code',\n",
       "   'execution_count': 4,\n",
       "   'metadata': {'tags': [],\n",
       "    'papermill': {'exception': False,\n",
       "     'start_time': '2024-09-15T18:37:24.719414',\n",
       "     'end_time': '2024-09-15T18:37:24.730262',\n",
       "     'duration': 0.010848,\n",
       "     'status': 'completed'},\n",
       "    'execution': {'iopub.status.busy': '2024-09-15T18:37:24.721871Z',\n",
       "     'iopub.execute_input': '2024-09-15T18:37:24.722345Z',\n",
       "     'iopub.status.idle': '2024-09-15T18:37:24.729210Z',\n",
       "     'shell.execute_reply': '2024-09-15T18:37:24.728870Z'}},\n",
       "   'outputs': [{'output_type': 'stream',\n",
       "     'name': 'stdout',\n",
       "     'text': 'saved to ../results/top10portfoliopick.csv\\n'}],\n",
       "   'source': '# Output the result to a CSV file\\nresults_dir = os.path.join(\\'..\\', \\'results\\')\\n\\nos.makedirs(results_dir, exist_ok=True)\\n\\nfile_path = os.path.join(results_dir, \\'top10portfoliopick.csv\\')\\n\\ntop_10_df.to_csv(file_path, index=False)\\n\\nprint(f\"saved to {file_path}\")',\n",
       "   'id': '5bc8d0cb'}],\n",
       " 'metadata': {'kernelspec': {'display_name': 'envstock',\n",
       "   'language': 'python',\n",
       "   'name': 'python3'},\n",
       "  'language_info': {'name': 'python',\n",
       "   'version': '3.11.8',\n",
       "   'mimetype': 'text/x-python',\n",
       "   'codemirror_mode': {'name': 'ipython', 'version': 3},\n",
       "   'pygments_lexer': 'ipython3',\n",
       "   'nbconvert_exporter': 'python',\n",
       "   'file_extension': '.py'},\n",
       "  'orig_nbformat_minor': 2,\n",
       "  'papermill': {'default_parameters': {},\n",
       "   'parameters': {},\n",
       "   'environment_variables': {},\n",
       "   'version': '2.6.0',\n",
       "   'input_path': 'notebooks/top 10 pick code.ipynb',\n",
       "   'output_path': 'executed_notebooks/top 10 pick code.ipynb',\n",
       "   'start_time': '2024-09-15T18:37:19.514470',\n",
       "   'end_time': '2024-09-15T18:37:24.949235',\n",
       "   'duration': 5.434765,\n",
       "   'exception': None}},\n",
       " 'nbformat': 4,\n",
       " 'nbformat_minor': 5}"
      ]
     },
     "execution_count": 14,
     "metadata": {},
     "output_type": "execute_result"
    }
   ],
>>>>>>> Stashed changes
   "source": [
    "# Execute the third notebook, passing the result from notebook 2\n",
    "pm.execute_notebook(\n",
    "    'notebooks/top 10 pick code.ipynb',\n",
    "    'executed_notebooks/top 10 pick code.ipynb',\n",
<<<<<<< Updated upstream
    "    parameters=dict(input_file='Results/output_2.csv', output_file='results/top10portfoliopick.csv')\n",
=======
    "    kernel_name='python3'\n",
>>>>>>> Stashed changes
    ")"
   ]
  }
 ],
 "metadata": {
  "kernelspec": {
   "display_name": "envstock",
   "language": "python",
   "name": "python3"
  },
  "language_info": {
   "codemirror_mode": {
    "name": "ipython",
    "version": 3
   },
   "file_extension": ".py",
   "mimetype": "text/x-python",
   "name": "python",
   "nbconvert_exporter": "python",
   "pygments_lexer": "ipython3",
   "version": "3.11.8"
  }
 },
 "nbformat": 4,
 "nbformat_minor": 2
}
