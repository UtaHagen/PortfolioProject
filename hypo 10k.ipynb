{
 "cells": [
  {
   "cell_type": "code",
   "execution_count": 2,
   "metadata": {},
   "outputs": [],
   "source": [
    "import pandas as pd\n",
    "import yfinance as yf\n",
    "import matplotlib.pyplot as plt\n",
    "import datetime"
   ]
  },
  {
   "cell_type": "code",
   "execution_count": 3,
   "metadata": {},
   "outputs": [],
   "source": [
    "#Pulling in the data\n",
    "\n",
    "try:\n",
    "    tickers_df = pd.read_csv(r'Data\\portfolio_pick.csv')\n",
    "except FileNotFoundError:\n",
    "    raise FileNotFoundError(\"The file 'portfolio_pick.csv' was not found. Please check the file path.\")\n",
    "\n",
    "if 'Ticker' in tickers_df.columns:\n",
    "    tickers = tickers_df['Ticker'].dropna().unique().tolist()\n",
    "else:\n",
    "    tickers = tickers_df.iloc[:, 0].dropna().unique().tolist()\n",
    "\n",
    "if not tickers:\n",
    "    raise ValueError(\"No tickers found in the CSV file.\")"
   ]
  },
  {
   "cell_type": "code",
   "execution_count": null,
   "metadata": {},
   "outputs": [],
   "source": [
    "end_date = datetime.date.today()\n",
    "start_date = end_date - datetime.timedelta(days=365 * 10)\n",
    "\n",
    "portfolio_data = {}\n",
    "for ticker in tickers:\n",
    "    print(f\"Downloading data for {ticker}...\")\n",
    "    data = yf.download(ticker, start=start_date, end=end_date)\n",
    "    if data.empty:\n",
    "        print(f\"Warning: No data found for ticker {ticker}. Skipping.\")\n",
    "        continue\n",
    "    portfolio_data[ticker] = data['Adj Close']\n",
    "\n",
    "if not portfolio_data:\n",
    "    raise ValueError(\"No valid ticker data could be downloaded.\")"
   ]
  },
  {
   "cell_type": "code",
   "execution_count": null,
   "metadata": {},
   "outputs": [],
   "source": [
    "prices_df = pd.DataFrame(portfolio_data)\n",
    "\n",
    "prices_df.ffill(inplace=True)\n",
    "\n",
    "\n",
    "num_stocks = len(prices_df.columns)\n",
    "allocated_amount = 10000 / num_stocks\n",
    "portfolio_value_individual = (prices_df / prices_df.iloc[0]) * allocated_amount\n",
    "portfolio_total = portfolio_value_individual.sum(axis=1)"
   ]
  },
  {
   "cell_type": "code",
   "execution_count": null,
   "metadata": {},
   "outputs": [],
   "source": [
    "print(\"Downloading S&P 500 data...\")\n",
    "sp500_data = yf.download(\"^GSPC\", start=start_date, end=end_date)\n",
    "if sp500_data.empty:\n",
    "    raise ValueError(\"Failed to download S&P 500 data.\")\n",
    "sp500_prices = sp500_data['Adj Close']\n",
    "\n",
    "sp500_value = (sp500_prices / sp500_prices.iloc[0]) * 10000"
   ]
  },
  {
   "cell_type": "code",
   "execution_count": null,
   "metadata": {},
   "outputs": [],
   "source": [
    "plt.style.use('seaborn-darkgrid')\n",
    "\n",
    "fig, ax = plt.subplots(figsize=(12, 8))\n",
    "ax.plot(portfolio_total.index, portfolio_total, label='Equally-Weighted Portfolio', linewidth=2)\n",
    "ax.plot(sp500_value.index, sp500_value, label='S&P 500', linewidth=2)\n",
    "\n",
    "# Adding titles and labels using professional formatting\n",
    "ax.set_title(\"10-Year Growth: Equally-Weighted Portfolio vs. S&P 500\", fontsize=16, pad=20)\n",
    "ax.set_xlabel(\"Date\", fontsize=14)\n",
    "ax.set_ylabel(\"Portfolio Value (USD)\", fontsize=14)\n",
    "ax.legend(fontsize=12)\n",
    "ax.grid(True)\n",
    "\n",
    "# Improve date formatting on the x-axis\n",
    "fig.autofmt_xdate()\n",
    "\n",
    "plt.tight_layout()\n",
    "plt.show()"
   ]
  }
 ],
 "metadata": {
  "kernelspec": {
   "display_name": "Python 3",
   "language": "python",
   "name": "python3"
  },
  "language_info": {
   "codemirror_mode": {
    "name": "ipython",
    "version": 3
   },
   "file_extension": ".py",
   "mimetype": "text/x-python",
   "name": "python",
   "nbconvert_exporter": "python",
   "pygments_lexer": "ipython3",
   "version": "3.12.3"
  }
 },
 "nbformat": 4,
 "nbformat_minor": 2
}
